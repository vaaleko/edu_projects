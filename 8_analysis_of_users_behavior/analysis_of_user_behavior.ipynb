{
 "cells": [
  {
   "cell_type": "markdown",
   "metadata": {},
   "source": [
    "<a id = \"head\"></a>\n",
    "# Событийная аналитика: поведение пользователей мобильного приложения\n",
    "\n",
    "---"
   ]
  },
  {
   "cell_type": "markdown",
   "metadata": {},
   "source": [
    "### Описание проекта\n",
    "\n",
    "В стартапе, который продаёт продукты питания, есть мобильное приложение. Нужно разобраться, как ведут себя пользователи данного приложения.\n",
    "Необходимо изучить воронку продаж, а затем исследовать результаты A/A/B-эксперимента. "
   ]
  },
  {
   "cell_type": "markdown",
   "metadata": {},
   "source": [
    "### Описание данных\n",
    "\n",
    "Каждая запись в логе — это действие пользователя, или событие.\n",
    "\n",
    "- `EventName` — название события;\n",
    "- `DeviceIDHash` — уникальный идентификатор пользователя;\n",
    "- `EventTimestamp` — время события;\n",
    "- `ExpId` — номер эксперимента: 246 и 247 — контрольные группы, а 248 — экспериментальная."
   ]
  },
  {
   "cell_type": "markdown",
   "metadata": {},
   "source": [
    "### *План выполнения проекта:*\n",
    "***\n",
    "\n",
    "1. [Изучение общей информации о данных;](#Step1)\n",
    "2. [Подготовка данных;](#Step2)\n",
    "3. [Изучение и проверка данных;](#Step3)\n",
    "4. [Изучение воронки событий;](#Step4)\n",
    "5. [Изучение результатов эксперимента;](#Step5)\n",
    "6. [Общий вывод по проекту.](#Step6)"
   ]
  },
  {
   "cell_type": "markdown",
   "metadata": {},
   "source": [
    "<a id = \"Step1\"></a>\n",
    "### Шаг 1. Изучение общей информации о данных\n",
    "---"
   ]
  },
  {
   "cell_type": "code",
   "execution_count": 1,
   "metadata": {},
   "outputs": [],
   "source": [
    "# Импорт библиотек:\n",
    "import pandas as pd\n",
    "import matplotlib\n",
    "import matplotlib.pyplot as plt\n",
    "import numpy as np\n",
    "import scipy.stats as stats\n",
    "import math\n",
    "import seaborn as sns\n",
    "import matplotlib.ticker as ticker\n",
    "from termcolor import colored"
   ]
  },
  {
   "cell_type": "code",
   "execution_count": 3,
   "metadata": {},
   "outputs": [],
   "source": [
    "logs = pd.read_csv(r'C:\\Users\\vladi\\Downloads\\data_for_analysis\\logs_exp.csv', sep = '\\t')"
   ]
  },
  {
   "cell_type": "code",
   "execution_count": 4,
   "metadata": {},
   "outputs": [
    {
     "data": {
      "text/html": [
       "<div>\n",
       "<style scoped>\n",
       "    .dataframe tbody tr th:only-of-type {\n",
       "        vertical-align: middle;\n",
       "    }\n",
       "\n",
       "    .dataframe tbody tr th {\n",
       "        vertical-align: top;\n",
       "    }\n",
       "\n",
       "    .dataframe thead th {\n",
       "        text-align: right;\n",
       "    }\n",
       "</style>\n",
       "<table border=\"1\" class=\"dataframe\">\n",
       "  <thead>\n",
       "    <tr style=\"text-align: right;\">\n",
       "      <th></th>\n",
       "      <th>EventName</th>\n",
       "      <th>DeviceIDHash</th>\n",
       "      <th>EventTimestamp</th>\n",
       "      <th>ExpId</th>\n",
       "    </tr>\n",
       "  </thead>\n",
       "  <tbody>\n",
       "    <tr>\n",
       "      <th>75463</th>\n",
       "      <td>CartScreenAppear</td>\n",
       "      <td>4980045449118619005</td>\n",
       "      <td>1564801731</td>\n",
       "      <td>247</td>\n",
       "    </tr>\n",
       "    <tr>\n",
       "      <th>150385</th>\n",
       "      <td>MainScreenAppear</td>\n",
       "      <td>1715549896674297417</td>\n",
       "      <td>1564997573</td>\n",
       "      <td>248</td>\n",
       "    </tr>\n",
       "    <tr>\n",
       "      <th>118248</th>\n",
       "      <td>CartScreenAppear</td>\n",
       "      <td>957126200348560045</td>\n",
       "      <td>1564913831</td>\n",
       "      <td>248</td>\n",
       "    </tr>\n",
       "    <tr>\n",
       "      <th>194906</th>\n",
       "      <td>MainScreenAppear</td>\n",
       "      <td>8428475778843880860</td>\n",
       "      <td>1565097064</td>\n",
       "      <td>246</td>\n",
       "    </tr>\n",
       "    <tr>\n",
       "      <th>144160</th>\n",
       "      <td>MainScreenAppear</td>\n",
       "      <td>288947541653489764</td>\n",
       "      <td>1564984121</td>\n",
       "      <td>248</td>\n",
       "    </tr>\n",
       "    <tr>\n",
       "      <th>164370</th>\n",
       "      <td>PaymentScreenSuccessful</td>\n",
       "      <td>1529531054838639703</td>\n",
       "      <td>1565018241</td>\n",
       "      <td>247</td>\n",
       "    </tr>\n",
       "    <tr>\n",
       "      <th>109093</th>\n",
       "      <td>MainScreenAppear</td>\n",
       "      <td>4970743548096192138</td>\n",
       "      <td>1564891526</td>\n",
       "      <td>246</td>\n",
       "    </tr>\n",
       "    <tr>\n",
       "      <th>7395</th>\n",
       "      <td>CartScreenAppear</td>\n",
       "      <td>3776850235681345880</td>\n",
       "      <td>1564642261</td>\n",
       "      <td>247</td>\n",
       "    </tr>\n",
       "    <tr>\n",
       "      <th>131281</th>\n",
       "      <td>OffersScreenAppear</td>\n",
       "      <td>1836871388568984876</td>\n",
       "      <td>1564934127</td>\n",
       "      <td>247</td>\n",
       "    </tr>\n",
       "    <tr>\n",
       "      <th>229091</th>\n",
       "      <td>OffersScreenAppear</td>\n",
       "      <td>4163043361639277460</td>\n",
       "      <td>1565183939</td>\n",
       "      <td>247</td>\n",
       "    </tr>\n",
       "  </tbody>\n",
       "</table>\n",
       "</div>"
      ],
      "text/plain": [
       "                      EventName         DeviceIDHash  EventTimestamp  ExpId\n",
       "75463          CartScreenAppear  4980045449118619005      1564801731    247\n",
       "150385         MainScreenAppear  1715549896674297417      1564997573    248\n",
       "118248         CartScreenAppear   957126200348560045      1564913831    248\n",
       "194906         MainScreenAppear  8428475778843880860      1565097064    246\n",
       "144160         MainScreenAppear   288947541653489764      1564984121    248\n",
       "164370  PaymentScreenSuccessful  1529531054838639703      1565018241    247\n",
       "109093         MainScreenAppear  4970743548096192138      1564891526    246\n",
       "7395           CartScreenAppear  3776850235681345880      1564642261    247\n",
       "131281       OffersScreenAppear  1836871388568984876      1564934127    247\n",
       "229091       OffersScreenAppear  4163043361639277460      1565183939    247"
      ]
     },
     "execution_count": 4,
     "metadata": {},
     "output_type": "execute_result"
    }
   ],
   "source": [
    "logs.sample(10)"
   ]
  },
  {
   "cell_type": "code",
   "execution_count": 4,
   "metadata": {},
   "outputs": [
    {
     "name": "stdout",
     "output_type": "stream",
     "text": [
      "<class 'pandas.core.frame.DataFrame'>\n",
      "RangeIndex: 244126 entries, 0 to 244125\n",
      "Data columns (total 4 columns):\n",
      "EventName         244126 non-null object\n",
      "DeviceIDHash      244126 non-null int64\n",
      "EventTimestamp    244126 non-null int64\n",
      "ExpId             244126 non-null int64\n",
      "dtypes: int64(3), object(1)\n",
      "memory usage: 7.5+ MB\n"
     ]
    }
   ],
   "source": [
    "logs.info()"
   ]
  },
  {
   "cell_type": "code",
   "execution_count": 5,
   "metadata": {
    "scrolled": true
   },
   "outputs": [
    {
     "data": {
      "text/plain": [
       "413"
      ]
     },
     "execution_count": 5,
     "metadata": {},
     "output_type": "execute_result"
    }
   ],
   "source": [
    "logs.duplicated().sum()"
   ]
  },
  {
   "cell_type": "markdown",
   "metadata": {},
   "source": [
    "Найдено 413 повторяющихся строк. Удалим их."
   ]
  },
  {
   "cell_type": "code",
   "execution_count": 6,
   "metadata": {},
   "outputs": [],
   "source": [
    "logs = logs.drop_duplicates().reset_index(drop = True)"
   ]
  },
  {
   "cell_type": "code",
   "execution_count": 7,
   "metadata": {},
   "outputs": [
    {
     "data": {
      "text/plain": [
       "(243713, 4)"
      ]
     },
     "execution_count": 7,
     "metadata": {},
     "output_type": "execute_result"
    }
   ],
   "source": [
    "logs.shape"
   ]
  },
  {
   "cell_type": "markdown",
   "metadata": {},
   "source": [
    "---\n",
    "В таблице содержится информация о 243713 уникальных действиях пользователей. Время события указано в формате Unix."
   ]
  },
  {
   "cell_type": "markdown",
   "metadata": {},
   "source": [
    "<a id = \"Step2\"></a>\n",
    "### Шаг 2. Подготовка данных\n",
    "---\n",
    "\n",
    "- [Начало](#head)\n",
    "- [Шаг 1](#Step1)\n",
    "- [Шаг 3](#Step3)\n",
    "- [Шаг 4](#Step4)\n",
    "- [Шаг 5](#Step5)\n",
    "- [Шаг 6](#Step6)\n"
   ]
  },
  {
   "cell_type": "markdown",
   "metadata": {},
   "source": [
    "Изменим названия стобцов."
   ]
  },
  {
   "cell_type": "code",
   "execution_count": 8,
   "metadata": {},
   "outputs": [],
   "source": [
    "logs.columns = ['event_name', 'user_id', 'event_time', 'group']"
   ]
  },
  {
   "cell_type": "code",
   "execution_count": 9,
   "metadata": {},
   "outputs": [
    {
     "data": {
      "text/plain": [
       "event_name    0\n",
       "user_id       0\n",
       "event_time    0\n",
       "group         0\n",
       "dtype: int64"
      ]
     },
     "execution_count": 9,
     "metadata": {},
     "output_type": "execute_result"
    }
   ],
   "source": [
    "logs.isna().sum()"
   ]
  },
  {
   "cell_type": "markdown",
   "metadata": {},
   "source": [
    "Пропусков не обнаружено.\n",
    "\n",
    "---\n",
    "Изменим тип данных в столбце со временем события."
   ]
  },
  {
   "cell_type": "code",
   "execution_count": 10,
   "metadata": {},
   "outputs": [],
   "source": [
    "logs['event_time'] = pd.to_datetime(logs['event_time'], unit = 's')\n",
    "#logs.head()"
   ]
  },
  {
   "cell_type": "markdown",
   "metadata": {},
   "source": [
    "Таким образом мы получили необходимый столбец с датой и временем.\n",
    "\n",
    "---"
   ]
  },
  {
   "cell_type": "markdown",
   "metadata": {},
   "source": [
    "Выделим отдельный столбец, значения которого будут содержать только дату."
   ]
  },
  {
   "cell_type": "code",
   "execution_count": 11,
   "metadata": {},
   "outputs": [],
   "source": [
    "logs['date'] = logs['event_time'].astype('datetime64[D]')\n",
    "#logs.info"
   ]
  },
  {
   "cell_type": "code",
   "execution_count": 12,
   "metadata": {},
   "outputs": [
    {
     "name": "stdout",
     "output_type": "stream",
     "text": [
      "<class 'pandas.core.frame.DataFrame'>\n",
      "RangeIndex: 243713 entries, 0 to 243712\n",
      "Data columns (total 5 columns):\n",
      "event_name    243713 non-null object\n",
      "user_id       243713 non-null int64\n",
      "event_time    243713 non-null datetime64[ns]\n",
      "group         243713 non-null int64\n",
      "date          243713 non-null datetime64[ns]\n",
      "dtypes: datetime64[ns](2), int64(2), object(1)\n",
      "memory usage: 9.3+ MB\n"
     ]
    }
   ],
   "source": [
    "logs.info()"
   ]
  },
  {
   "cell_type": "markdown",
   "metadata": {},
   "source": [
    "<a id = \"Step3\"></a>\n",
    "### Шаг 3. Изучение и проверка данных\n",
    "---\n",
    "\n",
    "- [Начало](#head)\n",
    "- [Шаг 1](#Step1)\n",
    "- [Шаг 2](#Step2)\n",
    "- [Шаг 4](#Step4)\n",
    "- [Шаг 5](#Step5)\n",
    "- [Шаг 6](#Step6)\n"
   ]
  },
  {
   "cell_type": "code",
   "execution_count": 13,
   "metadata": {},
   "outputs": [
    {
     "data": {
      "text/plain": [
       "MainScreenAppear           119101\n",
       "OffersScreenAppear          46808\n",
       "CartScreenAppear            42668\n",
       "PaymentScreenSuccessful     34118\n",
       "Tutorial                     1018\n",
       "Name: event_name, dtype: int64"
      ]
     },
     "execution_count": 13,
     "metadata": {},
     "output_type": "execute_result"
    }
   ],
   "source": [
    "logs['event_name'].value_counts()"
   ]
  },
  {
   "cell_type": "code",
   "execution_count": 14,
   "metadata": {},
   "outputs": [
    {
     "data": {
      "text/plain": [
       "243713"
      ]
     },
     "execution_count": 14,
     "metadata": {},
     "output_type": "execute_result"
    }
   ],
   "source": [
    "len(logs)"
   ]
  },
  {
   "cell_type": "markdown",
   "metadata": {},
   "source": [
    "---\n",
    "**В логах содержатся пять видов событий. Всего 243713 записей.**"
   ]
  },
  {
   "cell_type": "code",
   "execution_count": 15,
   "metadata": {},
   "outputs": [
    {
     "data": {
      "text/plain": [
       "7551"
      ]
     },
     "execution_count": 15,
     "metadata": {},
     "output_type": "execute_result"
    }
   ],
   "source": [
    "logs['user_id'].nunique()"
   ]
  },
  {
   "cell_type": "markdown",
   "metadata": {},
   "source": [
    "---\n",
    "**В данных находится 7551 пользователь.**"
   ]
  },
  {
   "cell_type": "code",
   "execution_count": 16,
   "metadata": {},
   "outputs": [
    {
     "data": {
      "text/plain": [
       "32"
      ]
     },
     "execution_count": 16,
     "metadata": {},
     "output_type": "execute_result"
    }
   ],
   "source": [
    "round(len(logs) / logs['user_id'].nunique())"
   ]
  },
  {
   "cell_type": "markdown",
   "metadata": {},
   "source": [
    "---\n",
    "**В среднем на одного пользователя приходится 32 события.**"
   ]
  },
  {
   "cell_type": "code",
   "execution_count": 17,
   "metadata": {},
   "outputs": [
    {
     "data": {
      "text/plain": [
       "Timestamp('2019-07-25 04:43:36')"
      ]
     },
     "execution_count": 17,
     "metadata": {},
     "output_type": "execute_result"
    }
   ],
   "source": [
    "logs['event_time'].min()"
   ]
  },
  {
   "cell_type": "code",
   "execution_count": 18,
   "metadata": {},
   "outputs": [
    {
     "data": {
      "text/plain": [
       "Timestamp('2019-08-07 21:15:17')"
      ]
     },
     "execution_count": 18,
     "metadata": {},
     "output_type": "execute_result"
    }
   ],
   "source": [
    "logs['event_time'].max()"
   ]
  },
  {
   "cell_type": "code",
   "execution_count": 19,
   "metadata": {},
   "outputs": [
    {
     "data": {
      "text/plain": [
       "Timedelta('13 days 16:31:41')"
      ]
     },
     "execution_count": 19,
     "metadata": {},
     "output_type": "execute_result"
    }
   ],
   "source": [
    "logs['event_time'].max() - logs['event_time'].min()"
   ]
  },
  {
   "cell_type": "markdown",
   "metadata": {},
   "source": [
    "**В таблице содержатся данные о событиях, произошедших с 04:43:36 25.07.2019 г. по 21:15:17 07.08.2019 г.**"
   ]
  },
  {
   "cell_type": "code",
   "execution_count": 20,
   "metadata": {},
   "outputs": [
    {
     "data": {
      "image/png": "[encoded data removed]",
      "text/plain": [
       "<Figure size 2160x1080 with 1 Axes>"
      ]
     },
     "metadata": {
      "needs_background": "light"
     },
     "output_type": "display_data"
    }
   ],
   "source": [
    "# Построим гистограмму:\n",
    "import warnings\n",
    "warnings.filterwarnings('ignore')\n",
    "\n",
    "\n",
    "logs['event_time'].hist(bins = 360, figsize = (30,15), color = '#49759c')\n",
    "    \n",
    "plt.title(\"Распределение событий по времени\", fontsize=30)\n",
    "plt.ylabel(\"Количество событий\", fontsize = 27)\n",
    "plt.xlabel(\"Дата\", fontsize = 27)\n",
    "\n",
    "xtick_major = np.arange(logs['date'].min(), logs['date'].max()+pd.Timedelta(days=2), pd.Timedelta(days=1))\n",
    "\n",
    "plt.xticks(ticks=xtick_major, fontsize=20, rotation = 40)\n",
    "plt.yticks(fontsize=20)\n",
    "plt.axis(option = 'normal');"
   ]
  },
  {
   "cell_type": "markdown",
   "metadata": {},
   "source": [
    "**Фактически данные за первые 7 дней получились неполными - очень мало событий произошло за этот период. Нормальная пользовательская активность начинается накануне 1 августа. Отбросим данные по 31.07.2019 21:00:00 и получим практически ровно неделю наблюдений.**"
   ]
  },
  {
   "cell_type": "code",
   "execution_count": 21,
   "metadata": {},
   "outputs": [],
   "source": [
    "logs_new = logs[logs['event_time'] >= '2019-07-31 21:00:00'].reset_index(drop=True)"
   ]
  },
  {
   "cell_type": "code",
   "execution_count": 22,
   "metadata": {},
   "outputs": [
    {
     "data": {
      "text/plain": [
       "1989"
      ]
     },
     "execution_count": 22,
     "metadata": {},
     "output_type": "execute_result"
    }
   ],
   "source": [
    "len(logs) - len(logs_new)"
   ]
  },
  {
   "cell_type": "code",
   "execution_count": 23,
   "metadata": {},
   "outputs": [
    {
     "data": {
      "text/plain": [
       "0.9918387611657975"
      ]
     },
     "execution_count": 23,
     "metadata": {},
     "output_type": "execute_result"
    }
   ],
   "source": [
    "len(logs_new)/len(logs)"
   ]
  },
  {
   "cell_type": "code",
   "execution_count": 24,
   "metadata": {},
   "outputs": [
    {
     "data": {
      "text/plain": [
       "13"
      ]
     },
     "execution_count": 24,
     "metadata": {},
     "output_type": "execute_result"
    }
   ],
   "source": [
    "logs['user_id'].nunique() - logs_new['user_id'].nunique()"
   ]
  },
  {
   "cell_type": "markdown",
   "metadata": {},
   "source": [
    "---\n",
    "**Отбросив старые данные мы потеряли 1989 событий и 13 пользователей.**"
   ]
  },
  {
   "cell_type": "code",
   "execution_count": 25,
   "metadata": {},
   "outputs": [
    {
     "data": {
      "text/plain": [
       "array([247, 248, 246])"
      ]
     },
     "execution_count": 25,
     "metadata": {},
     "output_type": "execute_result"
    }
   ],
   "source": [
    "logs_new['group'].unique()"
   ]
  },
  {
   "cell_type": "markdown",
   "metadata": {},
   "source": [
    "---  \n",
    "**Пользователи всех экспериментальных групп присутствуют в обновленном логе.**"
   ]
  },
  {
   "cell_type": "markdown",
   "metadata": {},
   "source": [
    "<a id = \"Step4\"></a>\n",
    "### Шаг 4. Изучение воронки событий\n",
    "---\n",
    "\n",
    "- [Начало](#head)\n",
    "- [Шаг 1](#Step1)\n",
    "- [Шаг 2](#Step2)\n",
    "- [Шаг 3](#Step3)\n",
    "- [Шаг 5](#Step5)\n",
    "- [Шаг 6](#Step6)"
   ]
  },
  {
   "cell_type": "code",
   "execution_count": 26,
   "metadata": {},
   "outputs": [
    {
     "data": {
      "text/plain": [
       "MainScreenAppear           117889\n",
       "OffersScreenAppear          46531\n",
       "CartScreenAppear            42343\n",
       "PaymentScreenSuccessful     33951\n",
       "Tutorial                     1010\n",
       "Name: event_name, dtype: int64"
      ]
     },
     "execution_count": 26,
     "metadata": {},
     "output_type": "execute_result"
    }
   ],
   "source": [
    "logs_new['event_name'].value_counts()"
   ]
  },
  {
   "cell_type": "code",
   "execution_count": 27,
   "metadata": {},
   "outputs": [
    {
     "data": {
      "text/plain": [
       "0.14045357515182605"
      ]
     },
     "execution_count": 27,
     "metadata": {},
     "output_type": "execute_result"
    }
   ],
   "source": [
    "logs_new['event_name'].value_counts()[3] / logs_new['event_name'].value_counts().sum()"
   ]
  },
  {
   "cell_type": "markdown",
   "metadata": {},
   "source": [
    "**`Виды событий:`**\n",
    "\n",
    "- MainScreenAppear - Просмотр главного экрана приложения \n",
    "- OffersScreenAppear - Просмотр предложения о покупке (или карточки товара)\n",
    "- CartScreenAppear - Просмотр корзины\n",
    "- PaymentScreenSuccessful - Оплата покупки\n",
    "- Tutorial - Просмотр руководства      \n",
    "\n",
    "Около половины всех событий в логах - это просмотр главного экрана приложения. Меньше всего пользователи обращают внимаение на руководство. 14% всех событий составляют покупки."
   ]
  },
  {
   "cell_type": "code",
   "execution_count": 28,
   "metadata": {},
   "outputs": [
    {
     "data": {
      "text/html": [
       "<style  type=\"text/css\" >\n",
       "    #T_061aa576_e114_11ea_ad38_02420a39e4carow0_col1 {\n",
       "            width:  10em;\n",
       "             height:  80%;\n",
       "            background:  linear-gradient(90deg,#5fba7d 100.0%, transparent 100.0%);\n",
       "        }    #T_061aa576_e114_11ea_ad38_02420a39e4carow1_col1 {\n",
       "            width:  10em;\n",
       "             height:  80%;\n",
       "            background:  linear-gradient(90deg,#5fba7d 98.3%, transparent 98.3%);\n",
       "        }    #T_061aa576_e114_11ea_ad38_02420a39e4carow2_col1 {\n",
       "            width:  10em;\n",
       "             height:  80%;\n",
       "            background:  linear-gradient(90deg,#5fba7d 56.1%, transparent 56.1%);\n",
       "        }    #T_061aa576_e114_11ea_ad38_02420a39e4carow3_col1 {\n",
       "            width:  10em;\n",
       "             height:  80%;\n",
       "            background:  linear-gradient(90deg,#5fba7d 43.2%, transparent 43.2%);\n",
       "        }    #T_061aa576_e114_11ea_ad38_02420a39e4carow4_col1 {\n",
       "            width:  10em;\n",
       "             height:  80%;\n",
       "            background:  linear-gradient(90deg,#5fba7d 40.3%, transparent 40.3%);\n",
       "        }    #T_061aa576_e114_11ea_ad38_02420a39e4carow5_col1 {\n",
       "            width:  10em;\n",
       "             height:  80%;\n",
       "        }</style><table id=\"T_061aa576_e114_11ea_ad38_02420a39e4ca\" ><thead>    <tr>        <th class=\"blank level0\" ></th>        <th class=\"col_heading level0 col0\" >user_count</th>        <th class=\"col_heading level0 col1\" >share_of_all</th>    </tr>    <tr>        <th class=\"index_name level0\" >event_name</th>        <th class=\"blank\" ></th>        <th class=\"blank\" ></th>    </tr></thead><tbody>\n",
       "                <tr>\n",
       "                        <th id=\"T_061aa576_e114_11ea_ad38_02420a39e4calevel0_row0\" class=\"row_heading level0 row0\" >All</th>\n",
       "                        <td id=\"T_061aa576_e114_11ea_ad38_02420a39e4carow0_col0\" class=\"data row0 col0\" >7538</td>\n",
       "                        <td id=\"T_061aa576_e114_11ea_ad38_02420a39e4carow0_col1\" class=\"data row0 col1\" >100.0%</td>\n",
       "            </tr>\n",
       "            <tr>\n",
       "                        <th id=\"T_061aa576_e114_11ea_ad38_02420a39e4calevel0_row1\" class=\"row_heading level0 row1\" >MainScreenAppear</th>\n",
       "                        <td id=\"T_061aa576_e114_11ea_ad38_02420a39e4carow1_col0\" class=\"data row1 col0\" >7423</td>\n",
       "                        <td id=\"T_061aa576_e114_11ea_ad38_02420a39e4carow1_col1\" class=\"data row1 col1\" >98.5%</td>\n",
       "            </tr>\n",
       "            <tr>\n",
       "                        <th id=\"T_061aa576_e114_11ea_ad38_02420a39e4calevel0_row2\" class=\"row_heading level0 row2\" >OffersScreenAppear</th>\n",
       "                        <td id=\"T_061aa576_e114_11ea_ad38_02420a39e4carow2_col0\" class=\"data row2 col0\" >4597</td>\n",
       "                        <td id=\"T_061aa576_e114_11ea_ad38_02420a39e4carow2_col1\" class=\"data row2 col1\" >61.0%</td>\n",
       "            </tr>\n",
       "            <tr>\n",
       "                        <th id=\"T_061aa576_e114_11ea_ad38_02420a39e4calevel0_row3\" class=\"row_heading level0 row3\" >CartScreenAppear</th>\n",
       "                        <td id=\"T_061aa576_e114_11ea_ad38_02420a39e4carow3_col0\" class=\"data row3 col0\" >3736</td>\n",
       "                        <td id=\"T_061aa576_e114_11ea_ad38_02420a39e4carow3_col1\" class=\"data row3 col1\" >49.6%</td>\n",
       "            </tr>\n",
       "            <tr>\n",
       "                        <th id=\"T_061aa576_e114_11ea_ad38_02420a39e4calevel0_row4\" class=\"row_heading level0 row4\" >PaymentScreenSuccessful</th>\n",
       "                        <td id=\"T_061aa576_e114_11ea_ad38_02420a39e4carow4_col0\" class=\"data row4 col0\" >3540</td>\n",
       "                        <td id=\"T_061aa576_e114_11ea_ad38_02420a39e4carow4_col1\" class=\"data row4 col1\" >47.0%</td>\n",
       "            </tr>\n",
       "            <tr>\n",
       "                        <th id=\"T_061aa576_e114_11ea_ad38_02420a39e4calevel0_row5\" class=\"row_heading level0 row5\" >Tutorial</th>\n",
       "                        <td id=\"T_061aa576_e114_11ea_ad38_02420a39e4carow5_col0\" class=\"data row5 col0\" >843</td>\n",
       "                        <td id=\"T_061aa576_e114_11ea_ad38_02420a39e4carow5_col1\" class=\"data row5 col1\" >11.2%</td>\n",
       "            </tr>\n",
       "    </tbody></table>"
      ],
      "text/plain": [
       "<pandas.io.formats.style.Styler at 0x7f004a6a2310>"
      ]
     },
     "execution_count": 28,
     "metadata": {},
     "output_type": "execute_result"
    }
   ],
   "source": [
    "event_pivot = logs_new.pivot_table(index = 'event_name', \n",
    "                                 values = 'user_id', \n",
    "                                 aggfunc ={'user_id':'nunique'}, margins=True)\n",
    "\n",
    "event_pivot = event_pivot.rename({'user_id':'user_count'}, axis = 1).sort_values(by='user_count', ascending = False)\n",
    "\n",
    "event_pivot['share_of_all'] = round((event_pivot['user_count'] / event_pivot.loc['All', 'user_count']),4)\n",
    "\n",
    "event_pivot.style.format({'share_of_all': \"{:.1%}\"}).bar(subset = ['share_of_all'], color='#5fba7d')"
   ]
  },
  {
   "cell_type": "markdown",
   "metadata": {},
   "source": [
    "Обычно после установки приложения каждый пользователь попадает на главную страницу. Однако в нашем случае часть пользователей прошла мимо этого этапа. Вероятно в приложении есть возможность совершать какие-либо другие действия, минуя основную страницу. Этот момент необходимо уточнить у разработчиков. `47%` всех пользователей хотя бы раз совершали покупки - хороший показатель. "
   ]
  },
  {
   "cell_type": "code",
   "execution_count": 29,
   "metadata": {},
   "outputs": [
    {
     "data": {
      "text/plain": [
       "787"
      ]
     },
     "execution_count": 29,
     "metadata": {},
     "output_type": "execute_result"
    }
   ],
   "source": [
    "(logs_new.groupby('user_id')['event_name'].first() == 'Tutorial').sum()"
   ]
  },
  {
   "cell_type": "markdown",
   "metadata": {},
   "source": [
    "---\n",
    "Предположим, что события происходят в следующем порядке: \n",
    "1. \"MainScreenAppear\";\n",
    "2. \"OffersScreenAppear\";\n",
    "3. \"CartScreenAppear\";\n",
    "4. \"PaymentScreenSuccessful\". \n",
    "\n",
    "Судя по тому, что инструкцию хотя бы раз открывали только 11.2% от всех пользователей, учитывать при расчете воронки данное событие не следует. Вероятно, это действие добровольное и особо не влияет на совершение покупок в магазине. Среди тех, кто читал руководство, большая часть пользователей (787 человек) делала это в первую очередь."
   ]
  },
  {
   "cell_type": "code",
   "execution_count": 30,
   "metadata": {},
   "outputs": [
    {
     "data": {
      "text/html": [
       "<div>\n",
       "<style scoped>\n",
       "    .dataframe tbody tr th:only-of-type {\n",
       "        vertical-align: middle;\n",
       "    }\n",
       "\n",
       "    .dataframe tbody tr th {\n",
       "        vertical-align: top;\n",
       "    }\n",
       "\n",
       "    .dataframe thead th {\n",
       "        text-align: right;\n",
       "    }\n",
       "</style>\n",
       "<table border=\"1\" class=\"dataframe\">\n",
       "  <thead>\n",
       "    <tr style=\"text-align: right;\">\n",
       "      <th></th>\n",
       "      <th>user_count</th>\n",
       "    </tr>\n",
       "    <tr>\n",
       "      <th>event_name</th>\n",
       "      <th></th>\n",
       "    </tr>\n",
       "  </thead>\n",
       "  <tbody>\n",
       "    <tr>\n",
       "      <td>MainScreenAppear</td>\n",
       "      <td>7423</td>\n",
       "    </tr>\n",
       "    <tr>\n",
       "      <td>OffersScreenAppear</td>\n",
       "      <td>4597</td>\n",
       "    </tr>\n",
       "    <tr>\n",
       "      <td>CartScreenAppear</td>\n",
       "      <td>3736</td>\n",
       "    </tr>\n",
       "    <tr>\n",
       "      <td>PaymentScreenSuccessful</td>\n",
       "      <td>3540</td>\n",
       "    </tr>\n",
       "  </tbody>\n",
       "</table>\n",
       "</div>"
      ],
      "text/plain": [
       "                         user_count\n",
       "event_name                         \n",
       "MainScreenAppear               7423\n",
       "OffersScreenAppear             4597\n",
       "CartScreenAppear               3736\n",
       "PaymentScreenSuccessful        3540"
      ]
     },
     "execution_count": 30,
     "metadata": {},
     "output_type": "execute_result"
    }
   ],
   "source": [
    "funnel = logs_new[logs_new['event_name'] != 'Tutorial'].pivot_table(index = 'event_name', \n",
    "                                 values = 'user_id', aggfunc ={'user_id':'nunique'})\\\n",
    "    .rename({'user_id':'user_count'}, axis=1).sort_values(by = 'user_count', ascending = False)\n",
    "funnel"
   ]
  },
  {
   "cell_type": "code",
   "execution_count": 31,
   "metadata": {},
   "outputs": [],
   "source": [
    "funnel['conversion_ns'] = funnel['user_count'].shift(1)"
   ]
  },
  {
   "cell_type": "code",
   "execution_count": 32,
   "metadata": {},
   "outputs": [],
   "source": [
    "funnel.loc['MainScreenAppear', 'conversion_ns'] = 7423"
   ]
  },
  {
   "cell_type": "code",
   "execution_count": 33,
   "metadata": {},
   "outputs": [],
   "source": [
    "funnel['conversion_ns'] =  funnel['user_count'] / funnel['conversion_ns']"
   ]
  },
  {
   "cell_type": "code",
   "execution_count": 34,
   "metadata": {},
   "outputs": [
    {
     "data": {
      "text/html": [
       "<style  type=\"text/css\" >\n",
       "</style><table id=\"T_063b99de_e114_11ea_ad38_02420a39e4ca\" ><thead>    <tr>        <th class=\"blank level0\" ></th>        <th class=\"col_heading level0 col0\" >user_count</th>        <th class=\"col_heading level0 col1\" >conversion_ns</th>    </tr>    <tr>        <th class=\"index_name level0\" >event_name</th>        <th class=\"blank\" ></th>        <th class=\"blank\" ></th>    </tr></thead><tbody>\n",
       "                <tr>\n",
       "                        <th id=\"T_063b99de_e114_11ea_ad38_02420a39e4calevel0_row0\" class=\"row_heading level0 row0\" >MainScreenAppear</th>\n",
       "                        <td id=\"T_063b99de_e114_11ea_ad38_02420a39e4carow0_col0\" class=\"data row0 col0\" >7423</td>\n",
       "                        <td id=\"T_063b99de_e114_11ea_ad38_02420a39e4carow0_col1\" class=\"data row0 col1\" >100.0%</td>\n",
       "            </tr>\n",
       "            <tr>\n",
       "                        <th id=\"T_063b99de_e114_11ea_ad38_02420a39e4calevel0_row1\" class=\"row_heading level0 row1\" >OffersScreenAppear</th>\n",
       "                        <td id=\"T_063b99de_e114_11ea_ad38_02420a39e4carow1_col0\" class=\"data row1 col0\" >4597</td>\n",
       "                        <td id=\"T_063b99de_e114_11ea_ad38_02420a39e4carow1_col1\" class=\"data row1 col1\" >61.9%</td>\n",
       "            </tr>\n",
       "            <tr>\n",
       "                        <th id=\"T_063b99de_e114_11ea_ad38_02420a39e4calevel0_row2\" class=\"row_heading level0 row2\" >CartScreenAppear</th>\n",
       "                        <td id=\"T_063b99de_e114_11ea_ad38_02420a39e4carow2_col0\" class=\"data row2 col0\" >3736</td>\n",
       "                        <td id=\"T_063b99de_e114_11ea_ad38_02420a39e4carow2_col1\" class=\"data row2 col1\" >81.3%</td>\n",
       "            </tr>\n",
       "            <tr>\n",
       "                        <th id=\"T_063b99de_e114_11ea_ad38_02420a39e4calevel0_row3\" class=\"row_heading level0 row3\" >PaymentScreenSuccessful</th>\n",
       "                        <td id=\"T_063b99de_e114_11ea_ad38_02420a39e4carow3_col0\" class=\"data row3 col0\" >3540</td>\n",
       "                        <td id=\"T_063b99de_e114_11ea_ad38_02420a39e4carow3_col1\" class=\"data row3 col1\" >94.8%</td>\n",
       "            </tr>\n",
       "    </tbody></table>"
      ],
      "text/plain": [
       "<pandas.io.formats.style.Styler at 0x7f0029f7be50>"
      ]
     },
     "execution_count": 34,
     "metadata": {},
     "output_type": "execute_result"
    }
   ],
   "source": [
    "funnel.style.format({'conversion_ns': \"{:.1%}\"})"
   ]
  },
  {
   "cell_type": "code",
   "execution_count": 35,
   "metadata": {},
   "outputs": [
    {
     "data": {
      "text/plain": [
       "47.68961336386906"
      ]
     },
     "execution_count": 35,
     "metadata": {},
     "output_type": "execute_result"
    }
   ],
   "source": [
    "funnel.loc['PaymentScreenSuccessful', 'user_count'] / funnel.loc['MainScreenAppear', 'user_count'] * 100"
   ]
  },
  {
   "cell_type": "markdown",
   "metadata": {},
   "source": [
    "---\n",
    "**Полученная воронка показывает, что больше всего пользователей уходит на втором шаге - `38.1%` уходит  после просмотра основной страницы.** Довольно высокие показатели на следующих этапах воронки. Из 4597 пользователей, которые получали предложение о товаре (или карточку товара) 81.3% перешли в корзину товаров. А из тех, кто заходил в корзину, товар купили 94.8%.\n",
    "\n",
    "**Также мы выяснили, что от первого события до оплаты дошло `47.7%`.**"
   ]
  },
  {
   "cell_type": "markdown",
   "metadata": {},
   "source": [
    "#### Дополнительно построим воронку с учётом последовательности событий\n",
    "---\n",
    "\n",
    "Для начала по каждому пользователю посчитаем, в какое время он впервые совершил определённое событие. Затем найдем тех, чьи события происходили в нужном порядке."
   ]
  },
  {
   "cell_type": "code",
   "execution_count": 36,
   "metadata": {},
   "outputs": [],
   "source": [
    "users = logs_new[logs_new['event_name'] != 'Tutorial'].pivot_table(\n",
    "    index='user_id', \n",
    "    columns='event_name', \n",
    "    values='event_time',\n",
    "    aggfunc='min')"
   ]
  },
  {
   "cell_type": "code",
   "execution_count": 37,
   "metadata": {},
   "outputs": [
    {
     "data": {
      "text/html": [
       "<div>\n",
       "<style scoped>\n",
       "    .dataframe tbody tr th:only-of-type {\n",
       "        vertical-align: middle;\n",
       "    }\n",
       "\n",
       "    .dataframe tbody tr th {\n",
       "        vertical-align: top;\n",
       "    }\n",
       "\n",
       "    .dataframe thead th {\n",
       "        text-align: right;\n",
       "    }\n",
       "</style>\n",
       "<table border=\"1\" class=\"dataframe\">\n",
       "  <thead>\n",
       "    <tr style=\"text-align: right;\">\n",
       "      <th>event_name</th>\n",
       "      <th>CartScreenAppear</th>\n",
       "      <th>MainScreenAppear</th>\n",
       "      <th>OffersScreenAppear</th>\n",
       "      <th>PaymentScreenSuccessful</th>\n",
       "    </tr>\n",
       "    <tr>\n",
       "      <th>user_id</th>\n",
       "      <th></th>\n",
       "      <th></th>\n",
       "      <th></th>\n",
       "      <th></th>\n",
       "    </tr>\n",
       "  </thead>\n",
       "  <tbody>\n",
       "    <tr>\n",
       "      <td>6888746892508752</td>\n",
       "      <td>NaT</td>\n",
       "      <td>2019-08-06 14:06:34</td>\n",
       "      <td>NaT</td>\n",
       "      <td>NaT</td>\n",
       "    </tr>\n",
       "    <tr>\n",
       "      <td>6909561520679493</td>\n",
       "      <td>2019-08-06 18:52:58</td>\n",
       "      <td>2019-08-06 18:52:54</td>\n",
       "      <td>2019-08-06 18:53:04</td>\n",
       "      <td>2019-08-06 18:52:58</td>\n",
       "    </tr>\n",
       "    <tr>\n",
       "      <td>6922444491712477</td>\n",
       "      <td>2019-08-04 14:19:40</td>\n",
       "      <td>2019-08-04 14:19:33</td>\n",
       "      <td>2019-08-04 14:19:46</td>\n",
       "      <td>2019-08-04 14:19:40</td>\n",
       "    </tr>\n",
       "    <tr>\n",
       "      <td>7435777799948366</td>\n",
       "      <td>NaT</td>\n",
       "      <td>2019-08-05 08:06:34</td>\n",
       "      <td>NaT</td>\n",
       "      <td>NaT</td>\n",
       "    </tr>\n",
       "    <tr>\n",
       "      <td>7702139951469979</td>\n",
       "      <td>2019-08-02 14:28:45</td>\n",
       "      <td>2019-08-01 04:29:54</td>\n",
       "      <td>2019-08-01 04:29:56</td>\n",
       "      <td>2019-08-02 14:28:45</td>\n",
       "    </tr>\n",
       "  </tbody>\n",
       "</table>\n",
       "</div>"
      ],
      "text/plain": [
       "event_name          CartScreenAppear    MainScreenAppear  OffersScreenAppear  \\\n",
       "user_id                                                                        \n",
       "6888746892508752                 NaT 2019-08-06 14:06:34                 NaT   \n",
       "6909561520679493 2019-08-06 18:52:58 2019-08-06 18:52:54 2019-08-06 18:53:04   \n",
       "6922444491712477 2019-08-04 14:19:40 2019-08-04 14:19:33 2019-08-04 14:19:46   \n",
       "7435777799948366                 NaT 2019-08-05 08:06:34                 NaT   \n",
       "7702139951469979 2019-08-02 14:28:45 2019-08-01 04:29:54 2019-08-01 04:29:56   \n",
       "\n",
       "event_name       PaymentScreenSuccessful  \n",
       "user_id                                   \n",
       "6888746892508752                     NaT  \n",
       "6909561520679493     2019-08-06 18:52:58  \n",
       "6922444491712477     2019-08-04 14:19:40  \n",
       "7435777799948366                     NaT  \n",
       "7702139951469979     2019-08-02 14:28:45  "
      ]
     },
     "execution_count": 37,
     "metadata": {},
     "output_type": "execute_result"
    }
   ],
   "source": [
    "users.head()"
   ]
  },
  {
   "cell_type": "markdown",
   "metadata": {},
   "source": [
    "Узнаем, сколько пользователей переходило с этапа на этап."
   ]
  },
  {
   "cell_type": "code",
   "execution_count": 38,
   "metadata": {},
   "outputs": [],
   "source": [
    "step_1 = ~users['MainScreenAppear'].isnull()"
   ]
  },
  {
   "cell_type": "code",
   "execution_count": 39,
   "metadata": {},
   "outputs": [],
   "source": [
    "step_2 = step_1 & (users['OffersScreenAppear'] > users['MainScreenAppear'])"
   ]
  },
  {
   "cell_type": "code",
   "execution_count": 40,
   "metadata": {},
   "outputs": [],
   "source": [
    "step_3 = step_2 & (users['CartScreenAppear'] > users['OffersScreenAppear'])"
   ]
  },
  {
   "cell_type": "code",
   "execution_count": 41,
   "metadata": {},
   "outputs": [],
   "source": [
    "step_4 = step_3 & (users['PaymentScreenSuccessful'] > users['CartScreenAppear'])"
   ]
  },
  {
   "cell_type": "code",
   "execution_count": 42,
   "metadata": {},
   "outputs": [],
   "source": [
    "MainScreenAppear = users[step_1].shape[0]"
   ]
  },
  {
   "cell_type": "code",
   "execution_count": 43,
   "metadata": {},
   "outputs": [],
   "source": [
    "OffersScreenAppear = users[step_2].shape[0]"
   ]
  },
  {
   "cell_type": "code",
   "execution_count": 44,
   "metadata": {},
   "outputs": [],
   "source": [
    "CartScreenAppear = users[step_3].shape[0]"
   ]
  },
  {
   "cell_type": "code",
   "execution_count": 45,
   "metadata": {},
   "outputs": [],
   "source": [
    "PaymentScreenSuccessful = users[step_4].shape[0]"
   ]
  },
  {
   "cell_type": "code",
   "execution_count": 46,
   "metadata": {},
   "outputs": [],
   "source": [
    "index = ['MainScreenAppear', 'OffersScreenAppear', 'CartScreenAppear', 'PaymentScreenSuccessful']"
   ]
  },
  {
   "cell_type": "code",
   "execution_count": 47,
   "metadata": {},
   "outputs": [],
   "source": [
    "data = [MainScreenAppear, OffersScreenAppear, CartScreenAppear, PaymentScreenSuccessful]"
   ]
  },
  {
   "cell_type": "code",
   "execution_count": 48,
   "metadata": {},
   "outputs": [],
   "source": [
    "funnel_ordered = pd.DataFrame(data=data, index=index, columns=['count'])"
   ]
  },
  {
   "cell_type": "code",
   "execution_count": 49,
   "metadata": {},
   "outputs": [
    {
     "data": {
      "text/html": [
       "<div>\n",
       "<style scoped>\n",
       "    .dataframe tbody tr th:only-of-type {\n",
       "        vertical-align: middle;\n",
       "    }\n",
       "\n",
       "    .dataframe tbody tr th {\n",
       "        vertical-align: top;\n",
       "    }\n",
       "\n",
       "    .dataframe thead th {\n",
       "        text-align: right;\n",
       "    }\n",
       "</style>\n",
       "<table border=\"1\" class=\"dataframe\">\n",
       "  <thead>\n",
       "    <tr style=\"text-align: right;\">\n",
       "      <th></th>\n",
       "      <th>count</th>\n",
       "    </tr>\n",
       "  </thead>\n",
       "  <tbody>\n",
       "    <tr>\n",
       "      <td>MainScreenAppear</td>\n",
       "      <td>7423</td>\n",
       "    </tr>\n",
       "    <tr>\n",
       "      <td>OffersScreenAppear</td>\n",
       "      <td>4203</td>\n",
       "    </tr>\n",
       "    <tr>\n",
       "      <td>CartScreenAppear</td>\n",
       "      <td>1781</td>\n",
       "    </tr>\n",
       "    <tr>\n",
       "      <td>PaymentScreenSuccessful</td>\n",
       "      <td>458</td>\n",
       "    </tr>\n",
       "  </tbody>\n",
       "</table>\n",
       "</div>"
      ],
      "text/plain": [
       "                         count\n",
       "MainScreenAppear          7423\n",
       "OffersScreenAppear        4203\n",
       "CartScreenAppear          1781\n",
       "PaymentScreenSuccessful    458"
      ]
     },
     "execution_count": 49,
     "metadata": {},
     "output_type": "execute_result"
    }
   ],
   "source": [
    "funnel_ordered"
   ]
  },
  {
   "cell_type": "code",
   "execution_count": 50,
   "metadata": {},
   "outputs": [],
   "source": [
    "funnel_ordered['conversion_ns'] = funnel_ordered['count'].shift(1)"
   ]
  },
  {
   "cell_type": "code",
   "execution_count": 51,
   "metadata": {},
   "outputs": [],
   "source": [
    "funnel_ordered.loc['MainScreenAppear', 'conversion_ns'] = 7423"
   ]
  },
  {
   "cell_type": "code",
   "execution_count": 52,
   "metadata": {},
   "outputs": [],
   "source": [
    "funnel_ordered['conversion_ns'] = funnel_ordered['count'] / funnel_ordered['conversion_ns']"
   ]
  },
  {
   "cell_type": "code",
   "execution_count": 53,
   "metadata": {},
   "outputs": [
    {
     "data": {
      "text/html": [
       "<style  type=\"text/css\" >\n",
       "</style><table id=\"T_0680d454_e114_11ea_ad38_02420a39e4ca\" ><thead>    <tr>        <th class=\"blank level0\" ></th>        <th class=\"col_heading level0 col0\" >count</th>        <th class=\"col_heading level0 col1\" >conversion_ns</th>    </tr></thead><tbody>\n",
       "                <tr>\n",
       "                        <th id=\"T_0680d454_e114_11ea_ad38_02420a39e4calevel0_row0\" class=\"row_heading level0 row0\" >MainScreenAppear</th>\n",
       "                        <td id=\"T_0680d454_e114_11ea_ad38_02420a39e4carow0_col0\" class=\"data row0 col0\" >7423</td>\n",
       "                        <td id=\"T_0680d454_e114_11ea_ad38_02420a39e4carow0_col1\" class=\"data row0 col1\" >100.0%</td>\n",
       "            </tr>\n",
       "            <tr>\n",
       "                        <th id=\"T_0680d454_e114_11ea_ad38_02420a39e4calevel0_row1\" class=\"row_heading level0 row1\" >OffersScreenAppear</th>\n",
       "                        <td id=\"T_0680d454_e114_11ea_ad38_02420a39e4carow1_col0\" class=\"data row1 col0\" >4203</td>\n",
       "                        <td id=\"T_0680d454_e114_11ea_ad38_02420a39e4carow1_col1\" class=\"data row1 col1\" >56.6%</td>\n",
       "            </tr>\n",
       "            <tr>\n",
       "                        <th id=\"T_0680d454_e114_11ea_ad38_02420a39e4calevel0_row2\" class=\"row_heading level0 row2\" >CartScreenAppear</th>\n",
       "                        <td id=\"T_0680d454_e114_11ea_ad38_02420a39e4carow2_col0\" class=\"data row2 col0\" >1781</td>\n",
       "                        <td id=\"T_0680d454_e114_11ea_ad38_02420a39e4carow2_col1\" class=\"data row2 col1\" >42.4%</td>\n",
       "            </tr>\n",
       "            <tr>\n",
       "                        <th id=\"T_0680d454_e114_11ea_ad38_02420a39e4calevel0_row3\" class=\"row_heading level0 row3\" >PaymentScreenSuccessful</th>\n",
       "                        <td id=\"T_0680d454_e114_11ea_ad38_02420a39e4carow3_col0\" class=\"data row3 col0\" >458</td>\n",
       "                        <td id=\"T_0680d454_e114_11ea_ad38_02420a39e4carow3_col1\" class=\"data row3 col1\" >25.7%</td>\n",
       "            </tr>\n",
       "    </tbody></table>"
      ],
      "text/plain": [
       "<pandas.io.formats.style.Styler at 0x7f0029510810>"
      ]
     },
     "execution_count": 53,
     "metadata": {},
     "output_type": "execute_result"
    }
   ],
   "source": [
    "funnel_ordered.style.format({'conversion_ns': \"{:.1%}\"})"
   ]
  },
  {
   "cell_type": "code",
   "execution_count": 54,
   "metadata": {},
   "outputs": [
    {
     "data": {
      "text/plain": [
       "6.170012124477974"
      ]
     },
     "execution_count": 54,
     "metadata": {},
     "output_type": "execute_result"
    }
   ],
   "source": [
    "funnel_ordered.loc['PaymentScreenSuccessful', 'count'] / funnel_ordered.loc['MainScreenAppear', 'count'] * 100"
   ]
  },
  {
   "cell_type": "markdown",
   "metadata": {},
   "source": [
    "Сравнивая полученную воронку с учётом порядка действий пользователей с простой воронкой, видим значительные расхождения. Это значит, что не все пользователи идут по пути, которому мы предполагали ранее.\n",
    "В этой воронке с каждым шагом доля пользователей, которые не перешли на следующий этап, только увеличивается. Больше всего пользователей уходит на эпапе оплаты - 74.3%. Как результат от первого события до покупки конверсия состаляет `6.17%`. "
   ]
  },
  {
   "cell_type": "markdown",
   "metadata": {},
   "source": [
    "<a id = \"Step5\"></a>\n",
    "### Шаг 5. Изучение результатов эксперимента\n",
    "---\n",
    "\n",
    "- [Начало](#head)\n",
    "- [Шаг 1](#Step1)\n",
    "- [Шаг 2](#Step2)\n",
    "- [Шаг 3](#Step3)\n",
    "- [Шаг 4](#Step4)\n",
    "- [Шаг 6](#Step6)"
   ]
  },
  {
   "cell_type": "markdown",
   "metadata": {},
   "source": [
    "Взглянем на количество пользователей в каждой эксперементальной группе:"
   ]
  },
  {
   "cell_type": "code",
   "execution_count": 55,
   "metadata": {},
   "outputs": [
    {
     "data": {
      "text/html": [
       "<div>\n",
       "<style scoped>\n",
       "    .dataframe tbody tr th:only-of-type {\n",
       "        vertical-align: middle;\n",
       "    }\n",
       "\n",
       "    .dataframe tbody tr th {\n",
       "        vertical-align: top;\n",
       "    }\n",
       "\n",
       "    .dataframe thead th {\n",
       "        text-align: right;\n",
       "    }\n",
       "</style>\n",
       "<table border=\"1\" class=\"dataframe\">\n",
       "  <thead>\n",
       "    <tr style=\"text-align: right;\">\n",
       "      <th></th>\n",
       "      <th>user_id</th>\n",
       "    </tr>\n",
       "    <tr>\n",
       "      <th>group</th>\n",
       "      <th></th>\n",
       "    </tr>\n",
       "  </thead>\n",
       "  <tbody>\n",
       "    <tr>\n",
       "      <td>246</td>\n",
       "      <td>2484</td>\n",
       "    </tr>\n",
       "    <tr>\n",
       "      <td>247</td>\n",
       "      <td>2517</td>\n",
       "    </tr>\n",
       "    <tr>\n",
       "      <td>248</td>\n",
       "      <td>2537</td>\n",
       "    </tr>\n",
       "  </tbody>\n",
       "</table>\n",
       "</div>"
      ],
      "text/plain": [
       "       user_id\n",
       "group         \n",
       "246       2484\n",
       "247       2517\n",
       "248       2537"
      ]
     },
     "execution_count": 55,
     "metadata": {},
     "output_type": "execute_result"
    }
   ],
   "source": [
    "logs_new.groupby('group')['user_id'].nunique().to_frame()"
   ]
  },
  {
   "cell_type": "markdown",
   "metadata": {},
   "source": [
    "Количество пользователей в каждой экспериментальной группе практически одинаково. "
   ]
  },
  {
   "cell_type": "markdown",
   "metadata": {},
   "source": [
    "---\n",
    "Проверим, находят ли статистические критерии разницу между выборками 246 и 247.\n",
    "\n",
    "Количество пользователей в контрольных группах различается чуть больше чем на 1%."
   ]
  },
  {
   "cell_type": "code",
   "execution_count": 56,
   "metadata": {},
   "outputs": [],
   "source": [
    "group246 = logs_new[logs_new['group'] == 246]"
   ]
  },
  {
   "cell_type": "code",
   "execution_count": 57,
   "metadata": {},
   "outputs": [],
   "source": [
    "group247 = logs_new[logs_new['group'] == 247]"
   ]
  },
  {
   "cell_type": "code",
   "execution_count": 58,
   "metadata": {},
   "outputs": [
    {
     "data": {
      "text/html": [
       "<div>\n",
       "<style scoped>\n",
       "    .dataframe tbody tr th:only-of-type {\n",
       "        vertical-align: middle;\n",
       "    }\n",
       "\n",
       "    .dataframe tbody tr th {\n",
       "        vertical-align: top;\n",
       "    }\n",
       "\n",
       "    .dataframe thead th {\n",
       "        text-align: right;\n",
       "    }\n",
       "</style>\n",
       "<table border=\"1\" class=\"dataframe\">\n",
       "  <thead>\n",
       "    <tr style=\"text-align: right;\">\n",
       "      <th></th>\n",
       "      <th>event_name</th>\n",
       "      <th>user_id</th>\n",
       "      <th>event_time</th>\n",
       "      <th>group</th>\n",
       "      <th>date</th>\n",
       "    </tr>\n",
       "  </thead>\n",
       "  <tbody>\n",
       "  </tbody>\n",
       "</table>\n",
       "</div>"
      ],
      "text/plain": [
       "Empty DataFrame\n",
       "Columns: [event_name, user_id, event_time, group, date]\n",
       "Index: []"
      ]
     },
     "execution_count": 58,
     "metadata": {},
     "output_type": "execute_result"
    }
   ],
   "source": [
    "group246[group246['user_id'].isin(group247['user_id'])]"
   ]
  },
  {
   "cell_type": "markdown",
   "metadata": {},
   "source": [
    "Пользователи в обеих группах уникальны. "
   ]
  },
  {
   "cell_type": "code",
   "execution_count": 59,
   "metadata": {},
   "outputs": [
    {
     "data": {
      "text/plain": [
       "2484"
      ]
     },
     "execution_count": 59,
     "metadata": {},
     "output_type": "execute_result"
    }
   ],
   "source": [
    "len_246 = group246['user_id'].nunique()\n",
    "len_246"
   ]
  },
  {
   "cell_type": "code",
   "execution_count": 60,
   "metadata": {},
   "outputs": [
    {
     "data": {
      "text/plain": [
       "2517"
      ]
     },
     "execution_count": 60,
     "metadata": {},
     "output_type": "execute_result"
    }
   ],
   "source": [
    "len_247 = group247['user_id'].nunique()\n",
    "len_247"
   ]
  },
  {
   "cell_type": "markdown",
   "metadata": {},
   "source": [
    "**Посчитаем число пользователей, совершивших события в каждой из контрольных групп.**"
   ]
  },
  {
   "cell_type": "code",
   "execution_count": 61,
   "metadata": {},
   "outputs": [
    {
     "data": {
      "text/html": [
       "<div>\n",
       "<style scoped>\n",
       "    .dataframe tbody tr th:only-of-type {\n",
       "        vertical-align: middle;\n",
       "    }\n",
       "\n",
       "    .dataframe tbody tr th {\n",
       "        vertical-align: top;\n",
       "    }\n",
       "\n",
       "    .dataframe thead th {\n",
       "        text-align: right;\n",
       "    }\n",
       "</style>\n",
       "<table border=\"1\" class=\"dataframe\">\n",
       "  <thead>\n",
       "    <tr style=\"text-align: right;\">\n",
       "      <th></th>\n",
       "      <th>count</th>\n",
       "    </tr>\n",
       "    <tr>\n",
       "      <th>event_name</th>\n",
       "      <th></th>\n",
       "    </tr>\n",
       "  </thead>\n",
       "  <tbody>\n",
       "    <tr>\n",
       "      <td>MainScreenAppear</td>\n",
       "      <td>2450</td>\n",
       "    </tr>\n",
       "    <tr>\n",
       "      <td>OffersScreenAppear</td>\n",
       "      <td>1542</td>\n",
       "    </tr>\n",
       "    <tr>\n",
       "      <td>CartScreenAppear</td>\n",
       "      <td>1266</td>\n",
       "    </tr>\n",
       "    <tr>\n",
       "      <td>PaymentScreenSuccessful</td>\n",
       "      <td>1200</td>\n",
       "    </tr>\n",
       "  </tbody>\n",
       "</table>\n",
       "</div>"
      ],
      "text/plain": [
       "                         count\n",
       "event_name                    \n",
       "MainScreenAppear          2450\n",
       "OffersScreenAppear        1542\n",
       "CartScreenAppear          1266\n",
       "PaymentScreenSuccessful   1200"
      ]
     },
     "execution_count": 61,
     "metadata": {},
     "output_type": "execute_result"
    }
   ],
   "source": [
    "funnel_246 = logs_new[(logs_new['event_name'] != 'Tutorial') & (logs_new['group'] == 246)]\\\n",
    "    .pivot_table(index = 'event_name', values = 'user_id', aggfunc ={'user_id':'nunique'})\\\n",
    "    .rename({'user_id':'count'}, axis=1).sort_values(by = 'count', ascending = False)\n",
    "funnel_246"
   ]
  },
  {
   "cell_type": "code",
   "execution_count": 62,
   "metadata": {},
   "outputs": [
    {
     "data": {
      "text/html": [
       "<div>\n",
       "<style scoped>\n",
       "    .dataframe tbody tr th:only-of-type {\n",
       "        vertical-align: middle;\n",
       "    }\n",
       "\n",
       "    .dataframe tbody tr th {\n",
       "        vertical-align: top;\n",
       "    }\n",
       "\n",
       "    .dataframe thead th {\n",
       "        text-align: right;\n",
       "    }\n",
       "</style>\n",
       "<table border=\"1\" class=\"dataframe\">\n",
       "  <thead>\n",
       "    <tr style=\"text-align: right;\">\n",
       "      <th></th>\n",
       "      <th>count</th>\n",
       "    </tr>\n",
       "    <tr>\n",
       "      <th>event_name</th>\n",
       "      <th></th>\n",
       "    </tr>\n",
       "  </thead>\n",
       "  <tbody>\n",
       "    <tr>\n",
       "      <td>MainScreenAppear</td>\n",
       "      <td>2479</td>\n",
       "    </tr>\n",
       "    <tr>\n",
       "      <td>OffersScreenAppear</td>\n",
       "      <td>1524</td>\n",
       "    </tr>\n",
       "    <tr>\n",
       "      <td>CartScreenAppear</td>\n",
       "      <td>1239</td>\n",
       "    </tr>\n",
       "    <tr>\n",
       "      <td>PaymentScreenSuccessful</td>\n",
       "      <td>1158</td>\n",
       "    </tr>\n",
       "  </tbody>\n",
       "</table>\n",
       "</div>"
      ],
      "text/plain": [
       "                         count\n",
       "event_name                    \n",
       "MainScreenAppear          2479\n",
       "OffersScreenAppear        1524\n",
       "CartScreenAppear          1239\n",
       "PaymentScreenSuccessful   1158"
      ]
     },
     "execution_count": 62,
     "metadata": {},
     "output_type": "execute_result"
    }
   ],
   "source": [
    "funnel_247 = logs_new[(logs_new['event_name'] != 'Tutorial') & (logs_new['group'] == 247)]\\\n",
    "    .pivot_table(index = 'event_name', values = 'user_id', aggfunc ={'user_id':'nunique'})\\\n",
    "    .rename({'user_id':'count'}, axis=1).sort_values(by = 'count', ascending = False)\n",
    "funnel_247"
   ]
  },
  {
   "cell_type": "markdown",
   "metadata": {},
   "source": [
    "Проверим гипотезы о равенстве долей между нашими контрольными группами."
   ]
  },
  {
   "cell_type": "markdown",
   "metadata": {},
   "source": [
    "Дадим общую формулировку гипотез:\n",
    "\n",
    "**Нулевая гипотеза:** Доля пользователей, совершивших действие \" ...... \" (одно из четырех событий) контрольной группы № 246 равна доле пользователей контрольной группы № 247, совершивших то же действие. \n",
    "\n",
    "**Альтернативная гипотеза:** Доли группы № 246 и группы № 247 неравны.\n"
   ]
  },
  {
   "cell_type": "code",
   "execution_count": 63,
   "metadata": {},
   "outputs": [],
   "source": [
    "events = {'MainScreenAppear': 'Просмотр главного экрана приложения', \n",
    "          'OffersScreenAppear': 'Просмотр предложения о покупке (или карточки товара)', \n",
    "          'CartScreenAppear': 'Просмотр корзины', \n",
    "          'PaymentScreenSuccessful': 'Оплата покупки'}"
   ]
  },
  {
   "cell_type": "code",
   "execution_count": 64,
   "metadata": {},
   "outputs": [],
   "source": [
    "def test(A,B,alpha, len_A, len_B):\n",
    "    \n",
    "    print('-'*30, colored('Проверка гипотез о равенстве долей', \"red\", attrs=[\"bold\"]), '-'*30)\n",
    "    \n",
    "    for event in A.index:\n",
    "        \n",
    "        print()\n",
    "        print('Сформулируем гипотезы: ')\n",
    "        print('H0: Доля пользователей группы А, совершивших действие', \n",
    "              colored(events[event], on_color='on_yellow', attrs=['bold']), \n",
    "              ', равна соответствующей доле группы В')\n",
    "        print('H1: Доли пользователей группы А и группы В различны')\n",
    "        print()\n",
    "        alpha = alpha\n",
    "        \n",
    "        # пропорция успехов в первой группе:\n",
    "        p_A = A.loc[event, 'count'] / len_A\n",
    "        # пропорция успехов во второй группе:\n",
    "        p_B = B.loc[event, 'count'] / len_B\n",
    "        \n",
    "        # пропорция успехов в комбинированном датасете:\n",
    "        p_combined = (A.loc[event, 'count'] + B.loc[event, 'count']) / (len_A + len_B)\n",
    "        \n",
    "        # разница пропорций в датасетах\n",
    "        difference = p_A - p_B\n",
    "        \n",
    "        # считаем статистику в ст.отклонениях стандартного нормального распределения\n",
    "        z_value = difference / math.sqrt(p_combined * (1 - p_combined) * (1/len_A + 1/len_B))\n",
    "        \n",
    "        # задаем стандартное нормальное распределение\n",
    "        distr = stats.norm(0, 1)\n",
    "        \n",
    "        p_value = round((1 - distr.cdf(abs(z_value))) * 2, 3)\n",
    "\n",
    "        print('p-значение: ', p_value)\n",
    "\n",
    "        if (p_value < alpha):\n",
    "            print(\"Отвергаем нулевую гипотезу: между долями есть значимая разница\")\n",
    "        else:\n",
    "            print(\"Не получилось отвергнуть нулевую гипотезу, нет оснований считать доли разными\")\n",
    "        print(colored('-'*90, \"blue\", attrs=[\"bold\"]))"
   ]
  },
  {
   "cell_type": "code",
   "execution_count": 65,
   "metadata": {},
   "outputs": [
    {
     "name": "stdout",
     "output_type": "stream",
     "text": [
      "------------------------------ \u001b[1m\u001b[31mПроверка гипотез о равенстве долей\u001b[0m ------------------------------\n",
      "\n",
      "Сформулируем гипотезы: \n",
      "H0: Доля пользователей группы А, совершивших действие \u001b[1m\u001b[43mПросмотр главного экрана приложения\u001b[0m , равна соответствующей доле группы В\n",
      "H1: Доли пользователей группы А и группы В различны\n",
      "\n",
      "p-значение:  0.676\n",
      "Не получилось отвергнуть нулевую гипотезу, нет оснований считать доли разными\n",
      "\u001b[1m\u001b[34m------------------------------------------------------------------------------------------\u001b[0m\n",
      "\n",
      "Сформулируем гипотезы: \n",
      "H0: Доля пользователей группы А, совершивших действие \u001b[1m\u001b[43mПросмотр предложения о покупке (или карточки товара)\u001b[0m , равна соответствующей доле группы В\n",
      "H1: Доли пользователей группы А и группы В различны\n",
      "\n",
      "p-значение:  0.267\n",
      "Не получилось отвергнуть нулевую гипотезу, нет оснований считать доли разными\n",
      "\u001b[1m\u001b[34m------------------------------------------------------------------------------------------\u001b[0m\n",
      "\n",
      "Сформулируем гипотезы: \n",
      "H0: Доля пользователей группы А, совершивших действие \u001b[1m\u001b[43mПросмотр корзины\u001b[0m , равна соответствующей доле группы В\n",
      "H1: Доли пользователей группы А и группы В различны\n",
      "\n",
      "p-значение:  0.218\n",
      "Не получилось отвергнуть нулевую гипотезу, нет оснований считать доли разными\n",
      "\u001b[1m\u001b[34m------------------------------------------------------------------------------------------\u001b[0m\n",
      "\n",
      "Сформулируем гипотезы: \n",
      "H0: Доля пользователей группы А, совершивших действие \u001b[1m\u001b[43mОплата покупки\u001b[0m , равна соответствующей доле группы В\n",
      "H1: Доли пользователей группы А и группы В различны\n",
      "\n",
      "p-значение:  0.103\n",
      "Не получилось отвергнуть нулевую гипотезу, нет оснований считать доли разными\n",
      "\u001b[1m\u001b[34m------------------------------------------------------------------------------------------\u001b[0m\n"
     ]
    }
   ],
   "source": [
    "test(funnel_246, funnel_247, 0.05, len_246, len_247)"
   ]
  },
  {
   "cell_type": "markdown",
   "metadata": {},
   "source": [
    "---\n",
    "**Выполненные тесты показали, что наши группы статистически не имеют различий. Это значит, что разбиение на группы работает корректно.**\n",
    "\n",
    "**Теперь сравним результаты экспериментальной группы с каждой из контрольных групп в отдельности по каждому событию.**\n",
    "\n",
    "Посчитаем число пользователей, совершивших события в экспериментальной группе."
   ]
  },
  {
   "cell_type": "code",
   "execution_count": 66,
   "metadata": {},
   "outputs": [
    {
     "data": {
      "text/html": [
       "<div>\n",
       "<style scoped>\n",
       "    .dataframe tbody tr th:only-of-type {\n",
       "        vertical-align: middle;\n",
       "    }\n",
       "\n",
       "    .dataframe tbody tr th {\n",
       "        vertical-align: top;\n",
       "    }\n",
       "\n",
       "    .dataframe thead th {\n",
       "        text-align: right;\n",
       "    }\n",
       "</style>\n",
       "<table border=\"1\" class=\"dataframe\">\n",
       "  <thead>\n",
       "    <tr style=\"text-align: right;\">\n",
       "      <th></th>\n",
       "      <th>count</th>\n",
       "    </tr>\n",
       "    <tr>\n",
       "      <th>event_name</th>\n",
       "      <th></th>\n",
       "    </tr>\n",
       "  </thead>\n",
       "  <tbody>\n",
       "    <tr>\n",
       "      <td>MainScreenAppear</td>\n",
       "      <td>2494</td>\n",
       "    </tr>\n",
       "    <tr>\n",
       "      <td>OffersScreenAppear</td>\n",
       "      <td>1531</td>\n",
       "    </tr>\n",
       "    <tr>\n",
       "      <td>CartScreenAppear</td>\n",
       "      <td>1231</td>\n",
       "    </tr>\n",
       "    <tr>\n",
       "      <td>PaymentScreenSuccessful</td>\n",
       "      <td>1182</td>\n",
       "    </tr>\n",
       "  </tbody>\n",
       "</table>\n",
       "</div>"
      ],
      "text/plain": [
       "                         count\n",
       "event_name                    \n",
       "MainScreenAppear          2494\n",
       "OffersScreenAppear        1531\n",
       "CartScreenAppear          1231\n",
       "PaymentScreenSuccessful   1182"
      ]
     },
     "execution_count": 66,
     "metadata": {},
     "output_type": "execute_result"
    }
   ],
   "source": [
    "funnel_248 = logs_new[(logs_new['event_name'] != 'Tutorial') & (logs_new['group'] == 248)]\\\n",
    "    .pivot_table(index = 'event_name', values = 'user_id', aggfunc ={'user_id':'nunique'})\\\n",
    "    .rename({'user_id':'count'}, axis=1).sort_values(by = 'count', ascending = False)\n",
    "funnel_248"
   ]
  },
  {
   "cell_type": "code",
   "execution_count": 67,
   "metadata": {},
   "outputs": [
    {
     "data": {
      "text/plain": [
       "2537"
      ]
     },
     "execution_count": 67,
     "metadata": {},
     "output_type": "execute_result"
    }
   ],
   "source": [
    "len_248 = logs_new[logs_new['group'] == 248]['user_id'].nunique()\n",
    "len_248"
   ]
  },
  {
   "cell_type": "markdown",
   "metadata": {},
   "source": [
    "Дадим общую формулировку гипотез:\n",
    "\n",
    "**Нулевая гипотеза:** Доля пользователей, совершивших действие \" ...... \" (одно из четырех событий), контрольной группы № 246 равна доле пользователей экспериментальной группы № 248, совершивших то же действие. \n",
    "\n",
    "**Альтернативная гипотеза:** Доли группы № 246 и группы № 248 неравны."
   ]
  },
  {
   "cell_type": "code",
   "execution_count": 68,
   "metadata": {},
   "outputs": [
    {
     "name": "stdout",
     "output_type": "stream",
     "text": [
      "------------------------------ \u001b[1m\u001b[31mПроверка гипотез о равенстве долей\u001b[0m ------------------------------\n",
      "\n",
      "Сформулируем гипотезы: \n",
      "H0: Доля пользователей группы А, совершивших действие \u001b[1m\u001b[43mПросмотр главного экрана приложения\u001b[0m , равна соответствующей доле группы В\n",
      "H1: Доли пользователей группы А и группы В различны\n",
      "\n",
      "p-значение:  0.347\n",
      "Не получилось отвергнуть нулевую гипотезу, нет оснований считать доли разными\n",
      "\u001b[1m\u001b[34m------------------------------------------------------------------------------------------\u001b[0m\n",
      "\n",
      "Сформулируем гипотезы: \n",
      "H0: Доля пользователей группы А, совершивших действие \u001b[1m\u001b[43mПросмотр предложения о покупке (или карточки товара)\u001b[0m , равна соответствующей доле группы В\n",
      "H1: Доли пользователей группы А и группы В различны\n",
      "\n",
      "p-значение:  0.208\n",
      "Не получилось отвергнуть нулевую гипотезу, нет оснований считать доли разными\n",
      "\u001b[1m\u001b[34m------------------------------------------------------------------------------------------\u001b[0m\n",
      "\n",
      "Сформулируем гипотезы: \n",
      "H0: Доля пользователей группы А, совершивших действие \u001b[1m\u001b[43mПросмотр корзины\u001b[0m , равна соответствующей доле группы В\n",
      "H1: Доли пользователей группы А и группы В различны\n",
      "\n",
      "p-значение:  0.083\n",
      "Не получилось отвергнуть нулевую гипотезу, нет оснований считать доли разными\n",
      "\u001b[1m\u001b[34m------------------------------------------------------------------------------------------\u001b[0m\n",
      "\n",
      "Сформулируем гипотезы: \n",
      "H0: Доля пользователей группы А, совершивших действие \u001b[1m\u001b[43mОплата покупки\u001b[0m , равна соответствующей доле группы В\n",
      "H1: Доли пользователей группы А и группы В различны\n",
      "\n",
      "p-значение:  0.223\n",
      "Не получилось отвергнуть нулевую гипотезу, нет оснований считать доли разными\n",
      "\u001b[1m\u001b[34m------------------------------------------------------------------------------------------\u001b[0m\n"
     ]
    }
   ],
   "source": [
    "test(funnel_246, funnel_248, 0.05, len_246, len_248)"
   ]
  },
  {
   "cell_type": "markdown",
   "metadata": {},
   "source": [
    "Дадим общую формулировку гипотез:\n",
    "\n",
    "**Нулевая гипотеза:** Доля пользователей, совершивших действие \" ...... \" (одно из четырех событий), контрольной группы № 247 равна доле пользователей экспериментальной группы № 248, совершивших то же действие. \n",
    "\n",
    "**Альтернативная гипотеза:** Доли группы № 247 и группы № 248 неравны."
   ]
  },
  {
   "cell_type": "code",
   "execution_count": 69,
   "metadata": {},
   "outputs": [
    {
     "name": "stdout",
     "output_type": "stream",
     "text": [
      "------------------------------ \u001b[1m\u001b[31mПроверка гипотез о равенстве долей\u001b[0m ------------------------------\n",
      "\n",
      "Сформулируем гипотезы: \n",
      "H0: Доля пользователей группы А, совершивших действие \u001b[1m\u001b[43mПросмотр главного экрана приложения\u001b[0m , равна соответствующей доле группы В\n",
      "H1: Доли пользователей группы А и группы В различны\n",
      "\n",
      "p-значение:  0.6\n",
      "Не получилось отвергнуть нулевую гипотезу, нет оснований считать доли разными\n",
      "\u001b[1m\u001b[34m------------------------------------------------------------------------------------------\u001b[0m\n",
      "\n",
      "Сформулируем гипотезы: \n",
      "H0: Доля пользователей группы А, совершивших действие \u001b[1m\u001b[43mПросмотр предложения о покупке (или карточки товара)\u001b[0m , равна соответствующей доле группы В\n",
      "H1: Доли пользователей группы А и группы В различны\n",
      "\n",
      "p-значение:  0.884\n",
      "Не получилось отвергнуть нулевую гипотезу, нет оснований считать доли разными\n",
      "\u001b[1m\u001b[34m------------------------------------------------------------------------------------------\u001b[0m\n",
      "\n",
      "Сформулируем гипотезы: \n",
      "H0: Доля пользователей группы А, совершивших действие \u001b[1m\u001b[43mПросмотр корзины\u001b[0m , равна соответствующей доле группы В\n",
      "H1: Доли пользователей группы А и группы В различны\n",
      "\n",
      "p-значение:  0.617\n",
      "Не получилось отвергнуть нулевую гипотезу, нет оснований считать доли разными\n",
      "\u001b[1m\u001b[34m------------------------------------------------------------------------------------------\u001b[0m\n",
      "\n",
      "Сформулируем гипотезы: \n",
      "H0: Доля пользователей группы А, совершивших действие \u001b[1m\u001b[43mОплата покупки\u001b[0m , равна соответствующей доле группы В\n",
      "H1: Доли пользователей группы А и группы В различны\n",
      "\n",
      "p-значение:  0.678\n",
      "Не получилось отвергнуть нулевую гипотезу, нет оснований считать доли разными\n",
      "\u001b[1m\u001b[34m------------------------------------------------------------------------------------------\u001b[0m\n"
     ]
    }
   ],
   "source": [
    "test(funnel_247, funnel_248, 0.05, len_247, len_248)"
   ]
  },
  {
   "cell_type": "markdown",
   "metadata": {},
   "source": [
    "**По результатам сравнения можно сказать, что между экспериментальной и контрольными группами нет статистических различий.**  \n",
    "Теперь сравним экспериментальную группу с объединённой контрольной группой.\n",
    "\n",
    "Посчитаем число пользователей, совершивших события в объединённой контрольной группе."
   ]
  },
  {
   "cell_type": "code",
   "execution_count": 70,
   "metadata": {},
   "outputs": [
    {
     "data": {
      "text/html": [
       "<div>\n",
       "<style scoped>\n",
       "    .dataframe tbody tr th:only-of-type {\n",
       "        vertical-align: middle;\n",
       "    }\n",
       "\n",
       "    .dataframe tbody tr th {\n",
       "        vertical-align: top;\n",
       "    }\n",
       "\n",
       "    .dataframe thead th {\n",
       "        text-align: right;\n",
       "    }\n",
       "</style>\n",
       "<table border=\"1\" class=\"dataframe\">\n",
       "  <thead>\n",
       "    <tr style=\"text-align: right;\">\n",
       "      <th></th>\n",
       "      <th>count</th>\n",
       "    </tr>\n",
       "    <tr>\n",
       "      <th>event_name</th>\n",
       "      <th></th>\n",
       "    </tr>\n",
       "  </thead>\n",
       "  <tbody>\n",
       "    <tr>\n",
       "      <td>MainScreenAppear</td>\n",
       "      <td>4929</td>\n",
       "    </tr>\n",
       "    <tr>\n",
       "      <td>OffersScreenAppear</td>\n",
       "      <td>3066</td>\n",
       "    </tr>\n",
       "    <tr>\n",
       "      <td>CartScreenAppear</td>\n",
       "      <td>2505</td>\n",
       "    </tr>\n",
       "    <tr>\n",
       "      <td>PaymentScreenSuccessful</td>\n",
       "      <td>2358</td>\n",
       "    </tr>\n",
       "  </tbody>\n",
       "</table>\n",
       "</div>"
      ],
      "text/plain": [
       "                         count\n",
       "event_name                    \n",
       "MainScreenAppear          4929\n",
       "OffersScreenAppear        3066\n",
       "CartScreenAppear          2505\n",
       "PaymentScreenSuccessful   2358"
      ]
     },
     "execution_count": 70,
     "metadata": {},
     "output_type": "execute_result"
    }
   ],
   "source": [
    "funnel_246_247 = logs_new[(logs_new['event_name'] != 'Tutorial') & \n",
    "                      ((logs_new['group'] == 246) | (logs_new['group'] == 247))]\\\n",
    "    .pivot_table(index = 'event_name', values = 'user_id', aggfunc ={'user_id':'nunique'})\\\n",
    "    .rename({'user_id':'count'}, axis=1).sort_values(by = 'count', ascending = False)\n",
    "funnel_246_247"
   ]
  },
  {
   "cell_type": "code",
   "execution_count": 71,
   "metadata": {},
   "outputs": [
    {
     "data": {
      "text/plain": [
       "5001"
      ]
     },
     "execution_count": 71,
     "metadata": {},
     "output_type": "execute_result"
    }
   ],
   "source": [
    "len_246_247 = logs_new[(logs_new['group'] == 246) | (logs_new['group'] == 247)]['user_id'].nunique()\n",
    "len_246_247"
   ]
  },
  {
   "cell_type": "markdown",
   "metadata": {},
   "source": [
    "Дадим общую формулировку гипотез:\n",
    "\n",
    "**Нулевая гипотеза:** Доля пользователей, совершивших действие \" ...... \" (одно из четырех событий), объединенной контрольной группы равна доле пользователей экспериментальной группы № 248, совершивших то же действие. \n",
    "\n",
    "**Альтернативная гипотеза:** Доли объединенной контрольной группы и группы № 248 неравны."
   ]
  },
  {
   "cell_type": "code",
   "execution_count": 72,
   "metadata": {},
   "outputs": [
    {
     "name": "stdout",
     "output_type": "stream",
     "text": [
      "------------------------------ \u001b[1m\u001b[31mПроверка гипотез о равенстве долей\u001b[0m ------------------------------\n",
      "\n",
      "Сформулируем гипотезы: \n",
      "H0: Доля пользователей группы А, совершивших действие \u001b[1m\u001b[43mПросмотр главного экрана приложения\u001b[0m , равна соответствующей доле группы В\n",
      "H1: Доли пользователей группы А и группы В различны\n",
      "\n",
      "p-значение:  0.393\n",
      "Не получилось отвергнуть нулевую гипотезу, нет оснований считать доли разными\n",
      "\u001b[1m\u001b[34m------------------------------------------------------------------------------------------\u001b[0m\n",
      "\n",
      "Сформулируем гипотезы: \n",
      "H0: Доля пользователей группы А, совершивших действие \u001b[1m\u001b[43mПросмотр предложения о покупке (или карточки товара)\u001b[0m , равна соответствующей доле группы В\n",
      "H1: Доли пользователей группы А и группы В различны\n",
      "\n",
      "p-значение:  0.419\n",
      "Не получилось отвергнуть нулевую гипотезу, нет оснований считать доли разными\n",
      "\u001b[1m\u001b[34m------------------------------------------------------------------------------------------\u001b[0m\n",
      "\n",
      "Сформулируем гипотезы: \n",
      "H0: Доля пользователей группы А, совершивших действие \u001b[1m\u001b[43mПросмотр корзины\u001b[0m , равна соответствующей доле группы В\n",
      "H1: Доли пользователей группы А и группы В различны\n",
      "\n",
      "p-значение:  0.198\n",
      "Не получилось отвергнуть нулевую гипотезу, нет оснований считать доли разными\n",
      "\u001b[1m\u001b[34m------------------------------------------------------------------------------------------\u001b[0m\n",
      "\n",
      "Сформулируем гипотезы: \n",
      "H0: Доля пользователей группы А, совершивших действие \u001b[1m\u001b[43mОплата покупки\u001b[0m , равна соответствующей доле группы В\n",
      "H1: Доли пользователей группы А и группы В различны\n",
      "\n",
      "p-значение:  0.645\n",
      "Не получилось отвергнуть нулевую гипотезу, нет оснований считать доли разными\n",
      "\u001b[1m\u001b[34m------------------------------------------------------------------------------------------\u001b[0m\n"
     ]
    }
   ],
   "source": [
    "test(funnel_246_247, funnel_248, 0.05, len_246_247, len_248)"
   ]
  },
  {
   "cell_type": "markdown",
   "metadata": {},
   "source": [
    "---\n",
    "**Таким образом по результатам всех проведенных A/B-тестов при уровне значимости 5% мы не смогли отвергнуть нулевую гипотезу. Это означает, что у нас нет оснований считать контрольные и экспериментальную группы различными.\n",
    "Всего было проведено 16 тестов.**\n",
    "\n",
    "Увеличим уровень значимости с 5% до 10% и посмотрим на результаты тестов."
   ]
  },
  {
   "cell_type": "code",
   "execution_count": 73,
   "metadata": {},
   "outputs": [
    {
     "name": "stdout",
     "output_type": "stream",
     "text": [
      "------------------------------ \u001b[1m\u001b[31mПроверка гипотез о равенстве долей\u001b[0m ------------------------------\n",
      "\n",
      "Сформулируем гипотезы: \n",
      "H0: Доля пользователей группы А, совершивших действие \u001b[1m\u001b[43mПросмотр главного экрана приложения\u001b[0m , равна соответствующей доле группы В\n",
      "H1: Доли пользователей группы А и группы В различны\n",
      "\n",
      "p-значение:  0.676\n",
      "Не получилось отвергнуть нулевую гипотезу, нет оснований считать доли разными\n",
      "\u001b[1m\u001b[34m------------------------------------------------------------------------------------------\u001b[0m\n",
      "\n",
      "Сформулируем гипотезы: \n",
      "H0: Доля пользователей группы А, совершивших действие \u001b[1m\u001b[43mПросмотр предложения о покупке (или карточки товара)\u001b[0m , равна соответствующей доле группы В\n",
      "H1: Доли пользователей группы А и группы В различны\n",
      "\n",
      "p-значение:  0.267\n",
      "Не получилось отвергнуть нулевую гипотезу, нет оснований считать доли разными\n",
      "\u001b[1m\u001b[34m------------------------------------------------------------------------------------------\u001b[0m\n",
      "\n",
      "Сформулируем гипотезы: \n",
      "H0: Доля пользователей группы А, совершивших действие \u001b[1m\u001b[43mПросмотр корзины\u001b[0m , равна соответствующей доле группы В\n",
      "H1: Доли пользователей группы А и группы В различны\n",
      "\n",
      "p-значение:  0.218\n",
      "Не получилось отвергнуть нулевую гипотезу, нет оснований считать доли разными\n",
      "\u001b[1m\u001b[34m------------------------------------------------------------------------------------------\u001b[0m\n",
      "\n",
      "Сформулируем гипотезы: \n",
      "H0: Доля пользователей группы А, совершивших действие \u001b[1m\u001b[43mОплата покупки\u001b[0m , равна соответствующей доле группы В\n",
      "H1: Доли пользователей группы А и группы В различны\n",
      "\n",
      "p-значение:  0.103\n",
      "Не получилось отвергнуть нулевую гипотезу, нет оснований считать доли разными\n",
      "\u001b[1m\u001b[34m------------------------------------------------------------------------------------------\u001b[0m\n"
     ]
    }
   ],
   "source": [
    "test(funnel_246, funnel_247, 0.1, len_246, len_247)"
   ]
  },
  {
   "cell_type": "markdown",
   "metadata": {},
   "source": [
    "**Несмотря на то, что мы увеличили вероятность совершения ошибки первого рода, А/А-тест не показал значимых различий между группами.**"
   ]
  },
  {
   "cell_type": "code",
   "execution_count": 74,
   "metadata": {},
   "outputs": [
    {
     "name": "stdout",
     "output_type": "stream",
     "text": [
      "------------------------------ \u001b[1m\u001b[31mПроверка гипотез о равенстве долей\u001b[0m ------------------------------\n",
      "\n",
      "Сформулируем гипотезы: \n",
      "H0: Доля пользователей группы А, совершивших действие \u001b[1m\u001b[43mПросмотр главного экрана приложения\u001b[0m , равна соответствующей доле группы В\n",
      "H1: Доли пользователей группы А и группы В различны\n",
      "\n",
      "p-значение:  0.347\n",
      "Не получилось отвергнуть нулевую гипотезу, нет оснований считать доли разными\n",
      "\u001b[1m\u001b[34m------------------------------------------------------------------------------------------\u001b[0m\n",
      "\n",
      "Сформулируем гипотезы: \n",
      "H0: Доля пользователей группы А, совершивших действие \u001b[1m\u001b[43mПросмотр предложения о покупке (или карточки товара)\u001b[0m , равна соответствующей доле группы В\n",
      "H1: Доли пользователей группы А и группы В различны\n",
      "\n",
      "p-значение:  0.208\n",
      "Не получилось отвергнуть нулевую гипотезу, нет оснований считать доли разными\n",
      "\u001b[1m\u001b[34m------------------------------------------------------------------------------------------\u001b[0m\n",
      "\n",
      "Сформулируем гипотезы: \n",
      "H0: Доля пользователей группы А, совершивших действие \u001b[1m\u001b[43mПросмотр корзины\u001b[0m , равна соответствующей доле группы В\n",
      "H1: Доли пользователей группы А и группы В различны\n",
      "\n",
      "p-значение:  0.083\n",
      "Отвергаем нулевую гипотезу: между долями есть значимая разница\n",
      "\u001b[1m\u001b[34m------------------------------------------------------------------------------------------\u001b[0m\n",
      "\n",
      "Сформулируем гипотезы: \n",
      "H0: Доля пользователей группы А, совершивших действие \u001b[1m\u001b[43mОплата покупки\u001b[0m , равна соответствующей доле группы В\n",
      "H1: Доли пользователей группы А и группы В различны\n",
      "\n",
      "p-значение:  0.223\n",
      "Не получилось отвергнуть нулевую гипотезу, нет оснований считать доли разными\n",
      "\u001b[1m\u001b[34m------------------------------------------------------------------------------------------\u001b[0m\n"
     ]
    }
   ],
   "source": [
    "test(funnel_246, funnel_248, 0.1, len_246, len_248)"
   ]
  },
  {
   "cell_type": "markdown",
   "metadata": {},
   "source": [
    "**Разница между долей пользователей контрольной группы 246, которые заходили в корзину товаров, и долей пользователей экспериментальной группы 248 статистически значима.**  "
   ]
  },
  {
   "cell_type": "code",
   "execution_count": 75,
   "metadata": {},
   "outputs": [
    {
     "name": "stdout",
     "output_type": "stream",
     "text": [
      "------------------------------ \u001b[1m\u001b[31mПроверка гипотез о равенстве долей\u001b[0m ------------------------------\n",
      "\n",
      "Сформулируем гипотезы: \n",
      "H0: Доля пользователей группы А, совершивших действие \u001b[1m\u001b[43mПросмотр главного экрана приложения\u001b[0m , равна соответствующей доле группы В\n",
      "H1: Доли пользователей группы А и группы В различны\n",
      "\n",
      "p-значение:  0.6\n",
      "Не получилось отвергнуть нулевую гипотезу, нет оснований считать доли разными\n",
      "\u001b[1m\u001b[34m------------------------------------------------------------------------------------------\u001b[0m\n",
      "\n",
      "Сформулируем гипотезы: \n",
      "H0: Доля пользователей группы А, совершивших действие \u001b[1m\u001b[43mПросмотр предложения о покупке (или карточки товара)\u001b[0m , равна соответствующей доле группы В\n",
      "H1: Доли пользователей группы А и группы В различны\n",
      "\n",
      "p-значение:  0.884\n",
      "Не получилось отвергнуть нулевую гипотезу, нет оснований считать доли разными\n",
      "\u001b[1m\u001b[34m------------------------------------------------------------------------------------------\u001b[0m\n",
      "\n",
      "Сформулируем гипотезы: \n",
      "H0: Доля пользователей группы А, совершивших действие \u001b[1m\u001b[43mПросмотр корзины\u001b[0m , равна соответствующей доле группы В\n",
      "H1: Доли пользователей группы А и группы В различны\n",
      "\n",
      "p-значение:  0.617\n",
      "Не получилось отвергнуть нулевую гипотезу, нет оснований считать доли разными\n",
      "\u001b[1m\u001b[34m------------------------------------------------------------------------------------------\u001b[0m\n",
      "\n",
      "Сформулируем гипотезы: \n",
      "H0: Доля пользователей группы А, совершивших действие \u001b[1m\u001b[43mОплата покупки\u001b[0m , равна соответствующей доле группы В\n",
      "H1: Доли пользователей группы А и группы В различны\n",
      "\n",
      "p-значение:  0.678\n",
      "Не получилось отвергнуть нулевую гипотезу, нет оснований считать доли разными\n",
      "\u001b[1m\u001b[34m------------------------------------------------------------------------------------------\u001b[0m\n"
     ]
    }
   ],
   "source": [
    "test(funnel_247, funnel_248, 0.1, len_247, len_248)"
   ]
  },
  {
   "cell_type": "markdown",
   "metadata": {},
   "source": [
    "**Между группами 247 и 248 не оказалось значимой разницы.**"
   ]
  },
  {
   "cell_type": "code",
   "execution_count": 76,
   "metadata": {},
   "outputs": [
    {
     "name": "stdout",
     "output_type": "stream",
     "text": [
      "------------------------------ \u001b[1m\u001b[31mПроверка гипотез о равенстве долей\u001b[0m ------------------------------\n",
      "\n",
      "Сформулируем гипотезы: \n",
      "H0: Доля пользователей группы А, совершивших действие \u001b[1m\u001b[43mПросмотр главного экрана приложения\u001b[0m , равна соответствующей доле группы В\n",
      "H1: Доли пользователей группы А и группы В различны\n",
      "\n",
      "p-значение:  0.393\n",
      "Не получилось отвергнуть нулевую гипотезу, нет оснований считать доли разными\n",
      "\u001b[1m\u001b[34m------------------------------------------------------------------------------------------\u001b[0m\n",
      "\n",
      "Сформулируем гипотезы: \n",
      "H0: Доля пользователей группы А, совершивших действие \u001b[1m\u001b[43mПросмотр предложения о покупке (или карточки товара)\u001b[0m , равна соответствующей доле группы В\n",
      "H1: Доли пользователей группы А и группы В различны\n",
      "\n",
      "p-значение:  0.419\n",
      "Не получилось отвергнуть нулевую гипотезу, нет оснований считать доли разными\n",
      "\u001b[1m\u001b[34m------------------------------------------------------------------------------------------\u001b[0m\n",
      "\n",
      "Сформулируем гипотезы: \n",
      "H0: Доля пользователей группы А, совершивших действие \u001b[1m\u001b[43mПросмотр корзины\u001b[0m , равна соответствующей доле группы В\n",
      "H1: Доли пользователей группы А и группы В различны\n",
      "\n",
      "p-значение:  0.198\n",
      "Не получилось отвергнуть нулевую гипотезу, нет оснований считать доли разными\n",
      "\u001b[1m\u001b[34m------------------------------------------------------------------------------------------\u001b[0m\n",
      "\n",
      "Сформулируем гипотезы: \n",
      "H0: Доля пользователей группы А, совершивших действие \u001b[1m\u001b[43mОплата покупки\u001b[0m , равна соответствующей доле группы В\n",
      "H1: Доли пользователей группы А и группы В различны\n",
      "\n",
      "p-значение:  0.645\n",
      "Не получилось отвергнуть нулевую гипотезу, нет оснований считать доли разными\n",
      "\u001b[1m\u001b[34m------------------------------------------------------------------------------------------\u001b[0m\n"
     ]
    }
   ],
   "source": [
    "test(funnel_246_247, funnel_248, 0.1, len_246_247, len_248)"
   ]
  },
  {
   "cell_type": "markdown",
   "metadata": {},
   "source": [
    "**Сравнивая результаты экспериментальной группы с объединенной контрольной группой статистически значимых различий не обнаружено.**"
   ]
  },
  {
   "cell_type": "markdown",
   "metadata": {},
   "source": [
    "---\n",
    "Из 16 проведеных тестов с более высоким уровнем значимости, только один показал статистически значимое различие между группами. И вероятно, что данный результат является ложным, ведь с увеличением уровня значимости увеличилась вероятность совершения ошибки первого рода. "
   ]
  },
  {
   "cell_type": "markdown",
   "metadata": {},
   "source": [
    "<a id = \"Step6\"></a>\n",
    "### Шаг 6. Общий вывод по проекту\n",
    "---\n",
    "\n",
    "- [Начало](#head)\n",
    "- [Шаг 1](#Step1)\n",
    "- [Шаг 2](#Step2)\n",
    "- [Шаг 3](#Step3)\n",
    "- [Шаг 4](#Step4)\n",
    "- [Шаг 5](#Step5)"
   ]
  },
  {
   "cell_type": "markdown",
   "metadata": {},
   "source": [
    "В ходе работы мы разбирались, как ведут себя пользователи мобильного приложения. Данное исследование проведено для стартапа, который продаёт продукты питания. Мы изучали воронку продаж и проверяли результаты A/A/B-эксперимента. \n",
    "\n",
    "Все данные были предварительно изучены и проверены. Мы выяснили, что в предоставленных логах содержатся пять видов событий. Всего в предоставленной таблице 243713 записей. В исследование попали 7551 пользователь. Мы выяснии, что в среднем на кажлого пользлватея приходится 32 события. Фактичеки в первоначальной таблице находились данные о событиях, произошедших с 25.07.2019 г. по 07.08.2019 г. Однако, после построения графика распределения событий по времени мы увидели, что данные за первые 7 дней получились неполными - очень мало действий произошло за этот период. В связи с этим для дальнейшей работы мы убрали данные с начала наблюдений по 31.07.2019 21:00:00.\n",
    "\n",
    "В таблицу для исследования попали следующие виды событий:\n",
    "\n",
    "- MainScreenAppear - Просмотр главного экрана приложения\n",
    "- OffersScreenAppear - Просмотр предложения о покупке (или карточки товара)\n",
    "- CartScreenAppear - Просмотр корзины\n",
    "- PaymentScreenSuccessful - Оплата покупки\n",
    "- Tutorial - Просмотр руководства\n",
    "\n",
    "Самым распространенным событием в логах был просмотр главной страницы приложения. Меньше всего пользователи уделяют внимаения чтению инструкции. По нашим данным 14% всех событий составляют покупки. Построив простую воронку продаж мы узнали, что 47% всех пользователей хотя бы раз совершали покупки. Стоит отмеить, что в приложении нет строгой последовательности действий, а это означает определенную свободу пользователя по взаимодействию с приложением магазина.\n",
    "\n",
    "Мы сделали предположение, что события происходят в следующем порядке:\n",
    "\n",
    "1. \"MainScreenAppear\";\n",
    "2. \"OffersScreenAppear\";\n",
    "3. \"CartScreenAppear\";\n",
    "4. \"PaymentScreenSuccessful\".\n",
    "\n",
    "Было решено, не включать событие \"Tutorial\" при расчете воронки. Вероятно, это действие добровольное и особо не влияет на совершение покупок в магазине.\n",
    "\n",
    "Построили воронку:\n",
    "\n",
    "|Наименование события|  Кол-во пользователей | Конверсия в следующий шаг |\n",
    "|--------:|   --------:     |  --------:     |        \n",
    "|MainScreenAppear \t  |   7423      | 100 % |\n",
    "|OffersScreenAppear\t  |   4597        | 61.9 % |\n",
    "|CartScreenAppear \t  |   3736        | 81.3 % |\n",
    "|PaymentScreenSuccessful |   3540     | 94.8 % |\n",
    "\n",
    "\n",
    "Полученная воронка показала, `38.1%` пользователей уходит на втором шаге, после просмотра основной страницы. Довольно высокие показатели на следующих этапах воронки. Из 4597 пользователей, которые получали предложение о товаре (или карточку товара) 81.3% перешли в корзину товаров. А из тех, кто заходил в корзину, товар купили 94.8%.\n",
    "Также мы выяснили, что от первого события до оплаты дошло `47.7%`.\n",
    "\n",
    "Дополнительно мы построили воронку с учётом порядка действий пользователей:\n",
    "\n",
    "|Наименование события|  Кол-во пользователей | Конверсия в следующий шаг |\n",
    "|--------:|   --------:     |  --------:     |        \n",
    "|MainScreenAppear \t  |   7423      | 100 % |\n",
    "|OffersScreenAppear\t  |   4203        | 56.6 % |\n",
    "|CartScreenAppear \t  |   1781        | 42.4 % |\n",
    "|PaymentScreenSuccessful |   458     | 25.7 % |\n",
    " \n",
    "Сравнивая полученную воронку с учётом порядка действий пользователей с простой воронкой, видим значительные расхождения. Это значит, что не все пользователи идут по пути, которому мы предполагали ранее. В этой воронке с каждым шагом доля пользователей, которые не перешли на следующий этап, только увеличивается. Больше всего пользователей уходит на эпапе оплаты - 74.3%. Как результат от первого события до покупки конверсия состаляет 6.17%. \n",
    "\n",
    "Далее мы исследовали результаты A/A/B-эксперимента, по результатам которого надо принять решение, стоит ли менять шрифты в приложении. Пользователи были разбиты на 3 группы: 2 контрольные со старыми шрифтами и одну экспериментальную — с новыми.\n",
    "\n",
    "Сначала мы сравнили две контрольные группы. Выполненные тесты показали, что наши группы статистически не имеют различий. Это значит, что разбиение на группы работает корректно.\n",
    "Далее мы сравнивали результаты экспериментальной группы с каждой из контрольных групп в отдельности по каждому событию, а также с объединённой контрольной группой. \n",
    "По результатам тестов не получилось выявить никаких статистически значимых различий. Поэтому нельзя сказать однозначно, какой из применяемых шрифтов лучше подходит для приложения. Можно только успокоить менеджеров компании - изменение шрифтов не приведет к нежелательным последствиям. "
   ]
  }
 ],
 "metadata": {
  "kernelspec": {
   "display_name": "Python 3",
   "language": "python",
   "name": "python3"
  },
  "language_info": {
   "codemirror_mode": {
    "name": "ipython",
    "version": 3
   },
   "file_extension": ".py",
   "mimetype": "text/x-python",
   "name": "python",
   "nbconvert_exporter": "python",
   "pygments_lexer": "ipython3",
   "version": "3.8.3"
  }
 },
 "nbformat": 4,
 "nbformat_minor": 2
}
