{
 "cells": [
  {
   "cell_type": "markdown",
   "metadata": {},
   "source": [
    "<a id = \"head\"></a>\n",
    "\n",
    "# Принятие решений в бизнесе на основе данных\n",
    "---\n"
   ]
  },
  {
   "cell_type": "markdown",
   "metadata": {},
   "source": [
    "### Описание проекта\n",
    "\n",
    "В нашем распоряжении имеется список гипотез для увеличения выручки, составленный совместно с отделом маркетинга. Необходимо приоритизировать гипотезы, запустить A/B-тест и проанализировать результаты. \n",
    "\n",
    "---\n",
    "\n",
    "### Описание данных\n",
    "Имеется несколько файлов с данными:\n",
    "\n",
    "Датасет с гипотезами:\n",
    "\n",
    "- Hypothesis — краткое описание гипотезы;\n",
    "- Reach — охват пользователей по 10-балльной шкале;\n",
    "- Impact — влияние на пользователей по 10-балльной шкале;\n",
    "- Confidence — уверенность в гипотезе по 10-балльной шкале;\n",
    "- Efforts — затраты ресурсов на проверку гипотезы по 10-балльной шкале. (Чем больше значение Efforts, тем дороже проверка гипотезы.)\n",
    "\n",
    "Набор данных с заказами покупателей:\n",
    "\n",
    "- transactionId — идентификатор заказа;\n",
    "- visitorId — идентификатор пользователя, совершившего заказ;\n",
    "- date — дата, когда был совершён заказ;\n",
    "- revenue — выручка заказа;\n",
    "- group — группа A/B-теста, в которую попал заказ.\n",
    "\n",
    "Данные о количестве посещений в определенную дату:\n",
    "\n",
    "- date — дата;\n",
    "- group — группа A/B-теста;\n",
    "- visitors — количество пользователей в указанную дату в указанной группе A/B-теста."
   ]
  },
  {
   "cell_type": "markdown",
   "metadata": {},
   "source": [
    "### *План выполнения проекта:*\n",
    "***\n",
    "\n",
    "1. [Часть 1. Приоритизация гипотез:](#Step1)\n",
    "    \n",
    "    - 1.1 Использование фреймворка ICE;\n",
    "    - 1.2 Использование фреймворка RICE.\n",
    "\n",
    "2. [Часть 2. Анализ A/B-теста:](#Step2)\n",
    "   - [2.1 Проведение анализа A/B-теста;](#Step2.1)\n",
    "   - [2.2 Вывод по второй части.](#Step2.2)\n",
    "\n",
    "3. [Общий вывод по проекту.](#Step3)"
   ]
  },
  {
   "cell_type": "code",
   "execution_count": 1,
   "metadata": {},
   "outputs": [],
   "source": [
    "# Импорт библиотек:\n",
    "import pandas as pd\n",
    "import matplotlib\n",
    "import matplotlib.pyplot as plt\n",
    "import numpy as np\n",
    "import scipy.stats as stats\n",
    "import math"
   ]
  },
  {
   "cell_type": "markdown",
   "metadata": {},
   "source": [
    "<a id = \"Step1\"></a>\n",
    "\n",
    "## Часть 1. Приоритизация гипотез:\n",
    "\n",
    "---\n",
    "\n",
    "### 1.1 Использование фреймворка ICE.\n",
    "\n",
    "- [Начало](#head)\n",
    "- [Часть 2, вопросы 1-4](#Step2.1-4)\n",
    "- [Часть 2, вопросы 5-8](#Step2.5-8)\n",
    "- [Часть 2, вопросы 9-11](#Step2.9-11)\n",
    "- [Часть 2, вопросы 12-14](#Step2.12-14)\n",
    "- [3.Вывод](#Step3)"
   ]
  },
  {
   "cell_type": "code",
   "execution_count": 2,
   "metadata": {},
   "outputs": [],
   "source": [
    "hypothesis = pd.read_csv(r'C:\\Users\\vladi\\Downloads\\data_for_analysis\\hypothesis.csv')"
   ]
  },
  {
   "cell_type": "code",
   "execution_count": 3,
   "metadata": {},
   "outputs": [
    {
     "data": {
      "text/html": [
       "<div>\n",
       "<style scoped>\n",
       "    .dataframe tbody tr th:only-of-type {\n",
       "        vertical-align: middle;\n",
       "    }\n",
       "\n",
       "    .dataframe tbody tr th {\n",
       "        vertical-align: top;\n",
       "    }\n",
       "\n",
       "    .dataframe thead th {\n",
       "        text-align: right;\n",
       "    }\n",
       "</style>\n",
       "<table border=\"1\" class=\"dataframe\">\n",
       "  <thead>\n",
       "    <tr style=\"text-align: right;\">\n",
       "      <th></th>\n",
       "      <th>hypothesis</th>\n",
       "      <th>reach</th>\n",
       "      <th>impact</th>\n",
       "      <th>confidence</th>\n",
       "      <th>efforts</th>\n",
       "    </tr>\n",
       "  </thead>\n",
       "  <tbody>\n",
       "    <tr>\n",
       "      <th>0</th>\n",
       "      <td>Добавить два новых канала привлечения трафика, что позволит привлекать на 30% больше пользователей</td>\n",
       "      <td>3</td>\n",
       "      <td>10</td>\n",
       "      <td>8</td>\n",
       "      <td>6</td>\n",
       "    </tr>\n",
       "    <tr>\n",
       "      <th>1</th>\n",
       "      <td>Запустить собственную службу доставки, что сократит срок доставки заказов</td>\n",
       "      <td>2</td>\n",
       "      <td>5</td>\n",
       "      <td>4</td>\n",
       "      <td>10</td>\n",
       "    </tr>\n",
       "    <tr>\n",
       "      <th>2</th>\n",
       "      <td>Добавить блоки рекомендаций товаров на сайт интернет магазина, чтобы повысить конверсию и средний чек заказа</td>\n",
       "      <td>8</td>\n",
       "      <td>3</td>\n",
       "      <td>7</td>\n",
       "      <td>3</td>\n",
       "    </tr>\n",
       "    <tr>\n",
       "      <th>3</th>\n",
       "      <td>Изменить структура категорий, что увеличит конверсию, т.к. пользователи быстрее найдут нужный товар</td>\n",
       "      <td>8</td>\n",
       "      <td>3</td>\n",
       "      <td>3</td>\n",
       "      <td>8</td>\n",
       "    </tr>\n",
       "    <tr>\n",
       "      <th>4</th>\n",
       "      <td>Изменить цвет фона главной страницы, чтобы увеличить вовлеченность пользователей</td>\n",
       "      <td>3</td>\n",
       "      <td>1</td>\n",
       "      <td>1</td>\n",
       "      <td>1</td>\n",
       "    </tr>\n",
       "    <tr>\n",
       "      <th>5</th>\n",
       "      <td>Добавить страницу отзывов клиентов о магазине, что позволит увеличить количество заказов</td>\n",
       "      <td>3</td>\n",
       "      <td>2</td>\n",
       "      <td>2</td>\n",
       "      <td>3</td>\n",
       "    </tr>\n",
       "    <tr>\n",
       "      <th>6</th>\n",
       "      <td>Показать на главной странице баннеры с актуальными акциями и распродажами, чтобы увеличить конверсию</td>\n",
       "      <td>5</td>\n",
       "      <td>3</td>\n",
       "      <td>8</td>\n",
       "      <td>3</td>\n",
       "    </tr>\n",
       "    <tr>\n",
       "      <th>7</th>\n",
       "      <td>Добавить форму подписки на все основные страницы, чтобы собрать базу клиентов для email-рассылок</td>\n",
       "      <td>10</td>\n",
       "      <td>7</td>\n",
       "      <td>8</td>\n",
       "      <td>5</td>\n",
       "    </tr>\n",
       "    <tr>\n",
       "      <th>8</th>\n",
       "      <td>Запустить акцию, дающую скидку на товар в день рождения</td>\n",
       "      <td>1</td>\n",
       "      <td>9</td>\n",
       "      <td>9</td>\n",
       "      <td>5</td>\n",
       "    </tr>\n",
       "  </tbody>\n",
       "</table>\n",
       "</div>"
      ],
      "text/plain": [
       "                                                                                                     hypothesis  \\\n",
       "0            Добавить два новых канала привлечения трафика, что позволит привлекать на 30% больше пользователей   \n",
       "1                                     Запустить собственную службу доставки, что сократит срок доставки заказов   \n",
       "2  Добавить блоки рекомендаций товаров на сайт интернет магазина, чтобы повысить конверсию и средний чек заказа   \n",
       "3           Изменить структура категорий, что увеличит конверсию, т.к. пользователи быстрее найдут нужный товар   \n",
       "4                              Изменить цвет фона главной страницы, чтобы увеличить вовлеченность пользователей   \n",
       "5                      Добавить страницу отзывов клиентов о магазине, что позволит увеличить количество заказов   \n",
       "6          Показать на главной странице баннеры с актуальными акциями и распродажами, чтобы увеличить конверсию   \n",
       "7              Добавить форму подписки на все основные страницы, чтобы собрать базу клиентов для email-рассылок   \n",
       "8                                                       Запустить акцию, дающую скидку на товар в день рождения   \n",
       "\n",
       "   reach  impact  confidence  efforts  \n",
       "0      3      10           8        6  \n",
       "1      2       5           4       10  \n",
       "2      8       3           7        3  \n",
       "3      8       3           3        8  \n",
       "4      3       1           1        1  \n",
       "5      3       2           2        3  \n",
       "6      5       3           8        3  \n",
       "7     10       7           8        5  \n",
       "8      1       9           9        5  "
      ]
     },
     "execution_count": 3,
     "metadata": {},
     "output_type": "execute_result"
    }
   ],
   "source": [
    "pd.set_option('display.max_columns', None)\n",
    "pd.options.display.max_colwidth = 150\n",
    "hypothesis.columns = ['hypothesis', 'reach', 'impact', 'confidence', 'efforts']\n",
    "hypothesis"
   ]
  },
  {
   "cell_type": "markdown",
   "metadata": {},
   "source": [
    "---\n",
    "*В представленной таблице содержатся 9 гипотез и оценки параметров для расчета приоритетности задач способами ICE и RICE.*"
   ]
  },
  {
   "cell_type": "code",
   "execution_count": 4,
   "metadata": {},
   "outputs": [
    {
     "data": {
      "text/html": [
       "<div>\n",
       "<style scoped>\n",
       "    .dataframe tbody tr th:only-of-type {\n",
       "        vertical-align: middle;\n",
       "    }\n",
       "\n",
       "    .dataframe tbody tr th {\n",
       "        vertical-align: top;\n",
       "    }\n",
       "\n",
       "    .dataframe thead th {\n",
       "        text-align: right;\n",
       "    }\n",
       "</style>\n",
       "<table border=\"1\" class=\"dataframe\">\n",
       "  <thead>\n",
       "    <tr style=\"text-align: right;\">\n",
       "      <th></th>\n",
       "      <th>hypothesis</th>\n",
       "      <th>ICE</th>\n",
       "    </tr>\n",
       "  </thead>\n",
       "  <tbody>\n",
       "    <tr>\n",
       "      <th>8</th>\n",
       "      <td>Запустить акцию, дающую скидку на товар в день рождения</td>\n",
       "      <td>16.200000</td>\n",
       "    </tr>\n",
       "    <tr>\n",
       "      <th>0</th>\n",
       "      <td>Добавить два новых канала привлечения трафика, что позволит привлекать на 30% больше пользователей</td>\n",
       "      <td>13.333333</td>\n",
       "    </tr>\n",
       "    <tr>\n",
       "      <th>7</th>\n",
       "      <td>Добавить форму подписки на все основные страницы, чтобы собрать базу клиентов для email-рассылок</td>\n",
       "      <td>11.200000</td>\n",
       "    </tr>\n",
       "    <tr>\n",
       "      <th>6</th>\n",
       "      <td>Показать на главной странице баннеры с актуальными акциями и распродажами, чтобы увеличить конверсию</td>\n",
       "      <td>8.000000</td>\n",
       "    </tr>\n",
       "    <tr>\n",
       "      <th>2</th>\n",
       "      <td>Добавить блоки рекомендаций товаров на сайт интернет магазина, чтобы повысить конверсию и средний чек заказа</td>\n",
       "      <td>7.000000</td>\n",
       "    </tr>\n",
       "    <tr>\n",
       "      <th>1</th>\n",
       "      <td>Запустить собственную службу доставки, что сократит срок доставки заказов</td>\n",
       "      <td>2.000000</td>\n",
       "    </tr>\n",
       "    <tr>\n",
       "      <th>5</th>\n",
       "      <td>Добавить страницу отзывов клиентов о магазине, что позволит увеличить количество заказов</td>\n",
       "      <td>1.333333</td>\n",
       "    </tr>\n",
       "    <tr>\n",
       "      <th>3</th>\n",
       "      <td>Изменить структура категорий, что увеличит конверсию, т.к. пользователи быстрее найдут нужный товар</td>\n",
       "      <td>1.125000</td>\n",
       "    </tr>\n",
       "    <tr>\n",
       "      <th>4</th>\n",
       "      <td>Изменить цвет фона главной страницы, чтобы увеличить вовлеченность пользователей</td>\n",
       "      <td>1.000000</td>\n",
       "    </tr>\n",
       "  </tbody>\n",
       "</table>\n",
       "</div>"
      ],
      "text/plain": [
       "                                                                                                     hypothesis  \\\n",
       "8                                                       Запустить акцию, дающую скидку на товар в день рождения   \n",
       "0            Добавить два новых канала привлечения трафика, что позволит привлекать на 30% больше пользователей   \n",
       "7              Добавить форму подписки на все основные страницы, чтобы собрать базу клиентов для email-рассылок   \n",
       "6          Показать на главной странице баннеры с актуальными акциями и распродажами, чтобы увеличить конверсию   \n",
       "2  Добавить блоки рекомендаций товаров на сайт интернет магазина, чтобы повысить конверсию и средний чек заказа   \n",
       "1                                     Запустить собственную службу доставки, что сократит срок доставки заказов   \n",
       "5                      Добавить страницу отзывов клиентов о магазине, что позволит увеличить количество заказов   \n",
       "3           Изменить структура категорий, что увеличит конверсию, т.к. пользователи быстрее найдут нужный товар   \n",
       "4                              Изменить цвет фона главной страницы, чтобы увеличить вовлеченность пользователей   \n",
       "\n",
       "         ICE  \n",
       "8  16.200000  \n",
       "0  13.333333  \n",
       "7  11.200000  \n",
       "6   8.000000  \n",
       "2   7.000000  \n",
       "1   2.000000  \n",
       "5   1.333333  \n",
       "3   1.125000  \n",
       "4   1.000000  "
      ]
     },
     "execution_count": 4,
     "metadata": {},
     "output_type": "execute_result"
    }
   ],
   "source": [
    "hypothesis['ICE'] = (hypothesis['impact'] * hypothesis['confidence']) / hypothesis['efforts']\n",
    "hypothesis[['hypothesis', 'ICE']].sort_values(by = 'ICE', ascending = False)"
   ]
  },
  {
   "cell_type": "markdown",
   "metadata": {},
   "source": [
    "---\n",
    "**Наиболее перспективные гипотезы по ICE:**\n",
    "1. Запустить акцию, дающую скидку на товар в день рождения\n",
    "2. Добавить два новых канала привлечения трафика, что позволит привлекать на 30% больше пользователей\n",
    "3. Добавить форму подписки на все основные страницы, чтобы собрать базу клиентов для email-рассылок\n",
    "4. Показать на главной странице баннеры с актуальными акциями и распродажами, чтобы увеличить конверсию"
   ]
  },
  {
   "cell_type": "markdown",
   "metadata": {},
   "source": [
    "<a id = \"Step1.2\"></a>\n",
    "\n",
    "### 1.2 Использование фреймворка RICE:"
   ]
  },
  {
   "cell_type": "code",
   "execution_count": 5,
   "metadata": {},
   "outputs": [
    {
     "data": {
      "text/html": [
       "<div>\n",
       "<style scoped>\n",
       "    .dataframe tbody tr th:only-of-type {\n",
       "        vertical-align: middle;\n",
       "    }\n",
       "\n",
       "    .dataframe tbody tr th {\n",
       "        vertical-align: top;\n",
       "    }\n",
       "\n",
       "    .dataframe thead th {\n",
       "        text-align: right;\n",
       "    }\n",
       "</style>\n",
       "<table border=\"1\" class=\"dataframe\">\n",
       "  <thead>\n",
       "    <tr style=\"text-align: right;\">\n",
       "      <th></th>\n",
       "      <th>hypothesis</th>\n",
       "      <th>RICE</th>\n",
       "    </tr>\n",
       "  </thead>\n",
       "  <tbody>\n",
       "    <tr>\n",
       "      <th>7</th>\n",
       "      <td>Добавить форму подписки на все основные страницы, чтобы собрать базу клиентов для email-рассылок</td>\n",
       "      <td>112.0</td>\n",
       "    </tr>\n",
       "    <tr>\n",
       "      <th>2</th>\n",
       "      <td>Добавить блоки рекомендаций товаров на сайт интернет магазина, чтобы повысить конверсию и средний чек заказа</td>\n",
       "      <td>56.0</td>\n",
       "    </tr>\n",
       "    <tr>\n",
       "      <th>0</th>\n",
       "      <td>Добавить два новых канала привлечения трафика, что позволит привлекать на 30% больше пользователей</td>\n",
       "      <td>40.0</td>\n",
       "    </tr>\n",
       "    <tr>\n",
       "      <th>6</th>\n",
       "      <td>Показать на главной странице баннеры с актуальными акциями и распродажами, чтобы увеличить конверсию</td>\n",
       "      <td>40.0</td>\n",
       "    </tr>\n",
       "    <tr>\n",
       "      <th>8</th>\n",
       "      <td>Запустить акцию, дающую скидку на товар в день рождения</td>\n",
       "      <td>16.2</td>\n",
       "    </tr>\n",
       "    <tr>\n",
       "      <th>3</th>\n",
       "      <td>Изменить структура категорий, что увеличит конверсию, т.к. пользователи быстрее найдут нужный товар</td>\n",
       "      <td>9.0</td>\n",
       "    </tr>\n",
       "    <tr>\n",
       "      <th>1</th>\n",
       "      <td>Запустить собственную службу доставки, что сократит срок доставки заказов</td>\n",
       "      <td>4.0</td>\n",
       "    </tr>\n",
       "    <tr>\n",
       "      <th>5</th>\n",
       "      <td>Добавить страницу отзывов клиентов о магазине, что позволит увеличить количество заказов</td>\n",
       "      <td>4.0</td>\n",
       "    </tr>\n",
       "    <tr>\n",
       "      <th>4</th>\n",
       "      <td>Изменить цвет фона главной страницы, чтобы увеличить вовлеченность пользователей</td>\n",
       "      <td>3.0</td>\n",
       "    </tr>\n",
       "  </tbody>\n",
       "</table>\n",
       "</div>"
      ],
      "text/plain": [
       "                                                                                                     hypothesis  \\\n",
       "7              Добавить форму подписки на все основные страницы, чтобы собрать базу клиентов для email-рассылок   \n",
       "2  Добавить блоки рекомендаций товаров на сайт интернет магазина, чтобы повысить конверсию и средний чек заказа   \n",
       "0            Добавить два новых канала привлечения трафика, что позволит привлекать на 30% больше пользователей   \n",
       "6          Показать на главной странице баннеры с актуальными акциями и распродажами, чтобы увеличить конверсию   \n",
       "8                                                       Запустить акцию, дающую скидку на товар в день рождения   \n",
       "3           Изменить структура категорий, что увеличит конверсию, т.к. пользователи быстрее найдут нужный товар   \n",
       "1                                     Запустить собственную службу доставки, что сократит срок доставки заказов   \n",
       "5                      Добавить страницу отзывов клиентов о магазине, что позволит увеличить количество заказов   \n",
       "4                              Изменить цвет фона главной страницы, чтобы увеличить вовлеченность пользователей   \n",
       "\n",
       "    RICE  \n",
       "7  112.0  \n",
       "2   56.0  \n",
       "0   40.0  \n",
       "6   40.0  \n",
       "8   16.2  \n",
       "3    9.0  \n",
       "1    4.0  \n",
       "5    4.0  \n",
       "4    3.0  "
      ]
     },
     "execution_count": 5,
     "metadata": {},
     "output_type": "execute_result"
    }
   ],
   "source": [
    "hypothesis['RICE'] = (hypothesis['reach'] * hypothesis['impact'] * hypothesis['confidence']) /\\\n",
    "hypothesis['efforts']\n",
    "hypothesis[['hypothesis', 'RICE']].sort_values(by = 'RICE', ascending = False)"
   ]
  },
  {
   "cell_type": "markdown",
   "metadata": {},
   "source": [
    "---\n",
    "**Наиболее перспективные гипотезы по RICE:**\n",
    "\n",
    "1. Добавить форму подписки на все основные страницы, чтобы собрать базу клиентов для email-рассылок\n",
    "2. Добавить блоки рекомендаций товаров на сайт интернет магазина, чтобы повысить конверсию и средний чек заказа\n",
    "3. Добавить два новых канала привлечения трафика, что позволит привлекать на 30% больше пользователей\n",
    "4. Показать на главной странице баннеры с актуальными акциями и распродажами, чтобы увеличить конверсию"
   ]
  },
  {
   "cell_type": "markdown",
   "metadata": {},
   "source": [
    "---\n",
    "Как мы видим, при использовании различных методов приоритизации, топ перспективных гипотез меняется. Так гипотеза \"Запустить акцию, дающую скидку на товар в день рождения\" - самая перспективная по методу ICE, оказалась лишь на пятой строчке по приоритету, при использовании метода RICE. А все из-за того, что у этой гипотезы очень низкий охват пользователей. За счет большого охвата и низкой стоимости тестирования гипотеза \"Добавить блоки рекомендаций товаров на сайт интернет магазина, чтобы повысить конверсию и средний чек заказа\" стала второй в приоритете по методу RICE. \n",
    "\n",
    "Следующие гипотезы попали в список самых перспективных как по ICE так и по RICE:\n",
    "- Добавить форму подписки на все основные страницы, чтобы собрать базу клиентов для email-рассылок\n",
    "- Добавить два новых канала привлечения трафика, что позволит привлекать на 30% больше пользователей\n",
    "- Показать на главной странице баннеры с актуальными акциями и распродажами, чтобы увеличить конверсию\n"
   ]
  },
  {
   "cell_type": "markdown",
   "metadata": {},
   "source": [
    "<a id = \"Step2\"></a>\n",
    "\n",
    "## Часть 2. Анализ A/B-теста\n",
    "\n",
    "- [Начало](#head)\n",
    "- [Часть 1](#Step1)\n",
    "- [Часть 2, вопросы 1-4](#Step2.1-4)\n",
    "- [Часть 2, вопросы 5-8](#Step2.5-8)\n",
    "- [Часть 2, вопросы 9-11](#Step2.9-11)\n",
    "- [Часть 2, вопросы 12-14](#Step2.12-14)\n",
    "- [3.Вывод](#Step3)"
   ]
  },
  {
   "cell_type": "markdown",
   "metadata": {},
   "source": [
    "Прежде чем приступить к анализу, посмотрим на предоставленные данные."
   ]
  },
  {
   "cell_type": "code",
   "execution_count": 6,
   "metadata": {},
   "outputs": [],
   "source": [
    "orders = pd.read_csv(r'C:\\Users\\vladi\\Downloads\\data_for_analysis\\orders.csv')\n",
    "visitors = pd.read_csv(r'C:\\Users\\vladi\\Downloads\\data_for_analysis\\visitors.csv')"
   ]
  },
  {
   "cell_type": "code",
   "execution_count": 7,
   "metadata": {},
   "outputs": [
    {
     "data": {
      "text/html": [
       "<div>\n",
       "<style scoped>\n",
       "    .dataframe tbody tr th:only-of-type {\n",
       "        vertical-align: middle;\n",
       "    }\n",
       "\n",
       "    .dataframe tbody tr th {\n",
       "        vertical-align: top;\n",
       "    }\n",
       "\n",
       "    .dataframe thead th {\n",
       "        text-align: right;\n",
       "    }\n",
       "</style>\n",
       "<table border=\"1\" class=\"dataframe\">\n",
       "  <thead>\n",
       "    <tr style=\"text-align: right;\">\n",
       "      <th></th>\n",
       "      <th>transactionId</th>\n",
       "      <th>visitorId</th>\n",
       "      <th>date</th>\n",
       "      <th>revenue</th>\n",
       "      <th>group</th>\n",
       "    </tr>\n",
       "  </thead>\n",
       "  <tbody>\n",
       "    <tr>\n",
       "      <th>665</th>\n",
       "      <td>452710654</td>\n",
       "      <td>3072399624</td>\n",
       "      <td>2019-08-29</td>\n",
       "      <td>10850</td>\n",
       "      <td>A</td>\n",
       "    </tr>\n",
       "    <tr>\n",
       "      <th>333</th>\n",
       "      <td>968111463</td>\n",
       "      <td>458253749</td>\n",
       "      <td>2019-08-25</td>\n",
       "      <td>790</td>\n",
       "      <td>B</td>\n",
       "    </tr>\n",
       "    <tr>\n",
       "      <th>246</th>\n",
       "      <td>437656952</td>\n",
       "      <td>199603092</td>\n",
       "      <td>2019-08-02</td>\n",
       "      <td>3488</td>\n",
       "      <td>B</td>\n",
       "    </tr>\n",
       "    <tr>\n",
       "      <th>1174</th>\n",
       "      <td>2927992070</td>\n",
       "      <td>1658204305</td>\n",
       "      <td>2019-08-14</td>\n",
       "      <td>1290</td>\n",
       "      <td>A</td>\n",
       "    </tr>\n",
       "    <tr>\n",
       "      <th>296</th>\n",
       "      <td>143829018</td>\n",
       "      <td>3054940424</td>\n",
       "      <td>2019-08-25</td>\n",
       "      <td>490</td>\n",
       "      <td>B</td>\n",
       "    </tr>\n",
       "  </tbody>\n",
       "</table>\n",
       "</div>"
      ],
      "text/plain": [
       "      transactionId   visitorId        date  revenue group\n",
       "665       452710654  3072399624  2019-08-29    10850     A\n",
       "333       968111463   458253749  2019-08-25      790     B\n",
       "246       437656952   199603092  2019-08-02     3488     B\n",
       "1174     2927992070  1658204305  2019-08-14     1290     A\n",
       "296       143829018  3054940424  2019-08-25      490     B"
      ]
     },
     "execution_count": 7,
     "metadata": {},
     "output_type": "execute_result"
    }
   ],
   "source": [
    "orders.sample(5)"
   ]
  },
  {
   "cell_type": "code",
   "execution_count": 8,
   "metadata": {},
   "outputs": [],
   "source": [
    "orders.columns = ['transactionid', 'visitorid', 'date', 'revenue', 'group']"
   ]
  },
  {
   "cell_type": "code",
   "execution_count": 9,
   "metadata": {},
   "outputs": [
    {
     "name": "stdout",
     "output_type": "stream",
     "text": [
      "<class 'pandas.core.frame.DataFrame'>\n",
      "RangeIndex: 1197 entries, 0 to 1196\n",
      "Data columns (total 5 columns):\n",
      " #   Column         Non-Null Count  Dtype \n",
      "---  ------         --------------  ----- \n",
      " 0   transactionid  1197 non-null   int64 \n",
      " 1   visitorid      1197 non-null   int64 \n",
      " 2   date           1197 non-null   object\n",
      " 3   revenue        1197 non-null   int64 \n",
      " 4   group          1197 non-null   object\n",
      "dtypes: int64(3), object(2)\n",
      "memory usage: 46.9+ KB\n"
     ]
    }
   ],
   "source": [
    "orders.info()"
   ]
  },
  {
   "cell_type": "code",
   "execution_count": 10,
   "metadata": {},
   "outputs": [
    {
     "data": {
      "text/plain": [
       "0"
      ]
     },
     "execution_count": 10,
     "metadata": {},
     "output_type": "execute_result"
    }
   ],
   "source": [
    "orders.duplicated().sum()"
   ]
  },
  {
   "cell_type": "code",
   "execution_count": 11,
   "metadata": {},
   "outputs": [
    {
     "data": {
      "text/html": [
       "<div>\n",
       "<style scoped>\n",
       "    .dataframe tbody tr th:only-of-type {\n",
       "        vertical-align: middle;\n",
       "    }\n",
       "\n",
       "    .dataframe tbody tr th {\n",
       "        vertical-align: top;\n",
       "    }\n",
       "\n",
       "    .dataframe thead th {\n",
       "        text-align: right;\n",
       "    }\n",
       "</style>\n",
       "<table border=\"1\" class=\"dataframe\">\n",
       "  <thead>\n",
       "    <tr style=\"text-align: right;\">\n",
       "      <th></th>\n",
       "      <th>date</th>\n",
       "      <th>group</th>\n",
       "      <th>visitors</th>\n",
       "    </tr>\n",
       "  </thead>\n",
       "  <tbody>\n",
       "    <tr>\n",
       "      <th>28</th>\n",
       "      <td>2019-08-29</td>\n",
       "      <td>A</td>\n",
       "      <td>577</td>\n",
       "    </tr>\n",
       "    <tr>\n",
       "      <th>56</th>\n",
       "      <td>2019-08-26</td>\n",
       "      <td>B</td>\n",
       "      <td>676</td>\n",
       "    </tr>\n",
       "    <tr>\n",
       "      <th>61</th>\n",
       "      <td>2019-08-31</td>\n",
       "      <td>B</td>\n",
       "      <td>718</td>\n",
       "    </tr>\n",
       "    <tr>\n",
       "      <th>44</th>\n",
       "      <td>2019-08-14</td>\n",
       "      <td>B</td>\n",
       "      <td>746</td>\n",
       "    </tr>\n",
       "    <tr>\n",
       "      <th>24</th>\n",
       "      <td>2019-08-25</td>\n",
       "      <td>A</td>\n",
       "      <td>621</td>\n",
       "    </tr>\n",
       "  </tbody>\n",
       "</table>\n",
       "</div>"
      ],
      "text/plain": [
       "          date group  visitors\n",
       "28  2019-08-29     A       577\n",
       "56  2019-08-26     B       676\n",
       "61  2019-08-31     B       718\n",
       "44  2019-08-14     B       746\n",
       "24  2019-08-25     A       621"
      ]
     },
     "execution_count": 11,
     "metadata": {},
     "output_type": "execute_result"
    }
   ],
   "source": [
    "visitors.sample(5)"
   ]
  },
  {
   "cell_type": "code",
   "execution_count": 12,
   "metadata": {},
   "outputs": [
    {
     "name": "stdout",
     "output_type": "stream",
     "text": [
      "<class 'pandas.core.frame.DataFrame'>\n",
      "RangeIndex: 62 entries, 0 to 61\n",
      "Data columns (total 3 columns):\n",
      " #   Column    Non-Null Count  Dtype \n",
      "---  ------    --------------  ----- \n",
      " 0   date      62 non-null     object\n",
      " 1   group     62 non-null     object\n",
      " 2   visitors  62 non-null     int64 \n",
      "dtypes: int64(1), object(2)\n",
      "memory usage: 1.6+ KB\n"
     ]
    }
   ],
   "source": [
    "visitors.info()"
   ]
  },
  {
   "cell_type": "code",
   "execution_count": 13,
   "metadata": {},
   "outputs": [
    {
     "data": {
      "text/plain": [
       "0"
      ]
     },
     "execution_count": 13,
     "metadata": {},
     "output_type": "execute_result"
    }
   ],
   "source": [
    "visitors.duplicated().sum()"
   ]
  },
  {
   "cell_type": "markdown",
   "metadata": {},
   "source": [
    "---\n",
    "Дубликаты и пропуски отсутсвуют. Необходимо поменять тип данных в столбцах даты."
   ]
  },
  {
   "cell_type": "code",
   "execution_count": 14,
   "metadata": {},
   "outputs": [],
   "source": [
    "orders['date'] = pd.to_datetime(orders['date'])"
   ]
  },
  {
   "cell_type": "code",
   "execution_count": 15,
   "metadata": {},
   "outputs": [],
   "source": [
    "visitors['date'] = pd.to_datetime(visitors['date'])"
   ]
  },
  {
   "cell_type": "markdown",
   "metadata": {},
   "source": [
    "Теперь данные готовы для дальнейшей работы. "
   ]
  },
  {
   "cell_type": "code",
   "execution_count": 16,
   "metadata": {},
   "outputs": [
    {
     "name": "stdout",
     "output_type": "stream",
     "text": [
      "Длина экперимента с  2019-08-01 по 2019-08-31\n"
     ]
    }
   ],
   "source": [
    "print(\"Длина экперимента с \", orders['date'].dt.strftime('%Y-%m-%d').min(), \n",
    "      \"по\", orders['date'].dt.strftime('%Y-%m-%d').max())"
   ]
  },
  {
   "cell_type": "markdown",
   "metadata": {},
   "source": [
    "Данные собраны за август 2018 года."
   ]
  },
  {
   "cell_type": "markdown",
   "metadata": {},
   "source": [
    "<a id = Step2.1-4> </a>\n",
    "\n",
    "##### 1) Построим график кумулятивной выручки по группам:\n",
    "\n",
    "- [Начало](#head)\n",
    "- [Часть 1](#Step1)\n",
    "- [Часть 2, вопросы 5-8](#Step2.5-8)\n",
    "- [Часть 2, вопросы 9-11](#Step2.9-11)\n",
    "- [Часть 2, вопросы 12-14](#Step2.12-14)\n",
    "- [3.Вывод](#Step3)"
   ]
  },
  {
   "cell_type": "code",
   "execution_count": 17,
   "metadata": {},
   "outputs": [],
   "source": [
    "# Создадим массив уникальных пар значений дат и групп:\n",
    "dates_groups = orders[['date', 'group']].drop_duplicates()"
   ]
  },
  {
   "cell_type": "code",
   "execution_count": 18,
   "metadata": {},
   "outputs": [],
   "source": [
    "# Агрегируем значения таблицы orders:\n",
    "orders_aggregated = dates_groups.apply(lambda x: orders[np.logical_and(orders['date'] <= x['date'], \n",
    "                                                     orders['group'] == x['group'])]\\\n",
    "                     .agg({'date' : 'max', \n",
    "                           'group' : 'max', \n",
    "                           'transactionid' : pd.Series.nunique, \n",
    "                           'visitorid' : pd.Series.nunique, \n",
    "                           'revenue' : 'sum'}), axis=1).sort_values(by=['date','group'])\n",
    "#orders_aggregated"
   ]
  },
  {
   "cell_type": "code",
   "execution_count": 19,
   "metadata": {},
   "outputs": [],
   "source": [
    "# Агрегируем значения таблицы visitors:\n",
    "visitors_aggregated = dates_groups.apply(lambda x: visitors[np.logical_and(visitors['date'] <= x['date'], \n",
    "                                                                           visitors['group'] == x['group'])]\\\n",
    "                                         .agg({'date' : 'max', \n",
    "                                               'group' : 'max', \n",
    "                                               'visitors' : 'sum'}), axis=1).sort_values(by=['date','group'])\n",
    "#visitors_aggregated"
   ]
  },
  {
   "cell_type": "code",
   "execution_count": 20,
   "metadata": {},
   "outputs": [
    {
     "data": {
      "text/html": [
       "<div>\n",
       "<style scoped>\n",
       "    .dataframe tbody tr th:only-of-type {\n",
       "        vertical-align: middle;\n",
       "    }\n",
       "\n",
       "    .dataframe tbody tr th {\n",
       "        vertical-align: top;\n",
       "    }\n",
       "\n",
       "    .dataframe thead th {\n",
       "        text-align: right;\n",
       "    }\n",
       "</style>\n",
       "<table border=\"1\" class=\"dataframe\">\n",
       "  <thead>\n",
       "    <tr style=\"text-align: right;\">\n",
       "      <th></th>\n",
       "      <th>date</th>\n",
       "      <th>group</th>\n",
       "      <th>orders</th>\n",
       "      <th>buyers</th>\n",
       "      <th>revenue</th>\n",
       "      <th>visitors</th>\n",
       "    </tr>\n",
       "  </thead>\n",
       "  <tbody>\n",
       "    <tr>\n",
       "      <th>0</th>\n",
       "      <td>2019-08-01</td>\n",
       "      <td>A</td>\n",
       "      <td>24</td>\n",
       "      <td>20</td>\n",
       "      <td>148579</td>\n",
       "      <td>719</td>\n",
       "    </tr>\n",
       "    <tr>\n",
       "      <th>1</th>\n",
       "      <td>2019-08-01</td>\n",
       "      <td>B</td>\n",
       "      <td>21</td>\n",
       "      <td>20</td>\n",
       "      <td>101217</td>\n",
       "      <td>713</td>\n",
       "    </tr>\n",
       "    <tr>\n",
       "      <th>2</th>\n",
       "      <td>2019-08-02</td>\n",
       "      <td>A</td>\n",
       "      <td>44</td>\n",
       "      <td>38</td>\n",
       "      <td>242401</td>\n",
       "      <td>1338</td>\n",
       "    </tr>\n",
       "    <tr>\n",
       "      <th>3</th>\n",
       "      <td>2019-08-02</td>\n",
       "      <td>B</td>\n",
       "      <td>45</td>\n",
       "      <td>43</td>\n",
       "      <td>266748</td>\n",
       "      <td>1294</td>\n",
       "    </tr>\n",
       "    <tr>\n",
       "      <th>4</th>\n",
       "      <td>2019-08-03</td>\n",
       "      <td>A</td>\n",
       "      <td>68</td>\n",
       "      <td>62</td>\n",
       "      <td>354874</td>\n",
       "      <td>1845</td>\n",
       "    </tr>\n",
       "    <tr>\n",
       "      <th>5</th>\n",
       "      <td>2019-08-03</td>\n",
       "      <td>B</td>\n",
       "      <td>61</td>\n",
       "      <td>59</td>\n",
       "      <td>380996</td>\n",
       "      <td>1803</td>\n",
       "    </tr>\n",
       "  </tbody>\n",
       "</table>\n",
       "</div>"
      ],
      "text/plain": [
       "        date group  orders  buyers  revenue  visitors\n",
       "0 2019-08-01     A      24      20   148579       719\n",
       "1 2019-08-01     B      21      20   101217       713\n",
       "2 2019-08-02     A      44      38   242401      1338\n",
       "3 2019-08-02     B      45      43   266748      1294\n",
       "4 2019-08-03     A      68      62   354874      1845\n",
       "5 2019-08-03     B      61      59   380996      1803"
      ]
     },
     "execution_count": 20,
     "metadata": {},
     "output_type": "execute_result"
    }
   ],
   "source": [
    "# Объединим кумулятивные данные в одной таблице и присвоим ее столбцам понятные названия:\n",
    "cumulative_data = orders_aggregated.merge(visitors_aggregated, \n",
    "                                          left_on=['date', 'group'], \n",
    "                                          right_on=['date', 'group'])\n",
    "cumulative_data.columns = ['date', 'group', 'orders', 'buyers', 'revenue', 'visitors']\n",
    "cumulative_data.head(6)"
   ]
  },
  {
   "cell_type": "code",
   "execution_count": 21,
   "metadata": {},
   "outputs": [],
   "source": [
    "# Подготовим таблицы с кумулятивным объемом выручки и кумулятивным количеством заказов по дням в группах А и В:\n",
    "cumulative_revenueA = cumulative_data[cumulative_data['group'] == 'A'][['date','revenue','orders']]\n",
    "cumulative_revenueB = cumulative_data[cumulative_data['group'] == 'B'][['date','revenue','orders']]"
   ]
  },
  {
   "cell_type": "code",
   "execution_count": 22,
   "metadata": {},
   "outputs": [
    {
     "data": {
      "image/png": "[encoded data removed]",
      "text/plain": [
       "<Figure size 1008x504 with 1 Axes>"
      ]
     },
     "metadata": {
      "needs_background": "light"
     },
     "output_type": "display_data"
    }
   ],
   "source": [
    "import warnings\n",
    "warnings.filterwarnings(\"ignore\")\n",
    "\n",
    "# Построим график выручки для групп А и В:\n",
    "fig, ax = plt.subplots(figsize=(14,7))\n",
    "\n",
    "line1 = ax.plot(cumulative_revenueA['date'], \n",
    "                cumulative_revenueA['revenue'], \n",
    "                label = 'A', c = 'blue', lw = 2)\n",
    "\n",
    "line2 = ax.plot(cumulative_revenueB['date'], \n",
    "                 cumulative_revenueB['revenue'], \n",
    "                 label = 'B', c = 'red', lw = 3)\n",
    "\n",
    "plt.legend(loc='best', title = 'Группа', fontsize = 20)\n",
    "plt.grid(axis='both', alpha=.3)\n",
    "plt.title(\"График кумулятивной выручки по дням и группам A/B-тестирования\", fontsize=22)\n",
    "plt.ylabel(\"Выручка\", fontsize = 17)\n",
    "plt.xlabel(\"Дата\", fontsize = 17)\n",
    "plt.xticks(fontsize=12, rotation=30)\n",
    "plt.yticks(fontsize=12)\n",
    "\n",
    "plt.show()"
   ]
  },
  {
   "cell_type": "markdown",
   "metadata": {},
   "source": [
    "---\n",
    "Выручка группы А увеличивается плавно, без резких скачков. В группе В произошел резкий рост выручки \n",
    "19 августа. Это может говорить о всплеске числа заказов или о появлении более дорогих заказов. "
   ]
  },
  {
   "cell_type": "markdown",
   "metadata": {},
   "source": [
    "***2) Построим график кумулятивного среднего чека по группам:***"
   ]
  },
  {
   "cell_type": "code",
   "execution_count": 23,
   "metadata": {},
   "outputs": [
    {
     "data": {
      "image/png": "[encoded data removed]",
      "text/plain": [
       "<Figure size 1008x504 with 1 Axes>"
      ]
     },
     "metadata": {
      "needs_background": "light"
     },
     "output_type": "display_data"
    }
   ],
   "source": [
    "fig, ax = plt.subplots(figsize=(14,7))\n",
    "\n",
    "line1 = ax.plot(cumulative_revenueA['date'], \n",
    "                cumulative_revenueA['revenue'] / cumulative_revenueA['orders'], \n",
    "                label = 'A', c = 'blue', lw = 2)\n",
    "\n",
    "line2 = ax.plot(cumulative_revenueB['date'], \n",
    "                 cumulative_revenueB['revenue'] / cumulative_revenueB['orders'], \n",
    "                 label = 'B', c = 'red', lw = 3)\n",
    "\n",
    "plt.legend(loc='best', title = 'Группа', fontsize = 20)\n",
    "plt.grid(axis='both', alpha=.3)\n",
    "plt.title(\"График кумулятивного среднего чека по дням и группам A/B-тестирования\", fontsize=22)\n",
    "plt.ylabel(\"Средний чек\", fontsize = 17)\n",
    "plt.xlabel(\"Дата\", fontsize = 17)\n",
    "plt.xticks(fontsize=12, rotation=30)\n",
    "plt.yticks(fontsize=12)\n",
    "\n",
    "plt.show()"
   ]
  },
  {
   "cell_type": "markdown",
   "metadata": {},
   "source": [
    "---\n",
    "Средний чек становится более или менее равномерным во второй половине теста. Причем для группы A его размер держится приблизительно на одном уровне. Для группы В размер среднего чека, достигнув пика, постепенно снижается. В конце теста разрыв между средним чеком группы А и группы В составляет около 2000. На протяжении всего теста средний чек группы А превышал средний чек группы В лишь дважды. Как и на предыдущем графике, мы наблюдаем 19 августа резкий скачок показателя в группе В. "
   ]
  },
  {
   "cell_type": "markdown",
   "metadata": {},
   "source": [
    "***3) Построим график относительного изменения кумулятивного среднего чека группы B к группе A:***"
   ]
  },
  {
   "cell_type": "code",
   "execution_count": 24,
   "metadata": {},
   "outputs": [],
   "source": [
    "# Объединим данные в одном датафрейме:\n",
    "merged_сumulative_revenue = cumulative_revenueA.merge(cumulative_revenueB, \n",
    "                                                      left_on='date', \n",
    "                                                      right_on='date', \n",
    "                                                      how='left', \n",
    "                                                      suffixes=['A', 'B'])\n",
    "#merged_сumulative_revenue.head(10)"
   ]
  },
  {
   "cell_type": "code",
   "execution_count": 25,
   "metadata": {},
   "outputs": [
    {
     "data": {
      "image/png": "[encoded data removed]",
      "text/plain": [
       "<Figure size 1008x504 with 1 Axes>"
      ]
     },
     "metadata": {
      "needs_background": "light"
     },
     "output_type": "display_data"
    }
   ],
   "source": [
    "# Поcтроим отношение средних чеков:\n",
    "fig, ax = plt.subplots(figsize=(14,7))\n",
    "\n",
    "line1 = ax.plot(merged_сumulative_revenue['date'], \n",
    "                (merged_сumulative_revenue['revenueB'] / merged_сumulative_revenue['ordersB'])/\n",
    "                (merged_сumulative_revenue['revenueA'] / merged_сumulative_revenue['ordersA']) - 1,\n",
    "                c = 'green', lw = 3)\n",
    "\n",
    "plt.axhline(y=0, linewidth=2, ls = '--', color='black')\n",
    "plt.grid(axis='both', alpha=.3)\n",
    "plt.title(\"График относительного изменения кумулятивного среднего чека группы B к группе A\", fontsize=22)\n",
    "plt.xlabel(\"Дата\", fontsize = 17)\n",
    "plt.xticks(fontsize=12, rotation=30)\n",
    "plt.yticks(fontsize=12)\n",
    "\n",
    "plt.show()"
   ]
  },
  {
   "cell_type": "markdown",
   "metadata": {},
   "source": [
    "---\n",
    "Большую часть наблюдений размер среднего чека группы В превосходил средний чек группы А. Возможно в данных  присутствуют выбросы, так как в некоторых точках график резко меняет свое направление."
   ]
  },
  {
   "cell_type": "markdown",
   "metadata": {},
   "source": [
    "***4) Построим график кумулятивной конверсии по группам:***"
   ]
  },
  {
   "cell_type": "code",
   "execution_count": 26,
   "metadata": {},
   "outputs": [],
   "source": [
    "# Для начала рассчитаем кумулятивную конверсию и разделим данные по группам:\n",
    "cumulative_data['conversion'] = cumulative_data['orders'] / cumulative_data['visitors']\n",
    "\n",
    "cumulative_dataA = cumulative_data[cumulative_data['group'] == 'A']\n",
    "cumulative_dataB = cumulative_data[cumulative_data['group'] == 'B']"
   ]
  },
  {
   "cell_type": "code",
   "execution_count": 27,
   "metadata": {},
   "outputs": [
    {
     "data": {
      "image/png": "[encoded data removed]",
      "text/plain": [
       "<Figure size 1008x504 with 1 Axes>"
      ]
     },
     "metadata": {
      "needs_background": "light"
     },
     "output_type": "display_data"
    }
   ],
   "source": [
    "# Построим график:\n",
    "fig, ax = plt.subplots(figsize=(14,7))\n",
    "\n",
    "line1 = ax.plot(cumulative_dataA['date'], \n",
    "                cumulative_dataA['conversion'], \n",
    "                label = 'A', c = 'blue', lw = 2)\n",
    "\n",
    "line2 = ax.plot(cumulative_dataB['date'], \n",
    "                cumulative_dataB['conversion'], \n",
    "                 label = 'B', c = 'red', lw = 3)\n",
    "\n",
    "plt.legend(loc='best', title = 'Группа', fontsize = 20)\n",
    "plt.grid(axis='both', alpha=.3)\n",
    "plt.title(\"График кумулятивной конверсии\", fontsize=22)\n",
    "plt.ylabel(\"Конверсия\", fontsize = 17)\n",
    "plt.xlabel(\"Дата\", fontsize = 17)\n",
    "plt.xticks(fontsize=12, rotation=30)\n",
    "plt.yticks(fontsize=12)\n",
    "plt.ylim(0.025, 0.0425)\n",
    "plt.show()"
   ]
  },
  {
   "cell_type": "markdown",
   "metadata": {},
   "source": [
    "---\n",
    "Изначально конверсии в обоих группах менялись в одном направлении. Затем конверсия группы В вышла вперед и установилась на одном уровне. Конверсия группы А также зафиксировалась на одном уровне, но на несколько процентов ниже. Это расхождение произошло через несколько дней после начала наблюдений. Возможно изменения, которым подверглась группа В в рамках исследования, имели отложенный эффект."
   ]
  },
  {
   "cell_type": "markdown",
   "metadata": {},
   "source": [
    "<a id = Step2.5-8> </a>\n",
    "\n",
    "***5) Постороим график относительного изменения кумулятивной конверсии группы B к группе A:***\n",
    "\n",
    "- [Начало](#head)\n",
    "- [Часть 1](#Step1)\n",
    "- [Часть 2, вопросы 1-4](#Step2.1-4)\n",
    "- [Часть 2, вопросы 9-11](#Step2.9-11)\n",
    "- [Часть 2, вопросы 12-14](#Step2.12-14)\n",
    "- [3.Вывод](#Step3)"
   ]
  },
  {
   "cell_type": "code",
   "execution_count": 28,
   "metadata": {},
   "outputs": [],
   "source": [
    "# Соединим таблицы с конверсиями двух групп:\n",
    "merged_cumulative_conversions = cumulative_dataA[['date','conversion']]\\\n",
    ".merge(cumulative_dataB[['date','conversion']], \n",
    "       left_on='date', \n",
    "       right_on='date', \n",
    "       how='left', \n",
    "       suffixes=['A', 'B'])\n",
    "#merged_cumulative_conversions.head(6)"
   ]
  },
  {
   "cell_type": "code",
   "execution_count": 29,
   "metadata": {},
   "outputs": [
    {
     "data": {
      "image/png": "[encoded data removed]",
      "text/plain": [
       "<Figure size 1008x504 with 1 Axes>"
      ]
     },
     "metadata": {
      "needs_background": "light"
     },
     "output_type": "display_data"
    }
   ],
   "source": [
    "# Построим график:\n",
    "fig, ax = plt.subplots(figsize=(14,7))\n",
    "\n",
    "line1 = ax.plot(merged_cumulative_conversions['date'], \n",
    "                merged_cumulative_conversions['conversionB'] / merged_cumulative_conversions['conversionA'] - 1,\n",
    "                c = 'green', lw = 3)\n",
    "\n",
    "plt.axhline(y=0, linewidth=2, ls = '--', color='black')\n",
    "plt.grid(axis='both', alpha=.3)\n",
    "plt.title(\"График относительного изменения кумулятивной конверсии группы B к группе A\", fontsize=22)\n",
    "plt.xlabel(\"Дата\", fontsize = 17)\n",
    "plt.xticks(fontsize=12, rotation=30)\n",
    "plt.yticks(fontsize=12)\n",
    "plt.ylim(-0.15, 0.3)\n",
    "plt.show()"
   ]
  },
  {
   "cell_type": "markdown",
   "metadata": {},
   "source": [
    "---\n",
    "Большую часть наблюдений конвесия в группе В превосходила конверсию в группе А. Только в начале теста всего несколько дней конверсия группы А была лучше. "
   ]
  },
  {
   "cell_type": "markdown",
   "metadata": {},
   "source": [
    "***6) Построим точечный график количества заказов по пользователям:***"
   ]
  },
  {
   "cell_type": "code",
   "execution_count": 30,
   "metadata": {},
   "outputs": [
    {
     "data": {
      "text/html": [
       "<div>\n",
       "<style scoped>\n",
       "    .dataframe tbody tr th:only-of-type {\n",
       "        vertical-align: middle;\n",
       "    }\n",
       "\n",
       "    .dataframe tbody tr th {\n",
       "        vertical-align: top;\n",
       "    }\n",
       "\n",
       "    .dataframe thead th {\n",
       "        text-align: right;\n",
       "    }\n",
       "</style>\n",
       "<table border=\"1\" class=\"dataframe\">\n",
       "  <thead>\n",
       "    <tr style=\"text-align: right;\">\n",
       "      <th></th>\n",
       "      <th>userid</th>\n",
       "      <th>orders</th>\n",
       "    </tr>\n",
       "  </thead>\n",
       "  <tbody>\n",
       "    <tr>\n",
       "      <th>1023</th>\n",
       "      <td>4256040402</td>\n",
       "      <td>11</td>\n",
       "    </tr>\n",
       "    <tr>\n",
       "      <th>591</th>\n",
       "      <td>2458001652</td>\n",
       "      <td>11</td>\n",
       "    </tr>\n",
       "    <tr>\n",
       "      <th>569</th>\n",
       "      <td>2378935119</td>\n",
       "      <td>9</td>\n",
       "    </tr>\n",
       "    <tr>\n",
       "      <th>487</th>\n",
       "      <td>2038680547</td>\n",
       "      <td>8</td>\n",
       "    </tr>\n",
       "    <tr>\n",
       "      <th>44</th>\n",
       "      <td>199603092</td>\n",
       "      <td>5</td>\n",
       "    </tr>\n",
       "    <tr>\n",
       "      <th>744</th>\n",
       "      <td>3062433592</td>\n",
       "      <td>5</td>\n",
       "    </tr>\n",
       "    <tr>\n",
       "      <th>55</th>\n",
       "      <td>237748145</td>\n",
       "      <td>5</td>\n",
       "    </tr>\n",
       "    <tr>\n",
       "      <th>917</th>\n",
       "      <td>3803269165</td>\n",
       "      <td>5</td>\n",
       "    </tr>\n",
       "    <tr>\n",
       "      <th>299</th>\n",
       "      <td>1230306981</td>\n",
       "      <td>5</td>\n",
       "    </tr>\n",
       "    <tr>\n",
       "      <th>897</th>\n",
       "      <td>3717692402</td>\n",
       "      <td>5</td>\n",
       "    </tr>\n",
       "  </tbody>\n",
       "</table>\n",
       "</div>"
      ],
      "text/plain": [
       "          userid  orders\n",
       "1023  4256040402      11\n",
       "591   2458001652      11\n",
       "569   2378935119       9\n",
       "487   2038680547       8\n",
       "44     199603092       5\n",
       "744   3062433592       5\n",
       "55     237748145       5\n",
       "917   3803269165       5\n",
       "299   1230306981       5\n",
       "897   3717692402       5"
      ]
     },
     "execution_count": 30,
     "metadata": {},
     "output_type": "execute_result"
    }
   ],
   "source": [
    "# Подготвим таблицу с количеством заказов каждого пользователя:\n",
    "orders_by_users = orders.groupby('visitorid', as_index=False).agg({'transactionid': pd.Series.nunique})\n",
    "orders_by_users.columns = ['userid', 'orders']\n",
    "orders_by_users.sort_values(by = 'orders', ascending = False).head(10)"
   ]
  },
  {
   "cell_type": "code",
   "execution_count": 31,
   "metadata": {
    "scrolled": true
   },
   "outputs": [
    {
     "data": {
      "image/png": "[encoded data removed]",
      "text/plain": [
       "<Figure size 432x288 with 1 Axes>"
      ]
     },
     "metadata": {
      "needs_background": "light"
     },
     "output_type": "display_data"
    }
   ],
   "source": [
    "# Построим точечную диаграмму числа заказов на одного пользователя: \n",
    "x_values = pd.Series(range(0,len(orders_by_users)))\n",
    "plt.scatter(x_values, orders_by_users['orders'], c = 'black', alpha = 0.5)\n",
    "ytick_location = range(0,12,1)\n",
    "plt.yticks(ticks=ytick_location)\n",
    "plt.title(\"График количества заказов по пользователям\", fontsize=18)\n",
    "plt.xlabel(\"Пользователи\", fontsize = 13)\n",
    "plt.ylabel(\"Количество заказов\", fontsize = 13)\n",
    "plt.show()"
   ]
  },
  {
   "cell_type": "markdown",
   "metadata": {},
   "source": [
    "---\n",
    "Большинство покупателей заказывали только один раз. Число пользователей с 2-5 заказами тоже значительно, но пока непонятно какую долю они составляют. "
   ]
  },
  {
   "cell_type": "markdown",
   "metadata": {},
   "source": [
    "***7) Рассчитаем 95-й и 99-й перцентили количества заказов на пользователя. Выберем границу для определения аномальных пользователей:***"
   ]
  },
  {
   "cell_type": "code",
   "execution_count": 32,
   "metadata": {},
   "outputs": [
    {
     "data": {
      "text/plain": [
       "array([2., 4.])"
      ]
     },
     "execution_count": 32,
     "metadata": {},
     "output_type": "execute_result"
    }
   ],
   "source": [
    "np.percentile(orders_by_users['orders'], [95, 99])"
   ]
  },
  {
   "cell_type": "markdown",
   "metadata": {},
   "source": [
    "---\n",
    "Не более 5% пользователей оформляли больше чем 2 заказа. 1% пользователей заказывали более четырех раз.\n",
    "Выберем 3 заказа на одного пользователя верхней границей числа заказов. Всех остальных пользователей отсеим как аномальных."
   ]
  },
  {
   "cell_type": "markdown",
   "metadata": {},
   "source": [
    "***8) Построим точечный график стоимостей заказов:***"
   ]
  },
  {
   "cell_type": "code",
   "execution_count": 33,
   "metadata": {},
   "outputs": [
    {
     "data": {
      "image/png": "[encoded data removed]",
      "text/plain": [
       "<Figure size 504x720 with 1 Axes>"
      ]
     },
     "metadata": {
      "needs_background": "light"
     },
     "output_type": "display_data"
    }
   ],
   "source": [
    "fig, ax = plt.subplots(figsize=(7,10))\n",
    "\n",
    "x_values = pd.Series(range(0,len(orders[orders['revenue'] < 200000])))\n",
    "line1 = ax.scatter(x_values, orders[orders['revenue'] < 200000]['revenue'], c = 'black', alpha = 0.5)\n",
    "\n",
    "ytick_location = range(0,100000,10000)\n",
    "plt.yticks(ticks=ytick_location)\n",
    "plt.title(\"График стоимостей заказов\", fontsize=18)\n",
    "plt.xlabel(\"Заказы\", fontsize = 13)\n",
    "plt.ylabel(\"Сумма заказа\", fontsize = 13)\n",
    "plt.show()"
   ]
  },
  {
   "cell_type": "markdown",
   "metadata": {},
   "source": [
    "---\n",
    "Из-за наличия в данных больших заказов, чтобы увидеть картину более детально, пришлось ограничить максимальную сумму заказа. \n",
    "\n",
    "На графике видим, что основная масса заказов сосредоточена в диапазоне до 20000. "
   ]
  },
  {
   "cell_type": "markdown",
   "metadata": {},
   "source": [
    "<a id = Step2.9-11> </a>\n",
    "***9) Рассчитаем 95-й и 99-й перцентили стоимости заказов и выберем границу для определения аномальных заказов:***\n",
    "\n",
    "\n",
    "\n",
    "- [Начало](#head)\n",
    "- [Часть 1](#Step1)\n",
    "- [Часть 2, вопросы 1-4](#Step2.1-4)\n",
    "- [Часть 2, вопросы 5-8](#Step2.5-8)\n",
    "- [Часть 2, вопросы 12-14](#Step2.12-14)\n",
    "- [3.Вывод](#Step3)"
   ]
  },
  {
   "cell_type": "code",
   "execution_count": 34,
   "metadata": {},
   "outputs": [
    {
     "data": {
      "text/plain": [
       "array([28000. , 58233.2])"
      ]
     },
     "execution_count": 34,
     "metadata": {},
     "output_type": "execute_result"
    }
   ],
   "source": [
    "np.percentile(orders['revenue'], [95, 99])"
   ]
  },
  {
   "cell_type": "markdown",
   "metadata": {},
   "source": [
    "---\n",
    "Не более 5% заказов дороже 28000 рублей и не более 1% дороже 58233,2 рублей. Определим границей аномальных заказов  покупки на сумму свыше 40000 рублей. "
   ]
  },
  {
   "cell_type": "markdown",
   "metadata": {},
   "source": [
    "***10) Рассчитаем статистическую значимость различий в конверсии между группами по «сырым» данным:***"
   ]
  },
  {
   "cell_type": "code",
   "execution_count": 35,
   "metadata": {},
   "outputs": [],
   "source": [
    "# Сформируем таблицу посещений и кумулятивную таблицу посещений для группы А:\n",
    "visitors_dailyA = visitors[visitors['group']=='A'][['date', 'visitors']]\n",
    "visitors_dailyA.columns = ['date', 'visitors_per_dateA']\n",
    "\n",
    "visitors_cummulativeA = visitors_dailyA.apply(lambda x: \n",
    "                                              visitors_dailyA[visitors_dailyA['date'] <= x['date']] \\\n",
    "                                              .agg({'date' : 'max', 'visitors_per_dateA' : 'sum'}), \n",
    "                                              axis=1)\n",
    "visitors_cummulativeA.columns = ['date', 'visitors_cummulativeA']"
   ]
  },
  {
   "cell_type": "code",
   "execution_count": 36,
   "metadata": {},
   "outputs": [],
   "source": [
    "# Сформируем таблицу посещений и кумулятивную таблицу посещений для группы В:\n",
    "visitors_dailyB = visitors[visitors['group']=='B'][['date', 'visitors']]\n",
    "visitors_dailyB.columns = ['date', 'visitors_per_dateB']\n",
    "\n",
    "visitors_cummulativeB = visitors_dailyB.apply(lambda x: \n",
    "                                              visitors_dailyB[visitors_dailyB['date'] <= x['date']] \\\n",
    "                                              .agg({'date' : 'max', 'visitors_per_dateB' : 'sum'}), \n",
    "                                              axis=1)\n",
    "visitors_cummulativeB.columns = ['date', 'visitors_cummulativeB']"
   ]
  },
  {
   "cell_type": "code",
   "execution_count": 37,
   "metadata": {},
   "outputs": [],
   "source": [
    "# Сформируем таблицу заказов и кумулятивную таблицу заказов для группы А:\n",
    "orders_dailyA = orders[orders['group']=='A'][['date', 'transactionid', 'visitorid', 'revenue']]\\\n",
    "    .groupby('date', as_index=False).agg({'transactionid' : pd.Series.nunique, 'revenue' : 'sum'})\n",
    "orders_dailyA.columns = ['date', 'orders_per_dateA', 'revenue_per_dateA']\n",
    "\n",
    "orders_cummulativeA = orders_dailyA.apply(lambda x: orders_dailyA[orders_dailyA['date'] <= x['date']]\\\n",
    "            .agg({'date' : 'max',\n",
    "                  'orders_per_dateA' : 'sum',\n",
    "                  'revenue_per_dateA' : 'sum'}), axis=1).sort_values(by=['date'])\n",
    "orders_cummulativeA.columns = ['date', 'orders_cummulativeA', 'revenue_cummulativeA']"
   ]
  },
  {
   "cell_type": "code",
   "execution_count": 38,
   "metadata": {},
   "outputs": [],
   "source": [
    "# Сформируем таблицу заказов и кумулятивную таблицу заказов для группы В:\n",
    "orders_dailyB = orders[orders['group']=='B'][['date', 'transactionid', 'visitorid', 'revenue']]\\\n",
    "    .groupby('date', as_index=False).agg({'transactionid' : pd.Series.nunique, 'revenue' : 'sum'})\n",
    "orders_dailyB.columns = ['date', 'orders_per_dateB', 'revenue_per_dateB']\n",
    "\n",
    "orders_cummulativeB = orders_dailyB.apply(lambda x: orders_dailyB[orders_dailyB['date'] <= x['date']]\\\n",
    "            .agg({'date' : 'max',\n",
    "                  'orders_per_dateB' : 'sum',\n",
    "                  'revenue_per_dateB' : 'sum'}), axis=1).sort_values(by=['date'])\n",
    "orders_cummulativeB.columns = ['date', 'orders_cummulativeB', 'revenue_cummulativeB']"
   ]
  },
  {
   "cell_type": "code",
   "execution_count": 39,
   "metadata": {},
   "outputs": [
    {
     "data": {
      "text/html": [
       "<div>\n",
       "<style scoped>\n",
       "    .dataframe tbody tr th:only-of-type {\n",
       "        vertical-align: middle;\n",
       "    }\n",
       "\n",
       "    .dataframe tbody tr th {\n",
       "        vertical-align: top;\n",
       "    }\n",
       "\n",
       "    .dataframe thead th {\n",
       "        text-align: right;\n",
       "    }\n",
       "</style>\n",
       "<table border=\"1\" class=\"dataframe\">\n",
       "  <thead>\n",
       "    <tr style=\"text-align: right;\">\n",
       "      <th></th>\n",
       "      <th>date</th>\n",
       "      <th>orders_per_dateA</th>\n",
       "      <th>revenue_per_dateA</th>\n",
       "      <th>orders_per_dateB</th>\n",
       "      <th>revenue_per_dateB</th>\n",
       "      <th>orders_cummulativeA</th>\n",
       "      <th>revenue_cummulativeA</th>\n",
       "      <th>orders_cummulativeB</th>\n",
       "      <th>revenue_cummulativeB</th>\n",
       "      <th>visitors_per_dateA</th>\n",
       "      <th>visitors_per_dateB</th>\n",
       "      <th>visitors_cummulativeA</th>\n",
       "      <th>visitors_cummulativeB</th>\n",
       "    </tr>\n",
       "  </thead>\n",
       "  <tbody>\n",
       "    <tr>\n",
       "      <th>24</th>\n",
       "      <td>2019-08-25</td>\n",
       "      <td>10</td>\n",
       "      <td>68634</td>\n",
       "      <td>14</td>\n",
       "      <td>102862</td>\n",
       "      <td>451</td>\n",
       "      <td>3070704</td>\n",
       "      <td>507</td>\n",
       "      <td>4901584</td>\n",
       "      <td>621</td>\n",
       "      <td>679</td>\n",
       "      <td>14943</td>\n",
       "      <td>15127</td>\n",
       "    </tr>\n",
       "    <tr>\n",
       "      <th>20</th>\n",
       "      <td>2019-08-21</td>\n",
       "      <td>23</td>\n",
       "      <td>174309</td>\n",
       "      <td>14</td>\n",
       "      <td>163077</td>\n",
       "      <td>385</td>\n",
       "      <td>2643838</td>\n",
       "      <td>437</td>\n",
       "      <td>4426892</td>\n",
       "      <td>646</td>\n",
       "      <td>656</td>\n",
       "      <td>12850</td>\n",
       "      <td>12874</td>\n",
       "    </tr>\n",
       "    <tr>\n",
       "      <th>28</th>\n",
       "      <td>2019-08-29</td>\n",
       "      <td>22</td>\n",
       "      <td>320690</td>\n",
       "      <td>20</td>\n",
       "      <td>231130</td>\n",
       "      <td>534</td>\n",
       "      <td>3936510</td>\n",
       "      <td>596</td>\n",
       "      <td>5559398</td>\n",
       "      <td>577</td>\n",
       "      <td>531</td>\n",
       "      <td>17547</td>\n",
       "      <td>17708</td>\n",
       "    </tr>\n",
       "    <tr>\n",
       "      <th>18</th>\n",
       "      <td>2019-08-19</td>\n",
       "      <td>22</td>\n",
       "      <td>189743</td>\n",
       "      <td>21</td>\n",
       "      <td>1429920</td>\n",
       "      <td>350</td>\n",
       "      <td>2391910</td>\n",
       "      <td>403</td>\n",
       "      <td>4116541</td>\n",
       "      <td>502</td>\n",
       "      <td>487</td>\n",
       "      <td>11629</td>\n",
       "      <td>11658</td>\n",
       "    </tr>\n",
       "    <tr>\n",
       "      <th>17</th>\n",
       "      <td>2019-08-18</td>\n",
       "      <td>17</td>\n",
       "      <td>72398</td>\n",
       "      <td>9</td>\n",
       "      <td>65831</td>\n",
       "      <td>328</td>\n",
       "      <td>2202167</td>\n",
       "      <td>382</td>\n",
       "      <td>2686621</td>\n",
       "      <td>668</td>\n",
       "      <td>737</td>\n",
       "      <td>11127</td>\n",
       "      <td>11171</td>\n",
       "    </tr>\n",
       "    <tr>\n",
       "      <th>19</th>\n",
       "      <td>2019-08-20</td>\n",
       "      <td>12</td>\n",
       "      <td>77619</td>\n",
       "      <td>20</td>\n",
       "      <td>147274</td>\n",
       "      <td>362</td>\n",
       "      <td>2469529</td>\n",
       "      <td>423</td>\n",
       "      <td>4263815</td>\n",
       "      <td>575</td>\n",
       "      <td>560</td>\n",
       "      <td>12204</td>\n",
       "      <td>12218</td>\n",
       "    </tr>\n",
       "    <tr>\n",
       "      <th>5</th>\n",
       "      <td>2019-08-06</td>\n",
       "      <td>18</td>\n",
       "      <td>48484</td>\n",
       "      <td>28</td>\n",
       "      <td>242342</td>\n",
       "      <td>127</td>\n",
       "      <td>598401</td>\n",
       "      <td>129</td>\n",
       "      <td>824337</td>\n",
       "      <td>667</td>\n",
       "      <td>655</td>\n",
       "      <td>3985</td>\n",
       "      <td>3935</td>\n",
       "    </tr>\n",
       "    <tr>\n",
       "      <th>10</th>\n",
       "      <td>2019-08-11</td>\n",
       "      <td>13</td>\n",
       "      <td>77585</td>\n",
       "      <td>13</td>\n",
       "      <td>53310</td>\n",
       "      <td>206</td>\n",
       "      <td>1313683</td>\n",
       "      <td>241</td>\n",
       "      <td>1592513</td>\n",
       "      <td>718</td>\n",
       "      <td>721</td>\n",
       "      <td>6980</td>\n",
       "      <td>6998</td>\n",
       "    </tr>\n",
       "    <tr>\n",
       "      <th>25</th>\n",
       "      <td>2019-08-26</td>\n",
       "      <td>16</td>\n",
       "      <td>157214</td>\n",
       "      <td>25</td>\n",
       "      <td>182999</td>\n",
       "      <td>467</td>\n",
       "      <td>3227918</td>\n",
       "      <td>532</td>\n",
       "      <td>5084583</td>\n",
       "      <td>722</td>\n",
       "      <td>676</td>\n",
       "      <td>15665</td>\n",
       "      <td>15803</td>\n",
       "    </tr>\n",
       "    <tr>\n",
       "      <th>12</th>\n",
       "      <td>2019-08-13</td>\n",
       "      <td>14</td>\n",
       "      <td>263638</td>\n",
       "      <td>21</td>\n",
       "      <td>119671</td>\n",
       "      <td>244</td>\n",
       "      <td>1826511</td>\n",
       "      <td>285</td>\n",
       "      <td>1853738</td>\n",
       "      <td>748</td>\n",
       "      <td>769</td>\n",
       "      <td>8323</td>\n",
       "      <td>8310</td>\n",
       "    </tr>\n",
       "  </tbody>\n",
       "</table>\n",
       "</div>"
      ],
      "text/plain": [
       "         date  orders_per_dateA  revenue_per_dateA  orders_per_dateB  \\\n",
       "24 2019-08-25                10              68634                14   \n",
       "20 2019-08-21                23             174309                14   \n",
       "28 2019-08-29                22             320690                20   \n",
       "18 2019-08-19                22             189743                21   \n",
       "17 2019-08-18                17              72398                 9   \n",
       "19 2019-08-20                12              77619                20   \n",
       "5  2019-08-06                18              48484                28   \n",
       "10 2019-08-11                13              77585                13   \n",
       "25 2019-08-26                16             157214                25   \n",
       "12 2019-08-13                14             263638                21   \n",
       "\n",
       "    revenue_per_dateB  orders_cummulativeA  revenue_cummulativeA  \\\n",
       "24             102862                  451               3070704   \n",
       "20             163077                  385               2643838   \n",
       "28             231130                  534               3936510   \n",
       "18            1429920                  350               2391910   \n",
       "17              65831                  328               2202167   \n",
       "19             147274                  362               2469529   \n",
       "5              242342                  127                598401   \n",
       "10              53310                  206               1313683   \n",
       "25             182999                  467               3227918   \n",
       "12             119671                  244               1826511   \n",
       "\n",
       "    orders_cummulativeB  revenue_cummulativeB  visitors_per_dateA  \\\n",
       "24                  507               4901584                 621   \n",
       "20                  437               4426892                 646   \n",
       "28                  596               5559398                 577   \n",
       "18                  403               4116541                 502   \n",
       "17                  382               2686621                 668   \n",
       "19                  423               4263815                 575   \n",
       "5                   129                824337                 667   \n",
       "10                  241               1592513                 718   \n",
       "25                  532               5084583                 722   \n",
       "12                  285               1853738                 748   \n",
       "\n",
       "    visitors_per_dateB  visitors_cummulativeA  visitors_cummulativeB  \n",
       "24                 679                  14943                  15127  \n",
       "20                 656                  12850                  12874  \n",
       "28                 531                  17547                  17708  \n",
       "18                 487                  11629                  11658  \n",
       "17                 737                  11127                  11171  \n",
       "19                 560                  12204                  12218  \n",
       "5                  655                   3985                   3935  \n",
       "10                 721                   6980                   6998  \n",
       "25                 676                  15665                  15803  \n",
       "12                 769                   8323                   8310  "
      ]
     },
     "execution_count": 39,
     "metadata": {},
     "output_type": "execute_result"
    }
   ],
   "source": [
    "# Объединим все сформированные таблицы в одну:\n",
    "data = orders_dailyA.merge(orders_dailyB, left_on='date', right_on='date', how='left')\\\n",
    "    .merge(orders_cummulativeA, left_on='date', right_on='date', how='left')\\\n",
    "    .merge(orders_cummulativeB, left_on='date', right_on='date', how='left')\\\n",
    "    .merge(visitors_dailyA, left_on='date', right_on='date', how='left')\\\n",
    "    .merge(visitors_dailyB, left_on='date', right_on='date', how='left')\\\n",
    "    .merge(visitors_cummulativeA, left_on='date', right_on='date', how='left')\\\n",
    "    .merge(visitors_cummulativeB, left_on='date', right_on='date', how='left')\n",
    "data.sample(10)"
   ]
  },
  {
   "cell_type": "code",
   "execution_count": 40,
   "metadata": {},
   "outputs": [],
   "source": [
    "# Создадим переменные для пользователей обеих групп и укажем число совершённых заказов:\n",
    "\n",
    "orders_by_usersA = orders[orders['group']=='A']\\\n",
    "    .groupby('visitorid', as_index=False)\\\n",
    "    .agg({'transactionid' : pd.Series.nunique})\n",
    "orders_by_usersA.columns = ['visitorid', 'orders']\n",
    "\n",
    "orders_by_usersB = orders[orders['group']=='B']\\\n",
    "    .groupby('visitorid', as_index=False)\\\n",
    "    .agg({'transactionid' : pd.Series.nunique})\n",
    "orders_by_usersB.columns = ['visitorid', 'orders']"
   ]
  },
  {
   "cell_type": "code",
   "execution_count": 41,
   "metadata": {},
   "outputs": [],
   "source": [
    "sampleA = pd.concat([orders_by_usersA['orders'], pd.Series(0, index=np.arange(data['visitors_per_dateA'].sum() - \n",
    "                                                  len(orders_by_usersA['orders'])), \n",
    "                               name='orders')],axis=0)\n",
    "\n",
    "sampleB = pd.concat([orders_by_usersB['orders'], pd.Series(0, index=np.arange(data['visitors_per_dateB'].sum() - \n",
    "                                                  len(orders_by_usersB['orders'])), \n",
    "                               name='orders')],axis=0)"
   ]
  },
  {
   "cell_type": "code",
   "execution_count": 42,
   "metadata": {},
   "outputs": [
    {
     "data": {
      "text/html": [
       "<div>\n",
       "<style scoped>\n",
       "    .dataframe tbody tr th:only-of-type {\n",
       "        vertical-align: middle;\n",
       "    }\n",
       "\n",
       "    .dataframe tbody tr th {\n",
       "        vertical-align: top;\n",
       "    }\n",
       "\n",
       "    .dataframe thead th {\n",
       "        text-align: right;\n",
       "    }\n",
       "</style>\n",
       "<table border=\"1\" class=\"dataframe\">\n",
       "  <thead>\n",
       "    <tr style=\"text-align: right;\">\n",
       "      <th></th>\n",
       "      <th>visitorid</th>\n",
       "      <th>orders</th>\n",
       "    </tr>\n",
       "  </thead>\n",
       "  <tbody>\n",
       "    <tr>\n",
       "      <th>0</th>\n",
       "      <td>5114589</td>\n",
       "      <td>1</td>\n",
       "    </tr>\n",
       "    <tr>\n",
       "      <th>1</th>\n",
       "      <td>6958315</td>\n",
       "      <td>1</td>\n",
       "    </tr>\n",
       "    <tr>\n",
       "      <th>2</th>\n",
       "      <td>8300375</td>\n",
       "      <td>1</td>\n",
       "    </tr>\n",
       "    <tr>\n",
       "      <th>3</th>\n",
       "      <td>39475350</td>\n",
       "      <td>1</td>\n",
       "    </tr>\n",
       "    <tr>\n",
       "      <th>4</th>\n",
       "      <td>47206413</td>\n",
       "      <td>1</td>\n",
       "    </tr>\n",
       "    <tr>\n",
       "      <th>...</th>\n",
       "      <td>...</td>\n",
       "      <td>...</td>\n",
       "    </tr>\n",
       "    <tr>\n",
       "      <th>581</th>\n",
       "      <td>4258103007</td>\n",
       "      <td>1</td>\n",
       "    </tr>\n",
       "    <tr>\n",
       "      <th>582</th>\n",
       "      <td>4266935830</td>\n",
       "      <td>1</td>\n",
       "    </tr>\n",
       "    <tr>\n",
       "      <th>583</th>\n",
       "      <td>4279090005</td>\n",
       "      <td>1</td>\n",
       "    </tr>\n",
       "    <tr>\n",
       "      <th>584</th>\n",
       "      <td>4281247801</td>\n",
       "      <td>1</td>\n",
       "    </tr>\n",
       "    <tr>\n",
       "      <th>585</th>\n",
       "      <td>4283872382</td>\n",
       "      <td>1</td>\n",
       "    </tr>\n",
       "  </tbody>\n",
       "</table>\n",
       "<p>586 rows × 2 columns</p>\n",
       "</div>"
      ],
      "text/plain": [
       "      visitorid  orders\n",
       "0       5114589       1\n",
       "1       6958315       1\n",
       "2       8300375       1\n",
       "3      39475350       1\n",
       "4      47206413       1\n",
       "..          ...     ...\n",
       "581  4258103007       1\n",
       "582  4266935830       1\n",
       "583  4279090005       1\n",
       "584  4281247801       1\n",
       "585  4283872382       1\n",
       "\n",
       "[586 rows x 2 columns]"
      ]
     },
     "execution_count": 42,
     "metadata": {},
     "output_type": "execute_result"
    }
   ],
   "source": [
    "orders_by_usersB"
   ]
  },
  {
   "cell_type": "markdown",
   "metadata": {},
   "source": [
    "Перед рассчетом статистической значимости сформулируем нулевую и альтернативную гипотезы:\n",
    "- Н0: Конверсии между группами А и В одинаковые. \n",
    "- Н1: Конверсия группы А отличается от конверсии группы В."
   ]
  },
  {
   "cell_type": "code",
   "execution_count": 43,
   "metadata": {},
   "outputs": [
    {
     "name": "stdout",
     "output_type": "stream",
     "text": [
      "0.008\n",
      "0.138\n"
     ]
    }
   ],
   "source": [
    "# Рассчитаем статистическую значимость различия конверсии между группами:\n",
    "\n",
    "print(\"{0:.3f}\".format(stats.mannwhitneyu(sampleA, sampleB)[1]))\n",
    "\n",
    "print(\"{0:.3f}\".format((data['orders_per_dateB'].sum()/ data['visitors_per_dateB'].sum())/\n",
    "                       (data['orders_per_dateA'].sum()/ data['visitors_per_dateA'].sum())-1))"
   ]
  },
  {
   "cell_type": "markdown",
   "metadata": {},
   "source": [
    "---\n",
    "Р-value меньше уровня значимости, поэтому нулевую гипотезу отвергаем. Это значит что в конверсии между группами есть статистически значимые различия. Относительный прирост конверсии группы В к группе А равен 13.8%."
   ]
  },
  {
   "cell_type": "markdown",
   "metadata": {},
   "source": [
    "***11) Рассчитаем статистическую значимость различий в среднем чеке заказа между группами по «сырым» данным:***"
   ]
  },
  {
   "cell_type": "markdown",
   "metadata": {},
   "source": [
    "Сформулируем гипотезы:\n",
    "- **Нулевая гипотеза:** Средние чеки покупателей групп А и В равны. \n",
    "- **Альтернативная гипотеза:** Средний чек покупателей из группы А не равен среднему чеку покупателей из группы В."
   ]
  },
  {
   "cell_type": "code",
   "execution_count": 44,
   "metadata": {},
   "outputs": [
    {
     "name": "stdout",
     "output_type": "stream",
     "text": [
      "0.365\n",
      "0.259\n"
     ]
    }
   ],
   "source": [
    "print(\"{0:.3f}\".format(stats.mannwhitneyu(orders[orders['group']=='A']['revenue'], \n",
    "                                          orders[orders['group']=='B']['revenue'])[1]))\n",
    "\n",
    "print(\"{0:.3f}\".format(orders[orders['group']=='B']['revenue'].mean()/ \\\n",
    "                       orders[orders['group']=='A']['revenue'].mean()-1))"
   ]
  },
  {
   "cell_type": "markdown",
   "metadata": {},
   "source": [
    "---\n",
    "P-value значительно больше 0.05. Значит, причин отвергать нулевую гипотезу и считать, что в среднем чеке есть различия, нет. Также средний чек группы B выше среднего чека группы A почти на 26%."
   ]
  },
  {
   "cell_type": "markdown",
   "metadata": {},
   "source": [
    "<a id = Step2.12-14> </a>\n",
    "***12) Рассчитаем статистическую значимость различий в конверсии между группами по «очищенным» данным:***\n",
    "\n",
    "\n",
    "- [Начало](#head)\n",
    "- [Часть 1](#Step1)\n",
    "- [Часть 2, вопросы 1-4](#Step2.1-4)\n",
    "- [Часть 2, вопросы 5-8](#Step2.5-8)\n",
    "- [Часть 2, вопросы 9-11](#Step2.9-11)\n",
    "- [3.Вывод](#Step3)"
   ]
  },
  {
   "cell_type": "markdown",
   "metadata": {},
   "source": [
    "Для решения этой задачи потребуется выделить аномальных пользователей. Ранее мы определии, что выбросами можно считать пользователей совершивших более 3 заказов, а также совершивших покупку на сумму свыше 40000 рублей."
   ]
  },
  {
   "cell_type": "code",
   "execution_count": 45,
   "metadata": {},
   "outputs": [
    {
     "data": {
      "text/plain": [
       "(34,)"
      ]
     },
     "execution_count": 45,
     "metadata": {},
     "output_type": "execute_result"
    }
   ],
   "source": [
    "users_many_orders = pd.concat([orders_by_usersA[orders_by_usersA['orders'] > 3]['visitorid'], \n",
    "                                 orders_by_usersB[orders_by_usersB['orders'] > 3]['visitorid']], axis = 0)\n",
    "\n",
    "users_expensive_orders = orders[orders['revenue'] > 40000]['visitorid']\n",
    "\n",
    "abnormal_users = pd.concat([users_many_orders, users_expensive_orders], axis = 0)\\\n",
    "    .drop_duplicates().sort_values()\n",
    "abnormal_users.shape"
   ]
  },
  {
   "cell_type": "markdown",
   "metadata": {},
   "source": [
    "Найдено 34 аномальных пользователя."
   ]
  },
  {
   "cell_type": "code",
   "execution_count": 46,
   "metadata": {},
   "outputs": [],
   "source": [
    "# Подготовим очищенные данные:\n",
    "sampleA_filtered = pd.concat([orders_by_usersA[np.logical_not(orders_by_usersA['visitorid']\\\n",
    "                                                              .isin(abnormal_users))]['orders'],\n",
    "                              pd.Series(0, index=np.arange(data['visitors_per_dateA'].sum() - \n",
    "                                                           len(orders_by_usersA['orders'])),name='orders')],\n",
    "                             axis=0)\n",
    "\n",
    "sampleB_filtered = pd.concat([orders_by_usersB[np.logical_not(orders_by_usersB['visitorid']\\\n",
    "                                                              .isin(abnormal_users))]['orders'],\n",
    "                              pd.Series(0, index=np.arange(data['visitors_per_dateB'].sum() - \n",
    "                                                           len(orders_by_usersB['orders'])),name='orders')],\n",
    "                             axis=0)"
   ]
  },
  {
   "cell_type": "markdown",
   "metadata": {},
   "source": [
    "**<font color=\"blue\"> Гипотезы, сформулированные ранее остаются в силе.</font>**"
   ]
  },
  {
   "cell_type": "code",
   "execution_count": 47,
   "metadata": {},
   "outputs": [
    {
     "name": "stdout",
     "output_type": "stream",
     "text": [
      "0.005\n",
      "0.164\n"
     ]
    }
   ],
   "source": [
    "# Применим статистический критерий Манна-Уитни к полученным выборкам:\n",
    "print(\"{0:.3f}\".format(stats.mannwhitneyu(sampleA_filtered, sampleB_filtered)[1]))\n",
    "\n",
    "print(\"{0:.3f}\".format(sampleB_filtered.mean()/sampleA_filtered.mean()-1))"
   ]
  },
  {
   "cell_type": "markdown",
   "metadata": {},
   "source": [
    "---\n",
    "Мы по-прежнему отвергаем нулевую гипотезу о равенстве - конверсии между группами разные. Относительный прирост конверсии группы В к группе А увеличился до 16.4%."
   ]
  },
  {
   "cell_type": "markdown",
   "metadata": {},
   "source": [
    "***13) Рассчитаем статистическую значимость различий в среднем чеке заказа между группами по «очищенным» данным.***"
   ]
  },
  {
   "cell_type": "markdown",
   "metadata": {},
   "source": [
    "**Гипотезы, сформулированные ранее остаются в силе.**"
   ]
  },
  {
   "cell_type": "code",
   "execution_count": 48,
   "metadata": {},
   "outputs": [
    {
     "name": "stdout",
     "output_type": "stream",
     "text": [
      "0.355\n",
      "0.060\n"
     ]
    }
   ],
   "source": [
    "print(\"{0:.3f}\".format(stats.mannwhitneyu(\n",
    "    orders[np.logical_and(orders['group']=='A', \n",
    "                          np.logical_not(orders['visitorid'].isin(abnormal_users)))]['revenue'],\n",
    "    orders[np.logical_and(orders['group']=='B', \n",
    "                          np.logical_not(orders['visitorid'].isin(abnormal_users)))]['revenue'])[1]))\n",
    "\n",
    "print(\"{0:.3f}\".format(\n",
    "    orders[np.logical_and(orders['group']=='B', np.logical_not(orders['visitorid']\\\n",
    "                                                               .isin(abnormal_users)))]['revenue'].mean()/\n",
    "    orders[np.logical_and(orders['group']=='A', np.logical_not(orders['visitorid']\\\n",
    "                                                               .isin(abnormal_users)))]['revenue'].mean() - 1))"
   ]
  },
  {
   "cell_type": "markdown",
   "metadata": {},
   "source": [
    "___\n",
    "P-value снизился незначительно, при этом разница между сегментами сократилась с 26% до 6%."
   ]
  },
  {
   "cell_type": "markdown",
   "metadata": {},
   "source": [
    "***14) Вывод по результатам теста:***\n",
    "\n",
    "**Факты, установленные в ходе работы:**\n",
    "\n",
    "- Существует статистически значимое различие по конверсии между группами как по сырым данным, так и после фильтрации аномалий.\n",
    "- Нет статистически значимого различия по среднему чеку между группами ни по «сырым», ни по данным после фильтрации аномалий.\n",
    "- График различия конверсии между группами сообщает, что результаты группы B лучше группы A и имеется тенденции к  дальнейшему улучшению.\n",
    "- График различия среднего чека показывет сильные колебания. При этом можно отметить, что группа В превосходит группу А по данному показателю.\n",
    "\n",
    "*Исходя из фактов выше считаем, что А/В - тест можно остановить и признать его успешным. По результатам анализа лучшей признать группу В. Новшества, которые были применены для группы В можно распространить на всех покупателей интернет-магазина, так как они показали свою эффективность.*"
   ]
  },
  {
   "cell_type": "markdown",
   "metadata": {},
   "source": [
    "---\n",
    "<a id = \"Step3\"></a>\n",
    "\n",
    "## Общий вывод по проекту\n",
    "\n",
    "- [Начало](#head)\n",
    "- [Часть 1](#Step1)\n",
    "- [Часть 2, вопросы 1-4](#Step2.1-4)\n",
    "- [Часть 2, вопросы 5-8](#Step2.5-8)\n",
    "- [Часть 2, вопросы 9-11](#Step2.9-11)\n",
    "- [Часть 2, вопросы 12-14](#Step2.12-14)"
   ]
  },
  {
   "cell_type": "markdown",
   "metadata": {},
   "source": [
    "В рамках проекта нам был предоставлен список гипотез для увеличения выручки, составленный совместно с отделом маркетинга. Необходимо было приоритизировать гипотезы, запустить A/B-тест и проанализировать результаты. \n",
    "\n",
    "Приоритизация сформулированных гипотез проводилась с помощью фреймворков `ICE` и `RICE`.\n",
    "\n",
    "Наиболее перспективные гипотезы по `ICE`:\n",
    "\n",
    "    1. Запустить акцию, дающую скидку на товар в день рождения\n",
    "    2. Добавить два новых канала привлечения трафика, что позволит привлекать на 30% больше пользователей\n",
    "    3. Добавить форму подписки на все основные страницы, чтобы собрать базу клиентов для email-рассылок\n",
    "    4. Показать на главной странице баннеры с актуальными акциями и распродажами, чтобы увеличить конверсию\n",
    "\n",
    "Наиболее перспективные гипотезы по `RICE`:\n",
    "\n",
    "    1. Добавить форму подписки на все основные страницы, чтобы собрать базу клиентов для email-рассылок\n",
    "    2. Добавить блоки рекомендаций товаров на сайт интернет магазина, чтобы повысить конверсию и средний чек заказа\n",
    "    3. Добавить два новых канала привлечения трафика, что позволит привлекать на 30% больше пользователей\n",
    "    4. Показать на главной странице баннеры с актуальными акциями и распродажами, чтобы увеличить конверсию\n",
    "\n",
    "\n",
    "Как мы убедились, при использовании различных методов приоритизации, топ перспективных гипотез меняется. Так гипотеза \"Запустить акцию, дающую скидку на товар в день рождения\" - самая перспективная по методу `ICE`, оказалась лишь на пятой строчке по приоритету, при использовании метода `RICE`. Все потому, что у этой гипотезы очень низкий охват пользователей. За счет большого охвата и низкой стоимости тестирования гипотеза \"Добавить блоки рекомендаций товаров на сайт интернет магазина, чтобы повысить конверсию и средний чек заказа\" стала второй в приоритете по методу `RICE`. \n",
    "\n",
    "**По итогам проведенного анализа А/В-теста получились следующие результаты:** \n",
    "\n",
    "Большинство покупателей, которые попали в наши данные заказывали только один раз. Не более 5% покупателей оформляли заказы больше 2 раз. Только 1% покупателей заказывал более четырех раз. \n",
    "Было установлено, что основная масса покупок не превышала 20000 рублей. Не более 5% заказов дороже 28000 рублей и не более 1% дороже 58233,2 рублей.\n",
    "\n",
    "Нами была выделена аномальная группа пользователей. Туда попали покупатели, которые совершили более 3 заказов или сумма их покупки составила более 40000 рублей. \n",
    "\n",
    "Относительный прирост конверсии группы В к группе А по \"сырым\" данным составил 13.8%. После того, как мы избавились от аномальных пользователей, этот показатель составил 16,4% в пользу группы В.\n",
    "\n",
    "Также средний чек группы B по \"сырым\" данным выше среднего чека группы A почти на 26%. После \"очистки\" данных от аномальных пользователей, средний чек группы В оказался выше только на 6%, что говорит нам о том, как сильно выбросы в данных могут влиять на результаты исследования.\n",
    "\n",
    "*Факты, установленные в ходе работы:*\n",
    "\n",
    "- Существует статистически значимое различие по конверсии между группами как по сырым данным, так и после фильтрации аномалий.\n",
    "- Нет статистически значимого различия по среднему чеку между группами ни по «сырым», ни по данным после фильтрации аномалий.\n",
    "- График различия конверсии между группами сообщает, что результаты группы B лучше группы A и имеется тенденции к дальнейшему улучшению.\n",
    "- График различия среднего чека показывет сильные колебания. При этом можно отметить, что группа В превосходит группу А по данному показателю.\n",
    "\n",
    "Считаем, что А/В - тест можно остановить и признать его успешным. По результатам анализа лучшей признать группу В. Новшества, которые были применены для группы В можно распространить на всех покупателей интернет-магазина, так как они показали свою эффективность."
   ]
  }
 ],
 "metadata": {
  "kernelspec": {
   "display_name": "Python 3",
   "language": "python",
   "name": "python3"
  },
  "language_info": {
   "codemirror_mode": {
    "name": "ipython",
    "version": 3
   },
   "file_extension": ".py",
   "mimetype": "text/x-python",
   "name": "python",
   "nbconvert_exporter": "python",
   "pygments_lexer": "ipython3",
   "version": "3.8.3"
  }
 },
 "nbformat": 4,
 "nbformat_minor": 2
}
