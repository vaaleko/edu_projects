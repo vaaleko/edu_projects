{
 "cells": [
  {
   "cell_type": "markdown",
   "metadata": {},
   "source": [
    "<a id = \"head\"></a>\n",
    "# <p style=\"text-align: center;\">Исследование объявлений о продаже квартир</p>\n",
    "---\n",
    "\n",
    "Имеются данные сервиса Яндекс.Недвижимость — архив объявлений о продаже квартир в Санкт-Петербурге и соседних населённых пунктов за несколько лет. Нужно научиться определять рыночную стоимость объектов недвижимости.\n"
   ]
  },
  {
   "cell_type": "markdown",
   "metadata": {},
   "source": [
    "#### Описание данных:\n",
    "\n",
    "    airports_nearest — расстояние до ближайшего аэропорта в метрах (м)\n",
    "    balcony — число балконов\n",
    "    ceiling_height — высота потолков (м)\n",
    "    cityCenters_nearest — расстояние до центра города (м)\n",
    "    days_exposition — сколько дней было размещено объявление (от публикации до снятия)\n",
    "    first_day_exposition — дата публикации\n",
    "    floor — этаж\n",
    "    floors_total — всего этажей в доме\n",
    "    is_apartment — апартаменты (булев тип)\n",
    "    kitchen_area — площадь кухни в квадратных метрах (м²)\n",
    "    last_price — цена на момент снятия с публикации\n",
    "    living_area — жилая площадь в квадратных метрах(м²)\n",
    "    locality_name — название населённого пункта\n",
    "    open_plan — свободная планировка (булев тип)\n",
    "    parks_around3000 — число парков в радиусе 3 км\n",
    "    parks_nearest — расстояние до ближайшего парка (м)\n",
    "    ponds_around3000 — число водоёмов в радиусе 3 км\n",
    "    ponds_nearest — расстояние до ближайшего водоёма (м)\n",
    "    rooms — число комнат\n",
    "    studio — квартира-студия (булев тип)\n",
    "    total_area — площадь квартиры в квадратных метрах (м²)\n",
    "    total_images — число фотографий квартиры в объявлении"
   ]
  },
  {
   "cell_type": "markdown",
   "metadata": {},
   "source": [
    "#### План действий:\n",
    "\n",
    "1. [Изучение общей информации о данных;](#step1)\n",
    "2. [Предобработка данных;](#step2)\n",
    "3. [Расчет дополнительных параметров и добавление их в таблицу;](#step3)\n",
    "4. [Проведение исследовательского анализа данных;](step4)\n",
    "5. [Общий вывод](#step5)"
   ]
  },
  {
   "cell_type": "markdown",
   "metadata": {},
   "source": [
    "<a id = \"step1\"></a>\n",
    "## Шаг 1. Откройте файл с данными и изучите общую информацию\n",
    "\n",
    "[Начало](#head)  [2](#step2)  [3](#step3)  [4](#step4) [5](#step5)"
   ]
  },
  {
   "cell_type": "code",
   "execution_count": 6,
   "metadata": {},
   "outputs": [],
   "source": [
    "import pandas as pd"
   ]
  },
  {
   "cell_type": "code",
   "execution_count": 7,
   "metadata": {},
   "outputs": [],
   "source": [
    "import matplotlib.pyplot as plt"
   ]
  },
  {
   "cell_type": "code",
   "execution_count": 8,
   "metadata": {},
   "outputs": [],
   "source": [
    "import numpy as np"
   ]
  },
  {
   "cell_type": "code",
   "execution_count": 9,
   "metadata": {},
   "outputs": [],
   "source": [
    "realty = pd.read_csv(r'C:\\Users\\vladi\\Downloads\\real_estate_data.csv', sep='\\t')"
   ]
  },
  {
   "cell_type": "code",
   "execution_count": 10,
   "metadata": {},
   "outputs": [
    {
     "data": {
      "text/html": [
       "<div>\n",
       "<style scoped>\n",
       "    .dataframe tbody tr th:only-of-type {\n",
       "        vertical-align: middle;\n",
       "    }\n",
       "\n",
       "    .dataframe tbody tr th {\n",
       "        vertical-align: top;\n",
       "    }\n",
       "\n",
       "    .dataframe thead th {\n",
       "        text-align: right;\n",
       "    }\n",
       "</style>\n",
       "<table border=\"1\" class=\"dataframe\">\n",
       "  <thead>\n",
       "    <tr style=\"text-align: right;\">\n",
       "      <th></th>\n",
       "      <th>total_images</th>\n",
       "      <th>last_price</th>\n",
       "      <th>total_area</th>\n",
       "      <th>first_day_exposition</th>\n",
       "      <th>rooms</th>\n",
       "      <th>ceiling_height</th>\n",
       "      <th>floors_total</th>\n",
       "      <th>living_area</th>\n",
       "      <th>floor</th>\n",
       "      <th>is_apartment</th>\n",
       "      <th>...</th>\n",
       "      <th>kitchen_area</th>\n",
       "      <th>balcony</th>\n",
       "      <th>locality_name</th>\n",
       "      <th>airports_nearest</th>\n",
       "      <th>cityCenters_nearest</th>\n",
       "      <th>parks_around3000</th>\n",
       "      <th>parks_nearest</th>\n",
       "      <th>ponds_around3000</th>\n",
       "      <th>ponds_nearest</th>\n",
       "      <th>days_exposition</th>\n",
       "    </tr>\n",
       "  </thead>\n",
       "  <tbody>\n",
       "    <tr>\n",
       "      <th>0</th>\n",
       "      <td>20</td>\n",
       "      <td>13000000.0</td>\n",
       "      <td>108.00</td>\n",
       "      <td>2019-03-07T00:00:00</td>\n",
       "      <td>3</td>\n",
       "      <td>2.70</td>\n",
       "      <td>16.0</td>\n",
       "      <td>51.0</td>\n",
       "      <td>8</td>\n",
       "      <td>NaN</td>\n",
       "      <td>...</td>\n",
       "      <td>25.00</td>\n",
       "      <td>NaN</td>\n",
       "      <td>Санкт-Петербург</td>\n",
       "      <td>18863.0</td>\n",
       "      <td>16028.0</td>\n",
       "      <td>1.0</td>\n",
       "      <td>482.0</td>\n",
       "      <td>2.0</td>\n",
       "      <td>755.0</td>\n",
       "      <td>NaN</td>\n",
       "    </tr>\n",
       "    <tr>\n",
       "      <th>1</th>\n",
       "      <td>7</td>\n",
       "      <td>3350000.0</td>\n",
       "      <td>40.40</td>\n",
       "      <td>2018-12-04T00:00:00</td>\n",
       "      <td>1</td>\n",
       "      <td>NaN</td>\n",
       "      <td>11.0</td>\n",
       "      <td>18.6</td>\n",
       "      <td>1</td>\n",
       "      <td>NaN</td>\n",
       "      <td>...</td>\n",
       "      <td>11.00</td>\n",
       "      <td>2.0</td>\n",
       "      <td>посёлок Шушары</td>\n",
       "      <td>12817.0</td>\n",
       "      <td>18603.0</td>\n",
       "      <td>0.0</td>\n",
       "      <td>NaN</td>\n",
       "      <td>0.0</td>\n",
       "      <td>NaN</td>\n",
       "      <td>81.0</td>\n",
       "    </tr>\n",
       "    <tr>\n",
       "      <th>2</th>\n",
       "      <td>10</td>\n",
       "      <td>5196000.0</td>\n",
       "      <td>56.00</td>\n",
       "      <td>2015-08-20T00:00:00</td>\n",
       "      <td>2</td>\n",
       "      <td>NaN</td>\n",
       "      <td>5.0</td>\n",
       "      <td>34.3</td>\n",
       "      <td>4</td>\n",
       "      <td>NaN</td>\n",
       "      <td>...</td>\n",
       "      <td>8.30</td>\n",
       "      <td>0.0</td>\n",
       "      <td>Санкт-Петербург</td>\n",
       "      <td>21741.0</td>\n",
       "      <td>13933.0</td>\n",
       "      <td>1.0</td>\n",
       "      <td>90.0</td>\n",
       "      <td>2.0</td>\n",
       "      <td>574.0</td>\n",
       "      <td>558.0</td>\n",
       "    </tr>\n",
       "    <tr>\n",
       "      <th>3</th>\n",
       "      <td>0</td>\n",
       "      <td>64900000.0</td>\n",
       "      <td>159.00</td>\n",
       "      <td>2015-07-24T00:00:00</td>\n",
       "      <td>3</td>\n",
       "      <td>NaN</td>\n",
       "      <td>14.0</td>\n",
       "      <td>NaN</td>\n",
       "      <td>9</td>\n",
       "      <td>NaN</td>\n",
       "      <td>...</td>\n",
       "      <td>NaN</td>\n",
       "      <td>0.0</td>\n",
       "      <td>Санкт-Петербург</td>\n",
       "      <td>28098.0</td>\n",
       "      <td>6800.0</td>\n",
       "      <td>2.0</td>\n",
       "      <td>84.0</td>\n",
       "      <td>3.0</td>\n",
       "      <td>234.0</td>\n",
       "      <td>424.0</td>\n",
       "    </tr>\n",
       "    <tr>\n",
       "      <th>4</th>\n",
       "      <td>2</td>\n",
       "      <td>10000000.0</td>\n",
       "      <td>100.00</td>\n",
       "      <td>2018-06-19T00:00:00</td>\n",
       "      <td>2</td>\n",
       "      <td>3.03</td>\n",
       "      <td>14.0</td>\n",
       "      <td>32.0</td>\n",
       "      <td>13</td>\n",
       "      <td>NaN</td>\n",
       "      <td>...</td>\n",
       "      <td>41.00</td>\n",
       "      <td>NaN</td>\n",
       "      <td>Санкт-Петербург</td>\n",
       "      <td>31856.0</td>\n",
       "      <td>8098.0</td>\n",
       "      <td>2.0</td>\n",
       "      <td>112.0</td>\n",
       "      <td>1.0</td>\n",
       "      <td>48.0</td>\n",
       "      <td>121.0</td>\n",
       "    </tr>\n",
       "    <tr>\n",
       "      <th>...</th>\n",
       "      <td>...</td>\n",
       "      <td>...</td>\n",
       "      <td>...</td>\n",
       "      <td>...</td>\n",
       "      <td>...</td>\n",
       "      <td>...</td>\n",
       "      <td>...</td>\n",
       "      <td>...</td>\n",
       "      <td>...</td>\n",
       "      <td>...</td>\n",
       "      <td>...</td>\n",
       "      <td>...</td>\n",
       "      <td>...</td>\n",
       "      <td>...</td>\n",
       "      <td>...</td>\n",
       "      <td>...</td>\n",
       "      <td>...</td>\n",
       "      <td>...</td>\n",
       "      <td>...</td>\n",
       "      <td>...</td>\n",
       "      <td>...</td>\n",
       "    </tr>\n",
       "    <tr>\n",
       "      <th>23694</th>\n",
       "      <td>9</td>\n",
       "      <td>9700000.0</td>\n",
       "      <td>133.81</td>\n",
       "      <td>2017-03-21T00:00:00</td>\n",
       "      <td>3</td>\n",
       "      <td>3.70</td>\n",
       "      <td>5.0</td>\n",
       "      <td>73.3</td>\n",
       "      <td>3</td>\n",
       "      <td>NaN</td>\n",
       "      <td>...</td>\n",
       "      <td>13.83</td>\n",
       "      <td>NaN</td>\n",
       "      <td>Санкт-Петербург</td>\n",
       "      <td>24665.0</td>\n",
       "      <td>4232.0</td>\n",
       "      <td>1.0</td>\n",
       "      <td>796.0</td>\n",
       "      <td>3.0</td>\n",
       "      <td>381.0</td>\n",
       "      <td>NaN</td>\n",
       "    </tr>\n",
       "    <tr>\n",
       "      <th>23695</th>\n",
       "      <td>14</td>\n",
       "      <td>3100000.0</td>\n",
       "      <td>59.00</td>\n",
       "      <td>2018-01-15T00:00:00</td>\n",
       "      <td>3</td>\n",
       "      <td>NaN</td>\n",
       "      <td>5.0</td>\n",
       "      <td>38.0</td>\n",
       "      <td>4</td>\n",
       "      <td>NaN</td>\n",
       "      <td>...</td>\n",
       "      <td>8.50</td>\n",
       "      <td>NaN</td>\n",
       "      <td>Тосно</td>\n",
       "      <td>NaN</td>\n",
       "      <td>NaN</td>\n",
       "      <td>NaN</td>\n",
       "      <td>NaN</td>\n",
       "      <td>NaN</td>\n",
       "      <td>NaN</td>\n",
       "      <td>45.0</td>\n",
       "    </tr>\n",
       "    <tr>\n",
       "      <th>23696</th>\n",
       "      <td>18</td>\n",
       "      <td>2500000.0</td>\n",
       "      <td>56.70</td>\n",
       "      <td>2018-02-11T00:00:00</td>\n",
       "      <td>2</td>\n",
       "      <td>NaN</td>\n",
       "      <td>3.0</td>\n",
       "      <td>29.7</td>\n",
       "      <td>1</td>\n",
       "      <td>NaN</td>\n",
       "      <td>...</td>\n",
       "      <td>NaN</td>\n",
       "      <td>NaN</td>\n",
       "      <td>село Рождествено</td>\n",
       "      <td>NaN</td>\n",
       "      <td>NaN</td>\n",
       "      <td>NaN</td>\n",
       "      <td>NaN</td>\n",
       "      <td>NaN</td>\n",
       "      <td>NaN</td>\n",
       "      <td>NaN</td>\n",
       "    </tr>\n",
       "    <tr>\n",
       "      <th>23697</th>\n",
       "      <td>13</td>\n",
       "      <td>11475000.0</td>\n",
       "      <td>76.75</td>\n",
       "      <td>2017-03-28T00:00:00</td>\n",
       "      <td>2</td>\n",
       "      <td>3.00</td>\n",
       "      <td>17.0</td>\n",
       "      <td>NaN</td>\n",
       "      <td>12</td>\n",
       "      <td>NaN</td>\n",
       "      <td>...</td>\n",
       "      <td>23.30</td>\n",
       "      <td>2.0</td>\n",
       "      <td>Санкт-Петербург</td>\n",
       "      <td>39140.0</td>\n",
       "      <td>10364.0</td>\n",
       "      <td>2.0</td>\n",
       "      <td>173.0</td>\n",
       "      <td>3.0</td>\n",
       "      <td>196.0</td>\n",
       "      <td>602.0</td>\n",
       "    </tr>\n",
       "    <tr>\n",
       "      <th>23698</th>\n",
       "      <td>4</td>\n",
       "      <td>1350000.0</td>\n",
       "      <td>32.30</td>\n",
       "      <td>2017-07-21T00:00:00</td>\n",
       "      <td>1</td>\n",
       "      <td>2.50</td>\n",
       "      <td>5.0</td>\n",
       "      <td>12.3</td>\n",
       "      <td>1</td>\n",
       "      <td>NaN</td>\n",
       "      <td>...</td>\n",
       "      <td>9.00</td>\n",
       "      <td>NaN</td>\n",
       "      <td>поселок Новый Учхоз</td>\n",
       "      <td>NaN</td>\n",
       "      <td>NaN</td>\n",
       "      <td>NaN</td>\n",
       "      <td>NaN</td>\n",
       "      <td>NaN</td>\n",
       "      <td>NaN</td>\n",
       "      <td>NaN</td>\n",
       "    </tr>\n",
       "  </tbody>\n",
       "</table>\n",
       "<p>23699 rows × 22 columns</p>\n",
       "</div>"
      ],
      "text/plain": [
       "       total_images  last_price  total_area first_day_exposition  rooms  \\\n",
       "0                20  13000000.0      108.00  2019-03-07T00:00:00      3   \n",
       "1                 7   3350000.0       40.40  2018-12-04T00:00:00      1   \n",
       "2                10   5196000.0       56.00  2015-08-20T00:00:00      2   \n",
       "3                 0  64900000.0      159.00  2015-07-24T00:00:00      3   \n",
       "4                 2  10000000.0      100.00  2018-06-19T00:00:00      2   \n",
       "...             ...         ...         ...                  ...    ...   \n",
       "23694             9   9700000.0      133.81  2017-03-21T00:00:00      3   \n",
       "23695            14   3100000.0       59.00  2018-01-15T00:00:00      3   \n",
       "23696            18   2500000.0       56.70  2018-02-11T00:00:00      2   \n",
       "23697            13  11475000.0       76.75  2017-03-28T00:00:00      2   \n",
       "23698             4   1350000.0       32.30  2017-07-21T00:00:00      1   \n",
       "\n",
       "       ceiling_height  floors_total  living_area  floor is_apartment  ...  \\\n",
       "0                2.70          16.0         51.0      8          NaN  ...   \n",
       "1                 NaN          11.0         18.6      1          NaN  ...   \n",
       "2                 NaN           5.0         34.3      4          NaN  ...   \n",
       "3                 NaN          14.0          NaN      9          NaN  ...   \n",
       "4                3.03          14.0         32.0     13          NaN  ...   \n",
       "...               ...           ...          ...    ...          ...  ...   \n",
       "23694            3.70           5.0         73.3      3          NaN  ...   \n",
       "23695             NaN           5.0         38.0      4          NaN  ...   \n",
       "23696             NaN           3.0         29.7      1          NaN  ...   \n",
       "23697            3.00          17.0          NaN     12          NaN  ...   \n",
       "23698            2.50           5.0         12.3      1          NaN  ...   \n",
       "\n",
       "       kitchen_area  balcony        locality_name  airports_nearest  \\\n",
       "0             25.00      NaN      Санкт-Петербург           18863.0   \n",
       "1             11.00      2.0       посёлок Шушары           12817.0   \n",
       "2              8.30      0.0      Санкт-Петербург           21741.0   \n",
       "3               NaN      0.0      Санкт-Петербург           28098.0   \n",
       "4             41.00      NaN      Санкт-Петербург           31856.0   \n",
       "...             ...      ...                  ...               ...   \n",
       "23694         13.83      NaN      Санкт-Петербург           24665.0   \n",
       "23695          8.50      NaN                Тосно               NaN   \n",
       "23696           NaN      NaN     село Рождествено               NaN   \n",
       "23697         23.30      2.0      Санкт-Петербург           39140.0   \n",
       "23698          9.00      NaN  поселок Новый Учхоз               NaN   \n",
       "\n",
       "      cityCenters_nearest  parks_around3000  parks_nearest  ponds_around3000  \\\n",
       "0                 16028.0               1.0          482.0               2.0   \n",
       "1                 18603.0               0.0            NaN               0.0   \n",
       "2                 13933.0               1.0           90.0               2.0   \n",
       "3                  6800.0               2.0           84.0               3.0   \n",
       "4                  8098.0               2.0          112.0               1.0   \n",
       "...                   ...               ...            ...               ...   \n",
       "23694              4232.0               1.0          796.0               3.0   \n",
       "23695                 NaN               NaN            NaN               NaN   \n",
       "23696                 NaN               NaN            NaN               NaN   \n",
       "23697             10364.0               2.0          173.0               3.0   \n",
       "23698                 NaN               NaN            NaN               NaN   \n",
       "\n",
       "       ponds_nearest  days_exposition  \n",
       "0              755.0              NaN  \n",
       "1                NaN             81.0  \n",
       "2              574.0            558.0  \n",
       "3              234.0            424.0  \n",
       "4               48.0            121.0  \n",
       "...              ...              ...  \n",
       "23694          381.0              NaN  \n",
       "23695            NaN             45.0  \n",
       "23696            NaN              NaN  \n",
       "23697          196.0            602.0  \n",
       "23698            NaN              NaN  \n",
       "\n",
       "[23699 rows x 22 columns]"
      ]
     },
     "execution_count": 10,
     "metadata": {},
     "output_type": "execute_result"
    }
   ],
   "source": [
    "realty"
   ]
  },
  {
   "cell_type": "code",
   "execution_count": 11,
   "metadata": {
    "scrolled": false
   },
   "outputs": [
    {
     "name": "stdout",
     "output_type": "stream",
     "text": [
      "<class 'pandas.core.frame.DataFrame'>\n",
      "RangeIndex: 23699 entries, 0 to 23698\n",
      "Data columns (total 22 columns):\n",
      " #   Column                Non-Null Count  Dtype  \n",
      "---  ------                --------------  -----  \n",
      " 0   total_images          23699 non-null  int64  \n",
      " 1   last_price            23699 non-null  float64\n",
      " 2   total_area            23699 non-null  float64\n",
      " 3   first_day_exposition  23699 non-null  object \n",
      " 4   rooms                 23699 non-null  int64  \n",
      " 5   ceiling_height        14504 non-null  float64\n",
      " 6   floors_total          23613 non-null  float64\n",
      " 7   living_area           21796 non-null  float64\n",
      " 8   floor                 23699 non-null  int64  \n",
      " 9   is_apartment          2775 non-null   object \n",
      " 10  studio                23699 non-null  bool   \n",
      " 11  open_plan             23699 non-null  bool   \n",
      " 12  kitchen_area          21421 non-null  float64\n",
      " 13  balcony               12180 non-null  float64\n",
      " 14  locality_name         23650 non-null  object \n",
      " 15  airports_nearest      18157 non-null  float64\n",
      " 16  cityCenters_nearest   18180 non-null  float64\n",
      " 17  parks_around3000      18181 non-null  float64\n",
      " 18  parks_nearest         8079 non-null   float64\n",
      " 19  ponds_around3000      18181 non-null  float64\n",
      " 20  ponds_nearest         9110 non-null   float64\n",
      " 21  days_exposition       20518 non-null  float64\n",
      "dtypes: bool(2), float64(14), int64(3), object(3)\n",
      "memory usage: 3.7+ MB\n"
     ]
    }
   ],
   "source": [
    "realty.info()"
   ]
  },
  {
   "cell_type": "code",
   "execution_count": 12,
   "metadata": {},
   "outputs": [
    {
     "data": {
      "text/plain": [
       "total_images                0\n",
       "last_price                  0\n",
       "total_area                  0\n",
       "first_day_exposition        0\n",
       "rooms                       0\n",
       "ceiling_height           9195\n",
       "floors_total               86\n",
       "living_area              1903\n",
       "floor                       0\n",
       "is_apartment            20924\n",
       "studio                      0\n",
       "open_plan                   0\n",
       "kitchen_area             2278\n",
       "balcony                 11519\n",
       "locality_name              49\n",
       "airports_nearest         5542\n",
       "cityCenters_nearest      5519\n",
       "parks_around3000         5518\n",
       "parks_nearest           15620\n",
       "ponds_around3000         5518\n",
       "ponds_nearest           14589\n",
       "days_exposition          3181\n",
       "dtype: int64"
      ]
     },
     "execution_count": 12,
     "metadata": {},
     "output_type": "execute_result"
    }
   ],
   "source": [
    "realty.isnull().sum()"
   ]
  },
  {
   "cell_type": "markdown",
   "metadata": {},
   "source": [
    "В большинстве столбцов обнаружены пропуски. Так как одна часть данных формировались пользователями, а вторая получена автоматически, можно предположить, что определенная информация не была указана при публикации объявления. Также при автоматической выгрузке мог произойти какой-то сбой, который привел к потере данных.\n",
    "О дополнительных причинах и о природе появления пропусков можно будет сказать после более детального рассмотрения данных в таблице."
   ]
  },
  {
   "cell_type": "markdown",
   "metadata": {},
   "source": [
    "<a id = \"step2\"></a>\n",
    "## Шаг 2. Предобработка данных\n",
    "\n",
    "[Начало](#head)  [1](#step1)  [3](#step3)  [4](#step4) [5](#step5)"
   ]
  },
  {
   "cell_type": "markdown",
   "metadata": {},
   "source": [
    "#### Столбец \"Количество этажей в доме\""
   ]
  },
  {
   "cell_type": "code",
   "execution_count": 13,
   "metadata": {},
   "outputs": [
    {
     "data": {
      "text/plain": [
       "count    23613.000000\n",
       "mean        10.673824\n",
       "std          6.597173\n",
       "min          1.000000\n",
       "25%          5.000000\n",
       "50%          9.000000\n",
       "75%         16.000000\n",
       "max         60.000000\n",
       "Name: floors_total, dtype: float64"
      ]
     },
     "execution_count": 13,
     "metadata": {},
     "output_type": "execute_result"
    }
   ],
   "source": [
    "realty['floors_total'].describe()"
   ]
  },
  {
   "cell_type": "code",
   "execution_count": 15,
   "metadata": {},
   "outputs": [
    {
     "data": {
      "text/html": [
       "<div>\n",
       "<style scoped>\n",
       "    .dataframe tbody tr th:only-of-type {\n",
       "        vertical-align: middle;\n",
       "    }\n",
       "\n",
       "    .dataframe tbody tr th {\n",
       "        vertical-align: top;\n",
       "    }\n",
       "\n",
       "    .dataframe thead th {\n",
       "        text-align: right;\n",
       "    }\n",
       "</style>\n",
       "<table border=\"1\" class=\"dataframe\">\n",
       "  <thead>\n",
       "    <tr style=\"text-align: right;\">\n",
       "      <th></th>\n",
       "      <th>total_images</th>\n",
       "      <th>last_price</th>\n",
       "      <th>total_area</th>\n",
       "      <th>first_day_exposition</th>\n",
       "      <th>rooms</th>\n",
       "      <th>ceiling_height</th>\n",
       "      <th>floors_total</th>\n",
       "      <th>living_area</th>\n",
       "      <th>floor</th>\n",
       "      <th>is_apartment</th>\n",
       "      <th>...</th>\n",
       "      <th>kitchen_area</th>\n",
       "      <th>balcony</th>\n",
       "      <th>locality_name</th>\n",
       "      <th>airports_nearest</th>\n",
       "      <th>cityCenters_nearest</th>\n",
       "      <th>parks_around3000</th>\n",
       "      <th>parks_nearest</th>\n",
       "      <th>ponds_around3000</th>\n",
       "      <th>ponds_nearest</th>\n",
       "      <th>days_exposition</th>\n",
       "    </tr>\n",
       "  </thead>\n",
       "  <tbody>\n",
       "    <tr>\n",
       "      <th>457</th>\n",
       "      <td>4</td>\n",
       "      <td>9788348.0</td>\n",
       "      <td>70.80</td>\n",
       "      <td>2015-08-01T00:00:00</td>\n",
       "      <td>2</td>\n",
       "      <td>NaN</td>\n",
       "      <td>NaN</td>\n",
       "      <td>38.4</td>\n",
       "      <td>12</td>\n",
       "      <td>NaN</td>\n",
       "      <td>...</td>\n",
       "      <td>10.63</td>\n",
       "      <td>0.0</td>\n",
       "      <td>Санкт-Петербург</td>\n",
       "      <td>37364.0</td>\n",
       "      <td>8322.0</td>\n",
       "      <td>2.0</td>\n",
       "      <td>309.0</td>\n",
       "      <td>2.0</td>\n",
       "      <td>706.0</td>\n",
       "      <td>727.0</td>\n",
       "    </tr>\n",
       "    <tr>\n",
       "      <th>2392</th>\n",
       "      <td>7</td>\n",
       "      <td>5395770.0</td>\n",
       "      <td>53.00</td>\n",
       "      <td>2017-06-29T00:00:00</td>\n",
       "      <td>2</td>\n",
       "      <td>NaN</td>\n",
       "      <td>NaN</td>\n",
       "      <td>29.0</td>\n",
       "      <td>22</td>\n",
       "      <td>NaN</td>\n",
       "      <td>...</td>\n",
       "      <td>9.00</td>\n",
       "      <td>0.0</td>\n",
       "      <td>Санкт-Петербург</td>\n",
       "      <td>43074.0</td>\n",
       "      <td>10820.0</td>\n",
       "      <td>0.0</td>\n",
       "      <td>NaN</td>\n",
       "      <td>0.0</td>\n",
       "      <td>NaN</td>\n",
       "      <td>48.0</td>\n",
       "    </tr>\n",
       "    <tr>\n",
       "      <th>2846</th>\n",
       "      <td>4</td>\n",
       "      <td>2325000.0</td>\n",
       "      <td>27.80</td>\n",
       "      <td>2016-09-21T00:00:00</td>\n",
       "      <td>1</td>\n",
       "      <td>NaN</td>\n",
       "      <td>NaN</td>\n",
       "      <td>19.4</td>\n",
       "      <td>15</td>\n",
       "      <td>NaN</td>\n",
       "      <td>...</td>\n",
       "      <td>NaN</td>\n",
       "      <td>0.0</td>\n",
       "      <td>Санкт-Петербург</td>\n",
       "      <td>22041.0</td>\n",
       "      <td>17369.0</td>\n",
       "      <td>0.0</td>\n",
       "      <td>NaN</td>\n",
       "      <td>1.0</td>\n",
       "      <td>374.0</td>\n",
       "      <td>307.0</td>\n",
       "    </tr>\n",
       "    <tr>\n",
       "      <th>3031</th>\n",
       "      <td>9</td>\n",
       "      <td>6400000.0</td>\n",
       "      <td>56.70</td>\n",
       "      <td>2018-03-27T00:00:00</td>\n",
       "      <td>2</td>\n",
       "      <td>NaN</td>\n",
       "      <td>NaN</td>\n",
       "      <td>32.0</td>\n",
       "      <td>12</td>\n",
       "      <td>NaN</td>\n",
       "      <td>...</td>\n",
       "      <td>12.00</td>\n",
       "      <td>NaN</td>\n",
       "      <td>Кудрово</td>\n",
       "      <td>NaN</td>\n",
       "      <td>NaN</td>\n",
       "      <td>NaN</td>\n",
       "      <td>NaN</td>\n",
       "      <td>NaN</td>\n",
       "      <td>NaN</td>\n",
       "      <td>231.0</td>\n",
       "    </tr>\n",
       "    <tr>\n",
       "      <th>3438</th>\n",
       "      <td>10</td>\n",
       "      <td>4100000.0</td>\n",
       "      <td>38.00</td>\n",
       "      <td>2018-04-14T00:00:00</td>\n",
       "      <td>1</td>\n",
       "      <td>NaN</td>\n",
       "      <td>NaN</td>\n",
       "      <td>19.0</td>\n",
       "      <td>12</td>\n",
       "      <td>NaN</td>\n",
       "      <td>...</td>\n",
       "      <td>10.30</td>\n",
       "      <td>NaN</td>\n",
       "      <td>Кудрово</td>\n",
       "      <td>NaN</td>\n",
       "      <td>NaN</td>\n",
       "      <td>NaN</td>\n",
       "      <td>NaN</td>\n",
       "      <td>NaN</td>\n",
       "      <td>NaN</td>\n",
       "      <td>95.0</td>\n",
       "    </tr>\n",
       "    <tr>\n",
       "      <th>4617</th>\n",
       "      <td>4</td>\n",
       "      <td>4275062.0</td>\n",
       "      <td>61.20</td>\n",
       "      <td>2017-04-27T00:00:00</td>\n",
       "      <td>2</td>\n",
       "      <td>NaN</td>\n",
       "      <td>NaN</td>\n",
       "      <td>32.0</td>\n",
       "      <td>12</td>\n",
       "      <td>NaN</td>\n",
       "      <td>...</td>\n",
       "      <td>12.20</td>\n",
       "      <td>0.0</td>\n",
       "      <td>Санкт-Петербург</td>\n",
       "      <td>22041.0</td>\n",
       "      <td>17369.0</td>\n",
       "      <td>0.0</td>\n",
       "      <td>NaN</td>\n",
       "      <td>1.0</td>\n",
       "      <td>374.0</td>\n",
       "      <td>72.0</td>\n",
       "    </tr>\n",
       "    <tr>\n",
       "      <th>4848</th>\n",
       "      <td>15</td>\n",
       "      <td>13000000.0</td>\n",
       "      <td>98.00</td>\n",
       "      <td>2017-02-08T00:00:00</td>\n",
       "      <td>3</td>\n",
       "      <td>NaN</td>\n",
       "      <td>NaN</td>\n",
       "      <td>NaN</td>\n",
       "      <td>18</td>\n",
       "      <td>NaN</td>\n",
       "      <td>...</td>\n",
       "      <td>NaN</td>\n",
       "      <td>0.0</td>\n",
       "      <td>Санкт-Петербург</td>\n",
       "      <td>37625.0</td>\n",
       "      <td>14153.0</td>\n",
       "      <td>0.0</td>\n",
       "      <td>NaN</td>\n",
       "      <td>0.0</td>\n",
       "      <td>NaN</td>\n",
       "      <td>29.0</td>\n",
       "    </tr>\n",
       "    <tr>\n",
       "      <th>5146</th>\n",
       "      <td>10</td>\n",
       "      <td>3085024.0</td>\n",
       "      <td>33.33</td>\n",
       "      <td>2018-10-06T00:00:00</td>\n",
       "      <td>1</td>\n",
       "      <td>NaN</td>\n",
       "      <td>NaN</td>\n",
       "      <td>11.0</td>\n",
       "      <td>12</td>\n",
       "      <td>NaN</td>\n",
       "      <td>...</td>\n",
       "      <td>NaN</td>\n",
       "      <td>NaN</td>\n",
       "      <td>Санкт-Петербург</td>\n",
       "      <td>47303.0</td>\n",
       "      <td>25865.0</td>\n",
       "      <td>1.0</td>\n",
       "      <td>400.0</td>\n",
       "      <td>1.0</td>\n",
       "      <td>492.0</td>\n",
       "      <td>140.0</td>\n",
       "    </tr>\n",
       "    <tr>\n",
       "      <th>5187</th>\n",
       "      <td>5</td>\n",
       "      <td>3300000.0</td>\n",
       "      <td>25.40</td>\n",
       "      <td>2018-11-02T00:00:00</td>\n",
       "      <td>0</td>\n",
       "      <td>NaN</td>\n",
       "      <td>NaN</td>\n",
       "      <td>NaN</td>\n",
       "      <td>15</td>\n",
       "      <td>NaN</td>\n",
       "      <td>...</td>\n",
       "      <td>NaN</td>\n",
       "      <td>NaN</td>\n",
       "      <td>посёлок Мурино</td>\n",
       "      <td>NaN</td>\n",
       "      <td>NaN</td>\n",
       "      <td>NaN</td>\n",
       "      <td>NaN</td>\n",
       "      <td>NaN</td>\n",
       "      <td>NaN</td>\n",
       "      <td>3.0</td>\n",
       "    </tr>\n",
       "    <tr>\n",
       "      <th>5784</th>\n",
       "      <td>4</td>\n",
       "      <td>4262941.0</td>\n",
       "      <td>59.90</td>\n",
       "      <td>2017-04-02T00:00:00</td>\n",
       "      <td>2</td>\n",
       "      <td>NaN</td>\n",
       "      <td>NaN</td>\n",
       "      <td>31.7</td>\n",
       "      <td>18</td>\n",
       "      <td>NaN</td>\n",
       "      <td>...</td>\n",
       "      <td>11.90</td>\n",
       "      <td>0.0</td>\n",
       "      <td>Санкт-Петербург</td>\n",
       "      <td>22041.0</td>\n",
       "      <td>17369.0</td>\n",
       "      <td>0.0</td>\n",
       "      <td>NaN</td>\n",
       "      <td>1.0</td>\n",
       "      <td>374.0</td>\n",
       "      <td>127.0</td>\n",
       "    </tr>\n",
       "  </tbody>\n",
       "</table>\n",
       "<p>10 rows × 22 columns</p>\n",
       "</div>"
      ],
      "text/plain": [
       "      total_images  last_price  total_area first_day_exposition  rooms  \\\n",
       "457              4   9788348.0       70.80  2015-08-01T00:00:00      2   \n",
       "2392             7   5395770.0       53.00  2017-06-29T00:00:00      2   \n",
       "2846             4   2325000.0       27.80  2016-09-21T00:00:00      1   \n",
       "3031             9   6400000.0       56.70  2018-03-27T00:00:00      2   \n",
       "3438            10   4100000.0       38.00  2018-04-14T00:00:00      1   \n",
       "4617             4   4275062.0       61.20  2017-04-27T00:00:00      2   \n",
       "4848            15  13000000.0       98.00  2017-02-08T00:00:00      3   \n",
       "5146            10   3085024.0       33.33  2018-10-06T00:00:00      1   \n",
       "5187             5   3300000.0       25.40  2018-11-02T00:00:00      0   \n",
       "5784             4   4262941.0       59.90  2017-04-02T00:00:00      2   \n",
       "\n",
       "      ceiling_height  floors_total  living_area  floor is_apartment  ...  \\\n",
       "457              NaN           NaN         38.4     12          NaN  ...   \n",
       "2392             NaN           NaN         29.0     22          NaN  ...   \n",
       "2846             NaN           NaN         19.4     15          NaN  ...   \n",
       "3031             NaN           NaN         32.0     12          NaN  ...   \n",
       "3438             NaN           NaN         19.0     12          NaN  ...   \n",
       "4617             NaN           NaN         32.0     12          NaN  ...   \n",
       "4848             NaN           NaN          NaN     18          NaN  ...   \n",
       "5146             NaN           NaN         11.0     12          NaN  ...   \n",
       "5187             NaN           NaN          NaN     15          NaN  ...   \n",
       "5784             NaN           NaN         31.7     18          NaN  ...   \n",
       "\n",
       "      kitchen_area  balcony    locality_name  airports_nearest  \\\n",
       "457          10.63      0.0  Санкт-Петербург           37364.0   \n",
       "2392          9.00      0.0  Санкт-Петербург           43074.0   \n",
       "2846           NaN      0.0  Санкт-Петербург           22041.0   \n",
       "3031         12.00      NaN          Кудрово               NaN   \n",
       "3438         10.30      NaN          Кудрово               NaN   \n",
       "4617         12.20      0.0  Санкт-Петербург           22041.0   \n",
       "4848           NaN      0.0  Санкт-Петербург           37625.0   \n",
       "5146           NaN      NaN  Санкт-Петербург           47303.0   \n",
       "5187           NaN      NaN   посёлок Мурино               NaN   \n",
       "5784         11.90      0.0  Санкт-Петербург           22041.0   \n",
       "\n",
       "     cityCenters_nearest  parks_around3000  parks_nearest  ponds_around3000  \\\n",
       "457               8322.0               2.0          309.0               2.0   \n",
       "2392             10820.0               0.0            NaN               0.0   \n",
       "2846             17369.0               0.0            NaN               1.0   \n",
       "3031                 NaN               NaN            NaN               NaN   \n",
       "3438                 NaN               NaN            NaN               NaN   \n",
       "4617             17369.0               0.0            NaN               1.0   \n",
       "4848             14153.0               0.0            NaN               0.0   \n",
       "5146             25865.0               1.0          400.0               1.0   \n",
       "5187                 NaN               NaN            NaN               NaN   \n",
       "5784             17369.0               0.0            NaN               1.0   \n",
       "\n",
       "      ponds_nearest  days_exposition  \n",
       "457           706.0            727.0  \n",
       "2392            NaN             48.0  \n",
       "2846          374.0            307.0  \n",
       "3031            NaN            231.0  \n",
       "3438            NaN             95.0  \n",
       "4617          374.0             72.0  \n",
       "4848            NaN             29.0  \n",
       "5146          492.0            140.0  \n",
       "5187            NaN              3.0  \n",
       "5784          374.0            127.0  \n",
       "\n",
       "[10 rows x 22 columns]"
      ]
     },
     "execution_count": 15,
     "metadata": {},
     "output_type": "execute_result"
    }
   ],
   "source": [
    "realty[(realty['floors_total'].isnull())&(realty['floor'] > 9)].head(10)"
   ]
  },
  {
   "cell_type": "markdown",
   "metadata": {},
   "source": [
    "В этом стобце было найдено 86 пропусков. Скорее всего эти данные не были указаны пользователями, размещавшими свои объявления. Их также необходимо заполнить, потому что этот параметр понадобится для дальнейшей работы в рамках исследования. \n",
    "В этот раз медианным значением заполнить все пропуски не получится, так как во многих объявлениях, где не указан этот показатель, квартиры располагаются выше 9-го этажа. "
   ]
  },
  {
   "cell_type": "code",
   "execution_count": 17,
   "metadata": {},
   "outputs": [],
   "source": [
    "# Функция для замены значений: \n",
    "def count_floors(row):\n",
    "    floors_total = row['floors_total']\n",
    "    floor = row['floor']\n",
    "    \n",
    "    if floors_total == 0 and floor <= 9:\n",
    "        return 9\n",
    "    elif floors_total == 0 and floor > 9:\n",
    "        return floor\n",
    "    else:\n",
    "        return floors_total"
   ]
  },
  {
   "cell_type": "code",
   "execution_count": 18,
   "metadata": {},
   "outputs": [],
   "source": [
    "realty['floors_total'] = realty['floors_total'].fillna(0)"
   ]
  },
  {
   "cell_type": "code",
   "execution_count": 19,
   "metadata": {},
   "outputs": [
    {
     "data": {
      "text/plain": [
       "0"
      ]
     },
     "execution_count": 19,
     "metadata": {},
     "output_type": "execute_result"
    }
   ],
   "source": [
    "realty['floors_total'].isna().sum()"
   ]
  },
  {
   "cell_type": "code",
   "execution_count": 20,
   "metadata": {},
   "outputs": [],
   "source": [
    "realty['floors_total'] = realty.apply(count_floors, axis =1)"
   ]
  },
  {
   "cell_type": "code",
   "execution_count": 21,
   "metadata": {
    "scrolled": false
   },
   "outputs": [
    {
     "data": {
      "text/plain": [
       "count    23699.000000\n",
       "mean        10.678678\n",
       "std          6.591239\n",
       "min          1.000000\n",
       "25%          5.000000\n",
       "50%          9.000000\n",
       "75%         16.000000\n",
       "max         60.000000\n",
       "Name: floors_total, dtype: float64"
      ]
     },
     "execution_count": 21,
     "metadata": {},
     "output_type": "execute_result"
    }
   ],
   "source": [
    "realty['floors_total'].describe()"
   ]
  },
  {
   "cell_type": "markdown",
   "metadata": {},
   "source": [
    "Я решил поступить следующим образом. Если квартира находится ниже 9-го этажа, то пропущенное количество этажей в таком доме меняю на медиану (то есть на 9). Если же квартира располагается выше 9-го этажа, то буду считать, что она на последнем этаже."
   ]
  },
  {
   "cell_type": "markdown",
   "metadata": {},
   "source": [
    "<font color=green>Логичный ход. Можно также просто заполнить модой (самым популярным значением) по городам."
   ]
  },
  {
   "cell_type": "code",
   "execution_count": 22,
   "metadata": {},
   "outputs": [],
   "source": [
    "realty['floors_total'] = pd.to_numeric(realty['floors_total'], downcast ='signed')"
   ]
  },
  {
   "cell_type": "code",
   "execution_count": 23,
   "metadata": {},
   "outputs": [
    {
     "data": {
      "text/plain": [
       "12626     5\n",
       "5502      5\n",
       "2360     19\n",
       "8429      9\n",
       "7772      9\n",
       "Name: floors_total, dtype: int8"
      ]
     },
     "execution_count": 23,
     "metadata": {},
     "output_type": "execute_result"
    }
   ],
   "source": [
    "realty['floors_total'].sample(5)"
   ]
  },
  {
   "cell_type": "markdown",
   "metadata": {},
   "source": [
    "Исходя из общей информации о таблице видно, что столбец с количеством этажей имеет вещественный тип данных, что неверно. Поэтому была произведена замена на целочисленный тип данных."
   ]
  },
  {
   "cell_type": "markdown",
   "metadata": {},
   "source": [
    "#### Столбец \"Высота потолков\""
   ]
  },
  {
   "cell_type": "code",
   "execution_count": 24,
   "metadata": {},
   "outputs": [
    {
     "data": {
      "text/plain": [
       "2.50      3515\n",
       "2.60      1646\n",
       "2.70      1574\n",
       "3.00      1112\n",
       "2.80       993\n",
       "          ... \n",
       "27.50        1\n",
       "5.00         1\n",
       "3.59         1\n",
       "4.80         1\n",
       "100.00       1\n",
       "Name: ceiling_height, Length: 183, dtype: int64"
      ]
     },
     "execution_count": 24,
     "metadata": {},
     "output_type": "execute_result"
    }
   ],
   "source": [
    "realty['ceiling_height'].value_counts()"
   ]
  },
  {
   "cell_type": "code",
   "execution_count": 25,
   "metadata": {},
   "outputs": [
    {
     "data": {
      "text/plain": [
       "75"
      ]
     },
     "execution_count": 25,
     "metadata": {},
     "output_type": "execute_result"
    }
   ],
   "source": [
    "realty[realty['ceiling_height'] > 4]['ceiling_height'].count()"
   ]
  },
  {
   "cell_type": "code",
   "execution_count": 26,
   "metadata": {},
   "outputs": [
    {
     "data": {
      "text/plain": [
       "count    14504.000000\n",
       "mean         2.771499\n",
       "std          1.261056\n",
       "min          1.000000\n",
       "25%          2.520000\n",
       "50%          2.650000\n",
       "75%          2.800000\n",
       "max        100.000000\n",
       "Name: ceiling_height, dtype: float64"
      ]
     },
     "execution_count": 26,
     "metadata": {},
     "output_type": "execute_result"
    }
   ],
   "source": [
    "realty['ceiling_height'].describe()"
   ]
  },
  {
   "cell_type": "markdown",
   "metadata": {},
   "source": [
    "В этом стобце было найдено 9195 пропусков. Считаю, что необходимо заполнить пропуски в этом столбце, так как  этот параметр может влиять на цену кватиры. \n",
    "  \n",
    "В столбце присутсвуют аномальные значения. Высота квартир в России редко превышает 3.5 - 4 метра. В наших данных встречается 75 объектов с высотой более 4 метров. Поэтому для замены пустых значений буду использовать медианное значение высоты в зависимости от количества этажей в доме, чтобы увеличить точность заполнения. "
   ]
  },
  {
   "cell_type": "code",
   "execution_count": 27,
   "metadata": {},
   "outputs": [],
   "source": [
    "ceiling_height_median = realty.groupby('floors_total')['ceiling_height'].median().fillna(2.65)"
   ]
  },
  {
   "cell_type": "code",
   "execution_count": 28,
   "metadata": {},
   "outputs": [],
   "source": [
    "realty['ceiling_height'] = realty['ceiling_height'].fillna(0)"
   ]
  },
  {
   "cell_type": "code",
   "execution_count": 29,
   "metadata": {},
   "outputs": [],
   "source": [
    "def ceiling_height(row):\n",
    "    height = row['ceiling_height']\n",
    "    floors = row['floors_total']\n",
    "    \n",
    "    if height == 0:\n",
    "        return ceiling_height_median[floors]    \n",
    "    return height    "
   ]
  },
  {
   "cell_type": "code",
   "execution_count": 30,
   "metadata": {},
   "outputs": [],
   "source": [
    "realty['ceiling_height'] = realty.apply(ceiling_height, axis =1)"
   ]
  },
  {
   "cell_type": "code",
   "execution_count": 31,
   "metadata": {},
   "outputs": [
    {
     "data": {
      "text/plain": [
       "count    23699.000000\n",
       "mean         2.735521\n",
       "std          0.994298\n",
       "min          1.000000\n",
       "25%          2.550000\n",
       "50%          2.650000\n",
       "75%          2.750000\n",
       "max        100.000000\n",
       "Name: ceiling_height, dtype: float64"
      ]
     },
     "execution_count": 31,
     "metadata": {},
     "output_type": "execute_result"
    }
   ],
   "source": [
    "realty['ceiling_height'].describe()"
   ]
  },
  {
   "cell_type": "code",
   "execution_count": 32,
   "metadata": {},
   "outputs": [
    {
     "data": {
      "text/plain": [
       "0"
      ]
     },
     "execution_count": 32,
     "metadata": {},
     "output_type": "execute_result"
    }
   ],
   "source": [
    "realty['ceiling_height'].isna().sum()"
   ]
  },
  {
   "cell_type": "markdown",
   "metadata": {},
   "source": [
    "Вероятно, в этом столбце было много пропусков в связи с тем, что пользователи не указали этот параметр при размещении объявления. Обнаруженные аномалии могли возникнуть из-за ошибки выгрузки данных."
   ]
  },
  {
   "cell_type": "markdown",
   "metadata": {},
   "source": [
    "#### Столбец \"Жилая площадь в квадратных метрах(м²)\""
   ]
  },
  {
   "cell_type": "markdown",
   "metadata": {},
   "source": [
    "В столбце \"жилая площадь\" найдено 1903 пропуска. Возможно эти данные по какой-то причине не были выгружены или попросту отсутствовали в объявлении. В дальнейшем они понадобятся для нашего исследования, поэтому необходимо заполнить все пропуски. "
   ]
  },
  {
   "cell_type": "markdown",
   "metadata": {},
   "source": [
    "Для начала я попробовал заменить пропуски медианным значением жилой площади в зависимости от числа комнат в квартире. В результате по некоторым объявлениям получилось, что общая площадь была меньше, чем жилая.\n",
    "\n",
    "Предварительно проверю, нет ли в таблице строк, в которых жилая площадь превышает общую."
   ]
  },
  {
   "cell_type": "code",
   "execution_count": 33,
   "metadata": {},
   "outputs": [
    {
     "data": {
      "text/html": [
       "<div>\n",
       "<style scoped>\n",
       "    .dataframe tbody tr th:only-of-type {\n",
       "        vertical-align: middle;\n",
       "    }\n",
       "\n",
       "    .dataframe tbody tr th {\n",
       "        vertical-align: top;\n",
       "    }\n",
       "\n",
       "    .dataframe thead th {\n",
       "        text-align: right;\n",
       "    }\n",
       "</style>\n",
       "<table border=\"1\" class=\"dataframe\">\n",
       "  <thead>\n",
       "    <tr style=\"text-align: right;\">\n",
       "      <th></th>\n",
       "      <th>total_images</th>\n",
       "      <th>last_price</th>\n",
       "      <th>total_area</th>\n",
       "      <th>first_day_exposition</th>\n",
       "      <th>rooms</th>\n",
       "      <th>ceiling_height</th>\n",
       "      <th>floors_total</th>\n",
       "      <th>living_area</th>\n",
       "      <th>floor</th>\n",
       "      <th>is_apartment</th>\n",
       "      <th>...</th>\n",
       "      <th>kitchen_area</th>\n",
       "      <th>balcony</th>\n",
       "      <th>locality_name</th>\n",
       "      <th>airports_nearest</th>\n",
       "      <th>cityCenters_nearest</th>\n",
       "      <th>parks_around3000</th>\n",
       "      <th>parks_nearest</th>\n",
       "      <th>ponds_around3000</th>\n",
       "      <th>ponds_nearest</th>\n",
       "      <th>days_exposition</th>\n",
       "    </tr>\n",
       "  </thead>\n",
       "  <tbody>\n",
       "  </tbody>\n",
       "</table>\n",
       "<p>0 rows × 22 columns</p>\n",
       "</div>"
      ],
      "text/plain": [
       "Empty DataFrame\n",
       "Columns: [total_images, last_price, total_area, first_day_exposition, rooms, ceiling_height, floors_total, living_area, floor, is_apartment, studio, open_plan, kitchen_area, balcony, locality_name, airports_nearest, cityCenters_nearest, parks_around3000, parks_nearest, ponds_around3000, ponds_nearest, days_exposition]\n",
       "Index: []\n",
       "\n",
       "[0 rows x 22 columns]"
      ]
     },
     "execution_count": 33,
     "metadata": {},
     "output_type": "execute_result"
    }
   ],
   "source": [
    "realty[realty['total_area'] < realty['living_area']]"
   ]
  },
  {
   "cell_type": "markdown",
   "metadata": {},
   "source": [
    "Таких значений не оказалось. Можно приступить к заполнению пропусков"
   ]
  },
  {
   "cell_type": "code",
   "execution_count": 34,
   "metadata": {},
   "outputs": [
    {
     "data": {
      "text/plain": [
       "count    21796.000000\n",
       "mean        34.457852\n",
       "std         22.030445\n",
       "min          2.000000\n",
       "25%         18.600000\n",
       "50%         30.000000\n",
       "75%         42.300000\n",
       "max        409.700000\n",
       "Name: living_area, dtype: float64"
      ]
     },
     "execution_count": 34,
     "metadata": {},
     "output_type": "execute_result"
    }
   ],
   "source": [
    "realty['living_area'].describe()"
   ]
  },
  {
   "cell_type": "code",
   "execution_count": 35,
   "metadata": {},
   "outputs": [],
   "source": [
    "total_area_med = realty.groupby('rooms')['total_area'].median()\n",
    "#total_area_med"
   ]
  },
  {
   "cell_type": "code",
   "execution_count": 36,
   "metadata": {},
   "outputs": [],
   "source": [
    "living_area_med = realty.groupby('rooms')['living_area'].median()\n",
    "#living_area_med"
   ]
  },
  {
   "cell_type": "code",
   "execution_count": 37,
   "metadata": {},
   "outputs": [
    {
     "data": {
      "text/plain": [
       "rooms\n",
       "0     0.690979\n",
       "1     0.481400\n",
       "2     0.575472\n",
       "3     0.616438\n",
       "4     0.640483\n",
       "5     0.626733\n",
       "6     0.672273\n",
       "7     0.677570\n",
       "8     0.683072\n",
       "9     0.595448\n",
       "10    0.592076\n",
       "11    0.708841\n",
       "12    0.455222\n",
       "14    0.641519\n",
       "15    0.693220\n",
       "16    0.666667\n",
       "19    0.706086\n",
       "dtype: float64"
      ]
     },
     "execution_count": 37,
     "metadata": {},
     "output_type": "execute_result"
    }
   ],
   "source": [
    "living_area_part = living_area_med / total_area_med\n",
    "living_area_part"
   ]
  },
  {
   "cell_type": "code",
   "execution_count": 38,
   "metadata": {},
   "outputs": [],
   "source": [
    "def living_area(row):\n",
    "    rooms = row['rooms']\n",
    "    living_area = row['living_area']\n",
    "    total_area = row['total_area']\n",
    "        \n",
    "    if living_area == -1: \n",
    "        return total_area * living_area_part[rooms]\n",
    "    \n",
    "    return living_area"
   ]
  },
  {
   "cell_type": "markdown",
   "metadata": {},
   "source": [
    "Эта функция заполняет пустые значения жилой площади произведением общей площади и медианной доли жилой площади в зависимости от числа комнат в квартире.    "
   ]
  },
  {
   "cell_type": "markdown",
   "metadata": {},
   "source": [
    "Чтобы функция работала, предварительно заполню пропуски произвольным значением (в данном случае это -1)"
   ]
  },
  {
   "cell_type": "code",
   "execution_count": 39,
   "metadata": {},
   "outputs": [],
   "source": [
    "realty['living_area'] = realty['living_area'].fillna(-1)"
   ]
  },
  {
   "cell_type": "code",
   "execution_count": 40,
   "metadata": {},
   "outputs": [],
   "source": [
    "realty['living_area'] = realty.apply(living_area, axis =1)"
   ]
  },
  {
   "cell_type": "code",
   "execution_count": 41,
   "metadata": {},
   "outputs": [
    {
     "data": {
      "text/plain": [
       "count    23699.000000\n",
       "mean        34.637431\n",
       "std         22.748419\n",
       "min          2.000000\n",
       "25%         18.700000\n",
       "50%         30.000000\n",
       "75%         42.300000\n",
       "max        427.546729\n",
       "Name: living_area, dtype: float64"
      ]
     },
     "execution_count": 41,
     "metadata": {},
     "output_type": "execute_result"
    }
   ],
   "source": [
    "realty['living_area'].describe()"
   ]
  },
  {
   "cell_type": "markdown",
   "metadata": {},
   "source": [
    "#### Столбец \"Площадь кухни\"\n",
    "\n",
    "В столбце \"Площадь кухни\" изначально было найдено 2278 пропусков. Так как это один из параметров, которые заполняют пользователи при размещении объявления, можно предположить, что данные значения не были указаны изначально. "
   ]
  },
  {
   "cell_type": "code",
   "execution_count": 42,
   "metadata": {},
   "outputs": [],
   "source": [
    "def kitchen_area(row):\n",
    "    living_area = row['living_area']\n",
    "    kitchen_area = row['kitchen_area']\n",
    "    total_area = row['total_area']\n",
    "    \n",
    "    if kitchen_area == -1:\n",
    "        return total_area - living_area\n",
    "    \n",
    "    return kitchen_area"
   ]
  },
  {
   "cell_type": "markdown",
   "metadata": {},
   "source": [
    "Эта функция будет менять временное значение на разницу общей и жилой площадей"
   ]
  },
  {
   "cell_type": "code",
   "execution_count": 43,
   "metadata": {},
   "outputs": [],
   "source": [
    "realty['kitchen_area'] = realty['kitchen_area'].fillna(-1)"
   ]
  },
  {
   "cell_type": "code",
   "execution_count": 44,
   "metadata": {},
   "outputs": [],
   "source": [
    "realty['kitchen_area'] = realty.apply(kitchen_area, axis =1)"
   ]
  },
  {
   "cell_type": "code",
   "execution_count": 45,
   "metadata": {},
   "outputs": [
    {
     "data": {
      "text/plain": [
       "count    23699.000000\n",
       "mean        11.787055\n",
       "std          8.375264\n",
       "min          0.000000\n",
       "25%          7.200000\n",
       "50%          9.800000\n",
       "75%         13.000000\n",
       "max        256.240044\n",
       "Name: kitchen_area, dtype: float64"
      ]
     },
     "execution_count": 45,
     "metadata": {},
     "output_type": "execute_result"
    }
   ],
   "source": [
    "realty['kitchen_area'].describe()"
   ]
  },
  {
   "cell_type": "markdown",
   "metadata": {},
   "source": [
    "Теперь проверим, остались ли в таблице противоречивые строки:"
   ]
  },
  {
   "cell_type": "code",
   "execution_count": 46,
   "metadata": {},
   "outputs": [
    {
     "data": {
      "text/html": [
       "<div>\n",
       "<style scoped>\n",
       "    .dataframe tbody tr th:only-of-type {\n",
       "        vertical-align: middle;\n",
       "    }\n",
       "\n",
       "    .dataframe tbody tr th {\n",
       "        vertical-align: top;\n",
       "    }\n",
       "\n",
       "    .dataframe thead th {\n",
       "        text-align: right;\n",
       "    }\n",
       "</style>\n",
       "<table border=\"1\" class=\"dataframe\">\n",
       "  <thead>\n",
       "    <tr style=\"text-align: right;\">\n",
       "      <th></th>\n",
       "      <th>total_images</th>\n",
       "      <th>last_price</th>\n",
       "      <th>total_area</th>\n",
       "      <th>first_day_exposition</th>\n",
       "      <th>rooms</th>\n",
       "      <th>ceiling_height</th>\n",
       "      <th>floors_total</th>\n",
       "      <th>living_area</th>\n",
       "      <th>floor</th>\n",
       "      <th>is_apartment</th>\n",
       "      <th>...</th>\n",
       "      <th>kitchen_area</th>\n",
       "      <th>balcony</th>\n",
       "      <th>locality_name</th>\n",
       "      <th>airports_nearest</th>\n",
       "      <th>cityCenters_nearest</th>\n",
       "      <th>parks_around3000</th>\n",
       "      <th>parks_nearest</th>\n",
       "      <th>ponds_around3000</th>\n",
       "      <th>ponds_nearest</th>\n",
       "      <th>days_exposition</th>\n",
       "    </tr>\n",
       "  </thead>\n",
       "  <tbody>\n",
       "    <tr>\n",
       "      <th>21956</th>\n",
       "      <td>0</td>\n",
       "      <td>5200000.0</td>\n",
       "      <td>46.0</td>\n",
       "      <td>2018-07-20T00:00:00</td>\n",
       "      <td>2</td>\n",
       "      <td>2.55</td>\n",
       "      <td>5</td>\n",
       "      <td>44.0</td>\n",
       "      <td>5</td>\n",
       "      <td>NaN</td>\n",
       "      <td>...</td>\n",
       "      <td>8.0</td>\n",
       "      <td>1.0</td>\n",
       "      <td>Санкт-Петербург</td>\n",
       "      <td>14103.0</td>\n",
       "      <td>15182.0</td>\n",
       "      <td>1.0</td>\n",
       "      <td>488.0</td>\n",
       "      <td>0.0</td>\n",
       "      <td>NaN</td>\n",
       "      <td>7.0</td>\n",
       "    </tr>\n",
       "    <tr>\n",
       "      <th>11472</th>\n",
       "      <td>13</td>\n",
       "      <td>5600000.0</td>\n",
       "      <td>48.0</td>\n",
       "      <td>2017-05-09T00:00:00</td>\n",
       "      <td>2</td>\n",
       "      <td>2.80</td>\n",
       "      <td>13</td>\n",
       "      <td>34.5</td>\n",
       "      <td>3</td>\n",
       "      <td>False</td>\n",
       "      <td>...</td>\n",
       "      <td>18.0</td>\n",
       "      <td>2.0</td>\n",
       "      <td>Санкт-Петербург</td>\n",
       "      <td>46358.0</td>\n",
       "      <td>15966.0</td>\n",
       "      <td>0.0</td>\n",
       "      <td>NaN</td>\n",
       "      <td>0.0</td>\n",
       "      <td>NaN</td>\n",
       "      <td>93.0</td>\n",
       "    </tr>\n",
       "    <tr>\n",
       "      <th>1992</th>\n",
       "      <td>5</td>\n",
       "      <td>4000000.0</td>\n",
       "      <td>37.4</td>\n",
       "      <td>2018-02-11T00:00:00</td>\n",
       "      <td>1</td>\n",
       "      <td>2.53</td>\n",
       "      <td>16</td>\n",
       "      <td>36.4</td>\n",
       "      <td>10</td>\n",
       "      <td>NaN</td>\n",
       "      <td>...</td>\n",
       "      <td>8.6</td>\n",
       "      <td>1.0</td>\n",
       "      <td>Санкт-Петербург</td>\n",
       "      <td>19979.0</td>\n",
       "      <td>21690.0</td>\n",
       "      <td>0.0</td>\n",
       "      <td>NaN</td>\n",
       "      <td>1.0</td>\n",
       "      <td>1052.0</td>\n",
       "      <td>74.0</td>\n",
       "    </tr>\n",
       "    <tr>\n",
       "      <th>184</th>\n",
       "      <td>7</td>\n",
       "      <td>2600000.0</td>\n",
       "      <td>30.2</td>\n",
       "      <td>2018-02-14T00:00:00</td>\n",
       "      <td>1</td>\n",
       "      <td>2.65</td>\n",
       "      <td>9</td>\n",
       "      <td>26.1</td>\n",
       "      <td>5</td>\n",
       "      <td>NaN</td>\n",
       "      <td>...</td>\n",
       "      <td>6.2</td>\n",
       "      <td>NaN</td>\n",
       "      <td>Санкт-Петербург</td>\n",
       "      <td>13952.0</td>\n",
       "      <td>15031.0</td>\n",
       "      <td>0.0</td>\n",
       "      <td>NaN</td>\n",
       "      <td>1.0</td>\n",
       "      <td>824.0</td>\n",
       "      <td>12.0</td>\n",
       "    </tr>\n",
       "    <tr>\n",
       "      <th>9333</th>\n",
       "      <td>11</td>\n",
       "      <td>2370000.0</td>\n",
       "      <td>41.9</td>\n",
       "      <td>2018-02-15T00:00:00</td>\n",
       "      <td>1</td>\n",
       "      <td>2.75</td>\n",
       "      <td>12</td>\n",
       "      <td>33.3</td>\n",
       "      <td>11</td>\n",
       "      <td>NaN</td>\n",
       "      <td>...</td>\n",
       "      <td>14.1</td>\n",
       "      <td>NaN</td>\n",
       "      <td>Колпино</td>\n",
       "      <td>28171.0</td>\n",
       "      <td>33958.0</td>\n",
       "      <td>0.0</td>\n",
       "      <td>NaN</td>\n",
       "      <td>0.0</td>\n",
       "      <td>NaN</td>\n",
       "      <td>3.0</td>\n",
       "    </tr>\n",
       "  </tbody>\n",
       "</table>\n",
       "<p>5 rows × 22 columns</p>\n",
       "</div>"
      ],
      "text/plain": [
       "       total_images  last_price  total_area first_day_exposition  rooms  \\\n",
       "21956             0   5200000.0        46.0  2018-07-20T00:00:00      2   \n",
       "11472            13   5600000.0        48.0  2017-05-09T00:00:00      2   \n",
       "1992              5   4000000.0        37.4  2018-02-11T00:00:00      1   \n",
       "184               7   2600000.0        30.2  2018-02-14T00:00:00      1   \n",
       "9333             11   2370000.0        41.9  2018-02-15T00:00:00      1   \n",
       "\n",
       "       ceiling_height  floors_total  living_area  floor is_apartment  ...  \\\n",
       "21956            2.55             5         44.0      5          NaN  ...   \n",
       "11472            2.80            13         34.5      3        False  ...   \n",
       "1992             2.53            16         36.4     10          NaN  ...   \n",
       "184              2.65             9         26.1      5          NaN  ...   \n",
       "9333             2.75            12         33.3     11          NaN  ...   \n",
       "\n",
       "       kitchen_area  balcony    locality_name  airports_nearest  \\\n",
       "21956           8.0      1.0  Санкт-Петербург           14103.0   \n",
       "11472          18.0      2.0  Санкт-Петербург           46358.0   \n",
       "1992            8.6      1.0  Санкт-Петербург           19979.0   \n",
       "184             6.2      NaN  Санкт-Петербург           13952.0   \n",
       "9333           14.1      NaN          Колпино           28171.0   \n",
       "\n",
       "      cityCenters_nearest  parks_around3000  parks_nearest  ponds_around3000  \\\n",
       "21956             15182.0               1.0          488.0               0.0   \n",
       "11472             15966.0               0.0            NaN               0.0   \n",
       "1992              21690.0               0.0            NaN               1.0   \n",
       "184               15031.0               0.0            NaN               1.0   \n",
       "9333              33958.0               0.0            NaN               0.0   \n",
       "\n",
       "       ponds_nearest  days_exposition  \n",
       "21956            NaN              7.0  \n",
       "11472            NaN             93.0  \n",
       "1992          1052.0             74.0  \n",
       "184            824.0             12.0  \n",
       "9333             NaN              3.0  \n",
       "\n",
       "[5 rows x 22 columns]"
      ]
     },
     "execution_count": 46,
     "metadata": {},
     "output_type": "execute_result"
    }
   ],
   "source": [
    "realty[realty['total_area'] < (realty['living_area'] + realty['kitchen_area'])].sample(5)"
   ]
  },
  {
   "cell_type": "code",
   "execution_count": 47,
   "metadata": {},
   "outputs": [
    {
     "data": {
      "text/plain": [
       "73"
      ]
     },
     "execution_count": 47,
     "metadata": {},
     "output_type": "execute_result"
    }
   ],
   "source": [
    "len(realty[realty['total_area'] < (realty['living_area'] + realty['kitchen_area'])])"
   ]
  },
  {
   "cell_type": "markdown",
   "metadata": {},
   "source": [
    "Было найдено 73 квартиры, в которых жилая и нежилая площади в совокупности превышают общую площадь. Думаю, что можно пожертвовать этими данными, их не так много. На результаты исследования это повлиять не должно."
   ]
  },
  {
   "cell_type": "code",
   "execution_count": 48,
   "metadata": {},
   "outputs": [],
   "source": [
    "realty = realty[realty['total_area'] >= \n",
    "                (realty['living_area'] + realty['kitchen_area'])].reset_index(drop = True)"
   ]
  },
  {
   "cell_type": "markdown",
   "metadata": {},
   "source": [
    "#### Столбец \"is_apartment\" \n",
    "\n",
    "В данном столбце пропущено большинство значений. Скорее всего данный пункт не был заполнен пользователями при подаче объявления. Раз эта графа осталась пустой, будем считать, что это не апартаменты."
   ]
  },
  {
   "cell_type": "code",
   "execution_count": 49,
   "metadata": {},
   "outputs": [],
   "source": [
    "realty['is_apartment'] = realty['is_apartment'].fillna(False)"
   ]
  },
  {
   "cell_type": "code",
   "execution_count": 50,
   "metadata": {},
   "outputs": [
    {
     "data": {
      "text/plain": [
       "dtype('bool')"
      ]
     },
     "execution_count": 50,
     "metadata": {},
     "output_type": "execute_result"
    }
   ],
   "source": [
    "realty['is_apartment'].dtypes"
   ]
  },
  {
   "cell_type": "markdown",
   "metadata": {},
   "source": [
    "Изменив пропущенные значения в этом столбце на False у нас автоматически поменялся тип данных на логический."
   ]
  },
  {
   "cell_type": "markdown",
   "metadata": {},
   "source": [
    "#### Столбец \"Балкон\""
   ]
  },
  {
   "cell_type": "markdown",
   "metadata": {},
   "source": [
    "В столбце \"балкон\" найдено 11519 пропусков. Как было написано в описании проекта, если человек не указал число балконов, скорее всего, их нет. Меняем эти пропуски на 0."
   ]
  },
  {
   "cell_type": "code",
   "execution_count": 51,
   "metadata": {},
   "outputs": [],
   "source": [
    "realty['balcony'] = realty['balcony'].fillna(0)"
   ]
  },
  {
   "cell_type": "code",
   "execution_count": 52,
   "metadata": {},
   "outputs": [],
   "source": [
    "#realty['balcony'].isnull().sum()"
   ]
  },
  {
   "cell_type": "code",
   "execution_count": 53,
   "metadata": {},
   "outputs": [],
   "source": [
    "realty['balcony'] = pd.to_numeric(realty['balcony'], downcast ='integer')"
   ]
  },
  {
   "cell_type": "markdown",
   "metadata": {},
   "source": [
    "Заменил тип данных в этом столбце на целочисленный, потому что число балконов не может быть дробным числом."
   ]
  },
  {
   "cell_type": "markdown",
   "metadata": {},
   "source": [
    "#### Столбец \"название населённого пункта\"\n",
    "\n",
    "В этом столбце всего 49 прорусков. Заменим эти значения на \"Не указано\"."
   ]
  },
  {
   "cell_type": "code",
   "execution_count": 54,
   "metadata": {},
   "outputs": [],
   "source": [
    "realty['locality_name'] = realty['locality_name'].fillna('не указано')"
   ]
  },
  {
   "cell_type": "code",
   "execution_count": 55,
   "metadata": {},
   "outputs": [
    {
     "data": {
      "text/plain": [
       "0"
      ]
     },
     "execution_count": 55,
     "metadata": {},
     "output_type": "execute_result"
    }
   ],
   "source": [
    "realty['locality_name'].isnull().sum()"
   ]
  },
  {
   "cell_type": "markdown",
   "metadata": {},
   "source": [
    "#### Столбец \"Расстояние до центра города (м)\""
   ]
  },
  {
   "cell_type": "markdown",
   "metadata": {},
   "source": [
    "Данные из этого столбца помогут ответить на вопросы этого проекта, поэтому необходимо их заполнить. "
   ]
  },
  {
   "cell_type": "code",
   "execution_count": 56,
   "metadata": {},
   "outputs": [
    {
     "data": {
      "text/plain": [
       "5496"
      ]
     },
     "execution_count": 56,
     "metadata": {},
     "output_type": "execute_result"
    }
   ],
   "source": [
    "realty['cityCenters_nearest'].isna().sum()"
   ]
  },
  {
   "cell_type": "code",
   "execution_count": 57,
   "metadata": {},
   "outputs": [
    {
     "data": {
      "text/plain": [
       "count    18130.000000\n",
       "mean     14193.495312\n",
       "std       8612.342551\n",
       "min        181.000000\n",
       "25%       9238.000000\n",
       "50%      13094.500000\n",
       "75%      16293.750000\n",
       "max      65968.000000\n",
       "Name: cityCenters_nearest, dtype: float64"
      ]
     },
     "execution_count": 57,
     "metadata": {},
     "output_type": "execute_result"
    }
   ],
   "source": [
    "realty['cityCenters_nearest'].describe()"
   ]
  },
  {
   "cell_type": "code",
   "execution_count": 58,
   "metadata": {},
   "outputs": [
    {
     "data": {
      "text/plain": [
       "365"
      ]
     },
     "execution_count": 58,
     "metadata": {},
     "output_type": "execute_result"
    }
   ],
   "source": [
    "len(realty['locality_name'].unique())"
   ]
  },
  {
   "cell_type": "code",
   "execution_count": 59,
   "metadata": {},
   "outputs": [
    {
     "data": {
      "text/plain": [
       "locality_name\n",
       "посёлок Молодёжное         65764.0\n",
       "Зеленогорск                53381.0\n",
       "Ломоносов                  51677.0\n",
       "Кронштадт                  49575.0\n",
       "посёлок Репино             42896.5\n",
       "посёлок Белоостров         38868.0\n",
       "посёлок Сапёрный           35859.5\n",
       "Сестрорецк                 34821.0\n",
       "посёлок Щеглово            34085.0\n",
       "Петергоф                   33771.0\n",
       "Павловск                   32683.0\n",
       "посёлок Понтонный          32354.0\n",
       "Колпино                    32018.0\n",
       "Красное Село               29140.5\n",
       "поселок Лисий Нос          28246.0\n",
       "посёлок Усть-Ижора         28222.5\n",
       "Пушкин                     27930.5\n",
       "посёлок Металлострой       27602.0\n",
       "посёлок Александровская    27468.0\n",
       "посёлок Лисий Нос          27297.0\n",
       "посёлок Петро-Славянка     27165.0\n",
       "посёлок Песочный           26099.5\n",
       "посёлок Левашово           25727.0\n",
       "посёлок Шушары             24213.0\n",
       "посёлок Стрельна           23506.0\n",
       "поселок Мурино             21888.0\n",
       "посёлок Парголово          19318.0\n",
       "Санкт-Петербург            12243.0\n",
       "не указано                  8943.0\n",
       "Бокситогорск                   NaN\n",
       "Волосово                       NaN\n",
       "Волхов                         NaN\n",
       "Всеволожск                     NaN\n",
       "Выборг                         NaN\n",
       "Высоцк                         NaN\n",
       "Name: cityCenters_nearest, dtype: float64"
      ]
     },
     "execution_count": 59,
     "metadata": {},
     "output_type": "execute_result"
    }
   ],
   "source": [
    "realty.groupby('locality_name')['cityCenters_nearest'].median().sort_values(ascending = False).head(35)"
   ]
  },
  {
   "cell_type": "markdown",
   "metadata": {},
   "source": [
    "В нашей таблице представлены объявления из 365 населенных пунктов Ленинградской области. Рассчитав медианное расстояние до центра города для каждого населенного пункта, я сделал вывод, что этот показатель актуален только для Санкт-Петербурга и для его муниципальных образований. Вероятно, что остальные населеные пункты, для которых медиана осталась пустым значением, разбросаны по всей Ленинградской области и в тех местах расстояние до центра не имеет большой разницы."
   ]
  },
  {
   "cell_type": "code",
   "execution_count": 60,
   "metadata": {},
   "outputs": [],
   "source": [
    "center_nearest_med = realty.groupby('locality_name')['cityCenters_nearest'].median()"
   ]
  },
  {
   "cell_type": "markdown",
   "metadata": {},
   "source": [
    "Я создал переменную с медианными значениями расстояния до центра. Данные из этой перееменной помогут заполнить пропуски для объявлений, находящихся в Санкт-Петербурге и его районах. \n",
    "\n",
    "После заполнения пропусков значения для остальных населенных пунктов Ленинградской области останутся пустыми. В рамках исседования мы их рассматривать не будем. "
   ]
  },
  {
   "cell_type": "code",
   "execution_count": 61,
   "metadata": {},
   "outputs": [],
   "source": [
    "realty['cityCenters_nearest'] = realty['cityCenters_nearest'].fillna(-1)"
   ]
  },
  {
   "cell_type": "code",
   "execution_count": 62,
   "metadata": {},
   "outputs": [],
   "source": [
    "def distance(row):\n",
    "    citycenter = row['cityCenters_nearest']\n",
    "    location = row['locality_name']\n",
    "    \n",
    "    \n",
    "    if citycenter == -1:\n",
    "        return center_nearest_med[location]\n",
    "            \n",
    "    \n",
    "    return citycenter"
   ]
  },
  {
   "cell_type": "code",
   "execution_count": 63,
   "metadata": {},
   "outputs": [],
   "source": [
    "realty['cityCenters_nearest'] = realty.apply(distance, axis =1)"
   ]
  },
  {
   "cell_type": "code",
   "execution_count": 64,
   "metadata": {},
   "outputs": [
    {
     "data": {
      "text/plain": [
       "locality_name\n",
       "посёлок Молодёжное         65764.0\n",
       "Зеленогорск                53381.0\n",
       "Ломоносов                  51677.0\n",
       "Кронштадт                  49575.0\n",
       "посёлок Репино             42896.5\n",
       "посёлок Белоостров         38868.0\n",
       "посёлок Сапёрный           35859.5\n",
       "Сестрорецк                 34821.0\n",
       "посёлок Щеглово            34085.0\n",
       "Петергоф                   33771.0\n",
       "Павловск                   32683.0\n",
       "посёлок Понтонный          32354.0\n",
       "Колпино                    32018.0\n",
       "Красное Село               29140.5\n",
       "поселок Лисий Нос          28246.0\n",
       "посёлок Усть-Ижора         28222.5\n",
       "Пушкин                     27930.5\n",
       "посёлок Металлострой       27602.0\n",
       "посёлок Александровская    27468.0\n",
       "посёлок Лисий Нос          27297.0\n",
       "посёлок Петро-Славянка     27165.0\n",
       "посёлок Песочный           26099.5\n",
       "посёлок Левашово           25727.0\n",
       "посёлок Шушары             24213.0\n",
       "посёлок Стрельна           23506.0\n",
       "поселок Мурино             21888.0\n",
       "посёлок Парголово          19318.0\n",
       "Санкт-Петербург            12243.0\n",
       "не указано                  8943.0\n",
       "Бокситогорск                   NaN\n",
       "Волосово                       NaN\n",
       "Волхов                         NaN\n",
       "Всеволожск                     NaN\n",
       "Выборг                         NaN\n",
       "Высоцк                         NaN\n",
       "Name: cityCenters_nearest, dtype: float64"
      ]
     },
     "execution_count": 64,
     "metadata": {},
     "output_type": "execute_result"
    }
   ],
   "source": [
    "realty.groupby('locality_name')['cityCenters_nearest'].median().sort_values(ascending = False).head(35)"
   ]
  },
  {
   "cell_type": "code",
   "execution_count": 65,
   "metadata": {},
   "outputs": [
    {
     "data": {
      "text/plain": [
       "5364"
      ]
     },
     "execution_count": 65,
     "metadata": {},
     "output_type": "execute_result"
    }
   ],
   "source": [
    "realty['cityCenters_nearest'].isna().sum()"
   ]
  },
  {
   "cell_type": "markdown",
   "metadata": {},
   "source": [
    "#### Столбцы \"Расстояние до ближайшего аэропорта в метрах (м)\", \"Расстояние до ближайшего парка (м)\", \"Расстояние до ближайшего водоёма (м), \"Число водоёмов в радиусе 3 км\", \"Число парков в радиусе 3 км\".\n",
    "\n",
    "В рамках данного исследования эта информация не представляет большого интереса, поэтому заполнять пропуски здесь не будем.\n",
    "\n",
    "Мне кажется, что здесь, как и в предыдущем случае, информация в этих столбцах актуальна только для Санкт-Петербурга. Остальные населенные пункты не настолько крупные, чтобы подобная информация сильно влияла на что-либо.\n"
   ]
  },
  {
   "cell_type": "markdown",
   "metadata": {},
   "source": [
    "#### Столбец \"Сколько дней было размещено объявление (от публикации до снятия)\"\n",
    "\n",
    "Здесь обнаружен 3181 пропуск. Заполнять их не будем, так как возможно эти объявления ещё не закрыты."
   ]
  },
  {
   "cell_type": "code",
   "execution_count": 66,
   "metadata": {},
   "outputs": [
    {
     "data": {
      "text/plain": [
       "count    20455.000000\n",
       "mean       180.988658\n",
       "std        219.819351\n",
       "min          1.000000\n",
       "25%         45.000000\n",
       "50%         95.000000\n",
       "75%        232.000000\n",
       "max       1580.000000\n",
       "Name: days_exposition, dtype: float64"
      ]
     },
     "execution_count": 66,
     "metadata": {},
     "output_type": "execute_result"
    }
   ],
   "source": [
    "realty['days_exposition'].describe()"
   ]
  },
  {
   "cell_type": "markdown",
   "metadata": {},
   "source": [
    "### Приведение данных к нужным типам\n",
    "\n",
    "Чтобы увеличить точность будущих вычислений необходимо перевести столбцы с ценой из вещественного типа данных в целочисленный.  "
   ]
  },
  {
   "cell_type": "code",
   "execution_count": 67,
   "metadata": {},
   "outputs": [],
   "source": [
    " realty['last_price'] = realty['last_price'].astype('int')"
   ]
  },
  {
   "cell_type": "markdown",
   "metadata": {},
   "source": [
    "В столбце с датами публикации объявлений значения хранятся в виде текста. Необходимо привести этот столбец к формату даты."
   ]
  },
  {
   "cell_type": "code",
   "execution_count": 68,
   "metadata": {},
   "outputs": [],
   "source": [
    "realty['first_day_exposition'] = pd.to_datetime(realty['first_day_exposition'], format = '%Y-%m-%d')"
   ]
  },
  {
   "cell_type": "code",
   "execution_count": 69,
   "metadata": {},
   "outputs": [
    {
     "data": {
      "text/plain": [
       "dtype('<M8[ns]')"
      ]
     },
     "execution_count": 69,
     "metadata": {},
     "output_type": "execute_result"
    }
   ],
   "source": [
    "realty['first_day_exposition'].dtypes"
   ]
  },
  {
   "cell_type": "markdown",
   "metadata": {},
   "source": [
    "##### Итак, предварительная обработка данных окончена. В таблице по возможности были заполнены пропуски, а также  изменены типы данных, где это требовалось. \n"
   ]
  },
  {
   "cell_type": "markdown",
   "metadata": {},
   "source": [
    "<a id = \"step3\"></a>\n",
    "## Шаг 3. Расчёт дополнительных параметров\n",
    "\n",
    "[Начало](#head)  [1](#step1)  [2](#step2)  [4](#step4) [5](#step5)"
   ]
  },
  {
   "cell_type": "markdown",
   "metadata": {},
   "source": [
    "#### 1. Расчет цены квадратного метра:"
   ]
  },
  {
   "cell_type": "code",
   "execution_count": 70,
   "metadata": {},
   "outputs": [],
   "source": [
    "realty['price_per_meter'] = round(realty['last_price'] / realty['total_area'],2)"
   ]
  },
  {
   "cell_type": "markdown",
   "metadata": {},
   "source": [
    "#### 2. Добавление столбцов дня недели, месяца и года публикации объявления:"
   ]
  },
  {
   "cell_type": "code",
   "execution_count": 71,
   "metadata": {},
   "outputs": [],
   "source": [
    "realty['day_exposition'] = realty['first_day_exposition'].dt.weekday"
   ]
  },
  {
   "cell_type": "code",
   "execution_count": 72,
   "metadata": {},
   "outputs": [],
   "source": [
    "realty['month_exposition'] = realty['first_day_exposition'].dt.month"
   ]
  },
  {
   "cell_type": "code",
   "execution_count": 73,
   "metadata": {},
   "outputs": [],
   "source": [
    "realty['year_exposition'] = realty['first_day_exposition'].dt.year"
   ]
  },
  {
   "cell_type": "markdown",
   "metadata": {},
   "source": [
    "#### 3. Классификация квартир в зависимости от этажа:"
   ]
  },
  {
   "cell_type": "code",
   "execution_count": 74,
   "metadata": {},
   "outputs": [],
   "source": [
    "def floor_class(row):\n",
    "    floors_total = row['floors_total']\n",
    "    floor = row['floor']\n",
    "    \n",
    "    if floor == floors_total:\n",
    "        return 'последний'\n",
    "    elif floor == 1:\n",
    "        return 'первый'\n",
    "    else:\n",
    "        return 'другой'"
   ]
  },
  {
   "cell_type": "code",
   "execution_count": 75,
   "metadata": {},
   "outputs": [],
   "source": [
    "realty['floor_class'] = realty.apply(floor_class, axis =1)"
   ]
  },
  {
   "cell_type": "code",
   "execution_count": 76,
   "metadata": {},
   "outputs": [
    {
     "data": {
      "text/html": [
       "<div>\n",
       "<style scoped>\n",
       "    .dataframe tbody tr th:only-of-type {\n",
       "        vertical-align: middle;\n",
       "    }\n",
       "\n",
       "    .dataframe tbody tr th {\n",
       "        vertical-align: top;\n",
       "    }\n",
       "\n",
       "    .dataframe thead th {\n",
       "        text-align: right;\n",
       "    }\n",
       "</style>\n",
       "<table border=\"1\" class=\"dataframe\">\n",
       "  <thead>\n",
       "    <tr style=\"text-align: right;\">\n",
       "      <th></th>\n",
       "      <th>total_images</th>\n",
       "      <th>last_price</th>\n",
       "      <th>total_area</th>\n",
       "      <th>first_day_exposition</th>\n",
       "      <th>rooms</th>\n",
       "      <th>ceiling_height</th>\n",
       "      <th>floors_total</th>\n",
       "      <th>living_area</th>\n",
       "      <th>floor</th>\n",
       "      <th>is_apartment</th>\n",
       "      <th>...</th>\n",
       "      <th>parks_around3000</th>\n",
       "      <th>parks_nearest</th>\n",
       "      <th>ponds_around3000</th>\n",
       "      <th>ponds_nearest</th>\n",
       "      <th>days_exposition</th>\n",
       "      <th>price_per_meter</th>\n",
       "      <th>day_exposition</th>\n",
       "      <th>month_exposition</th>\n",
       "      <th>year_exposition</th>\n",
       "      <th>floor_class</th>\n",
       "    </tr>\n",
       "  </thead>\n",
       "  <tbody>\n",
       "    <tr>\n",
       "      <th>12148</th>\n",
       "      <td>7</td>\n",
       "      <td>7140000</td>\n",
       "      <td>56.70</td>\n",
       "      <td>2018-07-19</td>\n",
       "      <td>2</td>\n",
       "      <td>2.70</td>\n",
       "      <td>25</td>\n",
       "      <td>33.70</td>\n",
       "      <td>7</td>\n",
       "      <td>False</td>\n",
       "      <td>...</td>\n",
       "      <td>2.0</td>\n",
       "      <td>468.0</td>\n",
       "      <td>0.0</td>\n",
       "      <td>NaN</td>\n",
       "      <td>63.0</td>\n",
       "      <td>125925.93</td>\n",
       "      <td>3</td>\n",
       "      <td>7</td>\n",
       "      <td>2018</td>\n",
       "      <td>другой</td>\n",
       "    </tr>\n",
       "    <tr>\n",
       "      <th>22653</th>\n",
       "      <td>4</td>\n",
       "      <td>4800000</td>\n",
       "      <td>66.30</td>\n",
       "      <td>2017-04-29</td>\n",
       "      <td>2</td>\n",
       "      <td>3.00</td>\n",
       "      <td>3</td>\n",
       "      <td>38.00</td>\n",
       "      <td>2</td>\n",
       "      <td>False</td>\n",
       "      <td>...</td>\n",
       "      <td>NaN</td>\n",
       "      <td>NaN</td>\n",
       "      <td>NaN</td>\n",
       "      <td>NaN</td>\n",
       "      <td>269.0</td>\n",
       "      <td>72398.19</td>\n",
       "      <td>5</td>\n",
       "      <td>4</td>\n",
       "      <td>2017</td>\n",
       "      <td>другой</td>\n",
       "    </tr>\n",
       "    <tr>\n",
       "      <th>13442</th>\n",
       "      <td>7</td>\n",
       "      <td>14500000</td>\n",
       "      <td>73.45</td>\n",
       "      <td>2017-02-10</td>\n",
       "      <td>2</td>\n",
       "      <td>3.20</td>\n",
       "      <td>9</td>\n",
       "      <td>43.89</td>\n",
       "      <td>3</td>\n",
       "      <td>False</td>\n",
       "      <td>...</td>\n",
       "      <td>2.0</td>\n",
       "      <td>630.0</td>\n",
       "      <td>0.0</td>\n",
       "      <td>NaN</td>\n",
       "      <td>382.0</td>\n",
       "      <td>197413.21</td>\n",
       "      <td>4</td>\n",
       "      <td>2</td>\n",
       "      <td>2017</td>\n",
       "      <td>другой</td>\n",
       "    </tr>\n",
       "    <tr>\n",
       "      <th>14023</th>\n",
       "      <td>23</td>\n",
       "      <td>16500000</td>\n",
       "      <td>144.00</td>\n",
       "      <td>2017-11-10</td>\n",
       "      <td>5</td>\n",
       "      <td>2.70</td>\n",
       "      <td>17</td>\n",
       "      <td>91.00</td>\n",
       "      <td>8</td>\n",
       "      <td>False</td>\n",
       "      <td>...</td>\n",
       "      <td>1.0</td>\n",
       "      <td>226.0</td>\n",
       "      <td>0.0</td>\n",
       "      <td>NaN</td>\n",
       "      <td>7.0</td>\n",
       "      <td>114583.33</td>\n",
       "      <td>4</td>\n",
       "      <td>11</td>\n",
       "      <td>2017</td>\n",
       "      <td>другой</td>\n",
       "    </tr>\n",
       "    <tr>\n",
       "      <th>20385</th>\n",
       "      <td>18</td>\n",
       "      <td>4790000</td>\n",
       "      <td>54.50</td>\n",
       "      <td>2019-02-26</td>\n",
       "      <td>2</td>\n",
       "      <td>2.50</td>\n",
       "      <td>4</td>\n",
       "      <td>33.30</td>\n",
       "      <td>4</td>\n",
       "      <td>False</td>\n",
       "      <td>...</td>\n",
       "      <td>2.0</td>\n",
       "      <td>596.0</td>\n",
       "      <td>1.0</td>\n",
       "      <td>1001.0</td>\n",
       "      <td>3.0</td>\n",
       "      <td>87889.91</td>\n",
       "      <td>1</td>\n",
       "      <td>2</td>\n",
       "      <td>2019</td>\n",
       "      <td>последний</td>\n",
       "    </tr>\n",
       "    <tr>\n",
       "      <th>17708</th>\n",
       "      <td>6</td>\n",
       "      <td>6150000</td>\n",
       "      <td>73.00</td>\n",
       "      <td>2016-03-05</td>\n",
       "      <td>4</td>\n",
       "      <td>2.55</td>\n",
       "      <td>9</td>\n",
       "      <td>49.00</td>\n",
       "      <td>9</td>\n",
       "      <td>False</td>\n",
       "      <td>...</td>\n",
       "      <td>0.0</td>\n",
       "      <td>NaN</td>\n",
       "      <td>0.0</td>\n",
       "      <td>NaN</td>\n",
       "      <td>244.0</td>\n",
       "      <td>84246.58</td>\n",
       "      <td>5</td>\n",
       "      <td>3</td>\n",
       "      <td>2016</td>\n",
       "      <td>последний</td>\n",
       "    </tr>\n",
       "    <tr>\n",
       "      <th>2066</th>\n",
       "      <td>17</td>\n",
       "      <td>4500000</td>\n",
       "      <td>45.00</td>\n",
       "      <td>2019-04-02</td>\n",
       "      <td>1</td>\n",
       "      <td>2.80</td>\n",
       "      <td>5</td>\n",
       "      <td>22.10</td>\n",
       "      <td>4</td>\n",
       "      <td>False</td>\n",
       "      <td>...</td>\n",
       "      <td>NaN</td>\n",
       "      <td>NaN</td>\n",
       "      <td>NaN</td>\n",
       "      <td>NaN</td>\n",
       "      <td>NaN</td>\n",
       "      <td>100000.00</td>\n",
       "      <td>1</td>\n",
       "      <td>4</td>\n",
       "      <td>2019</td>\n",
       "      <td>другой</td>\n",
       "    </tr>\n",
       "    <tr>\n",
       "      <th>6016</th>\n",
       "      <td>5</td>\n",
       "      <td>3480000</td>\n",
       "      <td>52.70</td>\n",
       "      <td>2018-03-26</td>\n",
       "      <td>2</td>\n",
       "      <td>2.70</td>\n",
       "      <td>4</td>\n",
       "      <td>28.80</td>\n",
       "      <td>1</td>\n",
       "      <td>False</td>\n",
       "      <td>...</td>\n",
       "      <td>NaN</td>\n",
       "      <td>NaN</td>\n",
       "      <td>NaN</td>\n",
       "      <td>NaN</td>\n",
       "      <td>52.0</td>\n",
       "      <td>66034.16</td>\n",
       "      <td>0</td>\n",
       "      <td>3</td>\n",
       "      <td>2018</td>\n",
       "      <td>первый</td>\n",
       "    </tr>\n",
       "    <tr>\n",
       "      <th>375</th>\n",
       "      <td>18</td>\n",
       "      <td>8400000</td>\n",
       "      <td>84.00</td>\n",
       "      <td>2018-06-26</td>\n",
       "      <td>2</td>\n",
       "      <td>2.75</td>\n",
       "      <td>3</td>\n",
       "      <td>41.00</td>\n",
       "      <td>1</td>\n",
       "      <td>False</td>\n",
       "      <td>...</td>\n",
       "      <td>0.0</td>\n",
       "      <td>NaN</td>\n",
       "      <td>0.0</td>\n",
       "      <td>NaN</td>\n",
       "      <td>201.0</td>\n",
       "      <td>100000.00</td>\n",
       "      <td>1</td>\n",
       "      <td>6</td>\n",
       "      <td>2018</td>\n",
       "      <td>первый</td>\n",
       "    </tr>\n",
       "    <tr>\n",
       "      <th>11741</th>\n",
       "      <td>0</td>\n",
       "      <td>5800000</td>\n",
       "      <td>61.30</td>\n",
       "      <td>2018-09-09</td>\n",
       "      <td>3</td>\n",
       "      <td>2.50</td>\n",
       "      <td>14</td>\n",
       "      <td>40.00</td>\n",
       "      <td>12</td>\n",
       "      <td>False</td>\n",
       "      <td>...</td>\n",
       "      <td>3.0</td>\n",
       "      <td>237.0</td>\n",
       "      <td>1.0</td>\n",
       "      <td>294.0</td>\n",
       "      <td>60.0</td>\n",
       "      <td>94616.64</td>\n",
       "      <td>6</td>\n",
       "      <td>9</td>\n",
       "      <td>2018</td>\n",
       "      <td>другой</td>\n",
       "    </tr>\n",
       "  </tbody>\n",
       "</table>\n",
       "<p>10 rows × 27 columns</p>\n",
       "</div>"
      ],
      "text/plain": [
       "       total_images  last_price  total_area first_day_exposition  rooms  \\\n",
       "12148             7     7140000       56.70           2018-07-19      2   \n",
       "22653             4     4800000       66.30           2017-04-29      2   \n",
       "13442             7    14500000       73.45           2017-02-10      2   \n",
       "14023            23    16500000      144.00           2017-11-10      5   \n",
       "20385            18     4790000       54.50           2019-02-26      2   \n",
       "17708             6     6150000       73.00           2016-03-05      4   \n",
       "2066             17     4500000       45.00           2019-04-02      1   \n",
       "6016              5     3480000       52.70           2018-03-26      2   \n",
       "375              18     8400000       84.00           2018-06-26      2   \n",
       "11741             0     5800000       61.30           2018-09-09      3   \n",
       "\n",
       "       ceiling_height  floors_total  living_area  floor  is_apartment  ...  \\\n",
       "12148            2.70            25        33.70      7         False  ...   \n",
       "22653            3.00             3        38.00      2         False  ...   \n",
       "13442            3.20             9        43.89      3         False  ...   \n",
       "14023            2.70            17        91.00      8         False  ...   \n",
       "20385            2.50             4        33.30      4         False  ...   \n",
       "17708            2.55             9        49.00      9         False  ...   \n",
       "2066             2.80             5        22.10      4         False  ...   \n",
       "6016             2.70             4        28.80      1         False  ...   \n",
       "375              2.75             3        41.00      1         False  ...   \n",
       "11741            2.50            14        40.00     12         False  ...   \n",
       "\n",
       "       parks_around3000  parks_nearest  ponds_around3000  ponds_nearest  \\\n",
       "12148               2.0          468.0               0.0            NaN   \n",
       "22653               NaN            NaN               NaN            NaN   \n",
       "13442               2.0          630.0               0.0            NaN   \n",
       "14023               1.0          226.0               0.0            NaN   \n",
       "20385               2.0          596.0               1.0         1001.0   \n",
       "17708               0.0            NaN               0.0            NaN   \n",
       "2066                NaN            NaN               NaN            NaN   \n",
       "6016                NaN            NaN               NaN            NaN   \n",
       "375                 0.0            NaN               0.0            NaN   \n",
       "11741               3.0          237.0               1.0          294.0   \n",
       "\n",
       "      days_exposition  price_per_meter  day_exposition  month_exposition  \\\n",
       "12148            63.0        125925.93               3                 7   \n",
       "22653           269.0         72398.19               5                 4   \n",
       "13442           382.0        197413.21               4                 2   \n",
       "14023             7.0        114583.33               4                11   \n",
       "20385             3.0         87889.91               1                 2   \n",
       "17708           244.0         84246.58               5                 3   \n",
       "2066              NaN        100000.00               1                 4   \n",
       "6016             52.0         66034.16               0                 3   \n",
       "375             201.0        100000.00               1                 6   \n",
       "11741            60.0         94616.64               6                 9   \n",
       "\n",
       "       year_exposition  floor_class  \n",
       "12148             2018       другой  \n",
       "22653             2017       другой  \n",
       "13442             2017       другой  \n",
       "14023             2017       другой  \n",
       "20385             2019    последний  \n",
       "17708             2016    последний  \n",
       "2066              2019       другой  \n",
       "6016              2018       первый  \n",
       "375               2018       первый  \n",
       "11741             2018       другой  \n",
       "\n",
       "[10 rows x 27 columns]"
      ]
     },
     "execution_count": 76,
     "metadata": {},
     "output_type": "execute_result"
    }
   ],
   "source": [
    "realty.sample(10)"
   ]
  },
  {
   "cell_type": "markdown",
   "metadata": {},
   "source": [
    "#### 4. Расчет соотношения жилой площади и площади кухни к общей площади квартиры:"
   ]
  },
  {
   "cell_type": "code",
   "execution_count": 77,
   "metadata": {},
   "outputs": [],
   "source": [
    "realty['living_area_share'] = round(realty['living_area'] / realty['total_area'], 2)"
   ]
  },
  {
   "cell_type": "code",
   "execution_count": 78,
   "metadata": {},
   "outputs": [],
   "source": [
    "realty['kitchen_area_share'] = round(realty['kitchen_area'] / realty['total_area'], 2)"
   ]
  },
  {
   "cell_type": "code",
   "execution_count": 79,
   "metadata": {},
   "outputs": [
    {
     "data": {
      "text/html": [
       "<div>\n",
       "<style scoped>\n",
       "    .dataframe tbody tr th:only-of-type {\n",
       "        vertical-align: middle;\n",
       "    }\n",
       "\n",
       "    .dataframe tbody tr th {\n",
       "        vertical-align: top;\n",
       "    }\n",
       "\n",
       "    .dataframe thead th {\n",
       "        text-align: right;\n",
       "    }\n",
       "</style>\n",
       "<table border=\"1\" class=\"dataframe\">\n",
       "  <thead>\n",
       "    <tr style=\"text-align: right;\">\n",
       "      <th></th>\n",
       "      <th>total_images</th>\n",
       "      <th>last_price</th>\n",
       "      <th>total_area</th>\n",
       "      <th>first_day_exposition</th>\n",
       "      <th>rooms</th>\n",
       "      <th>ceiling_height</th>\n",
       "      <th>floors_total</th>\n",
       "      <th>living_area</th>\n",
       "      <th>floor</th>\n",
       "      <th>is_apartment</th>\n",
       "      <th>...</th>\n",
       "      <th>ponds_around3000</th>\n",
       "      <th>ponds_nearest</th>\n",
       "      <th>days_exposition</th>\n",
       "      <th>price_per_meter</th>\n",
       "      <th>day_exposition</th>\n",
       "      <th>month_exposition</th>\n",
       "      <th>year_exposition</th>\n",
       "      <th>floor_class</th>\n",
       "      <th>living_area_share</th>\n",
       "      <th>kitchen_area_share</th>\n",
       "    </tr>\n",
       "  </thead>\n",
       "  <tbody>\n",
       "    <tr>\n",
       "      <th>18824</th>\n",
       "      <td>19</td>\n",
       "      <td>11990000</td>\n",
       "      <td>146.00</td>\n",
       "      <td>2019-02-27</td>\n",
       "      <td>4</td>\n",
       "      <td>3.00</td>\n",
       "      <td>6</td>\n",
       "      <td>77.60000</td>\n",
       "      <td>5</td>\n",
       "      <td>False</td>\n",
       "      <td>...</td>\n",
       "      <td>1.0</td>\n",
       "      <td>479.0</td>\n",
       "      <td>NaN</td>\n",
       "      <td>82123.29</td>\n",
       "      <td>2</td>\n",
       "      <td>2</td>\n",
       "      <td>2019</td>\n",
       "      <td>другой</td>\n",
       "      <td>0.53</td>\n",
       "      <td>0.19</td>\n",
       "    </tr>\n",
       "    <tr>\n",
       "      <th>13488</th>\n",
       "      <td>12</td>\n",
       "      <td>7000000</td>\n",
       "      <td>64.00</td>\n",
       "      <td>2018-11-11</td>\n",
       "      <td>2</td>\n",
       "      <td>2.70</td>\n",
       "      <td>9</td>\n",
       "      <td>29.50000</td>\n",
       "      <td>8</td>\n",
       "      <td>False</td>\n",
       "      <td>...</td>\n",
       "      <td>0.0</td>\n",
       "      <td>NaN</td>\n",
       "      <td>5.0</td>\n",
       "      <td>109375.00</td>\n",
       "      <td>6</td>\n",
       "      <td>11</td>\n",
       "      <td>2018</td>\n",
       "      <td>другой</td>\n",
       "      <td>0.46</td>\n",
       "      <td>0.19</td>\n",
       "    </tr>\n",
       "    <tr>\n",
       "      <th>3477</th>\n",
       "      <td>13</td>\n",
       "      <td>11900000</td>\n",
       "      <td>72.00</td>\n",
       "      <td>2018-02-20</td>\n",
       "      <td>2</td>\n",
       "      <td>3.00</td>\n",
       "      <td>25</td>\n",
       "      <td>36.00000</td>\n",
       "      <td>9</td>\n",
       "      <td>False</td>\n",
       "      <td>...</td>\n",
       "      <td>0.0</td>\n",
       "      <td>NaN</td>\n",
       "      <td>119.0</td>\n",
       "      <td>165277.78</td>\n",
       "      <td>1</td>\n",
       "      <td>2</td>\n",
       "      <td>2018</td>\n",
       "      <td>другой</td>\n",
       "      <td>0.50</td>\n",
       "      <td>0.19</td>\n",
       "    </tr>\n",
       "    <tr>\n",
       "      <th>14260</th>\n",
       "      <td>4</td>\n",
       "      <td>3595000</td>\n",
       "      <td>55.09</td>\n",
       "      <td>2015-09-15</td>\n",
       "      <td>1</td>\n",
       "      <td>2.70</td>\n",
       "      <td>18</td>\n",
       "      <td>26.52035</td>\n",
       "      <td>1</td>\n",
       "      <td>False</td>\n",
       "      <td>...</td>\n",
       "      <td>NaN</td>\n",
       "      <td>NaN</td>\n",
       "      <td>1047.0</td>\n",
       "      <td>65256.85</td>\n",
       "      <td>1</td>\n",
       "      <td>9</td>\n",
       "      <td>2015</td>\n",
       "      <td>первый</td>\n",
       "      <td>0.48</td>\n",
       "      <td>0.34</td>\n",
       "    </tr>\n",
       "    <tr>\n",
       "      <th>20618</th>\n",
       "      <td>13</td>\n",
       "      <td>5000000</td>\n",
       "      <td>53.50</td>\n",
       "      <td>2018-03-25</td>\n",
       "      <td>2</td>\n",
       "      <td>2.50</td>\n",
       "      <td>9</td>\n",
       "      <td>21.50000</td>\n",
       "      <td>1</td>\n",
       "      <td>False</td>\n",
       "      <td>...</td>\n",
       "      <td>0.0</td>\n",
       "      <td>NaN</td>\n",
       "      <td>NaN</td>\n",
       "      <td>93457.94</td>\n",
       "      <td>6</td>\n",
       "      <td>3</td>\n",
       "      <td>2018</td>\n",
       "      <td>первый</td>\n",
       "      <td>0.40</td>\n",
       "      <td>0.14</td>\n",
       "    </tr>\n",
       "    <tr>\n",
       "      <th>18919</th>\n",
       "      <td>20</td>\n",
       "      <td>24900000</td>\n",
       "      <td>129.00</td>\n",
       "      <td>2017-12-20</td>\n",
       "      <td>3</td>\n",
       "      <td>3.00</td>\n",
       "      <td>9</td>\n",
       "      <td>75.00000</td>\n",
       "      <td>5</td>\n",
       "      <td>False</td>\n",
       "      <td>...</td>\n",
       "      <td>3.0</td>\n",
       "      <td>457.0</td>\n",
       "      <td>398.0</td>\n",
       "      <td>193023.26</td>\n",
       "      <td>2</td>\n",
       "      <td>12</td>\n",
       "      <td>2017</td>\n",
       "      <td>другой</td>\n",
       "      <td>0.58</td>\n",
       "      <td>0.12</td>\n",
       "    </tr>\n",
       "    <tr>\n",
       "      <th>616</th>\n",
       "      <td>12</td>\n",
       "      <td>15800000</td>\n",
       "      <td>130.00</td>\n",
       "      <td>2019-04-04</td>\n",
       "      <td>5</td>\n",
       "      <td>2.55</td>\n",
       "      <td>5</td>\n",
       "      <td>83.00000</td>\n",
       "      <td>2</td>\n",
       "      <td>False</td>\n",
       "      <td>...</td>\n",
       "      <td>1.0</td>\n",
       "      <td>225.0</td>\n",
       "      <td>NaN</td>\n",
       "      <td>121538.46</td>\n",
       "      <td>3</td>\n",
       "      <td>4</td>\n",
       "      <td>2019</td>\n",
       "      <td>другой</td>\n",
       "      <td>0.64</td>\n",
       "      <td>0.11</td>\n",
       "    </tr>\n",
       "    <tr>\n",
       "      <th>6224</th>\n",
       "      <td>10</td>\n",
       "      <td>2500000</td>\n",
       "      <td>53.80</td>\n",
       "      <td>2018-02-20</td>\n",
       "      <td>2</td>\n",
       "      <td>3.00</td>\n",
       "      <td>4</td>\n",
       "      <td>29.90000</td>\n",
       "      <td>2</td>\n",
       "      <td>False</td>\n",
       "      <td>...</td>\n",
       "      <td>NaN</td>\n",
       "      <td>NaN</td>\n",
       "      <td>371.0</td>\n",
       "      <td>46468.40</td>\n",
       "      <td>1</td>\n",
       "      <td>2</td>\n",
       "      <td>2018</td>\n",
       "      <td>другой</td>\n",
       "      <td>0.56</td>\n",
       "      <td>0.16</td>\n",
       "    </tr>\n",
       "    <tr>\n",
       "      <th>20582</th>\n",
       "      <td>9</td>\n",
       "      <td>3300000</td>\n",
       "      <td>58.00</td>\n",
       "      <td>2017-10-13</td>\n",
       "      <td>2</td>\n",
       "      <td>2.60</td>\n",
       "      <td>10</td>\n",
       "      <td>30.00000</td>\n",
       "      <td>1</td>\n",
       "      <td>False</td>\n",
       "      <td>...</td>\n",
       "      <td>NaN</td>\n",
       "      <td>NaN</td>\n",
       "      <td>38.0</td>\n",
       "      <td>56896.55</td>\n",
       "      <td>4</td>\n",
       "      <td>10</td>\n",
       "      <td>2017</td>\n",
       "      <td>первый</td>\n",
       "      <td>0.52</td>\n",
       "      <td>0.14</td>\n",
       "    </tr>\n",
       "    <tr>\n",
       "      <th>17547</th>\n",
       "      <td>13</td>\n",
       "      <td>6870000</td>\n",
       "      <td>61.40</td>\n",
       "      <td>2016-01-14</td>\n",
       "      <td>2</td>\n",
       "      <td>2.75</td>\n",
       "      <td>23</td>\n",
       "      <td>35.80000</td>\n",
       "      <td>11</td>\n",
       "      <td>False</td>\n",
       "      <td>...</td>\n",
       "      <td>0.0</td>\n",
       "      <td>NaN</td>\n",
       "      <td>162.0</td>\n",
       "      <td>111889.25</td>\n",
       "      <td>3</td>\n",
       "      <td>1</td>\n",
       "      <td>2016</td>\n",
       "      <td>другой</td>\n",
       "      <td>0.58</td>\n",
       "      <td>0.16</td>\n",
       "    </tr>\n",
       "  </tbody>\n",
       "</table>\n",
       "<p>10 rows × 29 columns</p>\n",
       "</div>"
      ],
      "text/plain": [
       "       total_images  last_price  total_area first_day_exposition  rooms  \\\n",
       "18824            19    11990000      146.00           2019-02-27      4   \n",
       "13488            12     7000000       64.00           2018-11-11      2   \n",
       "3477             13    11900000       72.00           2018-02-20      2   \n",
       "14260             4     3595000       55.09           2015-09-15      1   \n",
       "20618            13     5000000       53.50           2018-03-25      2   \n",
       "18919            20    24900000      129.00           2017-12-20      3   \n",
       "616              12    15800000      130.00           2019-04-04      5   \n",
       "6224             10     2500000       53.80           2018-02-20      2   \n",
       "20582             9     3300000       58.00           2017-10-13      2   \n",
       "17547            13     6870000       61.40           2016-01-14      2   \n",
       "\n",
       "       ceiling_height  floors_total  living_area  floor  is_apartment  ...  \\\n",
       "18824            3.00             6     77.60000      5         False  ...   \n",
       "13488            2.70             9     29.50000      8         False  ...   \n",
       "3477             3.00            25     36.00000      9         False  ...   \n",
       "14260            2.70            18     26.52035      1         False  ...   \n",
       "20618            2.50             9     21.50000      1         False  ...   \n",
       "18919            3.00             9     75.00000      5         False  ...   \n",
       "616              2.55             5     83.00000      2         False  ...   \n",
       "6224             3.00             4     29.90000      2         False  ...   \n",
       "20582            2.60            10     30.00000      1         False  ...   \n",
       "17547            2.75            23     35.80000     11         False  ...   \n",
       "\n",
       "       ponds_around3000  ponds_nearest  days_exposition  price_per_meter  \\\n",
       "18824               1.0          479.0              NaN         82123.29   \n",
       "13488               0.0            NaN              5.0        109375.00   \n",
       "3477                0.0            NaN            119.0        165277.78   \n",
       "14260               NaN            NaN           1047.0         65256.85   \n",
       "20618               0.0            NaN              NaN         93457.94   \n",
       "18919               3.0          457.0            398.0        193023.26   \n",
       "616                 1.0          225.0              NaN        121538.46   \n",
       "6224                NaN            NaN            371.0         46468.40   \n",
       "20582               NaN            NaN             38.0         56896.55   \n",
       "17547               0.0            NaN            162.0        111889.25   \n",
       "\n",
       "      day_exposition  month_exposition  year_exposition  floor_class  \\\n",
       "18824              2                 2             2019       другой   \n",
       "13488              6                11             2018       другой   \n",
       "3477               1                 2             2018       другой   \n",
       "14260              1                 9             2015       первый   \n",
       "20618              6                 3             2018       первый   \n",
       "18919              2                12             2017       другой   \n",
       "616                3                 4             2019       другой   \n",
       "6224               1                 2             2018       другой   \n",
       "20582              4                10             2017       первый   \n",
       "17547              3                 1             2016       другой   \n",
       "\n",
       "       living_area_share  kitchen_area_share  \n",
       "18824               0.53                0.19  \n",
       "13488               0.46                0.19  \n",
       "3477                0.50                0.19  \n",
       "14260               0.48                0.34  \n",
       "20618               0.40                0.14  \n",
       "18919               0.58                0.12  \n",
       "616                 0.64                0.11  \n",
       "6224                0.56                0.16  \n",
       "20582               0.52                0.14  \n",
       "17547               0.58                0.16  \n",
       "\n",
       "[10 rows x 29 columns]"
      ]
     },
     "execution_count": 79,
     "metadata": {},
     "output_type": "execute_result"
    }
   ],
   "source": [
    "realty.sample(10)"
   ]
  },
  {
   "cell_type": "markdown",
   "metadata": {},
   "source": [
    "<a id = \"step4\"></a>\n",
    "## Шаг 4. Проведите исследовательский анализ данных и выполните инструкции\n",
    "\n",
    "[Начало](#head)  [1](#step1)  [2](#step2)  [3](#step3) [5](#step5)"
   ]
  },
  {
   "cell_type": "markdown",
   "metadata": {},
   "source": [
    "#### Изучение параметров: площадь, цена, число комнат, высота потолков. Построение гистограмм."
   ]
  },
  {
   "cell_type": "code",
   "execution_count": 80,
   "metadata": {},
   "outputs": [],
   "source": [
    "column_names = ['total_area', 'price_per_meter', 'rooms', 'ceiling_height']"
   ]
  },
  {
   "cell_type": "code",
   "execution_count": 81,
   "metadata": {
    "scrolled": false
   },
   "outputs": [
    {
     "name": "stdout",
     "output_type": "stream",
     "text": [
      "total_area\n",
      "         total_area\n",
      "count  23626.000000\n",
      "mean      60.378810\n",
      "std       35.688433\n",
      "min       12.000000\n",
      "25%       40.000000\n",
      "50%       52.000000\n",
      "75%       69.900000\n",
      "max      900.000000\n"
     ]
    },
    {
     "data": {
      "image/png": "[encoded data removed]",
      "text/plain": [
       "<Figure size 432x288 with 1 Axes>"
      ]
     },
     "metadata": {
      "needs_background": "light"
     },
     "output_type": "display_data"
    },
    {
     "data": {
      "image/png": "[encoded data removed]",
      "text/plain": [
       "<Figure size 432x288 with 1 Axes>"
      ]
     },
     "metadata": {
      "needs_background": "light"
     },
     "output_type": "display_data"
    },
    {
     "name": "stdout",
     "output_type": "stream",
     "text": [
      "price_per_meter\n",
      "       price_per_meter\n",
      "count     2.362600e+04\n",
      "mean      9.936917e+04\n",
      "std       5.019599e+04\n",
      "min       1.118300e+02\n",
      "25%       7.657856e+04\n",
      "50%       9.500000e+04\n",
      "75%       1.142044e+05\n",
      "max       1.907500e+06\n"
     ]
    },
    {
     "data": {
      "image/png": "[encoded data removed]",
      "text/plain": [
       "<Figure size 432x288 with 1 Axes>"
      ]
     },
     "metadata": {
      "needs_background": "light"
     },
     "output_type": "display_data"
    },
    {
     "data": {
      "image/png": "[encoded data removed]",
      "text/plain": [
       "<Figure size 432x288 with 1 Axes>"
      ]
     },
     "metadata": {
      "needs_background": "light"
     },
     "output_type": "display_data"
    },
    {
     "name": "stdout",
     "output_type": "stream",
     "text": [
      "rooms\n",
      "              rooms\n",
      "count  23626.000000\n",
      "mean       2.071701\n",
      "std        1.079144\n",
      "min        0.000000\n",
      "25%        1.000000\n",
      "50%        2.000000\n",
      "75%        3.000000\n",
      "max       19.000000\n"
     ]
    },
    {
     "data": {
      "image/png": "[encoded data removed]",
      "text/plain": [
       "<Figure size 432x288 with 1 Axes>"
      ]
     },
     "metadata": {
      "needs_background": "light"
     },
     "output_type": "display_data"
    },
    {
     "data": {
      "image/png": "[encoded data removed]",
      "text/plain": [
       "<Figure size 432x288 with 1 Axes>"
      ]
     },
     "metadata": {
      "needs_background": "light"
     },
     "output_type": "display_data"
    },
    {
     "name": "stdout",
     "output_type": "stream",
     "text": [
      "ceiling_height\n",
      "       ceiling_height\n",
      "count    23626.000000\n",
      "mean         2.733399\n",
      "std          0.969834\n",
      "min          1.000000\n",
      "25%          2.550000\n",
      "50%          2.650000\n",
      "75%          2.750000\n",
      "max        100.000000\n"
     ]
    },
    {
     "data": {
      "image/png": "[encoded data removed]",
      "text/plain": [
       "<Figure size 432x288 with 1 Axes>"
      ]
     },
     "metadata": {
      "needs_background": "light"
     },
     "output_type": "display_data"
    },
    {
     "data": {
      "image/png": "[encoded data removed]",
      "text/plain": [
       "<Figure size 432x288 with 1 Axes>"
      ]
     },
     "metadata": {
      "needs_background": "light"
     },
     "output_type": "display_data"
    }
   ],
   "source": [
    "for column_name in column_names:\n",
    "    print(column_name)\n",
    "    print(realty[[column_name]].describe())\n",
    "    q1 = np.percentile(realty[column_name], 25)\n",
    "    q3 = np.percentile(realty[column_name], 75)\n",
    "    realty[column_name].hist(bins = 20, \n",
    "                             range = (0, q3*3))\n",
    "    plt.show()\n",
    "    realty.boxplot(column = column_name)\n",
    "    plt.ylim(0, q3*3)\n",
    "    plt.show()"
   ]
  },
  {
   "cell_type": "markdown",
   "metadata": {},
   "source": [
    "Глядя на построенные гистограммы, можно сказать, что данные распределены нормально. Все графики имеют один ярко выраженный пик. Основная масса наблюдений сосредоточена вокруг среднего значения.\n",
    "\n",
    "Из диаграмм распределения следует, что во всех рассматриваемых параметрах есть аномальные значения. "
   ]
  },
  {
   "cell_type": "markdown",
   "metadata": {},
   "source": [
    "<font color='green'>Гистограммы построены, по ним сделаны подробные выводы. Молодец, что автоматизируешь построение графиков."
   ]
  },
  {
   "cell_type": "markdown",
   "metadata": {},
   "source": [
    "#### Изучение данных о времени продажи квартиры"
   ]
  },
  {
   "cell_type": "code",
   "execution_count": 82,
   "metadata": {},
   "outputs": [
    {
     "data": {
      "text/plain": [
       "count    20455.000000\n",
       "mean       180.988658\n",
       "std        219.819351\n",
       "min          1.000000\n",
       "25%         45.000000\n",
       "50%         95.000000\n",
       "75%        232.000000\n",
       "max       1580.000000\n",
       "Name: days_exposition, dtype: float64"
      ]
     },
     "execution_count": 82,
     "metadata": {},
     "output_type": "execute_result"
    }
   ],
   "source": [
    "realty['days_exposition'].describe()"
   ]
  },
  {
   "cell_type": "code",
   "execution_count": 83,
   "metadata": {},
   "outputs": [
    {
     "data": {
      "text/html": [
       "<div>\n",
       "<style scoped>\n",
       "    .dataframe tbody tr th:only-of-type {\n",
       "        vertical-align: middle;\n",
       "    }\n",
       "\n",
       "    .dataframe tbody tr th {\n",
       "        vertical-align: top;\n",
       "    }\n",
       "\n",
       "    .dataframe thead th {\n",
       "        text-align: right;\n",
       "    }\n",
       "</style>\n",
       "<table border=\"1\" class=\"dataframe\">\n",
       "  <thead>\n",
       "    <tr style=\"text-align: right;\">\n",
       "      <th></th>\n",
       "      <th>count_exposition</th>\n",
       "      <th>mean_exposition</th>\n",
       "      <th>median_exposition</th>\n",
       "    </tr>\n",
       "  </thead>\n",
       "  <tbody>\n",
       "    <tr>\n",
       "      <th>Санкт-Петербург</th>\n",
       "      <td>13600</td>\n",
       "      <td>182.857574</td>\n",
       "      <td>95.0</td>\n",
       "    </tr>\n",
       "    <tr>\n",
       "      <th>посёлок Мурино</th>\n",
       "      <td>514</td>\n",
       "      <td>147.173152</td>\n",
       "      <td>72.5</td>\n",
       "    </tr>\n",
       "    <tr>\n",
       "      <th>посёлок Шушары</th>\n",
       "      <td>407</td>\n",
       "      <td>156.085995</td>\n",
       "      <td>92.0</td>\n",
       "    </tr>\n",
       "    <tr>\n",
       "      <th>Всеволожск</th>\n",
       "      <td>336</td>\n",
       "      <td>198.226190</td>\n",
       "      <td>124.5</td>\n",
       "    </tr>\n",
       "    <tr>\n",
       "      <th>Пушкин</th>\n",
       "      <td>307</td>\n",
       "      <td>209.579805</td>\n",
       "      <td>130.0</td>\n",
       "    </tr>\n",
       "    <tr>\n",
       "      <th>Колпино</th>\n",
       "      <td>307</td>\n",
       "      <td>144.058632</td>\n",
       "      <td>74.0</td>\n",
       "    </tr>\n",
       "    <tr>\n",
       "      <th>посёлок Парголово</th>\n",
       "      <td>301</td>\n",
       "      <td>152.897010</td>\n",
       "      <td>77.0</td>\n",
       "    </tr>\n",
       "    <tr>\n",
       "      <th>деревня Кудрово</th>\n",
       "      <td>299</td>\n",
       "      <td>180.872910</td>\n",
       "      <td>80.0</td>\n",
       "    </tr>\n",
       "    <tr>\n",
       "      <th>Гатчина</th>\n",
       "      <td>264</td>\n",
       "      <td>191.515152</td>\n",
       "      <td>100.5</td>\n",
       "    </tr>\n",
       "    <tr>\n",
       "      <th>Выборг</th>\n",
       "      <td>207</td>\n",
       "      <td>178.024155</td>\n",
       "      <td>101.0</td>\n",
       "    </tr>\n",
       "  </tbody>\n",
       "</table>\n",
       "</div>"
      ],
      "text/plain": [
       "                   count_exposition  mean_exposition  median_exposition\n",
       "Санкт-Петербург               13600       182.857574               95.0\n",
       "посёлок Мурино                  514       147.173152               72.5\n",
       "посёлок Шушары                  407       156.085995               92.0\n",
       "Всеволожск                      336       198.226190              124.5\n",
       "Пушкин                          307       209.579805              130.0\n",
       "Колпино                         307       144.058632               74.0\n",
       "посёлок Парголово               301       152.897010               77.0\n",
       "деревня Кудрово                 299       180.872910               80.0\n",
       "Гатчина                         264       191.515152              100.5\n",
       "Выборг                          207       178.024155              101.0"
      ]
     },
     "execution_count": 83,
     "metadata": {},
     "output_type": "execute_result"
    }
   ],
   "source": [
    "exposition_pivot = realty.pivot_table(index='locality_name', \n",
    "                                      values='days_exposition', \n",
    "                                      aggfunc=['count','mean','median'])\n",
    "exposition_pivot.columns = ['count_exposition', 'mean_exposition','median_exposition']\n",
    "exposition_pivot.sort_values(by = 'count_exposition', ascending = False).head(10)"
   ]
  },
  {
   "cell_type": "code",
   "execution_count": 84,
   "metadata": {},
   "outputs": [
    {
     "data": {
      "image/png": "[encoded data removed]",
      "text/plain": [
       "<Figure size 432x288 with 1 Axes>"
      ]
     },
     "metadata": {
      "needs_background": "light"
     },
     "output_type": "display_data"
    },
    {
     "data": {
      "image/png": "[encoded data removed]",
      "text/plain": [
       "<Figure size 432x288 with 1 Axes>"
      ]
     },
     "metadata": {
      "needs_background": "light"
     },
     "output_type": "display_data"
    }
   ],
   "source": [
    "realty['days_exposition'].hist(bins = 30)\n",
    "plt.title('Гистограмма времени продажи кваритры №1')\n",
    "plt.show()\n",
    "realty['days_exposition'].hist(bins = 100, range = (0,200))\n",
    "plt.title('Гистограмма времени продажи кваритры №2')\n",
    "plt.show()"
   ]
  },
  {
   "cell_type": "code",
   "execution_count": 85,
   "metadata": {},
   "outputs": [
    {
     "data": {
      "text/plain": [
       "180.98865802982155"
      ]
     },
     "execution_count": 85,
     "metadata": {},
     "output_type": "execute_result"
    }
   ],
   "source": [
    "realty['days_exposition'].mean()"
   ]
  },
  {
   "cell_type": "code",
   "execution_count": 86,
   "metadata": {},
   "outputs": [
    {
     "data": {
      "text/plain": [
       "95.0"
      ]
     },
     "execution_count": 86,
     "metadata": {},
     "output_type": "execute_result"
    }
   ],
   "source": [
    "realty['days_exposition'].median()"
   ]
  },
  {
   "cell_type": "markdown",
   "metadata": {},
   "source": [
    "При сокращении диапазона гистограммы видим, что на графике образуется четыре пика: около 7 дней, в районе 40 дней, 60 дней и последний приблизительно 87 дней. Среднее время продажи кваритры составляет приблизительно 181 день - это значение завышено из-за аномально высоких значений. На основе полученных гистограмм и медианы заключаем, что в половине случаев квартира продается в течение 3 месяцев с момента размещения объявления. "
   ]
  },
  {
   "cell_type": "code",
   "execution_count": 87,
   "metadata": {},
   "outputs": [
    {
     "data": {
      "image/png": "[encoded data removed]",
      "text/plain": [
       "<Figure size 432x288 with 1 Axes>"
      ]
     },
     "metadata": {
      "needs_background": "light"
     },
     "output_type": "display_data"
    }
   ],
   "source": [
    "realty.boxplot(column = 'days_exposition')\n",
    "plt.show()"
   ]
  },
  {
   "cell_type": "markdown",
   "metadata": {},
   "source": [
    "Когда можно считать, что продажи прошли очень быстро, а когда необычно долго?\n",
    "\n",
    "Максимальный срок продажи квартиры, который содержится в наших данных, превышает 4 года, минимальный - всего 1 день. Для начала рассморим объявления о продаже, которые были опубликованы менее 14 дней. \n",
    "\n",
    "(Небольшой комментарий: Я просмотрел несколько профильных источников на тему \"За какой срок можно продать квартиру?\". Все конечно зависит от множества факторов, но тем не менее большинство риэлторов называют срок в месяц вполне приемлемым. Отсюда я решил, что верхней границей быстрых продаж сделаю 2 недели)\n"
   ]
  },
  {
   "cell_type": "code",
   "execution_count": 88,
   "metadata": {},
   "outputs": [],
   "source": [
    "realty['fast_sale'] = realty['days_exposition'] < 14"
   ]
  },
  {
   "cell_type": "code",
   "execution_count": 89,
   "metadata": {},
   "outputs": [
    {
     "name": "stdout",
     "output_type": "stream",
     "text": [
      "0.0685261999492085\n",
      "1619\n"
     ]
    }
   ],
   "source": [
    "print(realty['fast_sale'].mean())\n",
    "print(realty['fast_sale'].sum())"
   ]
  },
  {
   "cell_type": "markdown",
   "metadata": {},
   "source": [
    "Около 7% объявлений квартир были сняты в течение 14 дней по всей выборке. Рассмотрим это значение в разрезе населенных пунктов."
   ]
  },
  {
   "cell_type": "code",
   "execution_count": 90,
   "metadata": {},
   "outputs": [],
   "source": [
    "fast_sale_stat = realty.pivot_table(index = 'locality_name', values = 'fast_sale')"
   ]
  },
  {
   "cell_type": "code",
   "execution_count": 91,
   "metadata": {},
   "outputs": [],
   "source": [
    "#fast_sale_stat.sort_values(by = 'locality_name', ascending = False).head(15)"
   ]
  },
  {
   "cell_type": "code",
   "execution_count": 92,
   "metadata": {},
   "outputs": [
    {
     "data": {
      "text/plain": [
       "array([[<matplotlib.axes._subplots.AxesSubplot object at 0x0000020DD41EB460>]],\n",
       "      dtype=object)"
      ]
     },
     "execution_count": 92,
     "metadata": {},
     "output_type": "execute_result"
    },
    {
     "data": {
      "image/png": "[encoded data removed]",
      "text/plain": [
       "<Figure size 432x288 with 1 Axes>"
      ]
     },
     "metadata": {
      "needs_background": "light"
     },
     "output_type": "display_data"
    }
   ],
   "source": [
    "fast_sale_stat.hist(bins = 50)"
   ]
  },
  {
   "cell_type": "markdown",
   "metadata": {},
   "source": [
    "Пик графика находится на 0.02, значит в большинстве населенных пунктов только 2% продаж квартир аномально быстрые. Также есть населенные пункты, где все квартиры продаются в двух недель.\n",
    "\n",
    "Рассмотрим долгие продажи, которые длились более 2 лет. "
   ]
  },
  {
   "cell_type": "code",
   "execution_count": 93,
   "metadata": {},
   "outputs": [],
   "source": [
    "realty['slow_sale'] = realty['days_exposition'] > 730"
   ]
  },
  {
   "cell_type": "code",
   "execution_count": 94,
   "metadata": {},
   "outputs": [
    {
     "name": "stdout",
     "output_type": "stream",
     "text": [
      "0.031744688055532044\n",
      "750\n"
     ]
    }
   ],
   "source": [
    "print(realty['slow_sale'].mean())\n",
    "print(realty['slow_sale'].sum())"
   ]
  },
  {
   "cell_type": "markdown",
   "metadata": {},
   "source": [
    "Таких продаж всего 3,2 %."
   ]
  },
  {
   "cell_type": "code",
   "execution_count": 95,
   "metadata": {},
   "outputs": [],
   "source": [
    "slow_sale_stat = realty.pivot_table(index = 'locality_name', values = 'slow_sale')"
   ]
  },
  {
   "cell_type": "code",
   "execution_count": 96,
   "metadata": {},
   "outputs": [
    {
     "data": {
      "text/html": [
       "<div>\n",
       "<style scoped>\n",
       "    .dataframe tbody tr th:only-of-type {\n",
       "        vertical-align: middle;\n",
       "    }\n",
       "\n",
       "    .dataframe tbody tr th {\n",
       "        vertical-align: top;\n",
       "    }\n",
       "\n",
       "    .dataframe thead th {\n",
       "        text-align: right;\n",
       "    }\n",
       "</style>\n",
       "<table border=\"1\" class=\"dataframe\">\n",
       "  <thead>\n",
       "    <tr style=\"text-align: right;\">\n",
       "      <th></th>\n",
       "      <th>slow_sale</th>\n",
       "    </tr>\n",
       "    <tr>\n",
       "      <th>locality_name</th>\n",
       "      <th></th>\n",
       "    </tr>\n",
       "  </thead>\n",
       "  <tbody>\n",
       "    <tr>\n",
       "      <th>поселок Севастьяново</th>\n",
       "      <td>1.000000</td>\n",
       "    </tr>\n",
       "    <tr>\n",
       "      <th>поселок Коробицыно</th>\n",
       "      <td>1.000000</td>\n",
       "    </tr>\n",
       "    <tr>\n",
       "      <th>посёлок Лисий Нос</th>\n",
       "      <td>0.500000</td>\n",
       "    </tr>\n",
       "    <tr>\n",
       "      <th>деревня Рабитицы</th>\n",
       "      <td>0.500000</td>\n",
       "    </tr>\n",
       "    <tr>\n",
       "      <th>поселок Рябово</th>\n",
       "      <td>0.500000</td>\n",
       "    </tr>\n",
       "    <tr>\n",
       "      <th>поселок городского типа Красный Бор</th>\n",
       "      <td>0.400000</td>\n",
       "    </tr>\n",
       "    <tr>\n",
       "      <th>посёлок Молодёжное</th>\n",
       "      <td>0.400000</td>\n",
       "    </tr>\n",
       "    <tr>\n",
       "      <th>деревня Ваганово</th>\n",
       "      <td>0.333333</td>\n",
       "    </tr>\n",
       "    <tr>\n",
       "      <th>поселок Любань</th>\n",
       "      <td>0.333333</td>\n",
       "    </tr>\n",
       "    <tr>\n",
       "      <th>Высоцк</th>\n",
       "      <td>0.250000</td>\n",
       "    </tr>\n",
       "  </tbody>\n",
       "</table>\n",
       "</div>"
      ],
      "text/plain": [
       "                                     slow_sale\n",
       "locality_name                                 \n",
       "поселок Севастьяново                  1.000000\n",
       "поселок Коробицыно                    1.000000\n",
       "посёлок Лисий Нос                     0.500000\n",
       "деревня Рабитицы                      0.500000\n",
       "поселок Рябово                        0.500000\n",
       "поселок городского типа Красный Бор   0.400000\n",
       "посёлок Молодёжное                    0.400000\n",
       "деревня Ваганово                      0.333333\n",
       "поселок Любань                        0.333333\n",
       "Высоцк                                0.250000"
      ]
     },
     "execution_count": 96,
     "metadata": {},
     "output_type": "execute_result"
    }
   ],
   "source": [
    "slow_sale_stat.sort_values(by = 'slow_sale', ascending = False).head(10)"
   ]
  },
  {
   "cell_type": "code",
   "execution_count": 97,
   "metadata": {},
   "outputs": [
    {
     "data": {
      "text/plain": [
       "array([[<matplotlib.axes._subplots.AxesSubplot object at 0x0000020DD42D4610>]],\n",
       "      dtype=object)"
      ]
     },
     "execution_count": 97,
     "metadata": {},
     "output_type": "execute_result"
    },
    {
     "data": {
      "image/png": "[encoded data removed]",
      "text/plain": [
       "<Figure size 432x288 with 1 Axes>"
      ]
     },
     "metadata": {
      "needs_background": "light"
     },
     "output_type": "display_data"
    }
   ],
   "source": [
    "slow_sale_stat.hist(bins = 50)"
   ]
  },
  {
   "cell_type": "markdown",
   "metadata": {},
   "source": [
    "Как и в случае с быстрыми продажами, приблизительно 2 % квартир в большинстве населенных пунктов были выставлены на продажу более 2 лет."
   ]
  },
  {
   "cell_type": "markdown",
   "metadata": {},
   "source": [
    "#### Чистка данных\n",
    "\n",
    "Для начала сделаем срез по времени продажи квартир. Избавимся от аномально долгих и коротких продаж."
   ]
  },
  {
   "cell_type": "code",
   "execution_count": 98,
   "metadata": {},
   "outputs": [],
   "source": [
    "good_realty = realty.query('14 <= days_exposition <= 730')"
   ]
  },
  {
   "cell_type": "code",
   "execution_count": 99,
   "metadata": {},
   "outputs": [
    {
     "data": {
      "text/plain": [
       "count    18086.000000\n",
       "mean       163.891739\n",
       "std        156.872041\n",
       "min         14.000000\n",
       "25%         48.000000\n",
       "50%        103.000000\n",
       "75%        225.000000\n",
       "max        729.000000\n",
       "Name: days_exposition, dtype: float64"
      ]
     },
     "execution_count": 99,
     "metadata": {},
     "output_type": "execute_result"
    }
   ],
   "source": [
    "good_realty['days_exposition'].describe()"
   ]
  },
  {
   "cell_type": "markdown",
   "metadata": {},
   "source": [
    "После того, как из данных исчезли аномальные значения, которые мы определи ранее, среднее время продажи квартиры стало 154 дня."
   ]
  },
  {
   "cell_type": "code",
   "execution_count": 100,
   "metadata": {},
   "outputs": [
    {
     "data": {
      "text/plain": [
       "18086"
      ]
     },
     "execution_count": 100,
     "metadata": {},
     "output_type": "execute_result"
    }
   ],
   "source": [
    "len(good_realty)"
   ]
  },
  {
   "cell_type": "code",
   "execution_count": 101,
   "metadata": {},
   "outputs": [
    {
     "data": {
      "text/plain": [
       "<matplotlib.axes._subplots.AxesSubplot at 0x20dd41e5670>"
      ]
     },
     "execution_count": 101,
     "metadata": {},
     "output_type": "execute_result"
    },
    {
     "data": {
      "image/png": "[encoded data removed]",
      "text/plain": [
       "<Figure size 432x288 with 1 Axes>"
      ]
     },
     "metadata": {
      "needs_background": "light"
     },
     "output_type": "display_data"
    }
   ],
   "source": [
    "good_realty['days_exposition'].hist(bins = 20)"
   ]
  },
  {
   "cell_type": "markdown",
   "metadata": {},
   "source": [
    "Вернемся к параметрам, которые рассматривали ранее. Начнем с высоты потолков. Сегодня минимальной нормой в России считается высота потолка 2,4 метра - именно эту высоту установим в качестве нижней границы. В качестве верхней границы установим высоту 4 метра. На гистограмме распределения высоты потолков, квартир выше 4 метров очень мало. "
   ]
  },
  {
   "cell_type": "code",
   "execution_count": 102,
   "metadata": {},
   "outputs": [],
   "source": [
    "good_realty = good_realty.query('2.4 <= ceiling_height <= 4')"
   ]
  },
  {
   "cell_type": "code",
   "execution_count": 103,
   "metadata": {},
   "outputs": [
    {
     "data": {
      "text/plain": [
       "<matplotlib.axes._subplots.AxesSubplot at 0x20dd4180310>"
      ]
     },
     "execution_count": 103,
     "metadata": {},
     "output_type": "execute_result"
    },
    {
     "data": {
      "image/png": "[encoded data removed]",
      "text/plain": [
       "<Figure size 432x288 with 1 Axes>"
      ]
     },
     "metadata": {
      "needs_background": "light"
     },
     "output_type": "display_data"
    }
   ],
   "source": [
    "good_realty['ceiling_height'].hist(bins = 20)"
   ]
  },
  {
   "cell_type": "markdown",
   "metadata": {},
   "source": [
    "Большинство квартир имеют высоту потолков 2.7 и 2.5 м. Видимо это связано с изменением стандартов строительства. Средним значением в квартире нового типа, считается высота от 2,6 до 2,8 м. В то время как в квартирах старой застройки зачастую высота потоков составляет 2.5 м (например в \"хрущевках\")."
   ]
  },
  {
   "cell_type": "code",
   "execution_count": 104,
   "metadata": {},
   "outputs": [
    {
     "data": {
      "text/plain": [
       "18020"
      ]
     },
     "execution_count": 104,
     "metadata": {},
     "output_type": "execute_result"
    }
   ],
   "source": [
    "len(good_realty)"
   ]
  },
  {
   "cell_type": "markdown",
   "metadata": {},
   "source": [
    "Рассмотрим стоимость квадратного метра в квартирах:"
   ]
  },
  {
   "cell_type": "code",
   "execution_count": 105,
   "metadata": {},
   "outputs": [
    {
     "data": {
      "text/plain": [
       "count    1.802000e+04\n",
       "mean     9.736248e+04\n",
       "std      4.728515e+04\n",
       "min      7.962960e+03\n",
       "25%      7.604095e+04\n",
       "50%      9.375000e+04\n",
       "75%      1.117647e+05\n",
       "max      1.907500e+06\n",
       "Name: price_per_meter, dtype: float64"
      ]
     },
     "execution_count": 105,
     "metadata": {},
     "output_type": "execute_result"
    }
   ],
   "source": [
    "good_realty['price_per_meter'].describe()"
   ]
  },
  {
   "cell_type": "code",
   "execution_count": 106,
   "metadata": {},
   "outputs": [
    {
     "data": {
      "text/plain": [
       "108"
      ]
     },
     "execution_count": 106,
     "metadata": {},
     "output_type": "execute_result"
    }
   ],
   "source": [
    "len(good_realty[good_realty['price_per_meter'] > 300000])"
   ]
  },
  {
   "cell_type": "code",
   "execution_count": 107,
   "metadata": {},
   "outputs": [
    {
     "data": {
      "text/html": [
       "<div>\n",
       "<style scoped>\n",
       "    .dataframe tbody tr th:only-of-type {\n",
       "        vertical-align: middle;\n",
       "    }\n",
       "\n",
       "    .dataframe tbody tr th {\n",
       "        vertical-align: top;\n",
       "    }\n",
       "\n",
       "    .dataframe thead th {\n",
       "        text-align: right;\n",
       "    }\n",
       "</style>\n",
       "<table border=\"1\" class=\"dataframe\">\n",
       "  <thead>\n",
       "    <tr style=\"text-align: right;\">\n",
       "      <th></th>\n",
       "      <th>mean</th>\n",
       "      <th>count</th>\n",
       "    </tr>\n",
       "    <tr>\n",
       "      <th>locality_name</th>\n",
       "      <th></th>\n",
       "      <th></th>\n",
       "    </tr>\n",
       "  </thead>\n",
       "  <tbody>\n",
       "    <tr>\n",
       "      <th>Всеволожск</th>\n",
       "      <td>640422.350000</td>\n",
       "      <td>1</td>\n",
       "    </tr>\n",
       "    <tr>\n",
       "      <th>Зеленогорск</th>\n",
       "      <td>323943.660000</td>\n",
       "      <td>1</td>\n",
       "    </tr>\n",
       "    <tr>\n",
       "      <th>Санкт-Петербург</th>\n",
       "      <td>454092.158491</td>\n",
       "      <td>106</td>\n",
       "    </tr>\n",
       "  </tbody>\n",
       "</table>\n",
       "</div>"
      ],
      "text/plain": [
       "                          mean  count\n",
       "locality_name                        \n",
       "Всеволожск       640422.350000      1\n",
       "Зеленогорск      323943.660000      1\n",
       "Санкт-Петербург  454092.158491    106"
      ]
     },
     "execution_count": 107,
     "metadata": {},
     "output_type": "execute_result"
    }
   ],
   "source": [
    "good_realty[good_realty['price_per_meter'] > \n",
    "            300000].groupby('locality_name')['price_per_meter'].agg({'count','mean'})"
   ]
  },
  {
   "cell_type": "code",
   "execution_count": 108,
   "metadata": {},
   "outputs": [
    {
     "data": {
      "text/plain": [
       "<matplotlib.axes._subplots.AxesSubplot at 0x20dd3a46df0>"
      ]
     },
     "execution_count": 108,
     "metadata": {},
     "output_type": "execute_result"
    },
    {
     "data": {
      "image/png": "[encoded data removed]",
      "text/plain": [
       "<Figure size 432x288 with 1 Axes>"
      ]
     },
     "metadata": {
      "needs_background": "light"
     },
     "output_type": "display_data"
    }
   ],
   "source": [
    "good_realty['price_per_meter'].hist(bins = 50, range = (0, 500000))"
   ]
  },
  {
   "cell_type": "code",
   "execution_count": 109,
   "metadata": {},
   "outputs": [
    {
     "data": {
      "text/plain": [
       "(0.0, 500000.0)"
      ]
     },
     "execution_count": 109,
     "metadata": {},
     "output_type": "execute_result"
    },
    {
     "data": {
      "image/png": "[encoded data removed]",
      "text/plain": [
       "<Figure size 432x288 with 1 Axes>"
      ]
     },
     "metadata": {
      "needs_background": "light"
     },
     "output_type": "display_data"
    }
   ],
   "source": [
    "good_realty.boxplot(column = 'price_per_meter')\n",
    "plt.ylim(0, 500000)"
   ]
  },
  {
   "cell_type": "markdown",
   "metadata": {},
   "source": [
    "В целом стоимость квадратного метра по всем объявлениям имеет нормальное распределение. Ограничим максимальное значение суммой 300000 руб. Таким образом мы исклюбчим из выборки ещё 108 квартир.\n",
    "\n",
    "Также в таблице имеются объявления с неправдоподобно низкими ценами. Есть объявления с ценой за квадратный метр ниже 20000 руб. \n"
   ]
  },
  {
   "cell_type": "code",
   "execution_count": 110,
   "metadata": {},
   "outputs": [],
   "source": [
    "good_realty['low_price_realty'] = good_realty['price_per_meter'] < 20000"
   ]
  },
  {
   "cell_type": "code",
   "execution_count": 111,
   "metadata": {},
   "outputs": [
    {
     "data": {
      "text/plain": [
       "0.006992230854605993"
      ]
     },
     "execution_count": 111,
     "metadata": {},
     "output_type": "execute_result"
    }
   ],
   "source": [
    "good_realty['low_price_realty'].mean()"
   ]
  },
  {
   "cell_type": "code",
   "execution_count": 112,
   "metadata": {},
   "outputs": [
    {
     "data": {
      "text/plain": [
       "126"
      ]
     },
     "execution_count": 112,
     "metadata": {},
     "output_type": "execute_result"
    }
   ],
   "source": [
    "good_realty['low_price_realty'].sum()"
   ]
  },
  {
   "cell_type": "code",
   "execution_count": 113,
   "metadata": {},
   "outputs": [],
   "source": [
    "low_price_pivot = good_realty.pivot_table(index = 'locality_name', values = 'low_price_realty')\n",
    "#low_price_pivot[low_price_pivot['low_price_realty'] > 0]"
   ]
  },
  {
   "cell_type": "code",
   "execution_count": 114,
   "metadata": {},
   "outputs": [
    {
     "data": {
      "text/plain": [
       "array([[<matplotlib.axes._subplots.AxesSubplot object at 0x0000020DD41856D0>]],\n",
       "      dtype=object)"
      ]
     },
     "execution_count": 114,
     "metadata": {},
     "output_type": "execute_result"
    },
    {
     "data": {
      "image/png": "[encoded data removed]",
      "text/plain": [
       "<Figure size 432x288 with 1 Axes>"
      ]
     },
     "metadata": {
      "needs_background": "light"
     },
     "output_type": "display_data"
    }
   ],
   "source": [
    "low_price_pivot.hist(bins = 50)"
   ]
  },
  {
   "cell_type": "markdown",
   "metadata": {},
   "source": [
    "Преимущественно жилье с очень низкими ценами продается в деревнях и поселках. Во многих из них доля квартир с ценой ниже 20000 тысяч достигает 100 %. Возможно это и правда, но в рамках нашего исследования эти данные выглядят как \"выброс\", поэтому избавимся от них."
   ]
  },
  {
   "cell_type": "code",
   "execution_count": 115,
   "metadata": {},
   "outputs": [],
   "source": [
    "good_realty = good_realty.query('20000 <= price_per_meter <= 300000')"
   ]
  },
  {
   "cell_type": "markdown",
   "metadata": {},
   "source": [
    "Далее рассмотрим аномальные значения в площадах квартир:"
   ]
  },
  {
   "cell_type": "code",
   "execution_count": 116,
   "metadata": {},
   "outputs": [
    {
     "data": {
      "text/plain": [
       "count    17786.000000\n",
       "mean        58.049940\n",
       "std         30.784374\n",
       "min         12.000000\n",
       "25%         39.600000\n",
       "50%         50.800000\n",
       "75%         67.200000\n",
       "max        590.000000\n",
       "Name: total_area, dtype: float64"
      ]
     },
     "execution_count": 116,
     "metadata": {},
     "output_type": "execute_result"
    }
   ],
   "source": [
    "good_realty['total_area'].describe()"
   ]
  },
  {
   "cell_type": "code",
   "execution_count": 117,
   "metadata": {},
   "outputs": [
    {
     "data": {
      "text/plain": [
       "<matplotlib.axes._subplots.AxesSubplot at 0x20dd3a05e80>"
      ]
     },
     "execution_count": 117,
     "metadata": {},
     "output_type": "execute_result"
    },
    {
     "data": {
      "image/png": "[encoded data removed]",
      "text/plain": [
       "<Figure size 432x288 with 1 Axes>"
      ]
     },
     "metadata": {
      "needs_background": "light"
     },
     "output_type": "display_data"
    }
   ],
   "source": [
    "good_realty.boxplot(column = 'total_area')"
   ]
  },
  {
   "cell_type": "markdown",
   "metadata": {},
   "source": [
    "Уберем из таблицы квартиры с площадью свыше 300 кв.м. Минимальные значения площади попадают в пределы нормальных показателей. "
   ]
  },
  {
   "cell_type": "code",
   "execution_count": 118,
   "metadata": {},
   "outputs": [],
   "source": [
    "good_realty = good_realty.query('total_area <= 300')"
   ]
  },
  {
   "cell_type": "code",
   "execution_count": 119,
   "metadata": {},
   "outputs": [
    {
     "data": {
      "text/plain": [
       "17758"
      ]
     },
     "execution_count": 119,
     "metadata": {},
     "output_type": "execute_result"
    }
   ],
   "source": [
    "len(good_realty)"
   ]
  },
  {
   "cell_type": "markdown",
   "metadata": {},
   "source": [
    "### Какие факторы больше всего влияют на стоимость квартиры?\n",
    "\n",
    "Для начала рассмотрим как влияют на цену квадратного метра площадь квартиры, высота потолков, количество комнат, а также удаленность от центра."
   ]
  },
  {
   "cell_type": "code",
   "execution_count": 120,
   "metadata": {},
   "outputs": [
    {
     "data": {
      "text/html": [
       "<div>\n",
       "<style scoped>\n",
       "    .dataframe tbody tr th:only-of-type {\n",
       "        vertical-align: middle;\n",
       "    }\n",
       "\n",
       "    .dataframe tbody tr th {\n",
       "        vertical-align: top;\n",
       "    }\n",
       "\n",
       "    .dataframe thead th {\n",
       "        text-align: right;\n",
       "    }\n",
       "</style>\n",
       "<table border=\"1\" class=\"dataframe\">\n",
       "  <thead>\n",
       "    <tr style=\"text-align: right;\">\n",
       "      <th></th>\n",
       "      <th>price_per_meter</th>\n",
       "      <th>total_area</th>\n",
       "      <th>rooms</th>\n",
       "      <th>cityCenters_nearest</th>\n",
       "      <th>living_area</th>\n",
       "      <th>kitchen_area</th>\n",
       "      <th>ceiling_height</th>\n",
       "      <th>floor</th>\n",
       "    </tr>\n",
       "  </thead>\n",
       "  <tbody>\n",
       "    <tr>\n",
       "      <th>price_per_meter</th>\n",
       "      <td>1.0</td>\n",
       "      <td>0.185285</td>\n",
       "      <td>-0.04372</td>\n",
       "      <td>-0.405105</td>\n",
       "      <td>0.09203</td>\n",
       "      <td>0.245082</td>\n",
       "      <td>0.297039</td>\n",
       "      <td>0.198943</td>\n",
       "    </tr>\n",
       "  </tbody>\n",
       "</table>\n",
       "</div>"
      ],
      "text/plain": [
       "                 price_per_meter  total_area    rooms  cityCenters_nearest  \\\n",
       "price_per_meter              1.0    0.185285 -0.04372            -0.405105   \n",
       "\n",
       "                 living_area  kitchen_area  ceiling_height     floor  \n",
       "price_per_meter      0.09203      0.245082        0.297039  0.198943  "
      ]
     },
     "execution_count": 120,
     "metadata": {},
     "output_type": "execute_result"
    }
   ],
   "source": [
    "good_realty[['price_per_meter','total_area','rooms','cityCenters_nearest', \n",
    "             'living_area', 'kitchen_area', 'ceiling_height','floor' ]].corr().head(1)"
   ]
  },
  {
   "cell_type": "markdown",
   "metadata": {},
   "source": [
    "Сильнее всего цена связана c удаленностью от центра. Эти два параметра имеют обратную зависимость. Площадь квартиры и количество комнат слабо влияют на цену. Видимо это связано с тем, что квартиры выбирают по совокупности определенных характеристик, поэтому ни у одного из показателей нет большого преимущества. "
   ]
  },
  {
   "cell_type": "markdown",
   "metadata": {},
   "source": [
    "Разобьем квартиры на несколько категорий в зависимости от площади и посмотрим на связь между этими параметрами. "
   ]
  },
  {
   "cell_type": "code",
   "execution_count": 121,
   "metadata": {},
   "outputs": [
    {
     "data": {
      "text/plain": [
       "count    17758.000000\n",
       "mean        57.540648\n",
       "std         27.866496\n",
       "min         12.000000\n",
       "25%         39.500000\n",
       "50%         50.700000\n",
       "75%         67.100000\n",
       "max        300.000000\n",
       "Name: total_area, dtype: float64"
      ]
     },
     "execution_count": 121,
     "metadata": {},
     "output_type": "execute_result"
    }
   ],
   "source": [
    "good_realty['total_area'].describe() # Получится 4 категории"
   ]
  },
  {
   "cell_type": "code",
   "execution_count": 122,
   "metadata": {},
   "outputs": [],
   "source": [
    "def area_category(m):\n",
    "    if  m < 40:\n",
    "        return 'Квартиры до 40 кв.м'\n",
    "    if 40 <= m < 51:\n",
    "        return 'Квартиры от 40 до 51 кв.м.'\n",
    "    if 51 <= m < 67:\n",
    "        return 'Квартиры от 51 до 67 кв.м.'   \n",
    "    return 'Квартиры свыше 67 кв.м.'"
   ]
  },
  {
   "cell_type": "code",
   "execution_count": 123,
   "metadata": {},
   "outputs": [],
   "source": [
    "good_realty['area_category'] = good_realty['total_area'].apply(area_category)"
   ]
  },
  {
   "cell_type": "code",
   "execution_count": 124,
   "metadata": {},
   "outputs": [
    {
     "data": {
      "text/html": [
       "<div>\n",
       "<style scoped>\n",
       "    .dataframe tbody tr th:only-of-type {\n",
       "        vertical-align: middle;\n",
       "    }\n",
       "\n",
       "    .dataframe tbody tr th {\n",
       "        vertical-align: top;\n",
       "    }\n",
       "\n",
       "    .dataframe thead tr th {\n",
       "        text-align: left;\n",
       "    }\n",
       "\n",
       "    .dataframe thead tr:last-of-type th {\n",
       "        text-align: right;\n",
       "    }\n",
       "</style>\n",
       "<table border=\"1\" class=\"dataframe\">\n",
       "  <thead>\n",
       "    <tr>\n",
       "      <th></th>\n",
       "      <th>count</th>\n",
       "      <th>mean</th>\n",
       "    </tr>\n",
       "    <tr>\n",
       "      <th></th>\n",
       "      <th>price_per_meter</th>\n",
       "      <th>price_per_meter</th>\n",
       "    </tr>\n",
       "    <tr>\n",
       "      <th>area_category</th>\n",
       "      <th></th>\n",
       "      <th></th>\n",
       "    </tr>\n",
       "  </thead>\n",
       "  <tbody>\n",
       "    <tr>\n",
       "      <th>Квартиры до 40 кв.м</th>\n",
       "      <td>4495</td>\n",
       "      <td>96989.294525</td>\n",
       "    </tr>\n",
       "    <tr>\n",
       "      <th>Квартиры от 40 до 51 кв.м.</th>\n",
       "      <td>4414</td>\n",
       "      <td>90799.813858</td>\n",
       "    </tr>\n",
       "    <tr>\n",
       "      <th>Квартиры от 51 до 67 кв.м.</th>\n",
       "      <td>4315</td>\n",
       "      <td>89580.273284</td>\n",
       "    </tr>\n",
       "    <tr>\n",
       "      <th>Квартиры свыше 67 кв.м.</th>\n",
       "      <td>4534</td>\n",
       "      <td>105117.437768</td>\n",
       "    </tr>\n",
       "  </tbody>\n",
       "</table>\n",
       "</div>"
      ],
      "text/plain": [
       "                                     count            mean\n",
       "                           price_per_meter price_per_meter\n",
       "area_category                                             \n",
       "Квартиры до 40 кв.м                   4495    96989.294525\n",
       "Квартиры от 40 до 51 кв.м.            4414    90799.813858\n",
       "Квартиры от 51 до 67 кв.м.            4315    89580.273284\n",
       "Квартиры свыше 67 кв.м.               4534   105117.437768"
      ]
     },
     "execution_count": 124,
     "metadata": {},
     "output_type": "execute_result"
    }
   ],
   "source": [
    "good_realty.pivot_table(index = 'area_category', \n",
    "                        values = 'price_per_meter', \n",
    "                        aggfunc = ['count', 'mean'])\n",
    "   "
   ]
  },
  {
   "cell_type": "markdown",
   "metadata": {},
   "source": [
    "Средняя цена за квадратный метр в квартирах меньше 40 кв.м. выше, чем в квартирах среднего размера. Это вполне логично, потому что на жилье меньшего размера обычно спрос больше. Самая высокая цена в квартирах с площадью свыше 67 кв.м."
   ]
  },
  {
   "cell_type": "code",
   "execution_count": 125,
   "metadata": {},
   "outputs": [
    {
     "data": {
      "text/html": [
       "<div>\n",
       "<style scoped>\n",
       "    .dataframe tbody tr th:only-of-type {\n",
       "        vertical-align: middle;\n",
       "    }\n",
       "\n",
       "    .dataframe tbody tr th {\n",
       "        vertical-align: top;\n",
       "    }\n",
       "\n",
       "    .dataframe thead tr th {\n",
       "        text-align: left;\n",
       "    }\n",
       "\n",
       "    .dataframe thead tr:last-of-type th {\n",
       "        text-align: right;\n",
       "    }\n",
       "</style>\n",
       "<table border=\"1\" class=\"dataframe\">\n",
       "  <thead>\n",
       "    <tr>\n",
       "      <th></th>\n",
       "      <th>count</th>\n",
       "      <th>mean</th>\n",
       "    </tr>\n",
       "    <tr>\n",
       "      <th></th>\n",
       "      <th>price_per_meter</th>\n",
       "      <th>price_per_meter</th>\n",
       "    </tr>\n",
       "    <tr>\n",
       "      <th>rooms</th>\n",
       "      <th></th>\n",
       "      <th></th>\n",
       "    </tr>\n",
       "  </thead>\n",
       "  <tbody>\n",
       "    <tr>\n",
       "      <th>0</th>\n",
       "      <td>150</td>\n",
       "      <td>109079.095467</td>\n",
       "    </tr>\n",
       "    <tr>\n",
       "      <th>1</th>\n",
       "      <td>6318</td>\n",
       "      <td>99282.137142</td>\n",
       "    </tr>\n",
       "    <tr>\n",
       "      <th>2</th>\n",
       "      <td>6027</td>\n",
       "      <td>93100.019821</td>\n",
       "    </tr>\n",
       "    <tr>\n",
       "      <th>3</th>\n",
       "      <td>4180</td>\n",
       "      <td>92590.069639</td>\n",
       "    </tr>\n",
       "    <tr>\n",
       "      <th>4</th>\n",
       "      <td>798</td>\n",
       "      <td>97428.097782</td>\n",
       "    </tr>\n",
       "    <tr>\n",
       "      <th>5</th>\n",
       "      <td>201</td>\n",
       "      <td>105894.403483</td>\n",
       "    </tr>\n",
       "    <tr>\n",
       "      <th>6</th>\n",
       "      <td>55</td>\n",
       "      <td>107884.138182</td>\n",
       "    </tr>\n",
       "    <tr>\n",
       "      <th>7</th>\n",
       "      <td>23</td>\n",
       "      <td>111071.667826</td>\n",
       "    </tr>\n",
       "    <tr>\n",
       "      <th>8</th>\n",
       "      <td>3</td>\n",
       "      <td>94717.533333</td>\n",
       "    </tr>\n",
       "    <tr>\n",
       "      <th>9</th>\n",
       "      <td>1</td>\n",
       "      <td>72340.430000</td>\n",
       "    </tr>\n",
       "    <tr>\n",
       "      <th>10</th>\n",
       "      <td>1</td>\n",
       "      <td>137931.030000</td>\n",
       "    </tr>\n",
       "    <tr>\n",
       "      <th>14</th>\n",
       "      <td>1</td>\n",
       "      <td>116784.840000</td>\n",
       "    </tr>\n",
       "  </tbody>\n",
       "</table>\n",
       "</div>"
      ],
      "text/plain": [
       "                count            mean\n",
       "      price_per_meter price_per_meter\n",
       "rooms                                \n",
       "0                 150   109079.095467\n",
       "1                6318    99282.137142\n",
       "2                6027    93100.019821\n",
       "3                4180    92590.069639\n",
       "4                 798    97428.097782\n",
       "5                 201   105894.403483\n",
       "6                  55   107884.138182\n",
       "7                  23   111071.667826\n",
       "8                   3    94717.533333\n",
       "9                   1    72340.430000\n",
       "10                  1   137931.030000\n",
       "14                  1   116784.840000"
      ]
     },
     "execution_count": 125,
     "metadata": {},
     "output_type": "execute_result"
    }
   ],
   "source": [
    "good_realty.pivot_table(index = 'rooms', \n",
    "                        values = 'price_per_meter', \n",
    "                        aggfunc = ['count', 'mean'])"
   ]
  },
  {
   "cell_type": "code",
   "execution_count": 126,
   "metadata": {},
   "outputs": [
    {
     "data": {
      "text/plain": [
       "Text(0.5, 1.0, 'Зависимость цены от количетсва комнат')"
      ]
     },
     "execution_count": 126,
     "metadata": {},
     "output_type": "execute_result"
    },
    {
     "data": {
      "image/png": "[encoded data removed]",
      "text/plain": [
       "<Figure size 648x216 with 1 Axes>"
      ]
     },
     "metadata": {
      "needs_background": "light"
     },
     "output_type": "display_data"
    }
   ],
   "source": [
    "good_realty.pivot_table(index = 'rooms', \n",
    "                        values = 'price_per_meter', \n",
    "                        aggfunc = ['count', 'mean']).plot(style='o-', y = 'mean',                         \n",
    "                        figsize = (9, 3),\n",
    "                        grid=True)\n",
    "plt.ylabel(\"Цена квадратного метра\")\n",
    "plt.ylabel(\"Цена квадратного метра\")\n",
    "plt.title('Зависимость цены от количетсва комнат')"
   ]
  },
  {
   "cell_type": "markdown",
   "metadata": {},
   "source": [
    "Стоимость квадратного метра в квартирах с 0(студии и квартиры с открытой планировкой) и 1 комнатой выше, чем в 2-х и 3-хкомнатных квартирах. В квартирах с 4-мя и более комнатами цена за кв. метр возрастает."
   ]
  },
  {
   "cell_type": "markdown",
   "metadata": {},
   "source": [
    "Рассмотрим как высота потолков влияет на цену. Разобьем квартиры на категории в зависимости от высоты потолков. "
   ]
  },
  {
   "cell_type": "code",
   "execution_count": 127,
   "metadata": {
    "scrolled": true
   },
   "outputs": [
    {
     "data": {
      "text/plain": [
       "count    17758.000000\n",
       "mean         2.696287\n",
       "std          0.206357\n",
       "min          2.400000\n",
       "25%          2.550000\n",
       "50%          2.650000\n",
       "75%          2.750000\n",
       "max          4.000000\n",
       "Name: ceiling_height, dtype: float64"
      ]
     },
     "execution_count": 127,
     "metadata": {},
     "output_type": "execute_result"
    }
   ],
   "source": [
    "good_realty['ceiling_height'].describe()"
   ]
  },
  {
   "cell_type": "markdown",
   "metadata": {},
   "source": [
    "Воспользуемся квартилями для распределения кварир по группам"
   ]
  },
  {
   "cell_type": "code",
   "execution_count": 128,
   "metadata": {},
   "outputs": [],
   "source": [
    "def ceiling_height_category(h):\n",
    "    if  h < 2.6:\n",
    "        return 'Высота квартиры до 2.55 м'\n",
    "    if 2.55 <= h < 2.65:\n",
    "        return 'Высота квартиры от 2.55 м до 2.65 м'    \n",
    "    if 2.65 <= h < 2.75:\n",
    "        return 'Высота квартиры от 2.65 м до 2.75 м'       \n",
    "    return 'Высота квартиры выше 2.75 м'"
   ]
  },
  {
   "cell_type": "code",
   "execution_count": 129,
   "metadata": {},
   "outputs": [],
   "source": [
    "good_realty['ceiling_height_category'] = good_realty['ceiling_height'].apply(ceiling_height_category)"
   ]
  },
  {
   "cell_type": "code",
   "execution_count": 130,
   "metadata": {},
   "outputs": [
    {
     "data": {
      "text/html": [
       "<div>\n",
       "<style scoped>\n",
       "    .dataframe tbody tr th:only-of-type {\n",
       "        vertical-align: middle;\n",
       "    }\n",
       "\n",
       "    .dataframe tbody tr th {\n",
       "        vertical-align: top;\n",
       "    }\n",
       "\n",
       "    .dataframe thead tr th {\n",
       "        text-align: left;\n",
       "    }\n",
       "\n",
       "    .dataframe thead tr:last-of-type th {\n",
       "        text-align: right;\n",
       "    }\n",
       "</style>\n",
       "<table border=\"1\" class=\"dataframe\">\n",
       "  <thead>\n",
       "    <tr>\n",
       "      <th></th>\n",
       "      <th>count</th>\n",
       "      <th>mean</th>\n",
       "    </tr>\n",
       "    <tr>\n",
       "      <th></th>\n",
       "      <th>price_per_meter</th>\n",
       "      <th>price_per_meter</th>\n",
       "    </tr>\n",
       "    <tr>\n",
       "      <th>ceiling_height_category</th>\n",
       "      <th></th>\n",
       "      <th></th>\n",
       "    </tr>\n",
       "  </thead>\n",
       "  <tbody>\n",
       "    <tr>\n",
       "      <th>Высота квартиры выше 2.75 м</th>\n",
       "      <td>5808</td>\n",
       "      <td>108430.622271</td>\n",
       "    </tr>\n",
       "    <tr>\n",
       "      <th>Высота квартиры до 2.55 м</th>\n",
       "      <td>6429</td>\n",
       "      <td>83553.825670</td>\n",
       "    </tr>\n",
       "    <tr>\n",
       "      <th>Высота квартиры от 2.55 м до 2.65 м</th>\n",
       "      <td>1828</td>\n",
       "      <td>92155.541772</td>\n",
       "    </tr>\n",
       "    <tr>\n",
       "      <th>Высота квартиры от 2.65 м до 2.75 м</th>\n",
       "      <td>3693</td>\n",
       "      <td>98701.778928</td>\n",
       "    </tr>\n",
       "  </tbody>\n",
       "</table>\n",
       "</div>"
      ],
      "text/plain": [
       "                                              count            mean\n",
       "                                    price_per_meter price_per_meter\n",
       "ceiling_height_category                                            \n",
       "Высота квартиры выше 2.75 м                    5808   108430.622271\n",
       "Высота квартиры до 2.55 м                      6429    83553.825670\n",
       "Высота квартиры от 2.55 м до 2.65 м            1828    92155.541772\n",
       "Высота квартиры от 2.65 м до 2.75 м            3693    98701.778928"
      ]
     },
     "execution_count": 130,
     "metadata": {},
     "output_type": "execute_result"
    }
   ],
   "source": [
    "good_realty.pivot_table(index = 'ceiling_height_category', \n",
    "                        values = 'price_per_meter', \n",
    "                        aggfunc = ['count', 'mean'])"
   ]
  },
  {
   "cell_type": "markdown",
   "metadata": {},
   "source": [
    "Чем выше потолки в квартире, тем выше цена за квадратный метр. "
   ]
  },
  {
   "cell_type": "markdown",
   "metadata": {},
   "source": [
    "Рассмотрим влияет ли на цену квартиры то, на каком этаже она находится:"
   ]
  },
  {
   "cell_type": "code",
   "execution_count": 131,
   "metadata": {},
   "outputs": [
    {
     "data": {
      "text/html": [
       "<div>\n",
       "<style scoped>\n",
       "    .dataframe tbody tr th:only-of-type {\n",
       "        vertical-align: middle;\n",
       "    }\n",
       "\n",
       "    .dataframe tbody tr th {\n",
       "        vertical-align: top;\n",
       "    }\n",
       "\n",
       "    .dataframe thead tr th {\n",
       "        text-align: left;\n",
       "    }\n",
       "\n",
       "    .dataframe thead tr:last-of-type th {\n",
       "        text-align: right;\n",
       "    }\n",
       "</style>\n",
       "<table border=\"1\" class=\"dataframe\">\n",
       "  <thead>\n",
       "    <tr>\n",
       "      <th></th>\n",
       "      <th>count</th>\n",
       "      <th>mean</th>\n",
       "    </tr>\n",
       "    <tr>\n",
       "      <th></th>\n",
       "      <th>price_per_meter</th>\n",
       "      <th>price_per_meter</th>\n",
       "    </tr>\n",
       "    <tr>\n",
       "      <th>floor_class</th>\n",
       "      <th></th>\n",
       "      <th></th>\n",
       "    </tr>\n",
       "  </thead>\n",
       "  <tbody>\n",
       "    <tr>\n",
       "      <th>другой</th>\n",
       "      <td>13130</td>\n",
       "      <td>99501.987839</td>\n",
       "    </tr>\n",
       "    <tr>\n",
       "      <th>первый</th>\n",
       "      <td>2167</td>\n",
       "      <td>80557.681763</td>\n",
       "    </tr>\n",
       "    <tr>\n",
       "      <th>последний</th>\n",
       "      <td>2461</td>\n",
       "      <td>88934.986843</td>\n",
       "    </tr>\n",
       "  </tbody>\n",
       "</table>\n",
       "</div>"
      ],
      "text/plain": [
       "                      count            mean\n",
       "            price_per_meter price_per_meter\n",
       "floor_class                                \n",
       "другой                13130    99501.987839\n",
       "первый                 2167    80557.681763\n",
       "последний              2461    88934.986843"
      ]
     },
     "execution_count": 131,
     "metadata": {},
     "output_type": "execute_result"
    }
   ],
   "source": [
    "good_realty.pivot_table(index = 'floor_class', \n",
    "                        values = 'price_per_meter', \n",
    "                        aggfunc = ['count', 'mean'])"
   ]
  },
  {
   "cell_type": "markdown",
   "metadata": {},
   "source": [
    "Исходя из полученных данных, квадратный метр в квартире на первом этаже дешевле, чем на любом другом. \n",
    "\n",
    "Далее рассмотрим зависимость цены от даты размещения: дня недели, месяца и года."
   ]
  },
  {
   "cell_type": "code",
   "execution_count": 132,
   "metadata": {},
   "outputs": [
    {
     "name": "stdout",
     "output_type": "stream",
     "text": [
      "                         count            mean\n",
      "               price_per_meter price_per_meter\n",
      "day_exposition                                \n",
      "0                         2663    95882.090199\n",
      "1                         3122    95943.295855\n",
      "2                         2928    95635.912780\n",
      "3                         3260    95961.798411\n",
      "4                         3078    95467.346238\n",
      "5                         1447    95811.702329\n",
      "6                         1260    94987.446849\n",
      "--------------------------------------------------\n",
      "                           count            mean\n",
      "                 price_per_meter price_per_meter\n",
      "month_exposition                                \n",
      "1                           1118    96198.331816\n",
      "2                           2031    95207.499522\n",
      "3                           1641    96226.734406\n",
      "4                           1300    94321.080192\n",
      "5                           1049    96374.142536\n",
      "6                           1489    94262.149879\n",
      "7                           1375    96260.163564\n",
      "8                           1425    96366.898744\n",
      "9                           1560    97689.872237\n",
      "10                          1671    95219.508785\n",
      "11                          1834    96651.082001\n",
      "12                          1265    93721.344545\n",
      "--------------------------------------------------\n",
      "                          count            mean\n",
      "                price_per_meter price_per_meter\n",
      "year_exposition                                \n",
      "2014                         43   107582.103256\n",
      "2015                        696    94803.493362\n",
      "2016                       2373    94294.869954\n",
      "2017                       7213    94743.860969\n",
      "2018                       6673    96224.275393\n",
      "2019                        760   105309.937145\n",
      "--------------------------------------------------\n"
     ]
    },
    {
     "data": {
      "image/png": "[encoded data removed]",
      "text/plain": [
       "<Figure size 648x216 with 1 Axes>"
      ]
     },
     "metadata": {
      "needs_background": "light"
     },
     "output_type": "display_data"
    },
    {
     "data": {
      "image/png": "[encoded data removed]",
      "text/plain": [
       "<Figure size 648x216 with 1 Axes>"
      ]
     },
     "metadata": {
      "needs_background": "light"
     },
     "output_type": "display_data"
    },
    {
     "data": {
      "image/png": "[encoded data removed]",
      "text/plain": [
       "<Figure size 648x216 with 1 Axes>"
      ]
     },
     "metadata": {
      "needs_background": "light"
     },
     "output_type": "display_data"
    }
   ],
   "source": [
    "par = ['day_exposition', 'month_exposition', 'year_exposition']\n",
    "for p in par:\n",
    "    pivot = good_realty.pivot_table(index = p, \n",
    "                                    values = 'price_per_meter', \n",
    "                                    aggfunc = ['count','mean'])\n",
    "    print(pivot)\n",
    "    pivot['mean'].plot(style='o-', \n",
    "                         #xlim =(pivot.index[0], pivot.index[-1]), \n",
    "                         #ylim = (94000, 117500),\n",
    "                         figsize = (9, 3), \n",
    "                         grid=True)\n",
    "    plt.ylabel(\"Цена квадратного метра\")\n",
    "    print(50*'-')"
   ]
  },
  {
   "cell_type": "markdown",
   "metadata": {},
   "source": [
    "День размещения объявления о продаже практически не влияет на цену квадратного метра квартиры. Можно обратить внимание только на то, что количество объявлений в выходные дни резко сокращается. \n",
    "Месяц размещения также не оказывает большого влияния. Виден небольшой спад цены в апреле, июне и декабре. Самые дорогие объявления публиковались в сентябре.\n",
    "В разрезе лет колебания цены наблюдаются более явно. Снижение цен на рынке недвижимости, продолжавшееся до 2016 года, сменилось плавным ростом к 2019 году. "
   ]
  },
  {
   "cell_type": "markdown",
   "metadata": {},
   "source": [
    "#### Анализ 10 населённых пунктов с наибольшим числом объявлений"
   ]
  },
  {
   "cell_type": "code",
   "execution_count": 133,
   "metadata": {},
   "outputs": [],
   "source": [
    "locality_stat = good_realty.pivot_table(index = 'locality_name', \n",
    "                                        values='price_per_meter', \n",
    "                                        aggfunc = ['count', 'mean'])\n",
    "locality_stat.columns = ['count_adv', 'mean_price_per_meter']\n",
    "locality_stat_10 = locality_stat.sort_values(by = 'count_adv', ascending = False).head(10)"
   ]
  },
  {
   "cell_type": "code",
   "execution_count": 134,
   "metadata": {
    "scrolled": true
   },
   "outputs": [
    {
     "name": "stdout",
     "output_type": "stream",
     "text": [
      "Список населенных пунктов с наибольшим числом объявлений:\n",
      "Санкт-Петербург\n",
      "посёлок Мурино\n",
      "посёлок Шушары\n",
      "Всеволожск\n",
      "Колпино\n",
      "посёлок Парголово\n",
      "Пушкин\n",
      "деревня Кудрово\n",
      "Гатчина\n",
      "Выборг\n"
     ]
    }
   ],
   "source": [
    "print('Список населенных пунктов с наибольшим числом объявлений:')\n",
    "for i in locality_stat_10.index:\n",
    "    print(i, end='\\n')"
   ]
  },
  {
   "cell_type": "code",
   "execution_count": 135,
   "metadata": {},
   "outputs": [
    {
     "data": {
      "text/plain": [
       "([<matplotlib.axis.YTick at 0x20dd444e2b0>,\n",
       "  <matplotlib.axis.YTick at 0x20dd446fee0>,\n",
       "  <matplotlib.axis.YTick at 0x20dd446f970>,\n",
       "  <matplotlib.axis.YTick at 0x20dd46e2a60>,\n",
       "  <matplotlib.axis.YTick at 0x20dd44bcca0>,\n",
       "  <matplotlib.axis.YTick at 0x20dd44bc070>,\n",
       "  <matplotlib.axis.YTick at 0x20dd44b6100>,\n",
       "  <matplotlib.axis.YTick at 0x20dd46e2730>,\n",
       "  <matplotlib.axis.YTick at 0x20dd46e8160>,\n",
       "  <matplotlib.axis.YTick at 0x20dd46e8670>,\n",
       "  <matplotlib.axis.YTick at 0x20dd46e8b80>,\n",
       "  <matplotlib.axis.YTick at 0x20dd46ed0d0>],\n",
       " <a list of 12 Text major ticklabel objects>)"
      ]
     },
     "execution_count": 135,
     "metadata": {},
     "output_type": "execute_result"
    },
    {
     "data": {
      "image/png": "[encoded data removed]",
      "text/plain": [
       "<Figure size 720x432 with 1 Axes>"
      ]
     },
     "metadata": {
      "needs_background": "light"
     },
     "output_type": "display_data"
    }
   ],
   "source": [
    "locality_stat_10.sort_values(by = 'mean_price_per_meter', \n",
    "                             ascending = False).plot(kind='bar', \n",
    "                                                     y='mean_price_per_meter', \n",
    "                                                     figsize=(10, 6), grid=True, \n",
    "                                                     title = 'Стоимость квадратного метра по населенным пунктам', \n",
    "                                                     legend = 'Средняя цена за квадратный метр', \n",
    "                                                     label = 'Средняя цена за квадратный метр')\n",
    "plt.xlabel('Населенный пункт')\n",
    "plt.ylabel(\"Цена\")\n",
    "plt.yticks(np.arange(0, 115000, 10000))"
   ]
  },
  {
   "cell_type": "code",
   "execution_count": 136,
   "metadata": {},
   "outputs": [
    {
     "data": {
      "text/html": [
       "<div>\n",
       "<style scoped>\n",
       "    .dataframe tbody tr th:only-of-type {\n",
       "        vertical-align: middle;\n",
       "    }\n",
       "\n",
       "    .dataframe tbody tr th {\n",
       "        vertical-align: top;\n",
       "    }\n",
       "\n",
       "    .dataframe thead th {\n",
       "        text-align: right;\n",
       "    }\n",
       "</style>\n",
       "<table border=\"1\" class=\"dataframe\">\n",
       "  <thead>\n",
       "    <tr style=\"text-align: right;\">\n",
       "      <th></th>\n",
       "      <th>count_adv</th>\n",
       "      <th>mean_price_per_meter</th>\n",
       "    </tr>\n",
       "    <tr>\n",
       "      <th>locality_name</th>\n",
       "      <th></th>\n",
       "      <th></th>\n",
       "    </tr>\n",
       "  </thead>\n",
       "  <tbody>\n",
       "    <tr>\n",
       "      <th>Санкт-Петербург</th>\n",
       "      <td>11752</td>\n",
       "      <td>108819.872948</td>\n",
       "    </tr>\n",
       "    <tr>\n",
       "      <th>посёлок Мурино</th>\n",
       "      <td>444</td>\n",
       "      <td>85878.018829</td>\n",
       "    </tr>\n",
       "    <tr>\n",
       "      <th>посёлок Шушары</th>\n",
       "      <td>364</td>\n",
       "      <td>77911.245137</td>\n",
       "    </tr>\n",
       "    <tr>\n",
       "      <th>Всеволожск</th>\n",
       "      <td>307</td>\n",
       "      <td>66793.730977</td>\n",
       "    </tr>\n",
       "    <tr>\n",
       "      <th>Колпино</th>\n",
       "      <td>274</td>\n",
       "      <td>74390.195912</td>\n",
       "    </tr>\n",
       "    <tr>\n",
       "      <th>посёлок Парголово</th>\n",
       "      <td>267</td>\n",
       "      <td>89050.991124</td>\n",
       "    </tr>\n",
       "    <tr>\n",
       "      <th>Пушкин</th>\n",
       "      <td>264</td>\n",
       "      <td>101586.902955</td>\n",
       "    </tr>\n",
       "    <tr>\n",
       "      <th>деревня Кудрово</th>\n",
       "      <td>251</td>\n",
       "      <td>93142.507012</td>\n",
       "    </tr>\n",
       "    <tr>\n",
       "      <th>Гатчина</th>\n",
       "      <td>223</td>\n",
       "      <td>67849.974260</td>\n",
       "    </tr>\n",
       "    <tr>\n",
       "      <th>Выборг</th>\n",
       "      <td>187</td>\n",
       "      <td>57206.316096</td>\n",
       "    </tr>\n",
       "  </tbody>\n",
       "</table>\n",
       "</div>"
      ],
      "text/plain": [
       "                   count_adv  mean_price_per_meter\n",
       "locality_name                                     \n",
       "Санкт-Петербург        11752         108819.872948\n",
       "посёлок Мурино           444          85878.018829\n",
       "посёлок Шушары           364          77911.245137\n",
       "Всеволожск               307          66793.730977\n",
       "Колпино                  274          74390.195912\n",
       "посёлок Парголово        267          89050.991124\n",
       "Пушкин                   264         101586.902955\n",
       "деревня Кудрово          251          93142.507012\n",
       "Гатчина                  223          67849.974260\n",
       "Выборг                   187          57206.316096"
      ]
     },
     "execution_count": 136,
     "metadata": {},
     "output_type": "execute_result"
    }
   ],
   "source": [
    "locality_stat_10"
   ]
  },
  {
   "cell_type": "markdown",
   "metadata": {},
   "source": [
    "Топ-3 населенныйх пунктов Ленинградской области с самой дорогой недвижимостью:\n",
    "1. г. Санкт-Петербург - 108820 рублей;\n",
    "2. г. Пушкин - 101587 рублей;\n",
    "3. деревня Кудрово - 93142.\n",
    "\n",
    "Населенные пункты с самой низкой стоимостью жилья:\n",
    "г. Гатчина - 67850 рублей;\n",
    "г. Всеволжск - 66794 рублей;\n",
    "г. Выборг - 57206 рублей.\n"
   ]
  },
  {
   "cell_type": "markdown",
   "metadata": {},
   "source": [
    "#### Определение центральной зоны для Санкт-Петербурга.\n",
    "\n",
    "Добавим в таблицу столбец с расстояние до центра города в километрах:"
   ]
  },
  {
   "cell_type": "code",
   "execution_count": 137,
   "metadata": {},
   "outputs": [],
   "source": [
    "good_realty_spb = good_realty.query('locality_name == \"Санкт-Петербург\"').reset_index(drop = True)"
   ]
  },
  {
   "cell_type": "code",
   "execution_count": 138,
   "metadata": {},
   "outputs": [],
   "source": [
    "good_realty_spb['km_to_center'] = (good_realty_spb['cityCenters_nearest'] / 1000).astype('int')"
   ]
  },
  {
   "cell_type": "code",
   "execution_count": 139,
   "metadata": {},
   "outputs": [
    {
     "data": {
      "text/html": [
       "<div>\n",
       "<style scoped>\n",
       "    .dataframe tbody tr th:only-of-type {\n",
       "        vertical-align: middle;\n",
       "    }\n",
       "\n",
       "    .dataframe tbody tr th {\n",
       "        vertical-align: top;\n",
       "    }\n",
       "\n",
       "    .dataframe thead th {\n",
       "        text-align: right;\n",
       "    }\n",
       "</style>\n",
       "<table border=\"1\" class=\"dataframe\">\n",
       "  <thead>\n",
       "    <tr style=\"text-align: right;\">\n",
       "      <th></th>\n",
       "      <th>km_to_center</th>\n",
       "      <th>count</th>\n",
       "      <th>mean_price</th>\n",
       "      <th>median_price</th>\n",
       "    </tr>\n",
       "  </thead>\n",
       "  <tbody>\n",
       "    <tr>\n",
       "      <th>0</th>\n",
       "      <td>0</td>\n",
       "      <td>50</td>\n",
       "      <td>137315.491400</td>\n",
       "      <td>126974.560</td>\n",
       "    </tr>\n",
       "    <tr>\n",
       "      <th>1</th>\n",
       "      <td>1</td>\n",
       "      <td>156</td>\n",
       "      <td>128060.573077</td>\n",
       "      <td>115921.815</td>\n",
       "    </tr>\n",
       "    <tr>\n",
       "      <th>2</th>\n",
       "      <td>2</td>\n",
       "      <td>212</td>\n",
       "      <td>120163.571462</td>\n",
       "      <td>110040.555</td>\n",
       "    </tr>\n",
       "    <tr>\n",
       "      <th>3</th>\n",
       "      <td>3</td>\n",
       "      <td>350</td>\n",
       "      <td>115505.603143</td>\n",
       "      <td>106017.975</td>\n",
       "    </tr>\n",
       "    <tr>\n",
       "      <th>4</th>\n",
       "      <td>4</td>\n",
       "      <td>636</td>\n",
       "      <td>131041.873381</td>\n",
       "      <td>124291.895</td>\n",
       "    </tr>\n",
       "    <tr>\n",
       "      <th>5</th>\n",
       "      <td>5</td>\n",
       "      <td>517</td>\n",
       "      <td>130435.712050</td>\n",
       "      <td>120978.120</td>\n",
       "    </tr>\n",
       "    <tr>\n",
       "      <th>6</th>\n",
       "      <td>6</td>\n",
       "      <td>314</td>\n",
       "      <td>130264.486943</td>\n",
       "      <td>122516.025</td>\n",
       "    </tr>\n",
       "    <tr>\n",
       "      <th>7</th>\n",
       "      <td>7</td>\n",
       "      <td>308</td>\n",
       "      <td>129064.128571</td>\n",
       "      <td>122858.200</td>\n",
       "    </tr>\n",
       "    <tr>\n",
       "      <th>8</th>\n",
       "      <td>8</td>\n",
       "      <td>488</td>\n",
       "      <td>117641.250451</td>\n",
       "      <td>111385.565</td>\n",
       "    </tr>\n",
       "    <tr>\n",
       "      <th>9</th>\n",
       "      <td>9</td>\n",
       "      <td>532</td>\n",
       "      <td>107578.616729</td>\n",
       "      <td>103813.950</td>\n",
       "    </tr>\n",
       "    <tr>\n",
       "      <th>10</th>\n",
       "      <td>10</td>\n",
       "      <td>696</td>\n",
       "      <td>109103.011552</td>\n",
       "      <td>103125.000</td>\n",
       "    </tr>\n",
       "    <tr>\n",
       "      <th>11</th>\n",
       "      <td>11</td>\n",
       "      <td>1072</td>\n",
       "      <td>104918.134151</td>\n",
       "      <td>102107.115</td>\n",
       "    </tr>\n",
       "    <tr>\n",
       "      <th>12</th>\n",
       "      <td>12</td>\n",
       "      <td>1199</td>\n",
       "      <td>107289.370784</td>\n",
       "      <td>102857.140</td>\n",
       "    </tr>\n",
       "    <tr>\n",
       "      <th>13</th>\n",
       "      <td>13</td>\n",
       "      <td>1100</td>\n",
       "      <td>105800.549673</td>\n",
       "      <td>103200.205</td>\n",
       "    </tr>\n",
       "    <tr>\n",
       "      <th>14</th>\n",
       "      <td>14</td>\n",
       "      <td>1160</td>\n",
       "      <td>102941.039974</td>\n",
       "      <td>101242.285</td>\n",
       "    </tr>\n",
       "    <tr>\n",
       "      <th>15</th>\n",
       "      <td>15</td>\n",
       "      <td>1036</td>\n",
       "      <td>100034.902732</td>\n",
       "      <td>97500.000</td>\n",
       "    </tr>\n",
       "    <tr>\n",
       "      <th>16</th>\n",
       "      <td>16</td>\n",
       "      <td>869</td>\n",
       "      <td>98711.862509</td>\n",
       "      <td>96511.630</td>\n",
       "    </tr>\n",
       "    <tr>\n",
       "      <th>17</th>\n",
       "      <td>17</td>\n",
       "      <td>400</td>\n",
       "      <td>93576.177975</td>\n",
       "      <td>90909.090</td>\n",
       "    </tr>\n",
       "    <tr>\n",
       "      <th>18</th>\n",
       "      <td>18</td>\n",
       "      <td>145</td>\n",
       "      <td>93357.195862</td>\n",
       "      <td>92045.450</td>\n",
       "    </tr>\n",
       "    <tr>\n",
       "      <th>19</th>\n",
       "      <td>19</td>\n",
       "      <td>70</td>\n",
       "      <td>96932.479286</td>\n",
       "      <td>95895.700</td>\n",
       "    </tr>\n",
       "    <tr>\n",
       "      <th>20</th>\n",
       "      <td>20</td>\n",
       "      <td>50</td>\n",
       "      <td>102397.517800</td>\n",
       "      <td>103351.845</td>\n",
       "    </tr>\n",
       "    <tr>\n",
       "      <th>21</th>\n",
       "      <td>21</td>\n",
       "      <td>162</td>\n",
       "      <td>90688.180185</td>\n",
       "      <td>88261.790</td>\n",
       "    </tr>\n",
       "    <tr>\n",
       "      <th>22</th>\n",
       "      <td>22</td>\n",
       "      <td>98</td>\n",
       "      <td>86243.425714</td>\n",
       "      <td>83467.310</td>\n",
       "    </tr>\n",
       "    <tr>\n",
       "      <th>23</th>\n",
       "      <td>23</td>\n",
       "      <td>24</td>\n",
       "      <td>91569.996250</td>\n",
       "      <td>90590.810</td>\n",
       "    </tr>\n",
       "    <tr>\n",
       "      <th>24</th>\n",
       "      <td>24</td>\n",
       "      <td>22</td>\n",
       "      <td>82440.344091</td>\n",
       "      <td>86133.030</td>\n",
       "    </tr>\n",
       "    <tr>\n",
       "      <th>25</th>\n",
       "      <td>25</td>\n",
       "      <td>71</td>\n",
       "      <td>90797.686620</td>\n",
       "      <td>90163.930</td>\n",
       "    </tr>\n",
       "    <tr>\n",
       "      <th>26</th>\n",
       "      <td>26</td>\n",
       "      <td>3</td>\n",
       "      <td>75171.913333</td>\n",
       "      <td>56521.740</td>\n",
       "    </tr>\n",
       "    <tr>\n",
       "      <th>27</th>\n",
       "      <td>27</td>\n",
       "      <td>2</td>\n",
       "      <td>132115.710000</td>\n",
       "      <td>132115.710</td>\n",
       "    </tr>\n",
       "    <tr>\n",
       "      <th>28</th>\n",
       "      <td>28</td>\n",
       "      <td>9</td>\n",
       "      <td>82057.341111</td>\n",
       "      <td>79372.090</td>\n",
       "    </tr>\n",
       "    <tr>\n",
       "      <th>29</th>\n",
       "      <td>29</td>\n",
       "      <td>1</td>\n",
       "      <td>73943.660000</td>\n",
       "      <td>73943.660</td>\n",
       "    </tr>\n",
       "  </tbody>\n",
       "</table>\n",
       "</div>"
      ],
      "text/plain": [
       "    km_to_center  count     mean_price  median_price\n",
       "0              0     50  137315.491400    126974.560\n",
       "1              1    156  128060.573077    115921.815\n",
       "2              2    212  120163.571462    110040.555\n",
       "3              3    350  115505.603143    106017.975\n",
       "4              4    636  131041.873381    124291.895\n",
       "5              5    517  130435.712050    120978.120\n",
       "6              6    314  130264.486943    122516.025\n",
       "7              7    308  129064.128571    122858.200\n",
       "8              8    488  117641.250451    111385.565\n",
       "9              9    532  107578.616729    103813.950\n",
       "10            10    696  109103.011552    103125.000\n",
       "11            11   1072  104918.134151    102107.115\n",
       "12            12   1199  107289.370784    102857.140\n",
       "13            13   1100  105800.549673    103200.205\n",
       "14            14   1160  102941.039974    101242.285\n",
       "15            15   1036  100034.902732     97500.000\n",
       "16            16    869   98711.862509     96511.630\n",
       "17            17    400   93576.177975     90909.090\n",
       "18            18    145   93357.195862     92045.450\n",
       "19            19     70   96932.479286     95895.700\n",
       "20            20     50  102397.517800    103351.845\n",
       "21            21    162   90688.180185     88261.790\n",
       "22            22     98   86243.425714     83467.310\n",
       "23            23     24   91569.996250     90590.810\n",
       "24            24     22   82440.344091     86133.030\n",
       "25            25     71   90797.686620     90163.930\n",
       "26            26      3   75171.913333     56521.740\n",
       "27            27      2  132115.710000    132115.710\n",
       "28            28      9   82057.341111     79372.090\n",
       "29            29      1   73943.660000     73943.660"
      ]
     },
     "execution_count": 139,
     "metadata": {},
     "output_type": "execute_result"
    }
   ],
   "source": [
    "distance_spb_pivot = good_realty_spb.pivot_table(index = 'km_to_center', \n",
    "                            values = 'price_per_meter', \n",
    "                            aggfunc = ['count', 'mean', 'median']).reset_index()\n",
    "distance_spb_pivot.columns = ['km_to_center', 'count', 'mean_price', 'median_price']\n",
    "distance_spb_pivot"
   ]
  },
  {
   "cell_type": "code",
   "execution_count": 140,
   "metadata": {},
   "outputs": [
    {
     "data": {
      "text/plain": [
       "Text(0.5, 1.0, 'Зависимость цены и удаленности до центра города')"
      ]
     },
     "execution_count": 140,
     "metadata": {},
     "output_type": "execute_result"
    },
    {
     "data": {
      "image/png": "[encoded data removed]",
      "text/plain": [
       "<Figure size 720x360 with 1 Axes>"
      ]
     },
     "metadata": {
      "needs_background": "light"
     },
     "output_type": "display_data"
    }
   ],
   "source": [
    "distance_spb_pivot.plot(x = 'km_to_center', y='mean_price', \n",
    "                        kind='scatter', \n",
    "                        figsize = (10, 5))\n",
    "plt.ylabel('Цена')\n",
    "plt.xlabel('Расстояние')\n",
    "plt.title('Зависимость цены и удаленности до центра города')"
   ]
  },
  {
   "cell_type": "markdown",
   "metadata": {},
   "source": [
    "##### Данный график показывает, что цена за квадратный метр  снижается по мере удаления от центра города. "
   ]
  },
  {
   "cell_type": "code",
   "execution_count": 141,
   "metadata": {},
   "outputs": [
    {
     "data": {
      "text/plain": [
       "Text(8.7, 300000, 'Центр')"
      ]
     },
     "execution_count": 141,
     "metadata": {},
     "output_type": "execute_result"
    },
    {
     "data": {
      "image/png": "[encoded data removed]",
      "text/plain": [
       "<Figure size 720x360 with 1 Axes>"
      ]
     },
     "metadata": {
      "needs_background": "light"
     },
     "output_type": "display_data"
    }
   ],
   "source": [
    "good_realty_spb.plot(x = 'km_to_center', y='price_per_meter',\n",
    "                     kind='scatter', figsize = (10, 5), alpha=0.07)\n",
    "plt.xlabel('Расстояние до центра')\n",
    "plt.ylabel(\"Цена за квадратный метр\")\n",
    "plt.title('Определение границы центра города')\n",
    "plt.xticks(np.arange(0, 30, 1))\n",
    "plt.annotate(\"Центр\", xy=(8.7, 225000), xytext=(8.7, 300000),\n",
    "            arrowprops=dict(facecolor='red', shrink=0.05))"
   ]
  },
  {
   "cell_type": "markdown",
   "metadata": {},
   "source": [
    "На графике разброса видно, что точки с 1 по 8 километр образуют кластер с высокими ценами. Будем считать, что границы центра находятся в пределех 8 километров.  \n"
   ]
  },
  {
   "cell_type": "markdown",
   "metadata": {},
   "source": [
    "#### Анализ объявлений квартир в центре и сравнение со всей выборкой"
   ]
  },
  {
   "cell_type": "code",
   "execution_count": 142,
   "metadata": {},
   "outputs": [],
   "source": [
    "spb_center = good_realty_spb.query('km_to_center <= 8').reset_index(drop = True)"
   ]
  },
  {
   "cell_type": "code",
   "execution_count": 143,
   "metadata": {},
   "outputs": [
    {
     "data": {
      "text/plain": [
       "125894.5851336187"
      ]
     },
     "execution_count": 143,
     "metadata": {},
     "output_type": "execute_result"
    }
   ],
   "source": [
    "spb_center['price_per_meter'].mean()"
   ]
  },
  {
   "cell_type": "code",
   "execution_count": 144,
   "metadata": {},
   "outputs": [
    {
     "data": {
      "text/plain": [
       "95725.79115440889"
      ]
     },
     "execution_count": 144,
     "metadata": {},
     "output_type": "execute_result"
    }
   ],
   "source": [
    "good_realty['price_per_meter'].mean()"
   ]
  },
  {
   "cell_type": "markdown",
   "metadata": {},
   "source": [
    "Средняя цена за квадратный метр в центре города более чем на 30000 рублей выше, чем цена по всей выборке."
   ]
  },
  {
   "cell_type": "code",
   "execution_count": 145,
   "metadata": {},
   "outputs": [
    {
     "name": "stdout",
     "output_type": "stream",
     "text": [
      "        total_area\n",
      "count  3031.000000\n",
      "mean     80.271719\n",
      "std      41.819270\n",
      "min      12.000000\n",
      "25%      50.450000\n",
      "50%      70.900000\n",
      "75%      96.700000\n",
      "max     300.000000\n"
     ]
    },
    {
     "data": {
      "image/png": "[encoded data removed]",
      "text/plain": [
       "<Figure size 432x288 with 1 Axes>"
      ]
     },
     "metadata": {
      "needs_background": "light"
     },
     "output_type": "display_data"
    },
    {
     "name": "stdout",
     "output_type": "stream",
     "text": [
      "       price_per_meter\n",
      "count      3031.000000\n",
      "mean     125894.585134\n",
      "std       40187.484313\n",
      "min       26250.000000\n",
      "25%       97768.890000\n",
      "50%      117391.300000\n",
      "75%      143500.835000\n",
      "max      300000.000000\n"
     ]
    },
    {
     "data": {
      "image/png": "[encoded data removed]",
      "text/plain": [
       "<Figure size 432x288 with 1 Axes>"
      ]
     },
     "metadata": {
      "needs_background": "light"
     },
     "output_type": "display_data"
    },
    {
     "name": "stdout",
     "output_type": "stream",
     "text": [
      "             rooms\n",
      "count  3031.000000\n",
      "mean      2.598812\n",
      "std       1.255766\n",
      "min       0.000000\n",
      "25%       2.000000\n",
      "50%       2.000000\n",
      "75%       3.000000\n",
      "max      14.000000\n"
     ]
    },
    {
     "data": {
      "image/png": "[encoded data removed]",
      "text/plain": [
       "<Figure size 432x288 with 1 Axes>"
      ]
     },
     "metadata": {
      "needs_background": "light"
     },
     "output_type": "display_data"
    },
    {
     "name": "stdout",
     "output_type": "stream",
     "text": [
      "       ceiling_height\n",
      "count     3031.000000\n",
      "mean         2.899294\n",
      "std          0.306031\n",
      "min          2.400000\n",
      "25%          2.650000\n",
      "50%          2.850000\n",
      "75%          3.000000\n",
      "max          4.000000\n"
     ]
    },
    {
     "data": {
      "image/png": "[encoded data removed]",
      "text/plain": [
       "<Figure size 432x288 with 1 Axes>"
      ]
     },
     "metadata": {
      "needs_background": "light"
     },
     "output_type": "display_data"
    }
   ],
   "source": [
    "# Параметры квартир в центре Санкт-Петербурга:\n",
    "for column_name in column_names:\n",
    "    print(spb_center[[column_name]].describe())\n",
    "\n",
    "    spb_center[column_name].plot(kind = 'hist', y = column_name, \n",
    "                                 bins = 20, title = column_name)\n",
    "    plt.show()"
   ]
  },
  {
   "cell_type": "code",
   "execution_count": 146,
   "metadata": {},
   "outputs": [
    {
     "name": "stdout",
     "output_type": "stream",
     "text": [
      "         total_area\n",
      "count  17758.000000\n",
      "mean      57.540648\n",
      "std       27.866496\n",
      "min       12.000000\n",
      "25%       39.500000\n",
      "50%       50.700000\n",
      "75%       67.100000\n",
      "max      300.000000\n"
     ]
    },
    {
     "data": {
      "image/png": "[encoded data removed]",
      "text/plain": [
       "<Figure size 432x288 with 1 Axes>"
      ]
     },
     "metadata": {
      "needs_background": "light"
     },
     "output_type": "display_data"
    },
    {
     "name": "stdout",
     "output_type": "stream",
     "text": [
      "       price_per_meter\n",
      "count     17758.000000\n",
      "mean      95725.791154\n",
      "std       33193.081583\n",
      "min       20000.000000\n",
      "25%       76389.555000\n",
      "50%       93750.000000\n",
      "75%      111428.570000\n",
      "max      300000.000000\n"
     ]
    },
    {
     "data": {
      "image/png": "[encoded data removed]",
      "text/plain": [
       "<Figure size 432x288 with 1 Axes>"
      ]
     },
     "metadata": {
      "needs_background": "light"
     },
     "output_type": "display_data"
    },
    {
     "name": "stdout",
     "output_type": "stream",
     "text": [
      "             rooms\n",
      "count  17758.00000\n",
      "mean       2.00794\n",
      "std        1.00452\n",
      "min        0.00000\n",
      "25%        1.00000\n",
      "50%        2.00000\n",
      "75%        3.00000\n",
      "max       14.00000\n"
     ]
    },
    {
     "data": {
      "image/png": "[encoded data removed]",
      "text/plain": [
       "<Figure size 432x288 with 1 Axes>"
      ]
     },
     "metadata": {
      "needs_background": "light"
     },
     "output_type": "display_data"
    },
    {
     "name": "stdout",
     "output_type": "stream",
     "text": [
      "       ceiling_height\n",
      "count    17758.000000\n",
      "mean         2.696287\n",
      "std          0.206357\n",
      "min          2.400000\n",
      "25%          2.550000\n",
      "50%          2.650000\n",
      "75%          2.750000\n",
      "max          4.000000\n"
     ]
    },
    {
     "data": {
      "image/png": "[encoded data removed]",
      "text/plain": [
       "<Figure size 432x288 with 1 Axes>"
      ]
     },
     "metadata": {
      "needs_background": "light"
     },
     "output_type": "display_data"
    }
   ],
   "source": [
    "# Параметры квартир по всей выборке:\n",
    "for column_name in column_names:\n",
    "    print(good_realty[[column_name]].describe())\n",
    "    good_realty[column_name].plot(kind = 'hist', y = column_name, \n",
    "                                 bins = 20, title = column_name)\n",
    "    plt.show()"
   ]
  },
  {
   "cell_type": "markdown",
   "metadata": {},
   "source": [
    "Для сравнения квартир в центре Санкт-Петербурга и квартир по всей выборке буду испльзовать медианные значения.\n",
    "Согласно полученным данным, квартира в центре Санкт-Петербурга выглядит так: 2-3 комнаты площадью 71 кв.м. с высотой потолков 2.85 м и ценой квадратного метра - 117391 руб. \n",
    "Для всей выборки средние показатели были: 1-2 комнаты, площадь 52 кв.м с высотой потолков 2.65 м и ценой за квадратный метр 94861 рубля.\n",
    "\n",
    "Квартиры в центре города более комфортные, но и куда более дорогие."
   ]
  },
  {
   "cell_type": "code",
   "execution_count": 147,
   "metadata": {},
   "outputs": [
    {
     "data": {
      "text/html": [
       "<div>\n",
       "<style scoped>\n",
       "    .dataframe tbody tr th:only-of-type {\n",
       "        vertical-align: middle;\n",
       "    }\n",
       "\n",
       "    .dataframe tbody tr th {\n",
       "        vertical-align: top;\n",
       "    }\n",
       "\n",
       "    .dataframe thead th {\n",
       "        text-align: right;\n",
       "    }\n",
       "</style>\n",
       "<table border=\"1\" class=\"dataframe\">\n",
       "  <thead>\n",
       "    <tr style=\"text-align: right;\">\n",
       "      <th></th>\n",
       "      <th>price_per_meter</th>\n",
       "      <th>total_area</th>\n",
       "      <th>rooms</th>\n",
       "      <th>cityCenters_nearest</th>\n",
       "      <th>living_area</th>\n",
       "      <th>kitchen_area</th>\n",
       "    </tr>\n",
       "  </thead>\n",
       "  <tbody>\n",
       "    <tr>\n",
       "      <th>price_per_meter</th>\n",
       "      <td>1.0</td>\n",
       "      <td>0.051106</td>\n",
       "      <td>-0.168209</td>\n",
       "      <td>-0.020106</td>\n",
       "      <td>-0.057645</td>\n",
       "      <td>0.214325</td>\n",
       "    </tr>\n",
       "  </tbody>\n",
       "</table>\n",
       "</div>"
      ],
      "text/plain": [
       "                 price_per_meter  total_area     rooms  cityCenters_nearest  \\\n",
       "price_per_meter              1.0    0.051106 -0.168209            -0.020106   \n",
       "\n",
       "                 living_area  kitchen_area  \n",
       "price_per_meter    -0.057645      0.214325  "
      ]
     },
     "execution_count": 147,
     "metadata": {},
     "output_type": "execute_result"
    }
   ],
   "source": [
    "spb_center[['price_per_meter','total_area','rooms',\n",
    "            'cityCenters_nearest', 'living_area', 'kitchen_area']].corr().head(1)"
   ]
  },
  {
   "cell_type": "markdown",
   "metadata": {},
   "source": [
    "Ни с одной из характеристик у цены нет сильной связи. "
   ]
  },
  {
   "cell_type": "markdown",
   "metadata": {},
   "source": [
    "Разобьем квартиры на несколько категорий в зависимости от площади и посмотрим на связь между этими параметрами. (Для разграничения категорий используем квартили как и ранее)"
   ]
  },
  {
   "cell_type": "code",
   "execution_count": 148,
   "metadata": {},
   "outputs": [],
   "source": [
    "def area_category2(m):\n",
    "    if  m < 51:\n",
    "        return 'Квартиры до 51 кв.м'\n",
    "    if 51 <= m < 71:\n",
    "        return 'Квартиры от 51 до 71 кв.м.'\n",
    "    if 71 <= m < 97:\n",
    "        return 'Квартиры от 71 до 97 кв.м.'   \n",
    "    return 'Квартиры свыше 97 кв.м.'"
   ]
  },
  {
   "cell_type": "code",
   "execution_count": 149,
   "metadata": {},
   "outputs": [],
   "source": [
    "spb_center['area_category'] = spb_center['total_area'].apply(area_category2)"
   ]
  },
  {
   "cell_type": "code",
   "execution_count": 150,
   "metadata": {},
   "outputs": [
    {
     "data": {
      "text/html": [
       "<div>\n",
       "<style scoped>\n",
       "    .dataframe tbody tr th:only-of-type {\n",
       "        vertical-align: middle;\n",
       "    }\n",
       "\n",
       "    .dataframe tbody tr th {\n",
       "        vertical-align: top;\n",
       "    }\n",
       "\n",
       "    .dataframe thead tr th {\n",
       "        text-align: left;\n",
       "    }\n",
       "\n",
       "    .dataframe thead tr:last-of-type th {\n",
       "        text-align: right;\n",
       "    }\n",
       "</style>\n",
       "<table border=\"1\" class=\"dataframe\">\n",
       "  <thead>\n",
       "    <tr>\n",
       "      <th></th>\n",
       "      <th>count</th>\n",
       "      <th>mean</th>\n",
       "    </tr>\n",
       "    <tr>\n",
       "      <th></th>\n",
       "      <th>price_per_meter</th>\n",
       "      <th>price_per_meter</th>\n",
       "    </tr>\n",
       "    <tr>\n",
       "      <th>area_category</th>\n",
       "      <th></th>\n",
       "      <th></th>\n",
       "    </tr>\n",
       "  </thead>\n",
       "  <tbody>\n",
       "    <tr>\n",
       "      <th>Квартиры до 51 кв.м</th>\n",
       "      <td>763</td>\n",
       "      <td>127534.283604</td>\n",
       "    </tr>\n",
       "    <tr>\n",
       "      <th>Квартиры от 51 до 71 кв.м.</th>\n",
       "      <td>754</td>\n",
       "      <td>123719.730570</td>\n",
       "    </tr>\n",
       "    <tr>\n",
       "      <th>Квартиры от 71 до 97 кв.м.</th>\n",
       "      <td>759</td>\n",
       "      <td>121918.871726</td>\n",
       "    </tr>\n",
       "    <tr>\n",
       "      <th>Квартиры свыше 97 кв.м.</th>\n",
       "      <td>755</td>\n",
       "      <td>130406.263126</td>\n",
       "    </tr>\n",
       "  </tbody>\n",
       "</table>\n",
       "</div>"
      ],
      "text/plain": [
       "                                     count            mean\n",
       "                           price_per_meter price_per_meter\n",
       "area_category                                             \n",
       "Квартиры до 51 кв.м                    763   127534.283604\n",
       "Квартиры от 51 до 71 кв.м.             754   123719.730570\n",
       "Квартиры от 71 до 97 кв.м.             759   121918.871726\n",
       "Квартиры свыше 97 кв.м.                755   130406.263126"
      ]
     },
     "execution_count": 150,
     "metadata": {},
     "output_type": "execute_result"
    }
   ],
   "source": [
    "spb_center.pivot_table(index = 'area_category', \n",
    "                        values = 'price_per_meter', \n",
    "                        aggfunc = ['count', 'mean'])\n",
    "   "
   ]
  },
  {
   "cell_type": "markdown",
   "metadata": {},
   "source": [
    "Выводы сформулированные ранее справедливы и для центра Санкт-Петербурга. В квартирах средней площади цена квадратного метра ниже чем, в квартирах меньшей площади."
   ]
  },
  {
   "cell_type": "code",
   "execution_count": 151,
   "metadata": {},
   "outputs": [
    {
     "data": {
      "text/html": [
       "<div>\n",
       "<style scoped>\n",
       "    .dataframe tbody tr th:only-of-type {\n",
       "        vertical-align: middle;\n",
       "    }\n",
       "\n",
       "    .dataframe tbody tr th {\n",
       "        vertical-align: top;\n",
       "    }\n",
       "\n",
       "    .dataframe thead tr th {\n",
       "        text-align: left;\n",
       "    }\n",
       "\n",
       "    .dataframe thead tr:last-of-type th {\n",
       "        text-align: right;\n",
       "    }\n",
       "</style>\n",
       "<table border=\"1\" class=\"dataframe\">\n",
       "  <thead>\n",
       "    <tr>\n",
       "      <th></th>\n",
       "      <th>count</th>\n",
       "      <th>mean</th>\n",
       "    </tr>\n",
       "    <tr>\n",
       "      <th></th>\n",
       "      <th>price_per_meter</th>\n",
       "      <th>price_per_meter</th>\n",
       "    </tr>\n",
       "    <tr>\n",
       "      <th>rooms</th>\n",
       "      <th></th>\n",
       "      <th></th>\n",
       "    </tr>\n",
       "  </thead>\n",
       "  <tbody>\n",
       "    <tr>\n",
       "      <th>0</th>\n",
       "      <td>17</td>\n",
       "      <td>136619.684118</td>\n",
       "    </tr>\n",
       "    <tr>\n",
       "      <th>1</th>\n",
       "      <td>541</td>\n",
       "      <td>138378.744196</td>\n",
       "    </tr>\n",
       "    <tr>\n",
       "      <th>2</th>\n",
       "      <td>981</td>\n",
       "      <td>127457.847513</td>\n",
       "    </tr>\n",
       "    <tr>\n",
       "      <th>3</th>\n",
       "      <td>928</td>\n",
       "      <td>123009.919989</td>\n",
       "    </tr>\n",
       "    <tr>\n",
       "      <th>4</th>\n",
       "      <td>348</td>\n",
       "      <td>116835.722845</td>\n",
       "    </tr>\n",
       "    <tr>\n",
       "      <th>5</th>\n",
       "      <td>141</td>\n",
       "      <td>114778.023404</td>\n",
       "    </tr>\n",
       "    <tr>\n",
       "      <th>6</th>\n",
       "      <td>47</td>\n",
       "      <td>111542.850851</td>\n",
       "    </tr>\n",
       "    <tr>\n",
       "      <th>7</th>\n",
       "      <td>22</td>\n",
       "      <td>114338.290909</td>\n",
       "    </tr>\n",
       "    <tr>\n",
       "      <th>8</th>\n",
       "      <td>3</td>\n",
       "      <td>94717.533333</td>\n",
       "    </tr>\n",
       "    <tr>\n",
       "      <th>9</th>\n",
       "      <td>1</td>\n",
       "      <td>72340.430000</td>\n",
       "    </tr>\n",
       "    <tr>\n",
       "      <th>10</th>\n",
       "      <td>1</td>\n",
       "      <td>137931.030000</td>\n",
       "    </tr>\n",
       "    <tr>\n",
       "      <th>14</th>\n",
       "      <td>1</td>\n",
       "      <td>116784.840000</td>\n",
       "    </tr>\n",
       "  </tbody>\n",
       "</table>\n",
       "</div>"
      ],
      "text/plain": [
       "                count            mean\n",
       "      price_per_meter price_per_meter\n",
       "rooms                                \n",
       "0                  17   136619.684118\n",
       "1                 541   138378.744196\n",
       "2                 981   127457.847513\n",
       "3                 928   123009.919989\n",
       "4                 348   116835.722845\n",
       "5                 141   114778.023404\n",
       "6                  47   111542.850851\n",
       "7                  22   114338.290909\n",
       "8                   3    94717.533333\n",
       "9                   1    72340.430000\n",
       "10                  1   137931.030000\n",
       "14                  1   116784.840000"
      ]
     },
     "execution_count": 151,
     "metadata": {},
     "output_type": "execute_result"
    }
   ],
   "source": [
    "spb_center.pivot_table(index = 'rooms', \n",
    "                        values = 'price_per_meter', \n",
    "                        aggfunc = ['count', 'mean'])"
   ]
  },
  {
   "cell_type": "markdown",
   "metadata": {},
   "source": [
    "Выявлена обратная зависимость между количеством комнат в квартире и ценой за квадратный метр: с увеличением числа комнат цена снижается.  "
   ]
  },
  {
   "cell_type": "markdown",
   "metadata": {},
   "source": [
    "Рассмотрим теперь как высота потолков влияет на цену квартир в центре города. Так как выборка сузилась, разделим квартиры на 3 категории в зависимости от высоты. Рассмотрим следующие категории: 1) высота до 2.7 м; 2) высота от 2.7 до 3 м; 3) высота потолков свыше 3 м."
   ]
  },
  {
   "cell_type": "code",
   "execution_count": 152,
   "metadata": {},
   "outputs": [],
   "source": [
    "def ceiling_height_category1(h):\n",
    "    if  h < 2.7:\n",
    "        return 'Высота квартиры до 2.7 м'\n",
    "    if 2.7 <= h < 3:\n",
    "        return 'Высота квартиры от 2.7 м до 3 м'    \n",
    "    \n",
    "    return 'Высота квартиры выше 3 м'"
   ]
  },
  {
   "cell_type": "code",
   "execution_count": 153,
   "metadata": {},
   "outputs": [],
   "source": [
    "spb_center['height_category_center'] = spb_center['ceiling_height'].apply(ceiling_height_category1)"
   ]
  },
  {
   "cell_type": "code",
   "execution_count": 154,
   "metadata": {},
   "outputs": [
    {
     "data": {
      "text/html": [
       "<div>\n",
       "<style scoped>\n",
       "    .dataframe tbody tr th:only-of-type {\n",
       "        vertical-align: middle;\n",
       "    }\n",
       "\n",
       "    .dataframe tbody tr th {\n",
       "        vertical-align: top;\n",
       "    }\n",
       "\n",
       "    .dataframe thead tr th {\n",
       "        text-align: left;\n",
       "    }\n",
       "\n",
       "    .dataframe thead tr:last-of-type th {\n",
       "        text-align: right;\n",
       "    }\n",
       "</style>\n",
       "<table border=\"1\" class=\"dataframe\">\n",
       "  <thead>\n",
       "    <tr>\n",
       "      <th></th>\n",
       "      <th>count</th>\n",
       "      <th>mean</th>\n",
       "    </tr>\n",
       "    <tr>\n",
       "      <th></th>\n",
       "      <th>price_per_meter</th>\n",
       "      <th>price_per_meter</th>\n",
       "    </tr>\n",
       "    <tr>\n",
       "      <th>height_category_center</th>\n",
       "      <th></th>\n",
       "      <th></th>\n",
       "    </tr>\n",
       "  </thead>\n",
       "  <tbody>\n",
       "    <tr>\n",
       "      <th>Высота квартиры выше 3 м</th>\n",
       "      <td>1416</td>\n",
       "      <td>126116.875290</td>\n",
       "    </tr>\n",
       "    <tr>\n",
       "      <th>Высота квартиры до 2.7 м</th>\n",
       "      <td>797</td>\n",
       "      <td>120357.260439</td>\n",
       "    </tr>\n",
       "    <tr>\n",
       "      <th>Высота квартиры от 2.7 м до 3 м</th>\n",
       "      <td>818</td>\n",
       "      <td>130904.957897</td>\n",
       "    </tr>\n",
       "  </tbody>\n",
       "</table>\n",
       "</div>"
      ],
      "text/plain": [
       "                                          count            mean\n",
       "                                price_per_meter price_per_meter\n",
       "height_category_center                                         \n",
       "Высота квартиры выше 3 м                   1416   126116.875290\n",
       "Высота квартиры до 2.7 м                    797   120357.260439\n",
       "Высота квартиры от 2.7 м до 3 м             818   130904.957897"
      ]
     },
     "execution_count": 154,
     "metadata": {},
     "output_type": "execute_result"
    }
   ],
   "source": [
    "spb_center.pivot_table(index = 'height_category_center', \n",
    "                        values = 'price_per_meter', \n",
    "                        aggfunc = ['count', 'mean'])"
   ]
  },
  {
   "cell_type": "markdown",
   "metadata": {},
   "source": [
    "Цена квартиры в центре города также зависит от высоты потолков, как и цена квартиры по всей выборке."
   ]
  },
  {
   "cell_type": "code",
   "execution_count": 155,
   "metadata": {},
   "outputs": [
    {
     "data": {
      "text/html": [
       "<div>\n",
       "<style scoped>\n",
       "    .dataframe tbody tr th:only-of-type {\n",
       "        vertical-align: middle;\n",
       "    }\n",
       "\n",
       "    .dataframe tbody tr th {\n",
       "        vertical-align: top;\n",
       "    }\n",
       "\n",
       "    .dataframe thead tr th {\n",
       "        text-align: left;\n",
       "    }\n",
       "\n",
       "    .dataframe thead tr:last-of-type th {\n",
       "        text-align: right;\n",
       "    }\n",
       "</style>\n",
       "<table border=\"1\" class=\"dataframe\">\n",
       "  <thead>\n",
       "    <tr>\n",
       "      <th></th>\n",
       "      <th>count</th>\n",
       "      <th>mean</th>\n",
       "    </tr>\n",
       "    <tr>\n",
       "      <th></th>\n",
       "      <th>price_per_meter</th>\n",
       "      <th>price_per_meter</th>\n",
       "    </tr>\n",
       "    <tr>\n",
       "      <th>floor_class</th>\n",
       "      <th></th>\n",
       "      <th></th>\n",
       "    </tr>\n",
       "  </thead>\n",
       "  <tbody>\n",
       "    <tr>\n",
       "      <th>другой</th>\n",
       "      <td>2196</td>\n",
       "      <td>129048.110209</td>\n",
       "    </tr>\n",
       "    <tr>\n",
       "      <th>первый</th>\n",
       "      <td>335</td>\n",
       "      <td>110164.794716</td>\n",
       "    </tr>\n",
       "    <tr>\n",
       "      <th>последний</th>\n",
       "      <td>500</td>\n",
       "      <td>122583.262580</td>\n",
       "    </tr>\n",
       "  </tbody>\n",
       "</table>\n",
       "</div>"
      ],
      "text/plain": [
       "                      count            mean\n",
       "            price_per_meter price_per_meter\n",
       "floor_class                                \n",
       "другой                 2196   129048.110209\n",
       "первый                  335   110164.794716\n",
       "последний               500   122583.262580"
      ]
     },
     "execution_count": 155,
     "metadata": {},
     "output_type": "execute_result"
    }
   ],
   "source": [
    "spb_center.pivot_table(index = 'floor_class', \n",
    "                        values = 'price_per_meter', \n",
    "                        aggfunc = ['count', 'mean'])"
   ]
  },
  {
   "cell_type": "markdown",
   "metadata": {},
   "source": [
    "Зависимость цены квадратного метра от этажа, на котором находится квартира, одинакова как для центра Санкт-Петербурга, так и для всех объявлений в целом. Метр площади на первом и последнем этажах обойдется дешевле, чем на других этажах."
   ]
  },
  {
   "cell_type": "code",
   "execution_count": 156,
   "metadata": {},
   "outputs": [
    {
     "name": "stdout",
     "output_type": "stream",
     "text": [
      "                         count            mean\n",
      "               price_per_meter price_per_meter\n",
      "day_exposition                                \n",
      "0                          447   129218.667494\n",
      "1                          509   125873.664342\n",
      "2                          500   126152.723640\n",
      "3                          633   122852.845213\n",
      "4                          523   124829.151683\n",
      "5                          244   128954.809385\n",
      "6                          175   126646.944914\n",
      "--------------------------------------------------\n",
      "                           count            mean\n",
      "                 price_per_meter price_per_meter\n",
      "month_exposition                                \n",
      "1                            182   127068.837088\n",
      "2                            322   125302.522516\n",
      "3                            285   131388.942526\n",
      "4                            221   120470.417964\n",
      "5                            205   127500.196683\n",
      "6                            257   125345.235409\n",
      "7                            249   125107.211486\n",
      "8                            227   126674.733480\n",
      "9                            287   126258.686551\n",
      "10                           264   123987.338712\n",
      "11                           318   128719.262830\n",
      "12                           214   120948.523037\n",
      "--------------------------------------------------\n",
      "                          count            mean\n",
      "                price_per_meter price_per_meter\n",
      "year_exposition                                \n",
      "2014                         17   140504.148824\n",
      "2015                        166   119433.647831\n",
      "2016                        456   124198.429232\n",
      "2017                       1280   125103.353234\n",
      "2018                        991   127876.785903\n",
      "2019                        121   131233.560083\n",
      "--------------------------------------------------\n"
     ]
    },
    {
     "data": {
      "image/png": "[encoded data removed]",
      "text/plain": [
       "<Figure size 648x216 with 1 Axes>"
      ]
     },
     "metadata": {
      "needs_background": "light"
     },
     "output_type": "display_data"
    },
    {
     "data": {
      "image/png": "[encoded data removed]",
      "text/plain": [
       "<Figure size 648x216 with 1 Axes>"
      ]
     },
     "metadata": {
      "needs_background": "light"
     },
     "output_type": "display_data"
    },
    {
     "data": {
      "image/png": "[encoded data removed]",
      "text/plain": [
       "<Figure size 648x216 with 1 Axes>"
      ]
     },
     "metadata": {
      "needs_background": "light"
     },
     "output_type": "display_data"
    }
   ],
   "source": [
    "for p in par:\n",
    "    pivot = spb_center.pivot_table(index = p, \n",
    "                                    values = 'price_per_meter', \n",
    "                                    aggfunc = ['count','mean'])\n",
    "    print(pivot)\n",
    "    pivot['mean'].plot(style='o-', \n",
    "                         #xlim =(pivot.index[0]-1, pivot.index[-1]+1), \n",
    "                         #ylim = (122000, 145500),\n",
    "                         figsize = (9, 3), \n",
    "                         grid=True)\n",
    "    plt.ylabel(\"Цена за квадратный метр\")\n",
    "    print(50*'-')"
   ]
  },
  {
   "cell_type": "markdown",
   "metadata": {},
   "source": [
    "Можно отметить, что для центра Санкт-Петербурга на графиках прослеживается более четкая динамика. По объявлениям, размещенным в понедельник и субботу зафиксированы самые высокие цены, в то время как в среду наблюдается спад. \n",
    "Динамика по месяцам следующая: цены на квартиры выше в объявлениях, опубликованных в марте и ноябре; цена снижается в апреле и декабре.\n",
    "Отличается от предыдущего графика изменение цены в центре города по годам. Падение цены закончилось уже в 2015 году и с тех пор плавно возвращатся к показателям 2014 года. "
   ]
  },
  {
   "cell_type": "code",
   "execution_count": 157,
   "metadata": {},
   "outputs": [
    {
     "data": {
      "text/html": [
       "<div>\n",
       "<style scoped>\n",
       "    .dataframe tbody tr th:only-of-type {\n",
       "        vertical-align: middle;\n",
       "    }\n",
       "\n",
       "    .dataframe tbody tr th {\n",
       "        vertical-align: top;\n",
       "    }\n",
       "\n",
       "    .dataframe thead th {\n",
       "        text-align: right;\n",
       "    }\n",
       "</style>\n",
       "<table border=\"1\" class=\"dataframe\">\n",
       "  <thead>\n",
       "    <tr style=\"text-align: right;\">\n",
       "      <th></th>\n",
       "      <th>km_to_center</th>\n",
       "      <th>count</th>\n",
       "      <th>mean_price</th>\n",
       "    </tr>\n",
       "  </thead>\n",
       "  <tbody>\n",
       "    <tr>\n",
       "      <th>0</th>\n",
       "      <td>0</td>\n",
       "      <td>50</td>\n",
       "      <td>137315.491400</td>\n",
       "    </tr>\n",
       "    <tr>\n",
       "      <th>1</th>\n",
       "      <td>1</td>\n",
       "      <td>156</td>\n",
       "      <td>128060.573077</td>\n",
       "    </tr>\n",
       "    <tr>\n",
       "      <th>2</th>\n",
       "      <td>2</td>\n",
       "      <td>212</td>\n",
       "      <td>120163.571462</td>\n",
       "    </tr>\n",
       "    <tr>\n",
       "      <th>3</th>\n",
       "      <td>3</td>\n",
       "      <td>350</td>\n",
       "      <td>115505.603143</td>\n",
       "    </tr>\n",
       "    <tr>\n",
       "      <th>4</th>\n",
       "      <td>4</td>\n",
       "      <td>636</td>\n",
       "      <td>131041.873381</td>\n",
       "    </tr>\n",
       "    <tr>\n",
       "      <th>5</th>\n",
       "      <td>5</td>\n",
       "      <td>517</td>\n",
       "      <td>130435.712050</td>\n",
       "    </tr>\n",
       "    <tr>\n",
       "      <th>6</th>\n",
       "      <td>6</td>\n",
       "      <td>314</td>\n",
       "      <td>130264.486943</td>\n",
       "    </tr>\n",
       "    <tr>\n",
       "      <th>7</th>\n",
       "      <td>7</td>\n",
       "      <td>308</td>\n",
       "      <td>129064.128571</td>\n",
       "    </tr>\n",
       "    <tr>\n",
       "      <th>8</th>\n",
       "      <td>8</td>\n",
       "      <td>488</td>\n",
       "      <td>117641.250451</td>\n",
       "    </tr>\n",
       "  </tbody>\n",
       "</table>\n",
       "</div>"
      ],
      "text/plain": [
       "   km_to_center  count     mean_price\n",
       "0             0     50  137315.491400\n",
       "1             1    156  128060.573077\n",
       "2             2    212  120163.571462\n",
       "3             3    350  115505.603143\n",
       "4             4    636  131041.873381\n",
       "5             5    517  130435.712050\n",
       "6             6    314  130264.486943\n",
       "7             7    308  129064.128571\n",
       "8             8    488  117641.250451"
      ]
     },
     "execution_count": 157,
     "metadata": {},
     "output_type": "execute_result"
    }
   ],
   "source": [
    "spb_center_pivot = spb_center.pivot_table(index = 'km_to_center', \n",
    "                            values = 'price_per_meter', \n",
    "                            aggfunc = ['count','mean']).reset_index()\n",
    "spb_center_pivot.columns = ['km_to_center', 'count', 'mean_price']\n",
    "spb_center_pivot"
   ]
  },
  {
   "cell_type": "code",
   "execution_count": 158,
   "metadata": {},
   "outputs": [
    {
     "data": {
      "text/plain": [
       "Text(0, 0.5, 'Расстояние')"
      ]
     },
     "execution_count": 158,
     "metadata": {},
     "output_type": "execute_result"
    },
    {
     "data": {
      "image/png": "[encoded data removed]",
      "text/plain": [
       "<Figure size 432x216 with 1 Axes>"
      ]
     },
     "metadata": {
      "needs_background": "light"
     },
     "output_type": "display_data"
    }
   ],
   "source": [
    "spb_center_pivot.plot(x = 'km_to_center', y='mean_price', \n",
    "                        kind='scatter', \n",
    "                        figsize = (6, 3))\n",
    "plt.xlabel('Цена')\n",
    "plt.ylabel('Расстояние')"
   ]
  },
  {
   "cell_type": "markdown",
   "metadata": {},
   "source": [
    "Здесь мы получили графическое подтверждение низкого значения коэффициента корреляции между расстоянием от центра и ценой квадратного метра. Значения распределились неоднородно. "
   ]
  },
  {
   "cell_type": "markdown",
   "metadata": {},
   "source": [
    "<a id = \"step5\"></a>\n",
    "## Шаг 5. Общий вывод\n",
    "\n",
    "[Начало](#head)  [1](#step1)  [2](#step2)  [3](#step3) [4](#step4)"
   ]
  },
  {
   "cell_type": "markdown",
   "metadata": {},
   "source": [
    "В ходе работы был проанализирован архив объявлений о продаже квартир в Санкт-Петербурге и соседних   населённых пунктов за несколько лет. Была проведена предобработка данных и расчет дополнитедльных параметров. Также проведен исследовательский анализ данных с целью выявления факторов которые влияют на цену квартир.\n",
    "        \n",
    "По результатам рассмотрения времени продажи квартир были установлены границы для опледеления быстрых и долгих продаж. Под категорию \"быстрой продажи\" попали объявления, которые были опубликованы на строк менее 14 дней. Долгими продажами стали все объявления, срок которых превысил 2 года.\n",
    "Анализ зависимости цены и удалённости от центра позволил определить условную границу центра города - это расстояние в радиусе 8 км.\n",
    "\n",
    "На цену квартиры влиет не какой-то определенный фактор, а их совокупность. Было установлено, что в квартирах большой и малой площади цена за квадратный метр выше, чем в квартирах средних размеров. Это было характерно как для всех рассматриваемых квартир, так и для квартир в центре Санкт-Петербурга. \n",
    "\n",
    "Для всей выборки объявлений стоимость квадратного метра в квартирах с 0(студии и квартиры с открытой планировкой) и 1 комнатой выше, чем в 2-х и 3-хкомнатных квартирах. В квартирах с 4-мя и более комнатами цена за кв. метр возрастает. Для объявлений в центре Санкт-Петербурга наблюдается другой тренд. В увеличеним числа комнат цена за квадратный метр снижается. Этаж расположения квартиры тоже имеет значение - на первом и последнем этажах квартира обойдется дешевле. \n",
    "\n",
    "Была проанализирована зависимость цены от даты размещения объявления. Сильнее всего видна динамика изменения цены в разрезе лет. Так, для всего набора данных, можно увидеть снижение цен на рынке недвижимости, которое продолжалось до 2016 года и сменилось плавным ростом к 2019 году. В свою очередь цены на недвижимость в центре Санкт-Петербурга снижались только в 2015 году.\n",
    "\n",
    "Немаловажным фактором, значительно влияющим на цену квартиры, является удаленность от центра. Но это характерно для всего Санкт-Петербурга. В центре города, что совершенно логично, этот показатель большой роли не играет. \n",
    "\n",
    "В список населенных пунктов с наибольшим числом объявлений попали: Санкт-Петербург, посёлок Мурино, посёлок Шушары, Всеволожск, Пушкин, Колпино, посёлок Парголово, Гатчина, деревня Кудрово, Выборг.\n",
    "    При этом самые дорогие квартиры оказались в следующмх населенных пунктах: \n",
    "    1. г. Санкт-Петербург - 108820 рублей;\n",
    "    2. г. Пушкин - 101587 рублей;\n",
    "    3. деревня Кудрово - 93142."
   ]
  },
  {
   "cell_type": "markdown",
   "metadata": {},
   "source": [
    "---"
   ]
  }
 ],
 "metadata": {
  "kernelspec": {
   "display_name": "Python 3",
   "language": "python",
   "name": "python3"
  },
  "language_info": {
   "codemirror_mode": {
    "name": "ipython",
    "version": 3
   },
   "file_extension": ".py",
   "mimetype": "text/x-python",
   "name": "python",
   "nbconvert_exporter": "python",
   "pygments_lexer": "ipython3",
   "version": "3.8.3"
  }
 },
 "nbformat": 4,
 "nbformat_minor": 2
}
