{
 "cells": [
  {
   "cell_type": "markdown",
   "metadata": {},
   "source": [
    "<a id = \"head\"></a>\n",
    "# <p style=\"text-align: center;\">Исследование надёжности заёмщиков</p>\n",
    "---"
   ]
  },
  {
   "cell_type": "markdown",
   "metadata": {},
   "source": [
    "### Описание проекта \n",
    "\n",
    "Заказчик — кредитный отдел банка. Нужно разобраться, влияет ли семейное положение и количество детей клиента на факт погашения кредита в срок. Входные данные от банка — статистика о платёжеспособности клиентов.\n",
    "\n",
    "Результаты исследования будут учтены при построении модели **кредитного скоринга** — специальной системы, которая оценивает способность потенциального заёмщика вернуть кредит банку."
   ]
  },
  {
   "cell_type": "markdown",
   "metadata": {},
   "source": [
    "### Описание данных\n",
    "\n",
    "    children — количество детей в семье\n",
    "    days_employed — общий трудовой стаж в днях\n",
    "    dob_years — возраст клиента в годах\n",
    "    education — уровень образования клиента\n",
    "    education_id — идентификатор уровня образования\n",
    "    family_status — семейное положение\n",
    "    family_status_id — идентификатор семейного положения\n",
    "    gender — пол клиента\n",
    "    income_type — тип занятости\n",
    "    debt — имел ли задолженность по возврату кредитов\n",
    "    total_income — ежемесячный доход\n",
    "    purpose — цель получения кредита"
   ]
  },
  {
   "cell_type": "markdown",
   "metadata": {},
   "source": [
    "### План выполнения проекта:\n",
    "***\n",
    "\n",
    "1. [Изучение общей информации о данных](#step1)\n",
    "2. [Предобработка данных. Категоризация.](#step2)\n",
    "3. [Ответы на вопросы проекта](#step3)\n",
    "    - Есть ли зависимость между наличием детей и возвратом кредита в срок?\n",
    "    - Есть ли зависимость между семейным положением и возвратом кредита в срок?\n",
    "    - Есть ли зависимость между уровнем дохода и возвратом кредита в срок?\n",
    "    - Как разные цели кредита влияют на его возврат в срок?\n",
    "4. [Общий вывод по проекту](#step4)"
   ]
  },
  {
   "cell_type": "markdown",
   "metadata": {},
   "source": [
    "<a id = \"step1\"></a>\n",
    "## Шаг 1. Изучение общей информации о данных "
   ]
  },
  {
   "cell_type": "code",
   "execution_count": 1,
   "metadata": {},
   "outputs": [],
   "source": [
    "import pandas as pd\n",
    "from pymystem3 import Mystem"
   ]
  },
  {
   "cell_type": "code",
   "execution_count": 2,
   "metadata": {},
   "outputs": [],
   "source": [
    "data = pd.read_csv('/datasets/data.csv')"
   ]
  },
  {
   "cell_type": "code",
   "execution_count": 3,
   "metadata": {},
   "outputs": [
    {
     "data": {
      "text/html": [
       "<div>\n",
       "<style scoped>\n",
       "    .dataframe tbody tr th:only-of-type {\n",
       "        vertical-align: middle;\n",
       "    }\n",
       "\n",
       "    .dataframe tbody tr th {\n",
       "        vertical-align: top;\n",
       "    }\n",
       "\n",
       "    .dataframe thead th {\n",
       "        text-align: right;\n",
       "    }\n",
       "</style>\n",
       "<table border=\"1\" class=\"dataframe\">\n",
       "  <thead>\n",
       "    <tr style=\"text-align: right;\">\n",
       "      <th></th>\n",
       "      <th>children</th>\n",
       "      <th>days_employed</th>\n",
       "      <th>dob_years</th>\n",
       "      <th>education</th>\n",
       "      <th>education_id</th>\n",
       "      <th>family_status</th>\n",
       "      <th>family_status_id</th>\n",
       "      <th>gender</th>\n",
       "      <th>income_type</th>\n",
       "      <th>debt</th>\n",
       "      <th>total_income</th>\n",
       "      <th>purpose</th>\n",
       "    </tr>\n",
       "  </thead>\n",
       "  <tbody>\n",
       "    <tr>\n",
       "      <td>0</td>\n",
       "      <td>1</td>\n",
       "      <td>-8437.673028</td>\n",
       "      <td>42</td>\n",
       "      <td>высшее</td>\n",
       "      <td>0</td>\n",
       "      <td>женат / замужем</td>\n",
       "      <td>0</td>\n",
       "      <td>F</td>\n",
       "      <td>сотрудник</td>\n",
       "      <td>0</td>\n",
       "      <td>253875.639453</td>\n",
       "      <td>покупка жилья</td>\n",
       "    </tr>\n",
       "    <tr>\n",
       "      <td>1</td>\n",
       "      <td>1</td>\n",
       "      <td>-4024.803754</td>\n",
       "      <td>36</td>\n",
       "      <td>среднее</td>\n",
       "      <td>1</td>\n",
       "      <td>женат / замужем</td>\n",
       "      <td>0</td>\n",
       "      <td>F</td>\n",
       "      <td>сотрудник</td>\n",
       "      <td>0</td>\n",
       "      <td>112080.014102</td>\n",
       "      <td>приобретение автомобиля</td>\n",
       "    </tr>\n",
       "    <tr>\n",
       "      <td>2</td>\n",
       "      <td>0</td>\n",
       "      <td>-5623.422610</td>\n",
       "      <td>33</td>\n",
       "      <td>Среднее</td>\n",
       "      <td>1</td>\n",
       "      <td>женат / замужем</td>\n",
       "      <td>0</td>\n",
       "      <td>M</td>\n",
       "      <td>сотрудник</td>\n",
       "      <td>0</td>\n",
       "      <td>145885.952297</td>\n",
       "      <td>покупка жилья</td>\n",
       "    </tr>\n",
       "    <tr>\n",
       "      <td>3</td>\n",
       "      <td>3</td>\n",
       "      <td>-4124.747207</td>\n",
       "      <td>32</td>\n",
       "      <td>среднее</td>\n",
       "      <td>1</td>\n",
       "      <td>женат / замужем</td>\n",
       "      <td>0</td>\n",
       "      <td>M</td>\n",
       "      <td>сотрудник</td>\n",
       "      <td>0</td>\n",
       "      <td>267628.550329</td>\n",
       "      <td>дополнительное образование</td>\n",
       "    </tr>\n",
       "    <tr>\n",
       "      <td>4</td>\n",
       "      <td>0</td>\n",
       "      <td>340266.072047</td>\n",
       "      <td>53</td>\n",
       "      <td>среднее</td>\n",
       "      <td>1</td>\n",
       "      <td>гражданский брак</td>\n",
       "      <td>1</td>\n",
       "      <td>F</td>\n",
       "      <td>пенсионер</td>\n",
       "      <td>0</td>\n",
       "      <td>158616.077870</td>\n",
       "      <td>сыграть свадьбу</td>\n",
       "    </tr>\n",
       "    <tr>\n",
       "      <td>5</td>\n",
       "      <td>0</td>\n",
       "      <td>-926.185831</td>\n",
       "      <td>27</td>\n",
       "      <td>высшее</td>\n",
       "      <td>0</td>\n",
       "      <td>гражданский брак</td>\n",
       "      <td>1</td>\n",
       "      <td>M</td>\n",
       "      <td>компаньон</td>\n",
       "      <td>0</td>\n",
       "      <td>255763.565419</td>\n",
       "      <td>покупка жилья</td>\n",
       "    </tr>\n",
       "    <tr>\n",
       "      <td>6</td>\n",
       "      <td>0</td>\n",
       "      <td>-2879.202052</td>\n",
       "      <td>43</td>\n",
       "      <td>высшее</td>\n",
       "      <td>0</td>\n",
       "      <td>женат / замужем</td>\n",
       "      <td>0</td>\n",
       "      <td>F</td>\n",
       "      <td>компаньон</td>\n",
       "      <td>0</td>\n",
       "      <td>240525.971920</td>\n",
       "      <td>операции с жильем</td>\n",
       "    </tr>\n",
       "    <tr>\n",
       "      <td>7</td>\n",
       "      <td>0</td>\n",
       "      <td>-152.779569</td>\n",
       "      <td>50</td>\n",
       "      <td>СРЕДНЕЕ</td>\n",
       "      <td>1</td>\n",
       "      <td>женат / замужем</td>\n",
       "      <td>0</td>\n",
       "      <td>M</td>\n",
       "      <td>сотрудник</td>\n",
       "      <td>0</td>\n",
       "      <td>135823.934197</td>\n",
       "      <td>образование</td>\n",
       "    </tr>\n",
       "    <tr>\n",
       "      <td>8</td>\n",
       "      <td>2</td>\n",
       "      <td>-6929.865299</td>\n",
       "      <td>35</td>\n",
       "      <td>ВЫСШЕЕ</td>\n",
       "      <td>0</td>\n",
       "      <td>гражданский брак</td>\n",
       "      <td>1</td>\n",
       "      <td>F</td>\n",
       "      <td>сотрудник</td>\n",
       "      <td>0</td>\n",
       "      <td>95856.832424</td>\n",
       "      <td>на проведение свадьбы</td>\n",
       "    </tr>\n",
       "    <tr>\n",
       "      <td>9</td>\n",
       "      <td>0</td>\n",
       "      <td>-2188.756445</td>\n",
       "      <td>41</td>\n",
       "      <td>среднее</td>\n",
       "      <td>1</td>\n",
       "      <td>женат / замужем</td>\n",
       "      <td>0</td>\n",
       "      <td>M</td>\n",
       "      <td>сотрудник</td>\n",
       "      <td>0</td>\n",
       "      <td>144425.938277</td>\n",
       "      <td>покупка жилья для семьи</td>\n",
       "    </tr>\n",
       "  </tbody>\n",
       "</table>\n",
       "</div>"
      ],
      "text/plain": [
       "   children  days_employed  dob_years education  education_id  \\\n",
       "0         1   -8437.673028         42    высшее             0   \n",
       "1         1   -4024.803754         36   среднее             1   \n",
       "2         0   -5623.422610         33   Среднее             1   \n",
       "3         3   -4124.747207         32   среднее             1   \n",
       "4         0  340266.072047         53   среднее             1   \n",
       "5         0    -926.185831         27    высшее             0   \n",
       "6         0   -2879.202052         43    высшее             0   \n",
       "7         0    -152.779569         50   СРЕДНЕЕ             1   \n",
       "8         2   -6929.865299         35    ВЫСШЕЕ             0   \n",
       "9         0   -2188.756445         41   среднее             1   \n",
       "\n",
       "      family_status  family_status_id gender income_type  debt   total_income  \\\n",
       "0   женат / замужем                 0      F   сотрудник     0  253875.639453   \n",
       "1   женат / замужем                 0      F   сотрудник     0  112080.014102   \n",
       "2   женат / замужем                 0      M   сотрудник     0  145885.952297   \n",
       "3   женат / замужем                 0      M   сотрудник     0  267628.550329   \n",
       "4  гражданский брак                 1      F   пенсионер     0  158616.077870   \n",
       "5  гражданский брак                 1      M   компаньон     0  255763.565419   \n",
       "6   женат / замужем                 0      F   компаньон     0  240525.971920   \n",
       "7   женат / замужем                 0      M   сотрудник     0  135823.934197   \n",
       "8  гражданский брак                 1      F   сотрудник     0   95856.832424   \n",
       "9   женат / замужем                 0      M   сотрудник     0  144425.938277   \n",
       "\n",
       "                      purpose  \n",
       "0               покупка жилья  \n",
       "1     приобретение автомобиля  \n",
       "2               покупка жилья  \n",
       "3  дополнительное образование  \n",
       "4             сыграть свадьбу  \n",
       "5               покупка жилья  \n",
       "6           операции с жильем  \n",
       "7                 образование  \n",
       "8       на проведение свадьбы  \n",
       "9     покупка жилья для семьи  "
      ]
     },
     "execution_count": 3,
     "metadata": {},
     "output_type": "execute_result"
    }
   ],
   "source": [
    "data.head(10)"
   ]
  },
  {
   "cell_type": "code",
   "execution_count": 4,
   "metadata": {},
   "outputs": [
    {
     "name": "stdout",
     "output_type": "stream",
     "text": [
      "<class 'pandas.core.frame.DataFrame'>\n",
      "RangeIndex: 21525 entries, 0 to 21524\n",
      "Data columns (total 12 columns):\n",
      "children            21525 non-null int64\n",
      "days_employed       19351 non-null float64\n",
      "dob_years           21525 non-null int64\n",
      "education           21525 non-null object\n",
      "education_id        21525 non-null int64\n",
      "family_status       21525 non-null object\n",
      "family_status_id    21525 non-null int64\n",
      "gender              21525 non-null object\n",
      "income_type         21525 non-null object\n",
      "debt                21525 non-null int64\n",
      "total_income        19351 non-null float64\n",
      "purpose             21525 non-null object\n",
      "dtypes: float64(2), int64(5), object(5)\n",
      "memory usage: 2.0+ MB\n"
     ]
    }
   ],
   "source": [
    "data.info()"
   ]
  },
  {
   "cell_type": "code",
   "execution_count": 5,
   "metadata": {},
   "outputs": [
    {
     "data": {
      "text/plain": [
       "F      14236\n",
       "M       7288\n",
       "XNA        1\n",
       "Name: gender, dtype: int64"
      ]
     },
     "execution_count": 5,
     "metadata": {},
     "output_type": "execute_result"
    }
   ],
   "source": [
    "data['gender'].value_counts()"
   ]
  },
  {
   "cell_type": "code",
   "execution_count": 6,
   "metadata": {},
   "outputs": [
    {
     "data": {
      "text/plain": [
       " 0     14149\n",
       " 1      4818\n",
       " 2      2055\n",
       " 3       330\n",
       " 20       76\n",
       "-1        47\n",
       " 4        41\n",
       " 5         9\n",
       "Name: children, dtype: int64"
      ]
     },
     "execution_count": 6,
     "metadata": {},
     "output_type": "execute_result"
    }
   ],
   "source": [
    "data['children'].value_counts()"
   ]
  },
  {
   "cell_type": "code",
   "execution_count": 7,
   "metadata": {
    "scrolled": true
   },
   "outputs": [
    {
     "data": {
      "text/plain": [
       "0    101\n",
       "Name: dob_years, dtype: int64"
      ]
     },
     "execution_count": 7,
     "metadata": {},
     "output_type": "execute_result"
    }
   ],
   "source": [
    "data[data['dob_years'] < 18]['dob_years'].value_counts()"
   ]
  },
  {
   "cell_type": "markdown",
   "metadata": {},
   "source": [
    "---\n",
    "Найдены пропуски в столбцах \"days_employed\" и \"total_income\". Также в столбце \"days_employed\" много отрицательных значений, чего в действительности быть не может. Тип данных в этом столбце float64, что тоже неправильно.\n",
    "\n",
    "Аномалии в данных:\n",
    "1. Столбец \"gender\": нашел одного человека с непонятным полом;\n",
    "2. Столбец \"сhildren\": у 47 человек -1 ребенок, у 76 человек 20 детей (тоже маловероятно);\n",
    "3. Столбец \"dob_years: у 101 заемщика указан возраст 0."
   ]
  },
  {
   "cell_type": "markdown",
   "metadata": {},
   "source": [
    "<a id = \"step2\"></a>\n",
    "## Шаг 2. Предобработка данных. Категоризация.\n",
    "\n",
    "[Начало](#head) [1](#step1) [3](#step3) [4](#step4)"
   ]
  },
  {
   "cell_type": "markdown",
   "metadata": {},
   "source": [
    "### Обработка пропусков"
   ]
  },
  {
   "cell_type": "code",
   "execution_count": 8,
   "metadata": {},
   "outputs": [
    {
     "name": "stdout",
     "output_type": "stream",
     "text": [
      "Количество пропусков в столбце \"ежемесячный доход\": 2174\n"
     ]
    }
   ],
   "source": [
    "print('Количество пропусков в столбце \"ежемесячный доход\": {}'.format(data['total_income'].isna().sum()))\n",
    "\n",
    "data = data.drop(['days_employed'], axis = 1)"
   ]
  },
  {
   "cell_type": "code",
   "execution_count": 9,
   "metadata": {},
   "outputs": [
    {
     "data": {
      "text/plain": [
       "сотрудник          11119\n",
       "компаньон           5085\n",
       "пенсионер           3856\n",
       "госслужащий         1459\n",
       "предприниматель        2\n",
       "безработный            2\n",
       "студент                1\n",
       "в декрете              1\n",
       "Name: income_type, dtype: int64"
      ]
     },
     "execution_count": 9,
     "metadata": {},
     "output_type": "execute_result"
    }
   ],
   "source": [
    "data['income_type'].value_counts()"
   ]
  },
  {
   "cell_type": "code",
   "execution_count": 10,
   "metadata": {
    "scrolled": false
   },
   "outputs": [],
   "source": [
    "income_type_median = data.groupby('income_type')['total_income'].median()\n",
    "\n",
    "for income in data['income_type']:\n",
    "    data.loc[(data['total_income'].isnull()) & (data['income_type'] == income), 'total_income']\\\n",
    "                = income_type_median[income]"
   ]
  },
  {
   "cell_type": "markdown",
   "metadata": {},
   "source": [
    "---\n",
    "\n",
    "Пропуски были найдены в столбцах \"days_employed\" и \"total_income\", данные относятся к количественным \n",
    "значениям.\n",
    "В обоих столбцах обнаружено по 2174 пропуска. Все пропущенные значения в двух столбцах полностью совпадают у одних и тех же людей. Они могут быть вызваны либо ошибкой выгрузки данных, либо по этим заемщикам в принципе отсутсвует какая-либо информация об их стаже и ежемесячном доходе. Необходимо обратить внимание разработчиков на данные пропуски.\n",
    "Так как в данных со стажем содержится много ошибок и эти показатели не сильно влияют на результаты исследования, я решил удалить столбец \"days_employed\" из таблицы.\n",
    "Пропущенные значения в столбце \"total_income\" я заполнял медианными значениями в зависимости от типа занятости, чтобы увеличить точность заполнения."
   ]
  },
  {
   "cell_type": "markdown",
   "metadata": {},
   "source": [
    "### Замена типа данных"
   ]
  },
  {
   "cell_type": "code",
   "execution_count": 11,
   "metadata": {
    "scrolled": true
   },
   "outputs": [
    {
     "name": "stdout",
     "output_type": "stream",
     "text": [
      "<class 'pandas.core.frame.DataFrame'>\n",
      "RangeIndex: 21525 entries, 0 to 21524\n",
      "Data columns (total 11 columns):\n",
      "children            21525 non-null int64\n",
      "dob_years           21525 non-null int64\n",
      "education           21525 non-null object\n",
      "education_id        21525 non-null int64\n",
      "family_status       21525 non-null object\n",
      "family_status_id    21525 non-null int64\n",
      "gender              21525 non-null object\n",
      "income_type         21525 non-null object\n",
      "debt                21525 non-null int64\n",
      "total_income        21525 non-null int64\n",
      "purpose             21525 non-null object\n",
      "dtypes: int64(6), object(5)\n",
      "memory usage: 1.8+ MB\n"
     ]
    }
   ],
   "source": [
    "data['total_income'] = data['total_income'].astype('int')\n",
    "data.info()"
   ]
  },
  {
   "cell_type": "markdown",
   "metadata": {},
   "source": [
    "### Обработка дубликатов"
   ]
  },
  {
   "cell_type": "code",
   "execution_count": 12,
   "metadata": {},
   "outputs": [
    {
     "name": "stdout",
     "output_type": "stream",
     "text": [
      "Дубликатов в таблице: 71\n",
      "\n"
     ]
    }
   ],
   "source": [
    "data['education'] = data['education'].str.lower()\n",
    "print('Дубликатов в таблице:', data.duplicated().sum())\n",
    "print()\n",
    "\n",
    "data = data.drop_duplicates().reset_index(drop = True)"
   ]
  },
  {
   "cell_type": "markdown",
   "metadata": {},
   "source": [
    "---\n",
    "Всего был выявлен 71 дубликат. Возможные причины появления дубликатов: ошибки при выгрузке, неправильное соединение данных из разных источников, ошибки пользователя при занесении информации.\n",
    "\n",
    "Все дубликаты были удалены из таблицы."
   ]
  },
  {
   "cell_type": "markdown",
   "metadata": {},
   "source": [
    "### Дополнительная обработка данных "
   ]
  },
  {
   "cell_type": "code",
   "execution_count": 13,
   "metadata": {},
   "outputs": [],
   "source": [
    "data = data.drop(data[(data['children'] == (-1))|(data['children'] == 20)].index).reset_index(drop = True)"
   ]
  },
  {
   "cell_type": "code",
   "execution_count": 14,
   "metadata": {},
   "outputs": [
    {
     "data": {
      "text/plain": [
       "(21331, 11)"
      ]
     },
     "execution_count": 14,
     "metadata": {},
     "output_type": "execute_result"
    }
   ],
   "source": [
    "data.shape"
   ]
  },
  {
   "cell_type": "markdown",
   "metadata": {},
   "source": [
    "---\n",
    "Поскольку в исходных данных присутсвуют клиенты, у которых по 20 детей и один клиент с -1 ребенком, я решил что будет лучше исключить их из исследования. Их доля очень маленькая, на результаты исследования мое решение повлиять не должно. "
   ]
  },
  {
   "cell_type": "markdown",
   "metadata": {},
   "source": [
    "### Лемматизация"
   ]
  },
  {
   "cell_type": "code",
   "execution_count": 15,
   "metadata": {},
   "outputs": [],
   "source": [
    "m = Mystem()\n",
    "# data['purpose'].value_counts()\n",
    "purposes_dict = ['недвижимость', 'жилье', 'свадьба', 'автомобиль', 'образование']"
   ]
  },
  {
   "cell_type": "code",
   "execution_count": 16,
   "metadata": {},
   "outputs": [],
   "source": [
    "def find_purpose(value):\n",
    "    \n",
    "    for purpose in purposes_dict:\n",
    "        if purpose in m.lemmatize(value):\n",
    "            return purpose"
   ]
  },
  {
   "cell_type": "code",
   "execution_count": 17,
   "metadata": {},
   "outputs": [],
   "source": [
    "data['new_purpose'] = data['purpose'].apply(find_purpose)"
   ]
  },
  {
   "cell_type": "code",
   "execution_count": 18,
   "metadata": {},
   "outputs": [
    {
     "data": {
      "text/plain": [
       "недвижимость    6314\n",
       "жилье           4437\n",
       "автомобиль      4279\n",
       "образование     3988\n",
       "свадьба         2313\n",
       "Name: new_purpose, dtype: int64"
      ]
     },
     "execution_count": 18,
     "metadata": {},
     "output_type": "execute_result"
    }
   ],
   "source": [
    "data['new_purpose'].value_counts()"
   ]
  },
  {
   "cell_type": "markdown",
   "metadata": {},
   "source": [
    "---\n",
    "Вручную был составлен справочник целей получения кредита. Лемматизация происходит внутри функции. Если цель из моего справочника находит соответсвующее значение в лемматизированной строке из столбца 'purpose', то функция возвращает новое значение из справочника."
   ]
  },
  {
   "cell_type": "markdown",
   "metadata": {},
   "source": [
    "### Категоризация данных"
   ]
  },
  {
   "cell_type": "code",
   "execution_count": 19,
   "metadata": {},
   "outputs": [],
   "source": [
    "def children(kids):\n",
    "    if kids == 0:\n",
    "        return 'детей нет'\n",
    "    return 'дети есть'\n",
    "\n",
    "data['children_group']  = data['children'].apply(children)    "
   ]
  },
  {
   "cell_type": "code",
   "execution_count": 20,
   "metadata": {},
   "outputs": [],
   "source": [
    "def kids_number(number):\n",
    "    if number == 0:\n",
    "        return 'детей нет'\n",
    "    if number == 1:\n",
    "        return 'один ребенок'\n",
    "    return 'два и более детей'\n",
    "\n",
    "data['children_number_group'] = data['children'].apply(kids_number)"
   ]
  },
  {
   "cell_type": "code",
   "execution_count": 21,
   "metadata": {},
   "outputs": [
    {
     "data": {
      "text/plain": [
       "165342.74576906848"
      ]
     },
     "execution_count": 21,
     "metadata": {},
     "output_type": "execute_result"
    }
   ],
   "source": [
    "data['total_income'].mean()"
   ]
  },
  {
   "cell_type": "code",
   "execution_count": 22,
   "metadata": {},
   "outputs": [],
   "source": [
    "def income_group(income):\n",
    "    if income < 75000:\n",
    "        return 'доход до 75 тыс.руб.'\n",
    "    if income < 125000:\n",
    "        return 'доход до 125 тыс.руб.'\n",
    "    if income < 150000:\n",
    "        return 'доход от 100 до 150 тыс.руб.'\n",
    "    if income < 200000:\n",
    "        return 'доход от 150 до 200 тыс.руб.'\n",
    "    if income < 250000:\n",
    "        return 'доход от 200 до 250 тыс.руб.'\n",
    "    return 'доход свыше 250 тыс.руб.'\n",
    "\n",
    "data['income_group'] = data['total_income'].apply(income_group)"
   ]
  },
  {
   "cell_type": "code",
   "execution_count": 23,
   "metadata": {},
   "outputs": [
    {
     "data": {
      "text/plain": [
       "доход до 125 тыс.руб.           5862\n",
       "доход от 150 до 200 тыс.руб.    4738\n",
       "доход от 100 до 150 тыс.руб.    3838\n",
       "доход свыше 250 тыс.руб.        2797\n",
       "доход от 200 до 250 тыс.руб.    2242\n",
       "доход до 75 тыс.руб.            1854\n",
       "Name: income_group, dtype: int64"
      ]
     },
     "execution_count": 23,
     "metadata": {},
     "output_type": "execute_result"
    }
   ],
   "source": [
    "data['income_group'].value_counts()"
   ]
  },
  {
   "cell_type": "code",
   "execution_count": 24,
   "metadata": {},
   "outputs": [],
   "source": [
    "def age_group(age):\n",
    "    if age == 0:\n",
    "        return 'нет данных'\n",
    "    if age < 30:\n",
    "        return 'младше 30 лет'\n",
    "    if age < 40:\n",
    "        return '30 - 40 лет'\n",
    "    if age < 50:\n",
    "        return '40 - 50 лет'\n",
    "    if age < 65:\n",
    "        return '50 - 60 лет'\n",
    "    return 'старше 65 лет'\n",
    "\n",
    "data['age_group'] = data['dob_years'].apply(age_group)"
   ]
  },
  {
   "cell_type": "code",
   "execution_count": 25,
   "metadata": {},
   "outputs": [
    {
     "data": {
      "text/html": [
       "<div>\n",
       "<style scoped>\n",
       "    .dataframe tbody tr th:only-of-type {\n",
       "        vertical-align: middle;\n",
       "    }\n",
       "\n",
       "    .dataframe tbody tr th {\n",
       "        vertical-align: top;\n",
       "    }\n",
       "\n",
       "    .dataframe thead th {\n",
       "        text-align: right;\n",
       "    }\n",
       "</style>\n",
       "<table border=\"1\" class=\"dataframe\">\n",
       "  <thead>\n",
       "    <tr style=\"text-align: right;\">\n",
       "      <th></th>\n",
       "      <th>children</th>\n",
       "      <th>dob_years</th>\n",
       "      <th>education</th>\n",
       "      <th>education_id</th>\n",
       "      <th>family_status</th>\n",
       "      <th>family_status_id</th>\n",
       "      <th>gender</th>\n",
       "      <th>income_type</th>\n",
       "      <th>debt</th>\n",
       "      <th>total_income</th>\n",
       "      <th>purpose</th>\n",
       "      <th>new_purpose</th>\n",
       "      <th>children_group</th>\n",
       "      <th>children_number_group</th>\n",
       "      <th>income_group</th>\n",
       "      <th>age_group</th>\n",
       "    </tr>\n",
       "  </thead>\n",
       "  <tbody>\n",
       "    <tr>\n",
       "      <td>0</td>\n",
       "      <td>1</td>\n",
       "      <td>42</td>\n",
       "      <td>высшее</td>\n",
       "      <td>0</td>\n",
       "      <td>женат / замужем</td>\n",
       "      <td>0</td>\n",
       "      <td>F</td>\n",
       "      <td>сотрудник</td>\n",
       "      <td>0</td>\n",
       "      <td>253875</td>\n",
       "      <td>покупка жилья</td>\n",
       "      <td>жилье</td>\n",
       "      <td>дети есть</td>\n",
       "      <td>один ребенок</td>\n",
       "      <td>доход свыше 250 тыс.руб.</td>\n",
       "      <td>40 - 50 лет</td>\n",
       "    </tr>\n",
       "    <tr>\n",
       "      <td>1</td>\n",
       "      <td>1</td>\n",
       "      <td>36</td>\n",
       "      <td>среднее</td>\n",
       "      <td>1</td>\n",
       "      <td>женат / замужем</td>\n",
       "      <td>0</td>\n",
       "      <td>F</td>\n",
       "      <td>сотрудник</td>\n",
       "      <td>0</td>\n",
       "      <td>112080</td>\n",
       "      <td>приобретение автомобиля</td>\n",
       "      <td>автомобиль</td>\n",
       "      <td>дети есть</td>\n",
       "      <td>один ребенок</td>\n",
       "      <td>доход до 125 тыс.руб.</td>\n",
       "      <td>30 - 40 лет</td>\n",
       "    </tr>\n",
       "    <tr>\n",
       "      <td>2</td>\n",
       "      <td>0</td>\n",
       "      <td>33</td>\n",
       "      <td>среднее</td>\n",
       "      <td>1</td>\n",
       "      <td>женат / замужем</td>\n",
       "      <td>0</td>\n",
       "      <td>M</td>\n",
       "      <td>сотрудник</td>\n",
       "      <td>0</td>\n",
       "      <td>145885</td>\n",
       "      <td>покупка жилья</td>\n",
       "      <td>жилье</td>\n",
       "      <td>детей нет</td>\n",
       "      <td>детей нет</td>\n",
       "      <td>доход от 100 до 150 тыс.руб.</td>\n",
       "      <td>30 - 40 лет</td>\n",
       "    </tr>\n",
       "    <tr>\n",
       "      <td>3</td>\n",
       "      <td>3</td>\n",
       "      <td>32</td>\n",
       "      <td>среднее</td>\n",
       "      <td>1</td>\n",
       "      <td>женат / замужем</td>\n",
       "      <td>0</td>\n",
       "      <td>M</td>\n",
       "      <td>сотрудник</td>\n",
       "      <td>0</td>\n",
       "      <td>267628</td>\n",
       "      <td>дополнительное образование</td>\n",
       "      <td>образование</td>\n",
       "      <td>дети есть</td>\n",
       "      <td>два и более детей</td>\n",
       "      <td>доход свыше 250 тыс.руб.</td>\n",
       "      <td>30 - 40 лет</td>\n",
       "    </tr>\n",
       "    <tr>\n",
       "      <td>4</td>\n",
       "      <td>0</td>\n",
       "      <td>53</td>\n",
       "      <td>среднее</td>\n",
       "      <td>1</td>\n",
       "      <td>гражданский брак</td>\n",
       "      <td>1</td>\n",
       "      <td>F</td>\n",
       "      <td>пенсионер</td>\n",
       "      <td>0</td>\n",
       "      <td>158616</td>\n",
       "      <td>сыграть свадьбу</td>\n",
       "      <td>свадьба</td>\n",
       "      <td>детей нет</td>\n",
       "      <td>детей нет</td>\n",
       "      <td>доход от 150 до 200 тыс.руб.</td>\n",
       "      <td>50 - 60 лет</td>\n",
       "    </tr>\n",
       "    <tr>\n",
       "      <td>...</td>\n",
       "      <td>...</td>\n",
       "      <td>...</td>\n",
       "      <td>...</td>\n",
       "      <td>...</td>\n",
       "      <td>...</td>\n",
       "      <td>...</td>\n",
       "      <td>...</td>\n",
       "      <td>...</td>\n",
       "      <td>...</td>\n",
       "      <td>...</td>\n",
       "      <td>...</td>\n",
       "      <td>...</td>\n",
       "      <td>...</td>\n",
       "      <td>...</td>\n",
       "      <td>...</td>\n",
       "      <td>...</td>\n",
       "    </tr>\n",
       "    <tr>\n",
       "      <td>21326</td>\n",
       "      <td>1</td>\n",
       "      <td>43</td>\n",
       "      <td>среднее</td>\n",
       "      <td>1</td>\n",
       "      <td>гражданский брак</td>\n",
       "      <td>1</td>\n",
       "      <td>F</td>\n",
       "      <td>компаньон</td>\n",
       "      <td>0</td>\n",
       "      <td>224791</td>\n",
       "      <td>операции с жильем</td>\n",
       "      <td>жилье</td>\n",
       "      <td>дети есть</td>\n",
       "      <td>один ребенок</td>\n",
       "      <td>доход от 200 до 250 тыс.руб.</td>\n",
       "      <td>40 - 50 лет</td>\n",
       "    </tr>\n",
       "    <tr>\n",
       "      <td>21327</td>\n",
       "      <td>0</td>\n",
       "      <td>67</td>\n",
       "      <td>среднее</td>\n",
       "      <td>1</td>\n",
       "      <td>женат / замужем</td>\n",
       "      <td>0</td>\n",
       "      <td>F</td>\n",
       "      <td>пенсионер</td>\n",
       "      <td>0</td>\n",
       "      <td>155999</td>\n",
       "      <td>сделка с автомобилем</td>\n",
       "      <td>автомобиль</td>\n",
       "      <td>детей нет</td>\n",
       "      <td>детей нет</td>\n",
       "      <td>доход от 150 до 200 тыс.руб.</td>\n",
       "      <td>старше 65 лет</td>\n",
       "    </tr>\n",
       "    <tr>\n",
       "      <td>21328</td>\n",
       "      <td>1</td>\n",
       "      <td>38</td>\n",
       "      <td>среднее</td>\n",
       "      <td>1</td>\n",
       "      <td>гражданский брак</td>\n",
       "      <td>1</td>\n",
       "      <td>M</td>\n",
       "      <td>сотрудник</td>\n",
       "      <td>1</td>\n",
       "      <td>89672</td>\n",
       "      <td>недвижимость</td>\n",
       "      <td>недвижимость</td>\n",
       "      <td>дети есть</td>\n",
       "      <td>один ребенок</td>\n",
       "      <td>доход до 125 тыс.руб.</td>\n",
       "      <td>30 - 40 лет</td>\n",
       "    </tr>\n",
       "    <tr>\n",
       "      <td>21329</td>\n",
       "      <td>3</td>\n",
       "      <td>38</td>\n",
       "      <td>среднее</td>\n",
       "      <td>1</td>\n",
       "      <td>женат / замужем</td>\n",
       "      <td>0</td>\n",
       "      <td>M</td>\n",
       "      <td>сотрудник</td>\n",
       "      <td>1</td>\n",
       "      <td>244093</td>\n",
       "      <td>на покупку своего автомобиля</td>\n",
       "      <td>автомобиль</td>\n",
       "      <td>дети есть</td>\n",
       "      <td>два и более детей</td>\n",
       "      <td>доход от 200 до 250 тыс.руб.</td>\n",
       "      <td>30 - 40 лет</td>\n",
       "    </tr>\n",
       "    <tr>\n",
       "      <td>21330</td>\n",
       "      <td>2</td>\n",
       "      <td>40</td>\n",
       "      <td>среднее</td>\n",
       "      <td>1</td>\n",
       "      <td>женат / замужем</td>\n",
       "      <td>0</td>\n",
       "      <td>F</td>\n",
       "      <td>сотрудник</td>\n",
       "      <td>0</td>\n",
       "      <td>82047</td>\n",
       "      <td>на покупку автомобиля</td>\n",
       "      <td>автомобиль</td>\n",
       "      <td>дети есть</td>\n",
       "      <td>два и более детей</td>\n",
       "      <td>доход до 125 тыс.руб.</td>\n",
       "      <td>40 - 50 лет</td>\n",
       "    </tr>\n",
       "  </tbody>\n",
       "</table>\n",
       "<p>21331 rows × 16 columns</p>\n",
       "</div>"
      ],
      "text/plain": [
       "       children  dob_years education  education_id     family_status  \\\n",
       "0             1         42    высшее             0   женат / замужем   \n",
       "1             1         36   среднее             1   женат / замужем   \n",
       "2             0         33   среднее             1   женат / замужем   \n",
       "3             3         32   среднее             1   женат / замужем   \n",
       "4             0         53   среднее             1  гражданский брак   \n",
       "...         ...        ...       ...           ...               ...   \n",
       "21326         1         43   среднее             1  гражданский брак   \n",
       "21327         0         67   среднее             1   женат / замужем   \n",
       "21328         1         38   среднее             1  гражданский брак   \n",
       "21329         3         38   среднее             1   женат / замужем   \n",
       "21330         2         40   среднее             1   женат / замужем   \n",
       "\n",
       "       family_status_id gender income_type  debt  total_income  \\\n",
       "0                     0      F   сотрудник     0        253875   \n",
       "1                     0      F   сотрудник     0        112080   \n",
       "2                     0      M   сотрудник     0        145885   \n",
       "3                     0      M   сотрудник     0        267628   \n",
       "4                     1      F   пенсионер     0        158616   \n",
       "...                 ...    ...         ...   ...           ...   \n",
       "21326                 1      F   компаньон     0        224791   \n",
       "21327                 0      F   пенсионер     0        155999   \n",
       "21328                 1      M   сотрудник     1         89672   \n",
       "21329                 0      M   сотрудник     1        244093   \n",
       "21330                 0      F   сотрудник     0         82047   \n",
       "\n",
       "                            purpose   new_purpose children_group  \\\n",
       "0                     покупка жилья         жилье      дети есть   \n",
       "1           приобретение автомобиля    автомобиль      дети есть   \n",
       "2                     покупка жилья         жилье      детей нет   \n",
       "3        дополнительное образование   образование      дети есть   \n",
       "4                   сыграть свадьбу       свадьба      детей нет   \n",
       "...                             ...           ...            ...   \n",
       "21326             операции с жильем         жилье      дети есть   \n",
       "21327          сделка с автомобилем    автомобиль      детей нет   \n",
       "21328                  недвижимость  недвижимость      дети есть   \n",
       "21329  на покупку своего автомобиля    автомобиль      дети есть   \n",
       "21330         на покупку автомобиля    автомобиль      дети есть   \n",
       "\n",
       "      children_number_group                  income_group      age_group  \n",
       "0              один ребенок      доход свыше 250 тыс.руб.    40 - 50 лет  \n",
       "1              один ребенок         доход до 125 тыс.руб.    30 - 40 лет  \n",
       "2                 детей нет  доход от 100 до 150 тыс.руб.    30 - 40 лет  \n",
       "3         два и более детей      доход свыше 250 тыс.руб.    30 - 40 лет  \n",
       "4                 детей нет  доход от 150 до 200 тыс.руб.    50 - 60 лет  \n",
       "...                     ...                           ...            ...  \n",
       "21326          один ребенок  доход от 200 до 250 тыс.руб.    40 - 50 лет  \n",
       "21327             детей нет  доход от 150 до 200 тыс.руб.  старше 65 лет  \n",
       "21328          один ребенок         доход до 125 тыс.руб.    30 - 40 лет  \n",
       "21329     два и более детей  доход от 200 до 250 тыс.руб.    30 - 40 лет  \n",
       "21330     два и более детей         доход до 125 тыс.руб.    40 - 50 лет  \n",
       "\n",
       "[21331 rows x 16 columns]"
      ]
     },
     "execution_count": 25,
     "metadata": {},
     "output_type": "execute_result"
    }
   ],
   "source": [
    "data"
   ]
  },
  {
   "cell_type": "markdown",
   "metadata": {},
   "source": [
    "Были созданы дополнительные `4` категории:\n",
    "1. children_group - поделил заемщиков на тех у кого дети есть и у кого их нет (Хочу посмотреть в целом разницу по просрочкам между двумя этими группами);\n",
    "2. children_number_group - категории в зависимости от количества детей (Эта классификация сделана, чтобы увидеть влияет ли количество детей на возврат кредита в срок);\n",
    "3. income_group - разбил заемщиков на группы в зависимости от уровня дохода;\n",
    "4. age_group - возрастные группы.\n",
    "\n",
    "Данные группы помогут ответить на вопросы исследования."
   ]
  },
  {
   "cell_type": "markdown",
   "metadata": {},
   "source": [
    "<a id = \"step3\"></a>\n",
    "## Шаг 3. Ответы на вопросы проекта\n",
    "\n",
    "[Начало](#head) [1](#step1) [2](#step2) [4](#step4)"
   ]
  },
  {
   "cell_type": "markdown",
   "metadata": {},
   "source": [
    "### 1. Есть ли зависимость между наличием детей и возвратом кредита в срок?\n",
    "---"
   ]
  },
  {
   "cell_type": "code",
   "execution_count": 26,
   "metadata": {},
   "outputs": [
    {
     "data": {
      "text/plain": [
       "0.08119638085415593"
      ]
     },
     "execution_count": 26,
     "metadata": {},
     "output_type": "execute_result"
    }
   ],
   "source": [
    "data['debt'].mean()"
   ]
  },
  {
   "cell_type": "markdown",
   "metadata": {},
   "source": [
    "***Из всей выборки 8,12% имели задолженность по возврату кредитов***"
   ]
  },
  {
   "cell_type": "code",
   "execution_count": 27,
   "metadata": {},
   "outputs": [
    {
     "data": {
      "text/html": [
       "<div>\n",
       "<style scoped>\n",
       "    .dataframe tbody tr th:only-of-type {\n",
       "        vertical-align: middle;\n",
       "    }\n",
       "\n",
       "    .dataframe tbody tr th {\n",
       "        vertical-align: top;\n",
       "    }\n",
       "\n",
       "    .dataframe thead tr th {\n",
       "        text-align: left;\n",
       "    }\n",
       "\n",
       "    .dataframe thead tr:last-of-type th {\n",
       "        text-align: right;\n",
       "    }\n",
       "</style>\n",
       "<table border=\"1\" class=\"dataframe\">\n",
       "  <thead>\n",
       "    <tr>\n",
       "      <th></th>\n",
       "      <th>count</th>\n",
       "      <th>mean</th>\n",
       "    </tr>\n",
       "    <tr>\n",
       "      <th></th>\n",
       "      <th>debt</th>\n",
       "      <th>debt</th>\n",
       "    </tr>\n",
       "    <tr>\n",
       "      <th>children_group</th>\n",
       "      <th></th>\n",
       "      <th></th>\n",
       "    </tr>\n",
       "  </thead>\n",
       "  <tbody>\n",
       "    <tr>\n",
       "      <td>детей нет</td>\n",
       "      <td>14091</td>\n",
       "      <td>0.075438</td>\n",
       "    </tr>\n",
       "    <tr>\n",
       "      <td>дети есть</td>\n",
       "      <td>7240</td>\n",
       "      <td>0.092403</td>\n",
       "    </tr>\n",
       "  </tbody>\n",
       "</table>\n",
       "</div>"
      ],
      "text/plain": [
       "                count      mean\n",
       "                 debt      debt\n",
       "children_group                 \n",
       "детей нет       14091  0.075438\n",
       "дети есть        7240  0.092403"
      ]
     },
     "execution_count": 27,
     "metadata": {},
     "output_type": "execute_result"
    }
   ],
   "source": [
    "data.pivot_table(index='children_group', values=['debt'], aggfunc=['count','mean'])"
   ]
  },
  {
   "cell_type": "code",
   "execution_count": 28,
   "metadata": {},
   "outputs": [
    {
     "data": {
      "text/html": [
       "<div>\n",
       "<style scoped>\n",
       "    .dataframe tbody tr th:only-of-type {\n",
       "        vertical-align: middle;\n",
       "    }\n",
       "\n",
       "    .dataframe tbody tr th {\n",
       "        vertical-align: top;\n",
       "    }\n",
       "\n",
       "    .dataframe thead tr th {\n",
       "        text-align: left;\n",
       "    }\n",
       "\n",
       "    .dataframe thead tr:last-of-type th {\n",
       "        text-align: right;\n",
       "    }\n",
       "</style>\n",
       "<table border=\"1\" class=\"dataframe\">\n",
       "  <thead>\n",
       "    <tr>\n",
       "      <th></th>\n",
       "      <th>count</th>\n",
       "      <th>mean</th>\n",
       "    </tr>\n",
       "    <tr>\n",
       "      <th></th>\n",
       "      <th>debt</th>\n",
       "      <th>debt</th>\n",
       "    </tr>\n",
       "    <tr>\n",
       "      <th>children_number_group</th>\n",
       "      <th></th>\n",
       "      <th></th>\n",
       "    </tr>\n",
       "  </thead>\n",
       "  <tbody>\n",
       "    <tr>\n",
       "      <td>два и более детей</td>\n",
       "      <td>2432</td>\n",
       "      <td>0.092516</td>\n",
       "    </tr>\n",
       "    <tr>\n",
       "      <td>детей нет</td>\n",
       "      <td>14091</td>\n",
       "      <td>0.075438</td>\n",
       "    </tr>\n",
       "    <tr>\n",
       "      <td>один ребенок</td>\n",
       "      <td>4808</td>\n",
       "      <td>0.092346</td>\n",
       "    </tr>\n",
       "  </tbody>\n",
       "</table>\n",
       "</div>"
      ],
      "text/plain": [
       "                       count      mean\n",
       "                        debt      debt\n",
       "children_number_group                 \n",
       "два и более детей       2432  0.092516\n",
       "детей нет              14091  0.075438\n",
       "один ребенок            4808  0.092346"
      ]
     },
     "execution_count": 28,
     "metadata": {},
     "output_type": "execute_result"
    }
   ],
   "source": [
    "data.pivot_table(index='children_number_group', values=['debt'], aggfunc=['count','mean'])"
   ]
  },
  {
   "cell_type": "markdown",
   "metadata": {},
   "source": [
    "---\n",
    "На основании полученных данных можно сказать, что зависимость между наличием детей и возвратом кредита в срок есть. В среднем 7,5% заемщиков без детей имели задолженность по кредиту. У клиентов, которых есть дети, эта доля составляет 9,2%. Таким образом клиенты с детьми с большей вероятностью могут не вернуть кредит в срок. Видимо, заемщикам с детьми сложнее планировать свои финансы. При этом количество детей не сказывается на невозврат. "
   ]
  },
  {
   "cell_type": "markdown",
   "metadata": {},
   "source": [
    "### 2. Есть ли зависимость между семейным положением и возвратом кредита в срок?\n",
    "---"
   ]
  },
  {
   "cell_type": "code",
   "execution_count": 29,
   "metadata": {},
   "outputs": [
    {
     "data": {
      "text/html": [
       "<div>\n",
       "<style scoped>\n",
       "    .dataframe tbody tr th:only-of-type {\n",
       "        vertical-align: middle;\n",
       "    }\n",
       "\n",
       "    .dataframe tbody tr th {\n",
       "        vertical-align: top;\n",
       "    }\n",
       "\n",
       "    .dataframe thead tr th {\n",
       "        text-align: left;\n",
       "    }\n",
       "\n",
       "    .dataframe thead tr:last-of-type th {\n",
       "        text-align: right;\n",
       "    }\n",
       "</style>\n",
       "<table border=\"1\" class=\"dataframe\">\n",
       "  <thead>\n",
       "    <tr>\n",
       "      <th></th>\n",
       "      <th>count</th>\n",
       "      <th>mean</th>\n",
       "    </tr>\n",
       "    <tr>\n",
       "      <th></th>\n",
       "      <th>debt</th>\n",
       "      <th>debt</th>\n",
       "    </tr>\n",
       "    <tr>\n",
       "      <th>family_status</th>\n",
       "      <th></th>\n",
       "      <th></th>\n",
       "    </tr>\n",
       "  </thead>\n",
       "  <tbody>\n",
       "    <tr>\n",
       "      <td>Не женат / не замужем</td>\n",
       "      <td>2796</td>\n",
       "      <td>0.097639</td>\n",
       "    </tr>\n",
       "    <tr>\n",
       "      <td>в разводе</td>\n",
       "      <td>1189</td>\n",
       "      <td>0.070648</td>\n",
       "    </tr>\n",
       "    <tr>\n",
       "      <td>вдовец / вдова</td>\n",
       "      <td>951</td>\n",
       "      <td>0.066246</td>\n",
       "    </tr>\n",
       "    <tr>\n",
       "      <td>гражданский брак</td>\n",
       "      <td>4134</td>\n",
       "      <td>0.093130</td>\n",
       "    </tr>\n",
       "    <tr>\n",
       "      <td>женат / замужем</td>\n",
       "      <td>12261</td>\n",
       "      <td>0.075606</td>\n",
       "    </tr>\n",
       "  </tbody>\n",
       "</table>\n",
       "</div>"
      ],
      "text/plain": [
       "                       count      mean\n",
       "                        debt      debt\n",
       "family_status                         \n",
       "Не женат / не замужем   2796  0.097639\n",
       "в разводе               1189  0.070648\n",
       "вдовец / вдова           951  0.066246\n",
       "гражданский брак        4134  0.093130\n",
       "женат / замужем        12261  0.075606"
      ]
     },
     "execution_count": 29,
     "metadata": {},
     "output_type": "execute_result"
    }
   ],
   "source": [
    "data.pivot_table(index='family_status', values=['debt'], aggfunc=['count','mean'])"
   ]
  },
  {
   "cell_type": "code",
   "execution_count": 30,
   "metadata": {},
   "outputs": [
    {
     "data": {
      "text/html": [
       "<div>\n",
       "<style scoped>\n",
       "    .dataframe tbody tr th:only-of-type {\n",
       "        vertical-align: middle;\n",
       "    }\n",
       "\n",
       "    .dataframe tbody tr th {\n",
       "        vertical-align: top;\n",
       "    }\n",
       "\n",
       "    .dataframe thead tr th {\n",
       "        text-align: left;\n",
       "    }\n",
       "\n",
       "    .dataframe thead tr:last-of-type th {\n",
       "        text-align: right;\n",
       "    }\n",
       "</style>\n",
       "<table border=\"1\" class=\"dataframe\">\n",
       "  <thead>\n",
       "    <tr>\n",
       "      <th></th>\n",
       "      <th colspan=\"2\" halign=\"left\">count</th>\n",
       "      <th colspan=\"2\" halign=\"left\">mean</th>\n",
       "    </tr>\n",
       "    <tr>\n",
       "      <th></th>\n",
       "      <th colspan=\"2\" halign=\"left\">debt</th>\n",
       "      <th colspan=\"2\" halign=\"left\">debt</th>\n",
       "    </tr>\n",
       "    <tr>\n",
       "      <th>children_group</th>\n",
       "      <th>детей нет</th>\n",
       "      <th>дети есть</th>\n",
       "      <th>детей нет</th>\n",
       "      <th>дети есть</th>\n",
       "    </tr>\n",
       "    <tr>\n",
       "      <th>family_status</th>\n",
       "      <th></th>\n",
       "      <th></th>\n",
       "      <th></th>\n",
       "      <th></th>\n",
       "    </tr>\n",
       "  </thead>\n",
       "  <tbody>\n",
       "    <tr>\n",
       "      <td>Не женат / не замужем</td>\n",
       "      <td>2262</td>\n",
       "      <td>534</td>\n",
       "      <td>0.092838</td>\n",
       "      <td>0.117978</td>\n",
       "    </tr>\n",
       "    <tr>\n",
       "      <td>в разводе</td>\n",
       "      <td>784</td>\n",
       "      <td>405</td>\n",
       "      <td>0.070153</td>\n",
       "      <td>0.071605</td>\n",
       "    </tr>\n",
       "    <tr>\n",
       "      <td>вдовец / вдова</td>\n",
       "      <td>847</td>\n",
       "      <td>104</td>\n",
       "      <td>0.062574</td>\n",
       "      <td>0.096154</td>\n",
       "    </tr>\n",
       "    <tr>\n",
       "      <td>гражданский брак</td>\n",
       "      <td>2730</td>\n",
       "      <td>1404</td>\n",
       "      <td>0.083883</td>\n",
       "      <td>0.111111</td>\n",
       "    </tr>\n",
       "    <tr>\n",
       "      <td>женат / замужем</td>\n",
       "      <td>7468</td>\n",
       "      <td>4793</td>\n",
       "      <td>0.069095</td>\n",
       "      <td>0.085750</td>\n",
       "    </tr>\n",
       "  </tbody>\n",
       "</table>\n",
       "</div>"
      ],
      "text/plain": [
       "                          count                mean          \n",
       "                           debt                debt          \n",
       "children_group        детей нет дети есть детей нет дети есть\n",
       "family_status                                                \n",
       "Не женат / не замужем      2262       534  0.092838  0.117978\n",
       "в разводе                   784       405  0.070153  0.071605\n",
       "вдовец / вдова              847       104  0.062574  0.096154\n",
       "гражданский брак           2730      1404  0.083883  0.111111\n",
       "женат / замужем            7468      4793  0.069095  0.085750"
      ]
     },
     "execution_count": 30,
     "metadata": {},
     "output_type": "execute_result"
    }
   ],
   "source": [
    "data.pivot_table(index='family_status', columns = 'children_group', values=['debt'], aggfunc=['count','mean'])"
   ]
  },
  {
   "cell_type": "markdown",
   "metadata": {},
   "source": [
    "---\n",
    "Между семейным положением и возвратом кредита в срок также наблюдается зависимость. Люди, состоящие в браке, являются более дисциплинированными заемщиками, среди них меньше процент просрочек - 7,6%. Среди тех, кто не регистрировал свои отношения официально (это касается и тех, кто живет в гражданском браке), доля заемщиков с задолженностями по кредиту превышает 9%. Примечательно, что клиенты, которые когда-то были в браке, также остаются ответсвенными в отношении возврата долга.\n",
    "\n",
    "Вторая таблица дополнительно подтверждает выводы, сформудированные в ответе на первый вопрос исследования."
   ]
  },
  {
   "cell_type": "markdown",
   "metadata": {},
   "source": [
    "### 3. Есть ли зависимость между уровнем дохода и возвратом кредита в срок?\n",
    "---"
   ]
  },
  {
   "cell_type": "code",
   "execution_count": 31,
   "metadata": {},
   "outputs": [
    {
     "data": {
      "text/html": [
       "<div>\n",
       "<style scoped>\n",
       "    .dataframe tbody tr th:only-of-type {\n",
       "        vertical-align: middle;\n",
       "    }\n",
       "\n",
       "    .dataframe tbody tr th {\n",
       "        vertical-align: top;\n",
       "    }\n",
       "\n",
       "    .dataframe thead tr th {\n",
       "        text-align: left;\n",
       "    }\n",
       "\n",
       "    .dataframe thead tr:last-of-type th {\n",
       "        text-align: right;\n",
       "    }\n",
       "</style>\n",
       "<table border=\"1\" class=\"dataframe\">\n",
       "  <thead>\n",
       "    <tr>\n",
       "      <th></th>\n",
       "      <th>count</th>\n",
       "      <th>mean</th>\n",
       "    </tr>\n",
       "    <tr>\n",
       "      <th></th>\n",
       "      <th>debt</th>\n",
       "      <th>debt</th>\n",
       "    </tr>\n",
       "    <tr>\n",
       "      <th>income_group</th>\n",
       "      <th></th>\n",
       "      <th></th>\n",
       "    </tr>\n",
       "  </thead>\n",
       "  <tbody>\n",
       "    <tr>\n",
       "      <td>доход до 125 тыс.руб.</td>\n",
       "      <td>5862</td>\n",
       "      <td>0.086319</td>\n",
       "    </tr>\n",
       "    <tr>\n",
       "      <td>доход до 75 тыс.руб.</td>\n",
       "      <td>1854</td>\n",
       "      <td>0.073355</td>\n",
       "    </tr>\n",
       "    <tr>\n",
       "      <td>доход от 100 до 150 тыс.руб.</td>\n",
       "      <td>3838</td>\n",
       "      <td>0.086243</td>\n",
       "    </tr>\n",
       "    <tr>\n",
       "      <td>доход от 150 до 200 тыс.руб.</td>\n",
       "      <td>4738</td>\n",
       "      <td>0.085057</td>\n",
       "    </tr>\n",
       "    <tr>\n",
       "      <td>доход от 200 до 250 тыс.руб.</td>\n",
       "      <td>2242</td>\n",
       "      <td>0.072257</td>\n",
       "    </tr>\n",
       "    <tr>\n",
       "      <td>доход свыше 250 тыс.руб.</td>\n",
       "      <td>2797</td>\n",
       "      <td>0.069360</td>\n",
       "    </tr>\n",
       "  </tbody>\n",
       "</table>\n",
       "</div>"
      ],
      "text/plain": [
       "                             count      mean\n",
       "                              debt      debt\n",
       "income_group                                \n",
       "доход до 125 тыс.руб.         5862  0.086319\n",
       "доход до 75 тыс.руб.          1854  0.073355\n",
       "доход от 100 до 150 тыс.руб.  3838  0.086243\n",
       "доход от 150 до 200 тыс.руб.  4738  0.085057\n",
       "доход от 200 до 250 тыс.руб.  2242  0.072257\n",
       "доход свыше 250 тыс.руб.      2797  0.069360"
      ]
     },
     "execution_count": 31,
     "metadata": {},
     "output_type": "execute_result"
    }
   ],
   "source": [
    "data.pivot_table(index=['income_group'], values=['debt'], aggfunc=['count','mean'])"
   ]
  },
  {
   "cell_type": "code",
   "execution_count": 32,
   "metadata": {},
   "outputs": [],
   "source": [
    "data['amount_group'] = pd.cut(data['total_income'],[0,150000,10000000])"
   ]
  },
  {
   "cell_type": "code",
   "execution_count": 33,
   "metadata": {},
   "outputs": [
    {
     "data": {
      "text/html": [
       "<div>\n",
       "<style scoped>\n",
       "    .dataframe tbody tr th:only-of-type {\n",
       "        vertical-align: middle;\n",
       "    }\n",
       "\n",
       "    .dataframe tbody tr th {\n",
       "        vertical-align: top;\n",
       "    }\n",
       "\n",
       "    .dataframe thead th {\n",
       "        text-align: right;\n",
       "    }\n",
       "</style>\n",
       "<table border=\"1\" class=\"dataframe\">\n",
       "  <thead>\n",
       "    <tr style=\"text-align: right;\">\n",
       "      <th></th>\n",
       "      <th>count</th>\n",
       "      <th>mean</th>\n",
       "    </tr>\n",
       "    <tr>\n",
       "      <th>amount_group</th>\n",
       "      <th></th>\n",
       "      <th></th>\n",
       "    </tr>\n",
       "  </thead>\n",
       "  <tbody>\n",
       "    <tr>\n",
       "      <td>(0, 150000]</td>\n",
       "      <td>11554</td>\n",
       "      <td>0.084213</td>\n",
       "    </tr>\n",
       "    <tr>\n",
       "      <td>(150000, 10000000]</td>\n",
       "      <td>9777</td>\n",
       "      <td>0.077631</td>\n",
       "    </tr>\n",
       "  </tbody>\n",
       "</table>\n",
       "</div>"
      ],
      "text/plain": [
       "                    count      mean\n",
       "amount_group                       \n",
       "(0, 150000]         11554  0.084213\n",
       "(150000, 10000000]   9777  0.077631"
      ]
     },
     "execution_count": 33,
     "metadata": {},
     "output_type": "execute_result"
    }
   ],
   "source": [
    "data.groupby('amount_group')['debt'].agg(['count','mean'])"
   ]
  },
  {
   "cell_type": "markdown",
   "metadata": {},
   "source": [
    "---\n",
    "Если разбить всех клиентов по уровню дохода на две группы, то можно сделать вывод, что более богатые клиенты являются более надежными заемщиками. \n",
    "Однако, если выделить среди клиентов банка больше групп по уровню дохода, открывается интересный факт. У клиентов с низким доходом (относительно всей группы) процент тех, кто возвращал кредит с просрочкой (7,3%) ниже среднего показателя по всей выборке. \n",
    "Отвечая на поставленный вопрос, можно сказать, что  зависимость между уровнем дохода и возвратом кредита в срок есть. Клиенты банка со средними доходами более склонны к невозврату кредита в срок, в то время как заемщики с низкими и высокими доходами являются более дисциплинированными. "
   ]
  },
  {
   "cell_type": "markdown",
   "metadata": {},
   "source": [
    "### 4. Как разные цели кредита влияют на его возврат в срок?\n",
    "---"
   ]
  },
  {
   "cell_type": "code",
   "execution_count": 34,
   "metadata": {},
   "outputs": [
    {
     "data": {
      "text/html": [
       "<div>\n",
       "<style scoped>\n",
       "    .dataframe tbody tr th:only-of-type {\n",
       "        vertical-align: middle;\n",
       "    }\n",
       "\n",
       "    .dataframe tbody tr th {\n",
       "        vertical-align: top;\n",
       "    }\n",
       "\n",
       "    .dataframe thead tr th {\n",
       "        text-align: left;\n",
       "    }\n",
       "\n",
       "    .dataframe thead tr:last-of-type th {\n",
       "        text-align: right;\n",
       "    }\n",
       "</style>\n",
       "<table border=\"1\" class=\"dataframe\">\n",
       "  <thead>\n",
       "    <tr>\n",
       "      <th></th>\n",
       "      <th>count</th>\n",
       "      <th>mean</th>\n",
       "    </tr>\n",
       "    <tr>\n",
       "      <th></th>\n",
       "      <th>debt</th>\n",
       "      <th>debt</th>\n",
       "    </tr>\n",
       "    <tr>\n",
       "      <th>new_purpose</th>\n",
       "      <th></th>\n",
       "      <th></th>\n",
       "    </tr>\n",
       "  </thead>\n",
       "  <tbody>\n",
       "    <tr>\n",
       "      <td>автомобиль</td>\n",
       "      <td>4279</td>\n",
       "      <td>0.093480</td>\n",
       "    </tr>\n",
       "    <tr>\n",
       "      <td>жилье</td>\n",
       "      <td>4437</td>\n",
       "      <td>0.069416</td>\n",
       "    </tr>\n",
       "    <tr>\n",
       "      <td>недвижимость</td>\n",
       "      <td>6314</td>\n",
       "      <td>0.074755</td>\n",
       "    </tr>\n",
       "    <tr>\n",
       "      <td>образование</td>\n",
       "      <td>3988</td>\n",
       "      <td>0.092528</td>\n",
       "    </tr>\n",
       "    <tr>\n",
       "      <td>свадьба</td>\n",
       "      <td>2313</td>\n",
       "      <td>0.079118</td>\n",
       "    </tr>\n",
       "  </tbody>\n",
       "</table>\n",
       "</div>"
      ],
      "text/plain": [
       "             count      mean\n",
       "              debt      debt\n",
       "new_purpose                 \n",
       "автомобиль    4279  0.093480\n",
       "жилье         4437  0.069416\n",
       "недвижимость  6314  0.074755\n",
       "образование   3988  0.092528\n",
       "свадьба       2313  0.079118"
      ]
     },
     "execution_count": 34,
     "metadata": {},
     "output_type": "execute_result"
    }
   ],
   "source": [
    "data.pivot_table(index='new_purpose', values=['debt'], aggfunc=['count','mean'])"
   ]
  },
  {
   "cell_type": "markdown",
   "metadata": {},
   "source": [
    "---\n",
    "Самые надежные заемщики те, кто брал кредит на цели связанные с жильем или недвижимостью. \n",
    "У тех клиентов, кто брал кредит на свадьбу доля невозвратов ниже средней по всей выборке."
   ]
  },
  {
   "cell_type": "code",
   "execution_count": 35,
   "metadata": {},
   "outputs": [],
   "source": [
    "data['purpose_new_cut'] = data['new_purpose'].replace('жилье', 'недвижимость')"
   ]
  },
  {
   "cell_type": "code",
   "execution_count": 36,
   "metadata": {},
   "outputs": [
    {
     "data": {
      "text/html": [
       "<div>\n",
       "<style scoped>\n",
       "    .dataframe tbody tr th:only-of-type {\n",
       "        vertical-align: middle;\n",
       "    }\n",
       "\n",
       "    .dataframe tbody tr th {\n",
       "        vertical-align: top;\n",
       "    }\n",
       "\n",
       "    .dataframe thead th {\n",
       "        text-align: right;\n",
       "    }\n",
       "</style>\n",
       "<table border=\"1\" class=\"dataframe\">\n",
       "  <thead>\n",
       "    <tr style=\"text-align: right;\">\n",
       "      <th></th>\n",
       "      <th>count</th>\n",
       "      <th>mean</th>\n",
       "    </tr>\n",
       "    <tr>\n",
       "      <th>purpose_new_cut</th>\n",
       "      <th></th>\n",
       "      <th></th>\n",
       "    </tr>\n",
       "  </thead>\n",
       "  <tbody>\n",
       "    <tr>\n",
       "      <td>автомобиль</td>\n",
       "      <td>4279</td>\n",
       "      <td>0.093480</td>\n",
       "    </tr>\n",
       "    <tr>\n",
       "      <td>недвижимость</td>\n",
       "      <td>10751</td>\n",
       "      <td>0.072551</td>\n",
       "    </tr>\n",
       "    <tr>\n",
       "      <td>образование</td>\n",
       "      <td>3988</td>\n",
       "      <td>0.092528</td>\n",
       "    </tr>\n",
       "    <tr>\n",
       "      <td>свадьба</td>\n",
       "      <td>2313</td>\n",
       "      <td>0.079118</td>\n",
       "    </tr>\n",
       "  </tbody>\n",
       "</table>\n",
       "</div>"
      ],
      "text/plain": [
       "                 count      mean\n",
       "purpose_new_cut                 \n",
       "автомобиль        4279  0.093480\n",
       "недвижимость     10751  0.072551\n",
       "образование       3988  0.092528\n",
       "свадьба           2313  0.079118"
      ]
     },
     "execution_count": 36,
     "metadata": {},
     "output_type": "execute_result"
    }
   ],
   "source": [
    "data.groupby('purpose_new_cut')['debt'].agg(['count','mean'])"
   ]
  },
  {
   "cell_type": "markdown",
   "metadata": {},
   "source": [
    "---\n",
    "Так как цели связанные с жильем и недвижимостью близкие по смыслу, я решил объединить их в одну группу. "
   ]
  },
  {
   "cell_type": "code",
   "execution_count": 37,
   "metadata": {},
   "outputs": [
    {
     "data": {
      "text/html": [
       "<div>\n",
       "<style scoped>\n",
       "    .dataframe tbody tr th:only-of-type {\n",
       "        vertical-align: middle;\n",
       "    }\n",
       "\n",
       "    .dataframe tbody tr th {\n",
       "        vertical-align: top;\n",
       "    }\n",
       "\n",
       "    .dataframe thead tr th {\n",
       "        text-align: left;\n",
       "    }\n",
       "\n",
       "    .dataframe thead tr:last-of-type th {\n",
       "        text-align: right;\n",
       "    }\n",
       "</style>\n",
       "<table border=\"1\" class=\"dataframe\">\n",
       "  <thead>\n",
       "    <tr>\n",
       "      <th></th>\n",
       "      <th colspan=\"4\" halign=\"left\">count</th>\n",
       "      <th colspan=\"4\" halign=\"left\">mean</th>\n",
       "    </tr>\n",
       "    <tr>\n",
       "      <th></th>\n",
       "      <th colspan=\"4\" halign=\"left\">debt</th>\n",
       "      <th colspan=\"4\" halign=\"left\">debt</th>\n",
       "    </tr>\n",
       "    <tr>\n",
       "      <th>purpose_new_cut</th>\n",
       "      <th>автомобиль</th>\n",
       "      <th>недвижимость</th>\n",
       "      <th>образование</th>\n",
       "      <th>свадьба</th>\n",
       "      <th>автомобиль</th>\n",
       "      <th>недвижимость</th>\n",
       "      <th>образование</th>\n",
       "      <th>свадьба</th>\n",
       "    </tr>\n",
       "    <tr>\n",
       "      <th>age_group</th>\n",
       "      <th></th>\n",
       "      <th></th>\n",
       "      <th></th>\n",
       "      <th></th>\n",
       "      <th></th>\n",
       "      <th></th>\n",
       "      <th></th>\n",
       "      <th></th>\n",
       "    </tr>\n",
       "  </thead>\n",
       "  <tbody>\n",
       "    <tr>\n",
       "      <td>30 - 40 лет</td>\n",
       "      <td>1130</td>\n",
       "      <td>2835</td>\n",
       "      <td>1038</td>\n",
       "      <td>622</td>\n",
       "      <td>0.118584</td>\n",
       "      <td>0.083598</td>\n",
       "      <td>0.112717</td>\n",
       "      <td>0.096463</td>\n",
       "    </tr>\n",
       "    <tr>\n",
       "      <td>40 - 50 лет</td>\n",
       "      <td>1080</td>\n",
       "      <td>2692</td>\n",
       "      <td>972</td>\n",
       "      <td>574</td>\n",
       "      <td>0.083333</td>\n",
       "      <td>0.069837</td>\n",
       "      <td>0.083333</td>\n",
       "      <td>0.073171</td>\n",
       "    </tr>\n",
       "    <tr>\n",
       "      <td>50 - 60 лет</td>\n",
       "      <td>1267</td>\n",
       "      <td>3114</td>\n",
       "      <td>1185</td>\n",
       "      <td>663</td>\n",
       "      <td>0.068666</td>\n",
       "      <td>0.052987</td>\n",
       "      <td>0.070886</td>\n",
       "      <td>0.061840</td>\n",
       "    </tr>\n",
       "    <tr>\n",
       "      <td>младше 30 лет</td>\n",
       "      <td>596</td>\n",
       "      <td>1628</td>\n",
       "      <td>601</td>\n",
       "      <td>341</td>\n",
       "      <td>0.127517</td>\n",
       "      <td>0.100123</td>\n",
       "      <td>0.129784</td>\n",
       "      <td>0.093842</td>\n",
       "    </tr>\n",
       "    <tr>\n",
       "      <td>нет данных</td>\n",
       "      <td>21</td>\n",
       "      <td>47</td>\n",
       "      <td>18</td>\n",
       "      <td>14</td>\n",
       "      <td>0.142857</td>\n",
       "      <td>0.063830</td>\n",
       "      <td>0.000000</td>\n",
       "      <td>0.142857</td>\n",
       "    </tr>\n",
       "    <tr>\n",
       "      <td>старше 65 лет</td>\n",
       "      <td>185</td>\n",
       "      <td>435</td>\n",
       "      <td>174</td>\n",
       "      <td>99</td>\n",
       "      <td>0.054054</td>\n",
       "      <td>0.055172</td>\n",
       "      <td>0.051724</td>\n",
       "      <td>0.060606</td>\n",
       "    </tr>\n",
       "  </tbody>\n",
       "</table>\n",
       "</div>"
      ],
      "text/plain": [
       "                     count                                        mean  \\\n",
       "                      debt                                        debt   \n",
       "purpose_new_cut автомобиль недвижимость образование свадьба автомобиль   \n",
       "age_group                                                                \n",
       "30 - 40 лет           1130         2835        1038     622   0.118584   \n",
       "40 - 50 лет           1080         2692         972     574   0.083333   \n",
       "50 - 60 лет           1267         3114        1185     663   0.068666   \n",
       "младше 30 лет          596         1628         601     341   0.127517   \n",
       "нет данных              21           47          18      14   0.142857   \n",
       "старше 65 лет          185          435         174      99   0.054054   \n",
       "\n",
       "                                                    \n",
       "                                                    \n",
       "purpose_new_cut недвижимость образование   свадьба  \n",
       "age_group                                           \n",
       "30 - 40 лет         0.083598    0.112717  0.096463  \n",
       "40 - 50 лет         0.069837    0.083333  0.073171  \n",
       "50 - 60 лет         0.052987    0.070886  0.061840  \n",
       "младше 30 лет       0.100123    0.129784  0.093842  \n",
       "нет данных          0.063830    0.000000  0.142857  \n",
       "старше 65 лет       0.055172    0.051724  0.060606  "
      ]
     },
     "execution_count": 37,
     "metadata": {},
     "output_type": "execute_result"
    }
   ],
   "source": [
    "data.pivot_table(index='age_group', columns='purpose_new_cut' , values=['debt'], aggfunc=['count','mean'])"
   ]
  },
  {
   "cell_type": "markdown",
   "metadata": {},
   "source": [
    "---\n",
    "Даже в разрезе по возрастам цели кредитов, связанные с недвижимостью и свадьбой выглядят лучше на фоне остальных."
   ]
  },
  {
   "cell_type": "markdown",
   "metadata": {},
   "source": [
    "Среди людей, которые брали кредит на образование или автомобиль было больше тех, кто возвращал долг с просрочкой. Кредиты на цели связанные с недвижимостью или с организацией свадеб возвращали более ответственно и в срок. "
   ]
  },
  {
   "cell_type": "markdown",
   "metadata": {},
   "source": [
    "<a id = \"step4\"></a>\n",
    "## Шаг 4. Общий вывод по проекту\n",
    "\n",
    "[Начало](#head) [1](#step1) [2](#step2) [3](#step3)"
   ]
  },
  {
   "cell_type": "markdown",
   "metadata": {},
   "source": [
    "Вопросы исследования:\n",
    "\n",
    "    - Есть ли зависимость между наличием детей и возвратом кредита в срок?\n",
    "    - Есть ли зависимость между семейным положением и возвратом кредита в срок?\n",
    "    - Есть ли зависимость между уровнем дохода и возвратом кредита в срок?\n",
    "    - Как разные цели кредита влияют на его возврат в срок?\n",
    "\n",
    "В ходе исследования было установлено, что имееются определенные зависимости между наличием детей, семейным положением, уровнем дохода и возвратом кредита в срок. Заемщикам без детей было проще платить по кредитам вовремя. \n",
    "Семейное положение тоже сказывается на обслуживании кредита: клиенты, состоящие в браке, более дисциплинированы.\n",
    "Интересная зависимость выявлена между клиентами с разными доходами. Заемщики с низким и высоким заработком более ответсвенно подходят к возврату кредита в срок.\n",
    "При рассмотрении зависимости целей кредита от его возврата в срок было установлено, что меньше просрочек у заемщиков, которые брали кредит на цели, связанные с недвижимостью или с организацией свадьбы."
   ]
  }
 ],
 "metadata": {
  "kernelspec": {
   "display_name": "Python 3",
   "language": "python",
   "name": "python3"
  },
  "language_info": {
   "codemirror_mode": {
    "name": "ipython",
    "version": 3
   },
   "file_extension": ".py",
   "mimetype": "text/x-python",
   "name": "python",
   "nbconvert_exporter": "python",
   "pygments_lexer": "ipython3",
   "version": "3.8.3"
  }
 },
 "nbformat": 4,
 "nbformat_minor": 2
}
