{
 "cells": [
  {
   "cell_type": "markdown",
   "metadata": {},
   "source": [
    "# Определение перспективного тарифа для телеком компании\n",
    "---\n",
    "<a id = \"Head\"></a>"
   ]
  },
  {
   "cell_type": "markdown",
   "metadata": {},
   "source": [
    "### *Описание проекта* ### \n",
    "\n",
    "Федеральный оператор сотовой связи предлагает клиентам два тарифных плана: «Смарт» и «Ультра». Чтобы скорректировать рекламный бюджет, надо понять, какой тариф приносит больше денег.\n",
    "\n",
    "Необходимо сделать предварительный анализ тарифов на выборке из 500 клиентов. Данные содержат в себе следующую информацию о клиентах: кто они, откуда, каким тарифом пользуются, сколько звонков и сообщений каждый отправил за 2018 год. Нужно проанализировать поведение клиентов и сделать вывод — какой тариф лучше.\n"
   ]
  },
  {
   "cell_type": "markdown",
   "metadata": {},
   "source": [
    "### *Описание данных* ###\n",
    "\n",
    "В нашем распоряжении следующие таблицы с данными:\n",
    "\n",
    "1. Таблица **users** (информация о пользователях):\n",
    "\n",
    "   - user_id — уникальный идентификатор пользователя\n",
    "   - first_name — имя пользователя\n",
    "   - last_name — фамилия пользователя\n",
    "   - age — возраст пользователя (годы)\n",
    "   - reg_date — дата подключения тарифа (день, месяц, год)\n",
    "   - churn_date — дата прекращения пользования тарифом (если значение пропущено, то тариф ещё действовал на момент выгрузки данных)\n",
    "   - city — город проживания пользователя\n",
    "   - tariff — название тарифного плана\n",
    "\n",
    "\n",
    "2. Таблица **calls** (информация о звонках):\n",
    "\n",
    "   - id — уникальный номер звонка\n",
    "   - call_date — дата звонка\n",
    "   - duration — длительность звонка в минутах\n",
    "   - user_id — идентификатор пользователя, сделавшего звонок\n",
    "\n",
    "\n",
    "3. Таблица **messages** (информация о сообщениях):\n",
    "\n",
    "    - id — уникальный номер сообщения\n",
    "    - message_date — дата сообщения\n",
    "    - user_id — идентификатор пользователя, отправившего сообщение\n",
    "\n",
    "\n",
    "4. Таблица **internet** (информация об интернет-сессиях):\n",
    "\n",
    "    - id — уникальный номер сессии\n",
    "    - mb_used — объём потраченного за сессию интернет-трафика (в мегабайтах)\n",
    "    - session_date — дата интернет-сессии\n",
    "    - user_id — идентификатор пользователя\n",
    "\n",
    "\n",
    "5. Таблица **tariffs** (информация о тарифах):\n",
    "\n",
    "    - tariff_name — название тарифа\n",
    "    - rub_monthly_fee — ежемесячная абонентская плата в рублях\n",
    "    - minutes_included — количество минут разговора в месяц, включённых в абонентскую плату\n",
    "    - messages_included — количество сообщений в месяц, включённых в абонентскую плату\n",
    "    - mb_per_month_included — объём интернет-трафика, включённого в абонентскую плату (в мегабайтах)\n",
    "    - rub_per_minute — стоимость минуты разговора сверх тарифного пакета (например, если в тарифе 100 минут разговора в месяц, то со 101 минуты будет взиматься плата)\n",
    "    - rub_per_message — стоимость отправки сообщения сверх тарифного пакета\n",
    "    - rub_per_gb — стоимость дополнительного гигабайта интернет-трафика сверх тарифного пакета (1 гигабайт = 1024 мегабайта)"
   ]
  },
  {
   "cell_type": "markdown",
   "metadata": {},
   "source": [
    "### *План выполнения проекта:*\n",
    "***\n",
    "\n",
    "1. [Изучение общей информации о предоставленных данных;](#Step1)\n",
    "2. [Подготовка данных для анализа;](#Step2)\n",
    "3. [Анализ данных;](#Step3)\n",
    "4. [Проверка гипотез;](#Step4)\n",
    "5. [Общий вывод по проекту.](#Step5)"
   ]
  },
  {
   "cell_type": "code",
   "execution_count": 1,
   "metadata": {
    "scrolled": true
   },
   "outputs": [],
   "source": [
    "import pandas as pd\n",
    "import matplotlib.pyplot as plt\n",
    "import numpy as np\n",
    "from scipy import stats as st\n",
    "import math"
   ]
  },
  {
   "cell_type": "markdown",
   "metadata": {},
   "source": [
    "### Шаг 1. Изучение общей информации о предоставленных данных\n",
    "\n",
    "\n",
    "<a id = \"Step1\"></a>\n",
    "\n",
    " [2](#Step2)  [3](#Step3)  [4](#Step4)  [5](#Step5)  [Начало](#Head)"
   ]
  },
  {
   "cell_type": "code",
   "execution_count": 2,
   "metadata": {
    "scrolled": true
   },
   "outputs": [],
   "source": [
    "calls = pd.read_csv(r'C:\\Users\\vladi\\Downloads\\data_for_analysis\\calls.csv')\n",
    "internet = pd.read_csv(r'C:\\Users\\vladi\\Downloads\\data_for_analysis\\internet.csv')\n",
    "sms = pd.read_csv(r'C:\\Users\\vladi\\Downloads\\data_for_analysis\\messages.csv')\n",
    "tariffs = pd.read_csv(r'C:\\Users\\vladi\\Downloads\\data_for_analysis\\tariffs.csv')\n",
    "users = pd.read_csv(r'C:\\Users\\vladi\\Downloads\\data_for_analysis\\users.csv')"
   ]
  },
  {
   "cell_type": "code",
   "execution_count": 3,
   "metadata": {
    "scrolled": false
   },
   "outputs": [
    {
     "data": {
      "text/html": [
       "<div>\n",
       "<style scoped>\n",
       "    .dataframe tbody tr th:only-of-type {\n",
       "        vertical-align: middle;\n",
       "    }\n",
       "\n",
       "    .dataframe tbody tr th {\n",
       "        vertical-align: top;\n",
       "    }\n",
       "\n",
       "    .dataframe thead th {\n",
       "        text-align: right;\n",
       "    }\n",
       "</style>\n",
       "<table border=\"1\" class=\"dataframe\">\n",
       "  <thead>\n",
       "    <tr style=\"text-align: right;\">\n",
       "      <th></th>\n",
       "      <th>user_id</th>\n",
       "      <th>age</th>\n",
       "      <th>churn_date</th>\n",
       "      <th>city</th>\n",
       "      <th>first_name</th>\n",
       "      <th>last_name</th>\n",
       "      <th>reg_date</th>\n",
       "      <th>tariff</th>\n",
       "    </tr>\n",
       "  </thead>\n",
       "  <tbody>\n",
       "    <tr>\n",
       "      <th>57</th>\n",
       "      <td>1057</td>\n",
       "      <td>43</td>\n",
       "      <td>NaN</td>\n",
       "      <td>Москва</td>\n",
       "      <td>Динара</td>\n",
       "      <td>Дьячкова</td>\n",
       "      <td>2018-03-12</td>\n",
       "      <td>ultra</td>\n",
       "    </tr>\n",
       "    <tr>\n",
       "      <th>482</th>\n",
       "      <td>1482</td>\n",
       "      <td>68</td>\n",
       "      <td>NaN</td>\n",
       "      <td>Санкт-Петербург</td>\n",
       "      <td>Алина</td>\n",
       "      <td>Блохина</td>\n",
       "      <td>2018-02-28</td>\n",
       "      <td>smart</td>\n",
       "    </tr>\n",
       "    <tr>\n",
       "      <th>319</th>\n",
       "      <td>1319</td>\n",
       "      <td>70</td>\n",
       "      <td>NaN</td>\n",
       "      <td>Санкт-Петербург</td>\n",
       "      <td>Харитон</td>\n",
       "      <td>Парфенов</td>\n",
       "      <td>2018-08-24</td>\n",
       "      <td>smart</td>\n",
       "    </tr>\n",
       "    <tr>\n",
       "      <th>128</th>\n",
       "      <td>1128</td>\n",
       "      <td>51</td>\n",
       "      <td>2018-12-23</td>\n",
       "      <td>Волжский</td>\n",
       "      <td>Ксения</td>\n",
       "      <td>Агаева</td>\n",
       "      <td>2018-12-15</td>\n",
       "      <td>ultra</td>\n",
       "    </tr>\n",
       "    <tr>\n",
       "      <th>29</th>\n",
       "      <td>1029</td>\n",
       "      <td>51</td>\n",
       "      <td>NaN</td>\n",
       "      <td>Екатеринбург</td>\n",
       "      <td>Алексей</td>\n",
       "      <td>Селезнев</td>\n",
       "      <td>2018-09-15</td>\n",
       "      <td>smart</td>\n",
       "    </tr>\n",
       "    <tr>\n",
       "      <th>269</th>\n",
       "      <td>1269</td>\n",
       "      <td>31</td>\n",
       "      <td>NaN</td>\n",
       "      <td>Омск</td>\n",
       "      <td>Аким</td>\n",
       "      <td>Ахмадулин</td>\n",
       "      <td>2018-07-17</td>\n",
       "      <td>smart</td>\n",
       "    </tr>\n",
       "    <tr>\n",
       "      <th>277</th>\n",
       "      <td>1277</td>\n",
       "      <td>30</td>\n",
       "      <td>NaN</td>\n",
       "      <td>Новосибирск</td>\n",
       "      <td>Валерия</td>\n",
       "      <td>Андреенко</td>\n",
       "      <td>2018-02-19</td>\n",
       "      <td>ultra</td>\n",
       "    </tr>\n",
       "    <tr>\n",
       "      <th>203</th>\n",
       "      <td>1203</td>\n",
       "      <td>39</td>\n",
       "      <td>NaN</td>\n",
       "      <td>Москва</td>\n",
       "      <td>Владимир</td>\n",
       "      <td>Григорьев</td>\n",
       "      <td>2018-03-13</td>\n",
       "      <td>ultra</td>\n",
       "    </tr>\n",
       "    <tr>\n",
       "      <th>193</th>\n",
       "      <td>1193</td>\n",
       "      <td>55</td>\n",
       "      <td>NaN</td>\n",
       "      <td>Тамбов</td>\n",
       "      <td>Арсен</td>\n",
       "      <td>Безруков</td>\n",
       "      <td>2018-01-01</td>\n",
       "      <td>smart</td>\n",
       "    </tr>\n",
       "    <tr>\n",
       "      <th>404</th>\n",
       "      <td>1404</td>\n",
       "      <td>61</td>\n",
       "      <td>NaN</td>\n",
       "      <td>Иркутск</td>\n",
       "      <td>Роберт</td>\n",
       "      <td>Уваров</td>\n",
       "      <td>2018-04-18</td>\n",
       "      <td>smart</td>\n",
       "    </tr>\n",
       "  </tbody>\n",
       "</table>\n",
       "</div>"
      ],
      "text/plain": [
       "     user_id  age  churn_date             city first_name  last_name  \\\n",
       "57      1057   43         NaN           Москва     Динара   Дьячкова   \n",
       "482     1482   68         NaN  Санкт-Петербург      Алина    Блохина   \n",
       "319     1319   70         NaN  Санкт-Петербург    Харитон   Парфенов   \n",
       "128     1128   51  2018-12-23         Волжский     Ксения     Агаева   \n",
       "29      1029   51         NaN     Екатеринбург    Алексей   Селезнев   \n",
       "269     1269   31         NaN             Омск       Аким  Ахмадулин   \n",
       "277     1277   30         NaN      Новосибирск    Валерия  Андреенко   \n",
       "203     1203   39         NaN           Москва   Владимир  Григорьев   \n",
       "193     1193   55         NaN           Тамбов      Арсен   Безруков   \n",
       "404     1404   61         NaN          Иркутск     Роберт     Уваров   \n",
       "\n",
       "       reg_date tariff  \n",
       "57   2018-03-12  ultra  \n",
       "482  2018-02-28  smart  \n",
       "319  2018-08-24  smart  \n",
       "128  2018-12-15  ultra  \n",
       "29   2018-09-15  smart  \n",
       "269  2018-07-17  smart  \n",
       "277  2018-02-19  ultra  \n",
       "203  2018-03-13  ultra  \n",
       "193  2018-01-01  smart  \n",
       "404  2018-04-18  smart  "
      ]
     },
     "execution_count": 3,
     "metadata": {},
     "output_type": "execute_result"
    }
   ],
   "source": [
    "users.sample(10)"
   ]
  },
  {
   "cell_type": "code",
   "execution_count": 4,
   "metadata": {
    "scrolled": true
   },
   "outputs": [
    {
     "name": "stdout",
     "output_type": "stream",
     "text": [
      "<class 'pandas.core.frame.DataFrame'>\n",
      "RangeIndex: 500 entries, 0 to 499\n",
      "Data columns (total 8 columns):\n",
      " #   Column      Non-Null Count  Dtype \n",
      "---  ------      --------------  ----- \n",
      " 0   user_id     500 non-null    int64 \n",
      " 1   age         500 non-null    int64 \n",
      " 2   churn_date  38 non-null     object\n",
      " 3   city        500 non-null    object\n",
      " 4   first_name  500 non-null    object\n",
      " 5   last_name   500 non-null    object\n",
      " 6   reg_date    500 non-null    object\n",
      " 7   tariff      500 non-null    object\n",
      "dtypes: int64(2), object(6)\n",
      "memory usage: 31.4+ KB\n"
     ]
    }
   ],
   "source": [
    "users.info()"
   ]
  },
  {
   "cell_type": "code",
   "execution_count": 5,
   "metadata": {
    "scrolled": true
   },
   "outputs": [
    {
     "data": {
      "text/plain": [
       "Москва             99\n",
       "Санкт-Петербург    39\n",
       "Новосибирск        16\n",
       "Омск               14\n",
       "Казань             14\n",
       "                   ..\n",
       "Химки               1\n",
       "Нижневартовск       1\n",
       "Иваново             1\n",
       "Подольск            1\n",
       "Архангельск         1\n",
       "Name: city, Length: 76, dtype: int64"
      ]
     },
     "execution_count": 5,
     "metadata": {},
     "output_type": "execute_result"
    }
   ],
   "source": [
    "users['city'].value_counts()"
   ]
  },
  {
   "cell_type": "code",
   "execution_count": 6,
   "metadata": {
    "scrolled": true
   },
   "outputs": [
    {
     "data": {
      "text/plain": [
       "smart    351\n",
       "ultra    149\n",
       "Name: tariff, dtype: int64"
      ]
     },
     "execution_count": 6,
     "metadata": {},
     "output_type": "execute_result"
    }
   ],
   "source": [
    "users['tariff'].value_counts()"
   ]
  },
  {
   "cell_type": "markdown",
   "metadata": {},
   "source": [
    "---\n",
    "В данной таблице представлена общая информация о клиентах сотового оператора. Клиенты взяты из 76 городов, большая часть проживает в Москве. Тарифом \"Смарт\" пользуется 351 клиент, тарифом \"Ультра\" - 149.\n",
    "\n",
    "В столбцах \"Дата прекращения пользования тарифом\" и \"Дата подключения тарифа\" использованы неправильные типы данных."
   ]
  },
  {
   "cell_type": "code",
   "execution_count": 7,
   "metadata": {
    "scrolled": true
   },
   "outputs": [
    {
     "data": {
      "text/html": [
       "<div>\n",
       "<style scoped>\n",
       "    .dataframe tbody tr th:only-of-type {\n",
       "        vertical-align: middle;\n",
       "    }\n",
       "\n",
       "    .dataframe tbody tr th {\n",
       "        vertical-align: top;\n",
       "    }\n",
       "\n",
       "    .dataframe thead th {\n",
       "        text-align: right;\n",
       "    }\n",
       "</style>\n",
       "<table border=\"1\" class=\"dataframe\">\n",
       "  <thead>\n",
       "    <tr style=\"text-align: right;\">\n",
       "      <th></th>\n",
       "      <th>messages_included</th>\n",
       "      <th>mb_per_month_included</th>\n",
       "      <th>minutes_included</th>\n",
       "      <th>rub_monthly_fee</th>\n",
       "      <th>rub_per_gb</th>\n",
       "      <th>rub_per_message</th>\n",
       "      <th>rub_per_minute</th>\n",
       "      <th>tariff_name</th>\n",
       "    </tr>\n",
       "  </thead>\n",
       "  <tbody>\n",
       "    <tr>\n",
       "      <th>0</th>\n",
       "      <td>50</td>\n",
       "      <td>15360</td>\n",
       "      <td>500</td>\n",
       "      <td>550</td>\n",
       "      <td>200</td>\n",
       "      <td>3</td>\n",
       "      <td>3</td>\n",
       "      <td>smart</td>\n",
       "    </tr>\n",
       "    <tr>\n",
       "      <th>1</th>\n",
       "      <td>1000</td>\n",
       "      <td>30720</td>\n",
       "      <td>3000</td>\n",
       "      <td>1950</td>\n",
       "      <td>150</td>\n",
       "      <td>1</td>\n",
       "      <td>1</td>\n",
       "      <td>ultra</td>\n",
       "    </tr>\n",
       "  </tbody>\n",
       "</table>\n",
       "</div>"
      ],
      "text/plain": [
       "   messages_included  mb_per_month_included  minutes_included  \\\n",
       "0                 50                  15360               500   \n",
       "1               1000                  30720              3000   \n",
       "\n",
       "   rub_monthly_fee  rub_per_gb  rub_per_message  rub_per_minute tariff_name  \n",
       "0              550         200                3               3       smart  \n",
       "1             1950         150                1               1       ultra  "
      ]
     },
     "execution_count": 7,
     "metadata": {},
     "output_type": "execute_result"
    }
   ],
   "source": [
    "tariffs"
   ]
  },
  {
   "cell_type": "code",
   "execution_count": 8,
   "metadata": {
    "scrolled": true
   },
   "outputs": [
    {
     "name": "stdout",
     "output_type": "stream",
     "text": [
      "<class 'pandas.core.frame.DataFrame'>\n",
      "RangeIndex: 2 entries, 0 to 1\n",
      "Data columns (total 8 columns):\n",
      " #   Column                 Non-Null Count  Dtype \n",
      "---  ------                 --------------  ----- \n",
      " 0   messages_included      2 non-null      int64 \n",
      " 1   mb_per_month_included  2 non-null      int64 \n",
      " 2   minutes_included       2 non-null      int64 \n",
      " 3   rub_monthly_fee        2 non-null      int64 \n",
      " 4   rub_per_gb             2 non-null      int64 \n",
      " 5   rub_per_message        2 non-null      int64 \n",
      " 6   rub_per_minute         2 non-null      int64 \n",
      " 7   tariff_name            2 non-null      object\n",
      "dtypes: int64(7), object(1)\n",
      "memory usage: 256.0+ bytes\n"
     ]
    }
   ],
   "source": [
    "tariffs.info()"
   ]
  },
  {
   "cell_type": "markdown",
   "metadata": {},
   "source": [
    "---\n",
    "В этой таблице содержится описание тарифов со всеми условиями. Все данные заполнены корректно."
   ]
  },
  {
   "cell_type": "code",
   "execution_count": 9,
   "metadata": {
    "scrolled": false
   },
   "outputs": [
    {
     "data": {
      "text/html": [
       "<div>\n",
       "<style scoped>\n",
       "    .dataframe tbody tr th:only-of-type {\n",
       "        vertical-align: middle;\n",
       "    }\n",
       "\n",
       "    .dataframe tbody tr th {\n",
       "        vertical-align: top;\n",
       "    }\n",
       "\n",
       "    .dataframe thead th {\n",
       "        text-align: right;\n",
       "    }\n",
       "</style>\n",
       "<table border=\"1\" class=\"dataframe\">\n",
       "  <thead>\n",
       "    <tr style=\"text-align: right;\">\n",
       "      <th></th>\n",
       "      <th>id</th>\n",
       "      <th>call_date</th>\n",
       "      <th>duration</th>\n",
       "      <th>user_id</th>\n",
       "    </tr>\n",
       "  </thead>\n",
       "  <tbody>\n",
       "    <tr>\n",
       "      <th>85222</th>\n",
       "      <td>1213_268</td>\n",
       "      <td>2018-12-28</td>\n",
       "      <td>17.04</td>\n",
       "      <td>1213</td>\n",
       "    </tr>\n",
       "    <tr>\n",
       "      <th>76783</th>\n",
       "      <td>1193_45</td>\n",
       "      <td>2018-06-17</td>\n",
       "      <td>19.97</td>\n",
       "      <td>1193</td>\n",
       "    </tr>\n",
       "    <tr>\n",
       "      <th>111345</th>\n",
       "      <td>1285_273</td>\n",
       "      <td>2018-10-03</td>\n",
       "      <td>0.00</td>\n",
       "      <td>1285</td>\n",
       "    </tr>\n",
       "    <tr>\n",
       "      <th>83937</th>\n",
       "      <td>1209_99</td>\n",
       "      <td>2018-10-12</td>\n",
       "      <td>16.13</td>\n",
       "      <td>1209</td>\n",
       "    </tr>\n",
       "    <tr>\n",
       "      <th>113383</th>\n",
       "      <td>1291_9</td>\n",
       "      <td>2018-08-15</td>\n",
       "      <td>8.31</td>\n",
       "      <td>1291</td>\n",
       "    </tr>\n",
       "    <tr>\n",
       "      <th>57461</th>\n",
       "      <td>1145_292</td>\n",
       "      <td>2018-08-23</td>\n",
       "      <td>10.92</td>\n",
       "      <td>1145</td>\n",
       "    </tr>\n",
       "    <tr>\n",
       "      <th>23190</th>\n",
       "      <td>1059_274</td>\n",
       "      <td>2018-08-07</td>\n",
       "      <td>10.96</td>\n",
       "      <td>1059</td>\n",
       "    </tr>\n",
       "    <tr>\n",
       "      <th>30006</th>\n",
       "      <td>1076_298</td>\n",
       "      <td>2018-08-09</td>\n",
       "      <td>14.05</td>\n",
       "      <td>1076</td>\n",
       "    </tr>\n",
       "    <tr>\n",
       "      <th>65908</th>\n",
       "      <td>1168_1059</td>\n",
       "      <td>2018-09-14</td>\n",
       "      <td>0.00</td>\n",
       "      <td>1168</td>\n",
       "    </tr>\n",
       "    <tr>\n",
       "      <th>195715</th>\n",
       "      <td>1480_26</td>\n",
       "      <td>2018-08-08</td>\n",
       "      <td>0.00</td>\n",
       "      <td>1480</td>\n",
       "    </tr>\n",
       "  </tbody>\n",
       "</table>\n",
       "</div>"
      ],
      "text/plain": [
       "               id   call_date  duration  user_id\n",
       "85222    1213_268  2018-12-28     17.04     1213\n",
       "76783     1193_45  2018-06-17     19.97     1193\n",
       "111345   1285_273  2018-10-03      0.00     1285\n",
       "83937     1209_99  2018-10-12     16.13     1209\n",
       "113383     1291_9  2018-08-15      8.31     1291\n",
       "57461    1145_292  2018-08-23     10.92     1145\n",
       "23190    1059_274  2018-08-07     10.96     1059\n",
       "30006    1076_298  2018-08-09     14.05     1076\n",
       "65908   1168_1059  2018-09-14      0.00     1168\n",
       "195715    1480_26  2018-08-08      0.00     1480"
      ]
     },
     "execution_count": 9,
     "metadata": {},
     "output_type": "execute_result"
    }
   ],
   "source": [
    "calls.sample(10)"
   ]
  },
  {
   "cell_type": "code",
   "execution_count": 10,
   "metadata": {
    "scrolled": true
   },
   "outputs": [
    {
     "name": "stdout",
     "output_type": "stream",
     "text": [
      "Данные сформированы за период с 2018-01-01 по 2018-12-31\n"
     ]
    }
   ],
   "source": [
    "print('Данные сформированы за период с', calls['call_date'].min(), 'по', calls['call_date'].max())"
   ]
  },
  {
   "cell_type": "code",
   "execution_count": 11,
   "metadata": {
    "scrolled": true
   },
   "outputs": [
    {
     "name": "stdout",
     "output_type": "stream",
     "text": [
      "<class 'pandas.core.frame.DataFrame'>\n",
      "RangeIndex: 202607 entries, 0 to 202606\n",
      "Data columns (total 4 columns):\n",
      " #   Column     Non-Null Count   Dtype  \n",
      "---  ------     --------------   -----  \n",
      " 0   id         202607 non-null  object \n",
      " 1   call_date  202607 non-null  object \n",
      " 2   duration   202607 non-null  float64\n",
      " 3   user_id    202607 non-null  int64  \n",
      "dtypes: float64(1), int64(1), object(2)\n",
      "memory usage: 6.2+ MB\n"
     ]
    }
   ],
   "source": [
    "calls.info()"
   ]
  },
  {
   "cell_type": "code",
   "execution_count": 12,
   "metadata": {
    "scrolled": true
   },
   "outputs": [
    {
     "name": "stdout",
     "output_type": "stream",
     "text": [
      "Пользовались звонками: 492 клиента\n"
     ]
    }
   ],
   "source": [
    "print('Пользовались звонками:', len(calls['user_id'].value_counts()), 'клиента')"
   ]
  },
  {
   "cell_type": "markdown",
   "metadata": {},
   "source": [
    "___\n",
    "В таблице содержатся данные по звонкам рассматриваемых клиентов. Всего 202607 наблюдений. В столбце \"Дата звонка\"  использован неправильный тип данных. \n",
    "Судя по количеству ID 8 человек вообще не пользовались звонками."
   ]
  },
  {
   "cell_type": "code",
   "execution_count": 13,
   "metadata": {
    "scrolled": false
   },
   "outputs": [
    {
     "data": {
      "text/html": [
       "<div>\n",
       "<style scoped>\n",
       "    .dataframe tbody tr th:only-of-type {\n",
       "        vertical-align: middle;\n",
       "    }\n",
       "\n",
       "    .dataframe tbody tr th {\n",
       "        vertical-align: top;\n",
       "    }\n",
       "\n",
       "    .dataframe thead th {\n",
       "        text-align: right;\n",
       "    }\n",
       "</style>\n",
       "<table border=\"1\" class=\"dataframe\">\n",
       "  <thead>\n",
       "    <tr style=\"text-align: right;\">\n",
       "      <th></th>\n",
       "      <th>id</th>\n",
       "      <th>message_date</th>\n",
       "      <th>user_id</th>\n",
       "    </tr>\n",
       "  </thead>\n",
       "  <tbody>\n",
       "    <tr>\n",
       "      <th>30338</th>\n",
       "      <td>1134_56</td>\n",
       "      <td>2018-08-31</td>\n",
       "      <td>1134</td>\n",
       "    </tr>\n",
       "    <tr>\n",
       "      <th>58046</th>\n",
       "      <td>1256_130</td>\n",
       "      <td>2018-10-23</td>\n",
       "      <td>1256</td>\n",
       "    </tr>\n",
       "    <tr>\n",
       "      <th>106373</th>\n",
       "      <td>1431_115</td>\n",
       "      <td>2018-03-30</td>\n",
       "      <td>1431</td>\n",
       "    </tr>\n",
       "    <tr>\n",
       "      <th>43251</th>\n",
       "      <td>1187_4</td>\n",
       "      <td>2018-09-06</td>\n",
       "      <td>1187</td>\n",
       "    </tr>\n",
       "    <tr>\n",
       "      <th>17548</th>\n",
       "      <td>1076_697</td>\n",
       "      <td>2018-10-13</td>\n",
       "      <td>1076</td>\n",
       "    </tr>\n",
       "    <tr>\n",
       "      <th>78915</th>\n",
       "      <td>1331_138</td>\n",
       "      <td>2018-08-05</td>\n",
       "      <td>1331</td>\n",
       "    </tr>\n",
       "    <tr>\n",
       "      <th>13353</th>\n",
       "      <td>1055_319</td>\n",
       "      <td>2018-01-23</td>\n",
       "      <td>1055</td>\n",
       "    </tr>\n",
       "    <tr>\n",
       "      <th>121497</th>\n",
       "      <td>1491_296</td>\n",
       "      <td>2018-06-20</td>\n",
       "      <td>1491</td>\n",
       "    </tr>\n",
       "    <tr>\n",
       "      <th>50481</th>\n",
       "      <td>1226_157</td>\n",
       "      <td>2018-07-05</td>\n",
       "      <td>1226</td>\n",
       "    </tr>\n",
       "    <tr>\n",
       "      <th>101347</th>\n",
       "      <td>1414_291</td>\n",
       "      <td>2018-12-12</td>\n",
       "      <td>1414</td>\n",
       "    </tr>\n",
       "  </tbody>\n",
       "</table>\n",
       "</div>"
      ],
      "text/plain": [
       "              id message_date  user_id\n",
       "30338    1134_56   2018-08-31     1134\n",
       "58046   1256_130   2018-10-23     1256\n",
       "106373  1431_115   2018-03-30     1431\n",
       "43251     1187_4   2018-09-06     1187\n",
       "17548   1076_697   2018-10-13     1076\n",
       "78915   1331_138   2018-08-05     1331\n",
       "13353   1055_319   2018-01-23     1055\n",
       "121497  1491_296   2018-06-20     1491\n",
       "50481   1226_157   2018-07-05     1226\n",
       "101347  1414_291   2018-12-12     1414"
      ]
     },
     "execution_count": 13,
     "metadata": {},
     "output_type": "execute_result"
    }
   ],
   "source": [
    "sms.sample(10)"
   ]
  },
  {
   "cell_type": "code",
   "execution_count": 14,
   "metadata": {
    "scrolled": true
   },
   "outputs": [
    {
     "name": "stdout",
     "output_type": "stream",
     "text": [
      "<class 'pandas.core.frame.DataFrame'>\n",
      "RangeIndex: 123036 entries, 0 to 123035\n",
      "Data columns (total 3 columns):\n",
      " #   Column        Non-Null Count   Dtype \n",
      "---  ------        --------------   ----- \n",
      " 0   id            123036 non-null  object\n",
      " 1   message_date  123036 non-null  object\n",
      " 2   user_id       123036 non-null  int64 \n",
      "dtypes: int64(1), object(2)\n",
      "memory usage: 2.8+ MB\n"
     ]
    }
   ],
   "source": [
    "sms.info()"
   ]
  },
  {
   "cell_type": "code",
   "execution_count": 15,
   "metadata": {
    "scrolled": true
   },
   "outputs": [
    {
     "name": "stdout",
     "output_type": "stream",
     "text": [
      "Данные сформированы за период с 2018-01-02 по 2018-12-31\n"
     ]
    }
   ],
   "source": [
    "print('Данные сформированы за период с', sms['message_date'].min(), 'по', sms['message_date'].max())"
   ]
  },
  {
   "cell_type": "code",
   "execution_count": 16,
   "metadata": {
    "scrolled": true
   },
   "outputs": [
    {
     "name": "stdout",
     "output_type": "stream",
     "text": [
      "Отправляли сообщения: 426 клиентов\n"
     ]
    }
   ],
   "source": [
    "print('Отправляли сообщения:', len(sms['user_id'].value_counts()), 'клиентов')"
   ]
  },
  {
   "cell_type": "markdown",
   "metadata": {},
   "source": [
    "***\n",
    "В таблице о сообщениях содержится 123036 строк. Столбец \"Дата сообщения\" имеет неправильный тип данных. Из 500 клиентов смс пользовались только 426."
   ]
  },
  {
   "cell_type": "code",
   "execution_count": 17,
   "metadata": {
    "scrolled": true
   },
   "outputs": [
    {
     "data": {
      "text/html": [
       "<div>\n",
       "<style scoped>\n",
       "    .dataframe tbody tr th:only-of-type {\n",
       "        vertical-align: middle;\n",
       "    }\n",
       "\n",
       "    .dataframe tbody tr th {\n",
       "        vertical-align: top;\n",
       "    }\n",
       "\n",
       "    .dataframe thead th {\n",
       "        text-align: right;\n",
       "    }\n",
       "</style>\n",
       "<table border=\"1\" class=\"dataframe\">\n",
       "  <thead>\n",
       "    <tr style=\"text-align: right;\">\n",
       "      <th></th>\n",
       "      <th>Unnamed: 0</th>\n",
       "      <th>id</th>\n",
       "      <th>mb_used</th>\n",
       "      <th>session_date</th>\n",
       "      <th>user_id</th>\n",
       "    </tr>\n",
       "  </thead>\n",
       "  <tbody>\n",
       "    <tr>\n",
       "      <th>142682</th>\n",
       "      <td>142682</td>\n",
       "      <td>1478_46</td>\n",
       "      <td>231.95</td>\n",
       "      <td>2018-07-26</td>\n",
       "      <td>1478</td>\n",
       "    </tr>\n",
       "    <tr>\n",
       "      <th>33800</th>\n",
       "      <td>33800</td>\n",
       "      <td>1118_417</td>\n",
       "      <td>402.78</td>\n",
       "      <td>2018-05-02</td>\n",
       "      <td>1118</td>\n",
       "    </tr>\n",
       "    <tr>\n",
       "      <th>44271</th>\n",
       "      <td>44271</td>\n",
       "      <td>1152_489</td>\n",
       "      <td>785.73</td>\n",
       "      <td>2018-08-01</td>\n",
       "      <td>1152</td>\n",
       "    </tr>\n",
       "    <tr>\n",
       "      <th>63354</th>\n",
       "      <td>63354</td>\n",
       "      <td>1216_11</td>\n",
       "      <td>405.89</td>\n",
       "      <td>2018-12-23</td>\n",
       "      <td>1216</td>\n",
       "    </tr>\n",
       "    <tr>\n",
       "      <th>113316</th>\n",
       "      <td>113316</td>\n",
       "      <td>1384_26</td>\n",
       "      <td>0.00</td>\n",
       "      <td>2018-04-27</td>\n",
       "      <td>1384</td>\n",
       "    </tr>\n",
       "    <tr>\n",
       "      <th>102821</th>\n",
       "      <td>102821</td>\n",
       "      <td>1345_0</td>\n",
       "      <td>689.98</td>\n",
       "      <td>2018-06-06</td>\n",
       "      <td>1345</td>\n",
       "    </tr>\n",
       "    <tr>\n",
       "      <th>23538</th>\n",
       "      <td>23538</td>\n",
       "      <td>1079_141</td>\n",
       "      <td>209.24</td>\n",
       "      <td>2018-07-26</td>\n",
       "      <td>1079</td>\n",
       "    </tr>\n",
       "    <tr>\n",
       "      <th>137765</th>\n",
       "      <td>137765</td>\n",
       "      <td>1463_58</td>\n",
       "      <td>382.12</td>\n",
       "      <td>2018-11-29</td>\n",
       "      <td>1463</td>\n",
       "    </tr>\n",
       "    <tr>\n",
       "      <th>72482</th>\n",
       "      <td>72482</td>\n",
       "      <td>1244_314</td>\n",
       "      <td>151.54</td>\n",
       "      <td>2018-08-16</td>\n",
       "      <td>1244</td>\n",
       "    </tr>\n",
       "    <tr>\n",
       "      <th>136281</th>\n",
       "      <td>136281</td>\n",
       "      <td>1457_123</td>\n",
       "      <td>671.80</td>\n",
       "      <td>2018-04-12</td>\n",
       "      <td>1457</td>\n",
       "    </tr>\n",
       "  </tbody>\n",
       "</table>\n",
       "</div>"
      ],
      "text/plain": [
       "        Unnamed: 0        id  mb_used session_date  user_id\n",
       "142682      142682   1478_46   231.95   2018-07-26     1478\n",
       "33800        33800  1118_417   402.78   2018-05-02     1118\n",
       "44271        44271  1152_489   785.73   2018-08-01     1152\n",
       "63354        63354   1216_11   405.89   2018-12-23     1216\n",
       "113316      113316   1384_26     0.00   2018-04-27     1384\n",
       "102821      102821    1345_0   689.98   2018-06-06     1345\n",
       "23538        23538  1079_141   209.24   2018-07-26     1079\n",
       "137765      137765   1463_58   382.12   2018-11-29     1463\n",
       "72482        72482  1244_314   151.54   2018-08-16     1244\n",
       "136281      136281  1457_123   671.80   2018-04-12     1457"
      ]
     },
     "execution_count": 17,
     "metadata": {},
     "output_type": "execute_result"
    }
   ],
   "source": [
    "internet.sample(10)"
   ]
  },
  {
   "cell_type": "code",
   "execution_count": 18,
   "metadata": {
    "scrolled": true
   },
   "outputs": [
    {
     "name": "stdout",
     "output_type": "stream",
     "text": [
      "<class 'pandas.core.frame.DataFrame'>\n",
      "RangeIndex: 149396 entries, 0 to 149395\n",
      "Data columns (total 5 columns):\n",
      " #   Column        Non-Null Count   Dtype  \n",
      "---  ------        --------------   -----  \n",
      " 0   Unnamed: 0    149396 non-null  int64  \n",
      " 1   id            149396 non-null  object \n",
      " 2   mb_used       149396 non-null  float64\n",
      " 3   session_date  149396 non-null  object \n",
      " 4   user_id       149396 non-null  int64  \n",
      "dtypes: float64(1), int64(2), object(2)\n",
      "memory usage: 5.7+ MB\n"
     ]
    }
   ],
   "source": [
    "internet.info()"
   ]
  },
  {
   "cell_type": "code",
   "execution_count": 19,
   "metadata": {
    "scrolled": true
   },
   "outputs": [
    {
     "name": "stdout",
     "output_type": "stream",
     "text": [
      "Данные сформированы за период с 2018-01-01 по 2018-12-31\n"
     ]
    }
   ],
   "source": [
    "print('Данные сформированы за период с', internet['session_date'].min(), 'по', internet['session_date'].max())"
   ]
  },
  {
   "cell_type": "code",
   "execution_count": 20,
   "metadata": {
    "scrolled": true
   },
   "outputs": [
    {
     "name": "stdout",
     "output_type": "stream",
     "text": [
      "Пользовались мобильным интернетом: 497 клиентов\n"
     ]
    }
   ],
   "source": [
    "print('Пользовались мобильным интернетом:', len(internet['user_id'].value_counts()), 'клиентов')"
   ]
  },
  {
   "cell_type": "markdown",
   "metadata": {},
   "source": [
    "---\n",
    "Как и в предыдущих таблицах столбец с датой имеет неправильный тип данных. Судя по количеству ID 3 клиента не использовали интернет. Присутствует столбец \"Unnamed: 0\", дублирующий столбец с индексами. Избавимся от него на следующем шаге."
   ]
  },
  {
   "cell_type": "markdown",
   "metadata": {},
   "source": [
    "### Шаг 2. Подготовка данных для анализа\n",
    "\n",
    "<a id = \"Step2\"></a>\n",
    "\n",
    "[1](#Step1) [3](#Step3)  [4](#Step4)  [5](#Step5)  [Начало](#Head)"
   ]
  },
  {
   "cell_type": "markdown",
   "metadata": {},
   "source": [
    "**Информация о пользователях**\n",
    "\n",
    "***\n",
    "В данной таблице необходимо исправить тип данных в столбцах, относящихся к датам. В столбце 'churn_date' большинство значений пропущено, но заполнять из не требуется. Эти пустые значения говорят нам о том, что на момент выгрузки клиент пользовалася услугами оператора."
   ]
  },
  {
   "cell_type": "code",
   "execution_count": 21,
   "metadata": {
    "scrolled": true
   },
   "outputs": [],
   "source": [
    "users['churn_date'] = pd.to_datetime(users['churn_date'], format = '%Y-%m-%d')"
   ]
  },
  {
   "cell_type": "code",
   "execution_count": 22,
   "metadata": {
    "scrolled": true
   },
   "outputs": [],
   "source": [
    "users['reg_date'] = pd.to_datetime(users['reg_date'], format = '%Y-%m-%d')"
   ]
  },
  {
   "cell_type": "markdown",
   "metadata": {},
   "source": [
    "**Информация о звонках**\n",
    "\n",
    "---"
   ]
  },
  {
   "cell_type": "code",
   "execution_count": 23,
   "metadata": {
    "scrolled": true
   },
   "outputs": [
    {
     "data": {
      "text/html": [
       "<div>\n",
       "<style scoped>\n",
       "    .dataframe tbody tr th:only-of-type {\n",
       "        vertical-align: middle;\n",
       "    }\n",
       "\n",
       "    .dataframe tbody tr th {\n",
       "        vertical-align: top;\n",
       "    }\n",
       "\n",
       "    .dataframe thead th {\n",
       "        text-align: right;\n",
       "    }\n",
       "</style>\n",
       "<table border=\"1\" class=\"dataframe\">\n",
       "  <thead>\n",
       "    <tr style=\"text-align: right;\">\n",
       "      <th></th>\n",
       "      <th>id</th>\n",
       "      <th>call_date</th>\n",
       "      <th>duration</th>\n",
       "      <th>user_id</th>\n",
       "    </tr>\n",
       "  </thead>\n",
       "  <tbody>\n",
       "    <tr>\n",
       "      <th>0</th>\n",
       "      <td>1000_0</td>\n",
       "      <td>2018-07-25</td>\n",
       "      <td>0.00</td>\n",
       "      <td>1000</td>\n",
       "    </tr>\n",
       "    <tr>\n",
       "      <th>1</th>\n",
       "      <td>1000_1</td>\n",
       "      <td>2018-08-17</td>\n",
       "      <td>0.00</td>\n",
       "      <td>1000</td>\n",
       "    </tr>\n",
       "    <tr>\n",
       "      <th>2</th>\n",
       "      <td>1000_2</td>\n",
       "      <td>2018-06-11</td>\n",
       "      <td>2.85</td>\n",
       "      <td>1000</td>\n",
       "    </tr>\n",
       "    <tr>\n",
       "      <th>3</th>\n",
       "      <td>1000_3</td>\n",
       "      <td>2018-09-21</td>\n",
       "      <td>13.80</td>\n",
       "      <td>1000</td>\n",
       "    </tr>\n",
       "    <tr>\n",
       "      <th>4</th>\n",
       "      <td>1000_4</td>\n",
       "      <td>2018-12-15</td>\n",
       "      <td>5.18</td>\n",
       "      <td>1000</td>\n",
       "    </tr>\n",
       "    <tr>\n",
       "      <th>5</th>\n",
       "      <td>1000_5</td>\n",
       "      <td>2018-11-02</td>\n",
       "      <td>0.00</td>\n",
       "      <td>1000</td>\n",
       "    </tr>\n",
       "  </tbody>\n",
       "</table>\n",
       "</div>"
      ],
      "text/plain": [
       "       id   call_date  duration  user_id\n",
       "0  1000_0  2018-07-25      0.00     1000\n",
       "1  1000_1  2018-08-17      0.00     1000\n",
       "2  1000_2  2018-06-11      2.85     1000\n",
       "3  1000_3  2018-09-21     13.80     1000\n",
       "4  1000_4  2018-12-15      5.18     1000\n",
       "5  1000_5  2018-11-02      0.00     1000"
      ]
     },
     "execution_count": 23,
     "metadata": {},
     "output_type": "execute_result"
    }
   ],
   "source": [
    "calls.head(6)"
   ]
  },
  {
   "cell_type": "markdown",
   "metadata": {},
   "source": [
    "В столбце \"Дата звонка\" использован неправильный тип данных. Переведем его в специальный тип для даты и времени. "
   ]
  },
  {
   "cell_type": "code",
   "execution_count": 24,
   "metadata": {
    "scrolled": true
   },
   "outputs": [],
   "source": [
    "calls['call_date'] = pd.to_datetime(calls['call_date'], format = '%Y-%m-%d')"
   ]
  },
  {
   "cell_type": "code",
   "execution_count": 25,
   "metadata": {
    "scrolled": true
   },
   "outputs": [
    {
     "name": "stdout",
     "output_type": "stream",
     "text": [
      "Количество звонков с длительностью 0 минут: 39613 ( 19.55% )\n"
     ]
    }
   ],
   "source": [
    "print('Количество звонков с длительностью 0 минут:', \n",
    "      len(calls[calls['duration'] == 0]),'(', \n",
    "      \"{:.2%}\".format(len(calls[calls['duration'] == 0]) / len(calls)),')')"
   ]
  },
  {
   "cell_type": "markdown",
   "metadata": {},
   "source": [
    "Необходимо округлить вверх значение минут.\n",
    "***\n",
    "*Почти 20% звонков имеют продолжительность 0.00 минут. Что это за неудавшиеся звонки? Если они не состоялись, то почему они попали в эту таблицу? \n",
    "У меня есть два предположения на этот счет:*\n",
    "1. *В значениях продолжительности звонка после запятой указаны не секунды, а доля минуты. Возможно, что такие звонки отклонялись мгновенно  после соединения (за тысячные доли минуты), и в реестр попадали попадали значения с нулями.*\n",
    "2. *В интернете можно найти статьи о том, что операторы снимают деньги (либо списывают минуты, в зависимости от тарифа) за прослушивание сообщения о недоступности вызываемого абонента. Вероятно, что длительность звонков на недоступные номера фиксируется именно таким образом, со значением 0.*\n",
    "\n",
    "Считаю, что игнорировать эти значения нельзя и необходимо округлить их до 1 минуты.\n",
    "***\n"
   ]
  },
  {
   "cell_type": "code",
   "execution_count": 27,
   "metadata": {
    "scrolled": true
   },
   "outputs": [],
   "source": [
    "def round_up(n):\n",
    "    if n == 0:\n",
    "        return 1\n",
    "    else:\n",
    "        return math.ceil(n)"
   ]
  },
  {
   "cell_type": "code",
   "execution_count": 28,
   "metadata": {
    "scrolled": true
   },
   "outputs": [],
   "source": [
    "calls['duration'] = calls['duration'].apply(round_up)"
   ]
  },
  {
   "cell_type": "code",
   "execution_count": 30,
   "metadata": {
    "scrolled": true
   },
   "outputs": [
    {
     "data": {
      "text/html": [
       "<div>\n",
       "<style scoped>\n",
       "    .dataframe tbody tr th:only-of-type {\n",
       "        vertical-align: middle;\n",
       "    }\n",
       "\n",
       "    .dataframe tbody tr th {\n",
       "        vertical-align: top;\n",
       "    }\n",
       "\n",
       "    .dataframe thead th {\n",
       "        text-align: right;\n",
       "    }\n",
       "</style>\n",
       "<table border=\"1\" class=\"dataframe\">\n",
       "  <thead>\n",
       "    <tr style=\"text-align: right;\">\n",
       "      <th></th>\n",
       "      <th>id</th>\n",
       "      <th>call_date</th>\n",
       "      <th>duration</th>\n",
       "      <th>user_id</th>\n",
       "    </tr>\n",
       "  </thead>\n",
       "  <tbody>\n",
       "    <tr>\n",
       "      <th>0</th>\n",
       "      <td>1000_0</td>\n",
       "      <td>2018-07-25</td>\n",
       "      <td>1</td>\n",
       "      <td>1000</td>\n",
       "    </tr>\n",
       "    <tr>\n",
       "      <th>1</th>\n",
       "      <td>1000_1</td>\n",
       "      <td>2018-08-17</td>\n",
       "      <td>1</td>\n",
       "      <td>1000</td>\n",
       "    </tr>\n",
       "    <tr>\n",
       "      <th>2</th>\n",
       "      <td>1000_2</td>\n",
       "      <td>2018-06-11</td>\n",
       "      <td>3</td>\n",
       "      <td>1000</td>\n",
       "    </tr>\n",
       "    <tr>\n",
       "      <th>3</th>\n",
       "      <td>1000_3</td>\n",
       "      <td>2018-09-21</td>\n",
       "      <td>14</td>\n",
       "      <td>1000</td>\n",
       "    </tr>\n",
       "    <tr>\n",
       "      <th>4</th>\n",
       "      <td>1000_4</td>\n",
       "      <td>2018-12-15</td>\n",
       "      <td>6</td>\n",
       "      <td>1000</td>\n",
       "    </tr>\n",
       "  </tbody>\n",
       "</table>\n",
       "</div>"
      ],
      "text/plain": [
       "       id  call_date  duration  user_id\n",
       "0  1000_0 2018-07-25         1     1000\n",
       "1  1000_1 2018-08-17         1     1000\n",
       "2  1000_2 2018-06-11         3     1000\n",
       "3  1000_3 2018-09-21        14     1000\n",
       "4  1000_4 2018-12-15         6     1000"
      ]
     },
     "execution_count": 30,
     "metadata": {},
     "output_type": "execute_result"
    }
   ],
   "source": [
    "calls.head()"
   ]
  },
  {
   "cell_type": "markdown",
   "metadata": {},
   "source": [
    "---\n",
    "Если оставить нулевые значения как есть или удалить их вовсе, мы можем не досчитаться части выручки. Если логика была верной и несостоявшиеся звонки тоже тарифицируются, то неучет этих данных может привести к ошибочным выводам по результатам анализа. Также это повлияет на среднюю продолжительность телефонного разговора. "
   ]
  },
  {
   "cell_type": "markdown",
   "metadata": {},
   "source": [
    "**Информация о сообщениях**\n",
    "\n",
    "---\n",
    "В столбце \"Дата сообщения\" использован неправильный тип данных."
   ]
  },
  {
   "cell_type": "code",
   "execution_count": 31,
   "metadata": {
    "scrolled": true
   },
   "outputs": [],
   "source": [
    "sms['message_date'] = pd.to_datetime(sms['message_date'], format = '%Y-%m-%d')"
   ]
  },
  {
   "cell_type": "code",
   "execution_count": 32,
   "metadata": {
    "scrolled": true
   },
   "outputs": [
    {
     "name": "stdout",
     "output_type": "stream",
     "text": [
      "<class 'pandas.core.frame.DataFrame'>\n",
      "RangeIndex: 123036 entries, 0 to 123035\n",
      "Data columns (total 3 columns):\n",
      " #   Column        Non-Null Count   Dtype         \n",
      "---  ------        --------------   -----         \n",
      " 0   id            123036 non-null  object        \n",
      " 1   message_date  123036 non-null  datetime64[ns]\n",
      " 2   user_id       123036 non-null  int64         \n",
      "dtypes: datetime64[ns](1), int64(1), object(1)\n",
      "memory usage: 2.8+ MB\n"
     ]
    }
   ],
   "source": [
    "sms.info()"
   ]
  },
  {
   "cell_type": "markdown",
   "metadata": {},
   "source": [
    "**Информация об интернет-сессиях**\n",
    "\n",
    "---\n",
    "В данной таблице необходимо изменить тип данных столбца с датами, убрать лишний столбец - дублер индексов и округлить объем использованых мегабайтов за сессию."
   ]
  },
  {
   "cell_type": "code",
   "execution_count": 33,
   "metadata": {
    "scrolled": true
   },
   "outputs": [
    {
     "data": {
      "text/html": [
       "<div>\n",
       "<style scoped>\n",
       "    .dataframe tbody tr th:only-of-type {\n",
       "        vertical-align: middle;\n",
       "    }\n",
       "\n",
       "    .dataframe tbody tr th {\n",
       "        vertical-align: top;\n",
       "    }\n",
       "\n",
       "    .dataframe thead th {\n",
       "        text-align: right;\n",
       "    }\n",
       "</style>\n",
       "<table border=\"1\" class=\"dataframe\">\n",
       "  <thead>\n",
       "    <tr style=\"text-align: right;\">\n",
       "      <th></th>\n",
       "      <th>Unnamed: 0</th>\n",
       "      <th>id</th>\n",
       "      <th>mb_used</th>\n",
       "      <th>session_date</th>\n",
       "      <th>user_id</th>\n",
       "    </tr>\n",
       "  </thead>\n",
       "  <tbody>\n",
       "    <tr>\n",
       "      <th>4598</th>\n",
       "      <td>4598</td>\n",
       "      <td>1014_204</td>\n",
       "      <td>413.13</td>\n",
       "      <td>2018-09-25</td>\n",
       "      <td>1014</td>\n",
       "    </tr>\n",
       "    <tr>\n",
       "      <th>108807</th>\n",
       "      <td>108807</td>\n",
       "      <td>1372_175</td>\n",
       "      <td>289.53</td>\n",
       "      <td>2018-07-07</td>\n",
       "      <td>1372</td>\n",
       "    </tr>\n",
       "    <tr>\n",
       "      <th>23388</th>\n",
       "      <td>23388</td>\n",
       "      <td>1078_305</td>\n",
       "      <td>379.98</td>\n",
       "      <td>2018-12-17</td>\n",
       "      <td>1078</td>\n",
       "    </tr>\n",
       "    <tr>\n",
       "      <th>51007</th>\n",
       "      <td>51007</td>\n",
       "      <td>1174_215</td>\n",
       "      <td>625.96</td>\n",
       "      <td>2018-10-28</td>\n",
       "      <td>1174</td>\n",
       "    </tr>\n",
       "    <tr>\n",
       "      <th>109636</th>\n",
       "      <td>109636</td>\n",
       "      <td>1373_558</td>\n",
       "      <td>310.64</td>\n",
       "      <td>2018-02-06</td>\n",
       "      <td>1373</td>\n",
       "    </tr>\n",
       "  </tbody>\n",
       "</table>\n",
       "</div>"
      ],
      "text/plain": [
       "        Unnamed: 0        id  mb_used session_date  user_id\n",
       "4598          4598  1014_204   413.13   2018-09-25     1014\n",
       "108807      108807  1372_175   289.53   2018-07-07     1372\n",
       "23388        23388  1078_305   379.98   2018-12-17     1078\n",
       "51007        51007  1174_215   625.96   2018-10-28     1174\n",
       "109636      109636  1373_558   310.64   2018-02-06     1373"
      ]
     },
     "execution_count": 33,
     "metadata": {},
     "output_type": "execute_result"
    }
   ],
   "source": [
    "internet.sample(5)"
   ]
  },
  {
   "cell_type": "code",
   "execution_count": 34,
   "metadata": {
    "scrolled": true
   },
   "outputs": [],
   "source": [
    "internet = internet.drop('Unnamed: 0', axis=1)"
   ]
  },
  {
   "cell_type": "code",
   "execution_count": 35,
   "metadata": {
    "scrolled": true
   },
   "outputs": [],
   "source": [
    "internet['session_date'] = pd.to_datetime(internet['session_date'], format = '%Y-%m-%d')"
   ]
  },
  {
   "cell_type": "code",
   "execution_count": 36,
   "metadata": {
    "scrolled": true
   },
   "outputs": [
    {
     "name": "stdout",
     "output_type": "stream",
     "text": [
      "Количество интернет-сессий с объёмом потраченного трафика 0 мб: 19598 ( 13.12% )\n"
     ]
    }
   ],
   "source": [
    "print('Количество интернет-сессий с объёмом потраченного трафика 0 мб:', \n",
    "      len(internet[internet['mb_used'] == 0]),'(',\n",
    "     \"{:.2%}\".format(len(internet[internet['mb_used'] == 0]) / len(internet)),')')"
   ]
  },
  {
   "cell_type": "markdown",
   "metadata": {},
   "source": [
    "---\n",
    "В таблице содержится много нулевых значений в столбце с объемом потраченного интернет-трафика. Скороее всего таким образом учитываются очень короткие интернет-сессии, ведь проверка почты или отправка сообщения в мессенджере не потребляет много трафика. 1 мб = 1024 Кб, а значения в данном столбце округлены до друх знаков после запятой. \n",
    "\n",
    "Округлим потраченные мегабайты по тому же принципу, что и продолжительнсть звонков."
   ]
  },
  {
   "cell_type": "code",
   "execution_count": 37,
   "metadata": {
    "scrolled": true
   },
   "outputs": [],
   "source": [
    "internet['mb_used'] = internet['mb_used'].apply(round_up)"
   ]
  },
  {
   "cell_type": "markdown",
   "metadata": {},
   "source": [
    "##### Создадим дополнительный столбец c названием месяца в таблицах calls, sms и internet "
   ]
  },
  {
   "cell_type": "code",
   "execution_count": 38,
   "metadata": {
    "scrolled": true
   },
   "outputs": [],
   "source": [
    "calls['month'] = calls['call_date'].dt.month_name()"
   ]
  },
  {
   "cell_type": "code",
   "execution_count": 39,
   "metadata": {
    "scrolled": true
   },
   "outputs": [],
   "source": [
    "sms['month'] = sms['message_date'].dt.month_name()"
   ]
  },
  {
   "cell_type": "code",
   "execution_count": 40,
   "metadata": {
    "scrolled": true
   },
   "outputs": [],
   "source": [
    "internet['month'] = internet['session_date'].dt.month_name()"
   ]
  },
  {
   "cell_type": "markdown",
   "metadata": {},
   "source": [
    "***Сгруппируем каждую из этих таблиц по идентификаторам пользователей и месяцам. Дополнительно добавим новые столбцы с расчетными показателями.***\n",
    "\n",
    "___\n",
    "Для начала сгруппируем таблицу \"calls\" по столбцам 'user_id' и 'month'. Рассчитаем количество сделанных звонков и израсходованных минут разговора по месяцам."
   ]
  },
  {
   "cell_type": "code",
   "execution_count": 41,
   "metadata": {
    "scrolled": true
   },
   "outputs": [],
   "source": [
    "calls_gr = calls.groupby(['user_id', 'month'])['duration'].agg(['count', 'sum']).reset_index()\n",
    "#calls_gr"
   ]
  },
  {
   "cell_type": "code",
   "execution_count": 42,
   "metadata": {
    "scrolled": true
   },
   "outputs": [],
   "source": [
    "calls_gr.columns = ['user_id', 'month', 'number_of_calls', 'spent_minutes']"
   ]
  },
  {
   "cell_type": "code",
   "execution_count": 43,
   "metadata": {
    "scrolled": true
   },
   "outputs": [
    {
     "data": {
      "text/plain": [
       "492"
      ]
     },
     "execution_count": 43,
     "metadata": {},
     "output_type": "execute_result"
    }
   ],
   "source": [
    "len(calls_gr['user_id'].unique())"
   ]
  },
  {
   "cell_type": "markdown",
   "metadata": {},
   "source": [
    "---\n",
    "Сгруппируем таким же образом таблицу \"sms\" и  рассчитаем количество отправленных сообщений по месяцам."
   ]
  },
  {
   "cell_type": "code",
   "execution_count": 44,
   "metadata": {
    "scrolled": true
   },
   "outputs": [],
   "source": [
    "sms_gr = sms.groupby(['user_id', 'month'])['id'].agg(['count']).reset_index()\n",
    "#sms_gr"
   ]
  },
  {
   "cell_type": "code",
   "execution_count": 45,
   "metadata": {
    "scrolled": true
   },
   "outputs": [],
   "source": [
    "sms_gr.columns = ['user_id', 'month', 'number_of_sms']"
   ]
  },
  {
   "cell_type": "code",
   "execution_count": 46,
   "metadata": {
    "scrolled": true
   },
   "outputs": [
    {
     "data": {
      "text/plain": [
       "426"
      ]
     },
     "execution_count": 46,
     "metadata": {},
     "output_type": "execute_result"
    }
   ],
   "source": [
    "len(sms_gr['user_id'].unique())"
   ]
  },
  {
   "cell_type": "markdown",
   "metadata": {},
   "source": [
    "---\n",
    "Теперь сделаем таблицу с объёмом израсходованного интернет-трафика по месяцам для каждого клиента."
   ]
  },
  {
   "cell_type": "code",
   "execution_count": 47,
   "metadata": {
    "scrolled": true
   },
   "outputs": [],
   "source": [
    "internet_gr = internet.groupby(['user_id', 'month'])['mb_used'].agg(['sum']).reset_index()\n",
    "#internet_gr"
   ]
  },
  {
   "cell_type": "code",
   "execution_count": 48,
   "metadata": {
    "scrolled": true
   },
   "outputs": [],
   "source": [
    "internet_gr.columns = ['user_id', 'month', 'spent_mb']"
   ]
  },
  {
   "cell_type": "code",
   "execution_count": 49,
   "metadata": {
    "scrolled": true
   },
   "outputs": [
    {
     "data": {
      "text/plain": [
       "497"
      ]
     },
     "execution_count": 49,
     "metadata": {},
     "output_type": "execute_result"
    }
   ],
   "source": [
    "len(internet_gr['user_id'].unique())"
   ]
  },
  {
   "cell_type": "markdown",
   "metadata": {},
   "source": [
    "---\n",
    "**На данном этапе удалось посчитать для каждого пользователя:**\n",
    "1. количество сделанных звонков и израсходованных минут разговора по месяцам;\n",
    "2. количество отправленных сообщений по месяцам;\n",
    "3. объем израсходованного интернет-трафика по месяцам."
   ]
  },
  {
   "cell_type": "markdown",
   "metadata": {},
   "source": [
    "**Подготовим единую таблицу с помесечной пользовательской активностью для каждого клиента.**\n",
    "\n",
    "Для этого необходимо соединить сгруппированные ранее таблицы. Слияние будем производить на основе столбцов c id и  месяцами."
   ]
  },
  {
   "cell_type": "code",
   "execution_count": 50,
   "metadata": {
    "scrolled": true
   },
   "outputs": [],
   "source": [
    "stat = calls_gr.merge(sms_gr, on = ['user_id', 'month'], how = 'outer')"
   ]
  },
  {
   "cell_type": "code",
   "execution_count": 51,
   "metadata": {
    "scrolled": true
   },
   "outputs": [],
   "source": [
    "stat = stat.merge(internet_gr, on = ['user_id', 'month'], how = 'outer')"
   ]
  },
  {
   "cell_type": "code",
   "execution_count": 52,
   "metadata": {
    "scrolled": false
   },
   "outputs": [
    {
     "data": {
      "text/html": [
       "<div>\n",
       "<style scoped>\n",
       "    .dataframe tbody tr th:only-of-type {\n",
       "        vertical-align: middle;\n",
       "    }\n",
       "\n",
       "    .dataframe tbody tr th {\n",
       "        vertical-align: top;\n",
       "    }\n",
       "\n",
       "    .dataframe thead th {\n",
       "        text-align: right;\n",
       "    }\n",
       "</style>\n",
       "<table border=\"1\" class=\"dataframe\">\n",
       "  <thead>\n",
       "    <tr style=\"text-align: right;\">\n",
       "      <th></th>\n",
       "      <th>user_id</th>\n",
       "      <th>month</th>\n",
       "      <th>number_of_calls</th>\n",
       "      <th>spent_minutes</th>\n",
       "      <th>number_of_sms</th>\n",
       "      <th>spent_mb</th>\n",
       "    </tr>\n",
       "  </thead>\n",
       "  <tbody>\n",
       "    <tr>\n",
       "      <th>0</th>\n",
       "      <td>1000</td>\n",
       "      <td>August</td>\n",
       "      <td>52.0</td>\n",
       "      <td>418.0</td>\n",
       "      <td>81.0</td>\n",
       "      <td>14072.0</td>\n",
       "    </tr>\n",
       "    <tr>\n",
       "      <th>1</th>\n",
       "      <td>1000</td>\n",
       "      <td>December</td>\n",
       "      <td>46.0</td>\n",
       "      <td>341.0</td>\n",
       "      <td>70.0</td>\n",
       "      <td>9829.0</td>\n",
       "    </tr>\n",
       "    <tr>\n",
       "      <th>2</th>\n",
       "      <td>1000</td>\n",
       "      <td>July</td>\n",
       "      <td>47.0</td>\n",
       "      <td>346.0</td>\n",
       "      <td>75.0</td>\n",
       "      <td>14017.0</td>\n",
       "    </tr>\n",
       "    <tr>\n",
       "      <th>3</th>\n",
       "      <td>1000</td>\n",
       "      <td>June</td>\n",
       "      <td>43.0</td>\n",
       "      <td>187.0</td>\n",
       "      <td>60.0</td>\n",
       "      <td>23262.0</td>\n",
       "    </tr>\n",
       "    <tr>\n",
       "      <th>4</th>\n",
       "      <td>1000</td>\n",
       "      <td>May</td>\n",
       "      <td>22.0</td>\n",
       "      <td>164.0</td>\n",
       "      <td>22.0</td>\n",
       "      <td>2257.0</td>\n",
       "    </tr>\n",
       "    <tr>\n",
       "      <th>...</th>\n",
       "      <td>...</td>\n",
       "      <td>...</td>\n",
       "      <td>...</td>\n",
       "      <td>...</td>\n",
       "      <td>...</td>\n",
       "      <td>...</td>\n",
       "    </tr>\n",
       "    <tr>\n",
       "      <th>3209</th>\n",
       "      <td>1489</td>\n",
       "      <td>December</td>\n",
       "      <td>NaN</td>\n",
       "      <td>NaN</td>\n",
       "      <td>35.0</td>\n",
       "      <td>17349.0</td>\n",
       "    </tr>\n",
       "    <tr>\n",
       "      <th>3210</th>\n",
       "      <td>1489</td>\n",
       "      <td>November</td>\n",
       "      <td>NaN</td>\n",
       "      <td>NaN</td>\n",
       "      <td>20.0</td>\n",
       "      <td>17526.0</td>\n",
       "    </tr>\n",
       "    <tr>\n",
       "      <th>3211</th>\n",
       "      <td>1489</td>\n",
       "      <td>October</td>\n",
       "      <td>NaN</td>\n",
       "      <td>NaN</td>\n",
       "      <td>21.0</td>\n",
       "      <td>19599.0</td>\n",
       "    </tr>\n",
       "    <tr>\n",
       "      <th>3212</th>\n",
       "      <td>1489</td>\n",
       "      <td>September</td>\n",
       "      <td>NaN</td>\n",
       "      <td>NaN</td>\n",
       "      <td>32.0</td>\n",
       "      <td>17246.0</td>\n",
       "    </tr>\n",
       "    <tr>\n",
       "      <th>3213</th>\n",
       "      <td>1476</td>\n",
       "      <td>April</td>\n",
       "      <td>NaN</td>\n",
       "      <td>NaN</td>\n",
       "      <td>NaN</td>\n",
       "      <td>531.0</td>\n",
       "    </tr>\n",
       "  </tbody>\n",
       "</table>\n",
       "<p>3214 rows × 6 columns</p>\n",
       "</div>"
      ],
      "text/plain": [
       "      user_id      month  number_of_calls  spent_minutes  number_of_sms  \\\n",
       "0        1000     August             52.0          418.0           81.0   \n",
       "1        1000   December             46.0          341.0           70.0   \n",
       "2        1000       July             47.0          346.0           75.0   \n",
       "3        1000       June             43.0          187.0           60.0   \n",
       "4        1000        May             22.0          164.0           22.0   \n",
       "...       ...        ...              ...            ...            ...   \n",
       "3209     1489   December              NaN            NaN           35.0   \n",
       "3210     1489   November              NaN            NaN           20.0   \n",
       "3211     1489    October              NaN            NaN           21.0   \n",
       "3212     1489  September              NaN            NaN           32.0   \n",
       "3213     1476      April              NaN            NaN            NaN   \n",
       "\n",
       "      spent_mb  \n",
       "0      14072.0  \n",
       "1       9829.0  \n",
       "2      14017.0  \n",
       "3      23262.0  \n",
       "4       2257.0  \n",
       "...        ...  \n",
       "3209   17349.0  \n",
       "3210   17526.0  \n",
       "3211   19599.0  \n",
       "3212   17246.0  \n",
       "3213     531.0  \n",
       "\n",
       "[3214 rows x 6 columns]"
      ]
     },
     "execution_count": 52,
     "metadata": {},
     "output_type": "execute_result"
    }
   ],
   "source": [
    "stat"
   ]
  },
  {
   "cell_type": "code",
   "execution_count": 53,
   "metadata": {
    "scrolled": true
   },
   "outputs": [
    {
     "name": "stdout",
     "output_type": "stream",
     "text": [
      "<class 'pandas.core.frame.DataFrame'>\n",
      "Int64Index: 3214 entries, 0 to 3213\n",
      "Data columns (total 6 columns):\n",
      " #   Column           Non-Null Count  Dtype  \n",
      "---  ------           --------------  -----  \n",
      " 0   user_id          3214 non-null   int64  \n",
      " 1   month            3214 non-null   object \n",
      " 2   number_of_calls  3174 non-null   float64\n",
      " 3   spent_minutes    3174 non-null   float64\n",
      " 4   number_of_sms    2717 non-null   float64\n",
      " 5   spent_mb         3203 non-null   float64\n",
      "dtypes: float64(4), int64(1), object(1)\n",
      "memory usage: 175.8+ KB\n"
     ]
    }
   ],
   "source": [
    "stat.info()"
   ]
  },
  {
   "cell_type": "code",
   "execution_count": 54,
   "metadata": {
    "scrolled": true
   },
   "outputs": [
    {
     "data": {
      "text/plain": [
       "user_id              0\n",
       "month                0\n",
       "number_of_calls     40\n",
       "spent_minutes       40\n",
       "number_of_sms      497\n",
       "spent_mb            11\n",
       "dtype: int64"
      ]
     },
     "execution_count": 54,
     "metadata": {},
     "output_type": "execute_result"
    }
   ],
   "source": [
    "stat.isna().sum()"
   ]
  },
  {
   "cell_type": "code",
   "execution_count": 55,
   "metadata": {
    "scrolled": true
   },
   "outputs": [
    {
     "name": "stdout",
     "output_type": "stream",
     "text": [
      "Уникальных клиентов в таблице: 498 человек\n"
     ]
    }
   ],
   "source": [
    "print('Уникальных клиентов в таблице:', len(stat['user_id'].unique()), 'человек')"
   ]
  },
  {
   "cell_type": "markdown",
   "metadata": {},
   "source": [
    "___\n",
    "В полученной таблице имеются пропущенные значения. Очевидно, это связано с тем, что часть клиентов просто не пользовалась всеми услугами, поэтому будет логично заполнить все пропуски нулями. Плюс ко всему мы потеряли из выборки двух человек. Следует найти их id и проверить не совершили ли мы ошибку. "
   ]
  },
  {
   "cell_type": "code",
   "execution_count": 56,
   "metadata": {
    "scrolled": true
   },
   "outputs": [],
   "source": [
    "stat = stat.fillna(0)"
   ]
  },
  {
   "cell_type": "markdown",
   "metadata": {},
   "source": [
    "Найдем двух пропавших клиентов:"
   ]
  },
  {
   "cell_type": "code",
   "execution_count": 57,
   "metadata": {
    "scrolled": true
   },
   "outputs": [
    {
     "data": {
      "text/html": [
       "<div>\n",
       "<style scoped>\n",
       "    .dataframe tbody tr th:only-of-type {\n",
       "        vertical-align: middle;\n",
       "    }\n",
       "\n",
       "    .dataframe tbody tr th {\n",
       "        vertical-align: top;\n",
       "    }\n",
       "\n",
       "    .dataframe thead th {\n",
       "        text-align: right;\n",
       "    }\n",
       "</style>\n",
       "<table border=\"1\" class=\"dataframe\">\n",
       "  <thead>\n",
       "    <tr style=\"text-align: right;\">\n",
       "      <th></th>\n",
       "      <th>user_id</th>\n",
       "      <th>age</th>\n",
       "      <th>churn_date</th>\n",
       "      <th>city</th>\n",
       "      <th>first_name</th>\n",
       "      <th>last_name</th>\n",
       "      <th>reg_date</th>\n",
       "      <th>tariff</th>\n",
       "    </tr>\n",
       "  </thead>\n",
       "  <tbody>\n",
       "    <tr>\n",
       "      <th>128</th>\n",
       "      <td>1128</td>\n",
       "      <td>51</td>\n",
       "      <td>2018-12-23</td>\n",
       "      <td>Волжский</td>\n",
       "      <td>Ксения</td>\n",
       "      <td>Агаева</td>\n",
       "      <td>2018-12-15</td>\n",
       "      <td>ultra</td>\n",
       "    </tr>\n",
       "    <tr>\n",
       "      <th>371</th>\n",
       "      <td>1371</td>\n",
       "      <td>50</td>\n",
       "      <td>2018-12-30</td>\n",
       "      <td>Омск</td>\n",
       "      <td>Ириней</td>\n",
       "      <td>Трофимов</td>\n",
       "      <td>2018-12-25</td>\n",
       "      <td>smart</td>\n",
       "    </tr>\n",
       "  </tbody>\n",
       "</table>\n",
       "</div>"
      ],
      "text/plain": [
       "     user_id  age churn_date      city first_name last_name   reg_date tariff\n",
       "128     1128   51 2018-12-23  Волжский     Ксения    Агаева 2018-12-15  ultra\n",
       "371     1371   50 2018-12-30      Омск     Ириней  Трофимов 2018-12-25  smart"
      ]
     },
     "execution_count": 57,
     "metadata": {},
     "output_type": "execute_result"
    }
   ],
   "source": [
    "lost = users.query('user_id not in @calls.user_id & user_id not in @sms.user_id & user_id not in @internet.user_id')\n",
    "lost"
   ]
  },
  {
   "cell_type": "markdown",
   "metadata": {},
   "source": [
    "Действительно, в выборке присутствуют два человека, которые стали клиентами оператора в декабре 2018 года и спустя  непродолжительное время отключили свои тарифы. При этом за ними не наблюдалось никакой активности.\n",
    "Так или иначе их необходимо добавить в нашу отчетную таблицу, так как при подключении они вносили ежемесячную абонентскую плату."
   ]
  },
  {
   "cell_type": "code",
   "execution_count": 58,
   "metadata": {
    "scrolled": true
   },
   "outputs": [],
   "source": [
    "# Создадим вспомогательный словарь для заполнения пустых значений:\n",
    "values = {'month': 'December','number_of_calls': 0, 'spent_minutes': 0, 'number_of_sms':0, 'spent_mb':0}"
   ]
  },
  {
   "cell_type": "code",
   "execution_count": 59,
   "metadata": {
    "scrolled": true
   },
   "outputs": [],
   "source": [
    "stat = stat.merge(lost['user_id'], on = ['user_id'], how = 'outer').fillna(value=values)"
   ]
  },
  {
   "cell_type": "code",
   "execution_count": 60,
   "metadata": {
    "scrolled": true
   },
   "outputs": [
    {
     "data": {
      "text/html": [
       "<div>\n",
       "<style scoped>\n",
       "    .dataframe tbody tr th:only-of-type {\n",
       "        vertical-align: middle;\n",
       "    }\n",
       "\n",
       "    .dataframe tbody tr th {\n",
       "        vertical-align: top;\n",
       "    }\n",
       "\n",
       "    .dataframe thead th {\n",
       "        text-align: right;\n",
       "    }\n",
       "</style>\n",
       "<table border=\"1\" class=\"dataframe\">\n",
       "  <thead>\n",
       "    <tr style=\"text-align: right;\">\n",
       "      <th></th>\n",
       "      <th>user_id</th>\n",
       "      <th>month</th>\n",
       "      <th>number_of_calls</th>\n",
       "      <th>spent_minutes</th>\n",
       "      <th>number_of_sms</th>\n",
       "      <th>spent_mb</th>\n",
       "    </tr>\n",
       "  </thead>\n",
       "  <tbody>\n",
       "    <tr>\n",
       "      <th>3211</th>\n",
       "      <td>1489</td>\n",
       "      <td>November</td>\n",
       "      <td>0.0</td>\n",
       "      <td>0.0</td>\n",
       "      <td>20.0</td>\n",
       "      <td>17526.0</td>\n",
       "    </tr>\n",
       "    <tr>\n",
       "      <th>3212</th>\n",
       "      <td>1489</td>\n",
       "      <td>October</td>\n",
       "      <td>0.0</td>\n",
       "      <td>0.0</td>\n",
       "      <td>21.0</td>\n",
       "      <td>19599.0</td>\n",
       "    </tr>\n",
       "    <tr>\n",
       "      <th>3213</th>\n",
       "      <td>1489</td>\n",
       "      <td>September</td>\n",
       "      <td>0.0</td>\n",
       "      <td>0.0</td>\n",
       "      <td>32.0</td>\n",
       "      <td>17246.0</td>\n",
       "    </tr>\n",
       "    <tr>\n",
       "      <th>3214</th>\n",
       "      <td>1128</td>\n",
       "      <td>December</td>\n",
       "      <td>0.0</td>\n",
       "      <td>0.0</td>\n",
       "      <td>0.0</td>\n",
       "      <td>0.0</td>\n",
       "    </tr>\n",
       "    <tr>\n",
       "      <th>3215</th>\n",
       "      <td>1371</td>\n",
       "      <td>December</td>\n",
       "      <td>0.0</td>\n",
       "      <td>0.0</td>\n",
       "      <td>0.0</td>\n",
       "      <td>0.0</td>\n",
       "    </tr>\n",
       "  </tbody>\n",
       "</table>\n",
       "</div>"
      ],
      "text/plain": [
       "      user_id      month  number_of_calls  spent_minutes  number_of_sms  \\\n",
       "3211     1489   November              0.0            0.0           20.0   \n",
       "3212     1489    October              0.0            0.0           21.0   \n",
       "3213     1489  September              0.0            0.0           32.0   \n",
       "3214     1128   December              0.0            0.0            0.0   \n",
       "3215     1371   December              0.0            0.0            0.0   \n",
       "\n",
       "      spent_mb  \n",
       "3211   17526.0  \n",
       "3212   19599.0  \n",
       "3213   17246.0  \n",
       "3214       0.0  \n",
       "3215       0.0  "
      ]
     },
     "execution_count": 60,
     "metadata": {},
     "output_type": "execute_result"
    }
   ],
   "source": [
    "stat.tail(5)"
   ]
  },
  {
   "cell_type": "markdown",
   "metadata": {},
   "source": [
    "Для удобства поменяем в столбцах number_of_calls, spent_minutes, number_of_sms и spent_mb тип данных на целочисленный."
   ]
  },
  {
   "cell_type": "code",
   "execution_count": 61,
   "metadata": {
    "scrolled": true
   },
   "outputs": [],
   "source": [
    "stat[['number_of_calls', 'spent_minutes', \n",
    "      'number_of_sms', 'spent_mb']] = stat[['number_of_calls', 'spent_minutes', \n",
    "                                            'number_of_sms', 'spent_mb']].astype('int')"
   ]
  },
  {
   "cell_type": "markdown",
   "metadata": {},
   "source": [
    "Добавим к нашей таблице информацию об используемых тарифах и городах проживания абонентов:"
   ]
  },
  {
   "cell_type": "code",
   "execution_count": 62,
   "metadata": {
    "scrolled": false
   },
   "outputs": [
    {
     "data": {
      "text/html": [
       "<div>\n",
       "<style scoped>\n",
       "    .dataframe tbody tr th:only-of-type {\n",
       "        vertical-align: middle;\n",
       "    }\n",
       "\n",
       "    .dataframe tbody tr th {\n",
       "        vertical-align: top;\n",
       "    }\n",
       "\n",
       "    .dataframe thead th {\n",
       "        text-align: right;\n",
       "    }\n",
       "</style>\n",
       "<table border=\"1\" class=\"dataframe\">\n",
       "  <thead>\n",
       "    <tr style=\"text-align: right;\">\n",
       "      <th></th>\n",
       "      <th>user_id</th>\n",
       "      <th>month</th>\n",
       "      <th>number_of_calls</th>\n",
       "      <th>spent_minutes</th>\n",
       "      <th>number_of_sms</th>\n",
       "      <th>spent_mb</th>\n",
       "      <th>tariff</th>\n",
       "      <th>city</th>\n",
       "    </tr>\n",
       "  </thead>\n",
       "  <tbody>\n",
       "    <tr>\n",
       "      <th>0</th>\n",
       "      <td>1000</td>\n",
       "      <td>August</td>\n",
       "      <td>52</td>\n",
       "      <td>418</td>\n",
       "      <td>81</td>\n",
       "      <td>14072</td>\n",
       "      <td>ultra</td>\n",
       "      <td>Краснодар</td>\n",
       "    </tr>\n",
       "    <tr>\n",
       "      <th>1</th>\n",
       "      <td>1000</td>\n",
       "      <td>December</td>\n",
       "      <td>46</td>\n",
       "      <td>341</td>\n",
       "      <td>70</td>\n",
       "      <td>9829</td>\n",
       "      <td>ultra</td>\n",
       "      <td>Краснодар</td>\n",
       "    </tr>\n",
       "    <tr>\n",
       "      <th>2</th>\n",
       "      <td>1000</td>\n",
       "      <td>July</td>\n",
       "      <td>47</td>\n",
       "      <td>346</td>\n",
       "      <td>75</td>\n",
       "      <td>14017</td>\n",
       "      <td>ultra</td>\n",
       "      <td>Краснодар</td>\n",
       "    </tr>\n",
       "    <tr>\n",
       "      <th>3</th>\n",
       "      <td>1000</td>\n",
       "      <td>June</td>\n",
       "      <td>43</td>\n",
       "      <td>187</td>\n",
       "      <td>60</td>\n",
       "      <td>23262</td>\n",
       "      <td>ultra</td>\n",
       "      <td>Краснодар</td>\n",
       "    </tr>\n",
       "    <tr>\n",
       "      <th>4</th>\n",
       "      <td>1000</td>\n",
       "      <td>May</td>\n",
       "      <td>22</td>\n",
       "      <td>164</td>\n",
       "      <td>22</td>\n",
       "      <td>2257</td>\n",
       "      <td>ultra</td>\n",
       "      <td>Краснодар</td>\n",
       "    </tr>\n",
       "    <tr>\n",
       "      <th>...</th>\n",
       "      <td>...</td>\n",
       "      <td>...</td>\n",
       "      <td>...</td>\n",
       "      <td>...</td>\n",
       "      <td>...</td>\n",
       "      <td>...</td>\n",
       "      <td>...</td>\n",
       "      <td>...</td>\n",
       "    </tr>\n",
       "    <tr>\n",
       "      <th>3211</th>\n",
       "      <td>1489</td>\n",
       "      <td>November</td>\n",
       "      <td>0</td>\n",
       "      <td>0</td>\n",
       "      <td>20</td>\n",
       "      <td>17526</td>\n",
       "      <td>smart</td>\n",
       "      <td>Санкт-Петербург</td>\n",
       "    </tr>\n",
       "    <tr>\n",
       "      <th>3212</th>\n",
       "      <td>1489</td>\n",
       "      <td>October</td>\n",
       "      <td>0</td>\n",
       "      <td>0</td>\n",
       "      <td>21</td>\n",
       "      <td>19599</td>\n",
       "      <td>smart</td>\n",
       "      <td>Санкт-Петербург</td>\n",
       "    </tr>\n",
       "    <tr>\n",
       "      <th>3213</th>\n",
       "      <td>1489</td>\n",
       "      <td>September</td>\n",
       "      <td>0</td>\n",
       "      <td>0</td>\n",
       "      <td>32</td>\n",
       "      <td>17246</td>\n",
       "      <td>smart</td>\n",
       "      <td>Санкт-Петербург</td>\n",
       "    </tr>\n",
       "    <tr>\n",
       "      <th>3214</th>\n",
       "      <td>1128</td>\n",
       "      <td>December</td>\n",
       "      <td>0</td>\n",
       "      <td>0</td>\n",
       "      <td>0</td>\n",
       "      <td>0</td>\n",
       "      <td>ultra</td>\n",
       "      <td>Волжский</td>\n",
       "    </tr>\n",
       "    <tr>\n",
       "      <th>3215</th>\n",
       "      <td>1371</td>\n",
       "      <td>December</td>\n",
       "      <td>0</td>\n",
       "      <td>0</td>\n",
       "      <td>0</td>\n",
       "      <td>0</td>\n",
       "      <td>smart</td>\n",
       "      <td>Омск</td>\n",
       "    </tr>\n",
       "  </tbody>\n",
       "</table>\n",
       "<p>3216 rows × 8 columns</p>\n",
       "</div>"
      ],
      "text/plain": [
       "      user_id      month  number_of_calls  spent_minutes  number_of_sms  \\\n",
       "0        1000     August               52            418             81   \n",
       "1        1000   December               46            341             70   \n",
       "2        1000       July               47            346             75   \n",
       "3        1000       June               43            187             60   \n",
       "4        1000        May               22            164             22   \n",
       "...       ...        ...              ...            ...            ...   \n",
       "3211     1489   November                0              0             20   \n",
       "3212     1489    October                0              0             21   \n",
       "3213     1489  September                0              0             32   \n",
       "3214     1128   December                0              0              0   \n",
       "3215     1371   December                0              0              0   \n",
       "\n",
       "      spent_mb tariff             city  \n",
       "0        14072  ultra        Краснодар  \n",
       "1         9829  ultra        Краснодар  \n",
       "2        14017  ultra        Краснодар  \n",
       "3        23262  ultra        Краснодар  \n",
       "4         2257  ultra        Краснодар  \n",
       "...        ...    ...              ...  \n",
       "3211     17526  smart  Санкт-Петербург  \n",
       "3212     19599  smart  Санкт-Петербург  \n",
       "3213     17246  smart  Санкт-Петербург  \n",
       "3214         0  ultra         Волжский  \n",
       "3215         0  smart             Омск  \n",
       "\n",
       "[3216 rows x 8 columns]"
      ]
     },
     "execution_count": 62,
     "metadata": {},
     "output_type": "execute_result"
    }
   ],
   "source": [
    "stat = stat.merge(users[['user_id', 'tariff', 'city']], on = 'user_id', how = 'left')\n",
    "stat"
   ]
  },
  {
   "cell_type": "markdown",
   "metadata": {},
   "source": [
    "---\n",
    "**Добавим в таблицу помесячную выручку с каждого пользователя**\n"
   ]
  },
  {
   "cell_type": "code",
   "execution_count": 63,
   "metadata": {
    "scrolled": true
   },
   "outputs": [],
   "source": [
    "#tariffs"
   ]
  },
  {
   "cell_type": "code",
   "execution_count": 64,
   "metadata": {
    "scrolled": true
   },
   "outputs": [],
   "source": [
    "# Функция для расчета выручки:\n",
    "def revenue(row):\n",
    "    spent_minutes = row['spent_minutes']\n",
    "    number_of_sms = row['number_of_sms']\n",
    "    spent_mb = row['spent_mb']\n",
    "    tariff = row['tariff']\n",
    "        \n",
    "    if tariff == 'smart':\n",
    "        rev = tariffs['rub_monthly_fee'][0]\n",
    "        # Проверяем нет ли у нас превышения по первоначальным лимитам. \n",
    "        # Если есть - добавляем абонетскую плату к ежемесячному платежу:\n",
    "        if spent_minutes > tariffs['minutes_included'][0]:\n",
    "            rev += (spent_minutes - tariffs['minutes_included'][0]) * tariffs['rub_per_minute'][0]\n",
    "            \n",
    "        if number_of_sms > tariffs['messages_included'][0]:\n",
    "            rev += (number_of_sms - tariffs['messages_included'][0]) * tariffs['rub_per_message'][0]\n",
    "           \n",
    "        if spent_mb > tariffs['mb_per_month_included'][0]:\n",
    "            rev += (np.ceil((spent_mb - tariffs['mb_per_month_included'][0])/1000))* tariffs['rub_per_gb'][0]\n",
    "            \n",
    "    else: \n",
    "        rev = tariffs['rub_monthly_fee'][1]\n",
    "        # Проверяем нет ли у нас превышения по первоначальным лимитам. \n",
    "        # Если есть - добавляем абонетскую плату к ежемесячному платежу:\n",
    "        if spent_minutes > tariffs['minutes_included'][1]:\n",
    "            rev += ((spent_minutes - tariffs['minutes_included'][1]) * tariffs['rub_per_minute'][1])\n",
    "            \n",
    "        if number_of_sms > tariffs['messages_included'][1]:\n",
    "            rev += ((number_of_sms - tariffs['messages_included'][1]) * tariffs['rub_per_message'][1])\n",
    "            \n",
    "        if spent_mb > tariffs['mb_per_month_included'][1]:\n",
    "            rev += (np.ceil((spent_mb - tariffs['mb_per_month_included'][1])/1000))* tariffs['rub_per_gb'][1]\n",
    "            \n",
    "            \n",
    "    return int(rev)"
   ]
  },
  {
   "cell_type": "code",
   "execution_count": 65,
   "metadata": {
    "scrolled": true
   },
   "outputs": [],
   "source": [
    "stat['revenue'] = stat.apply(revenue, axis = 1) "
   ]
  },
  {
   "cell_type": "code",
   "execution_count": 66,
   "metadata": {
    "scrolled": false
   },
   "outputs": [
    {
     "data": {
      "text/html": [
       "<div>\n",
       "<style scoped>\n",
       "    .dataframe tbody tr th:only-of-type {\n",
       "        vertical-align: middle;\n",
       "    }\n",
       "\n",
       "    .dataframe tbody tr th {\n",
       "        vertical-align: top;\n",
       "    }\n",
       "\n",
       "    .dataframe thead th {\n",
       "        text-align: right;\n",
       "    }\n",
       "</style>\n",
       "<table border=\"1\" class=\"dataframe\">\n",
       "  <thead>\n",
       "    <tr style=\"text-align: right;\">\n",
       "      <th></th>\n",
       "      <th>user_id</th>\n",
       "      <th>month</th>\n",
       "      <th>number_of_calls</th>\n",
       "      <th>spent_minutes</th>\n",
       "      <th>number_of_sms</th>\n",
       "      <th>spent_mb</th>\n",
       "      <th>tariff</th>\n",
       "      <th>city</th>\n",
       "      <th>revenue</th>\n",
       "    </tr>\n",
       "  </thead>\n",
       "  <tbody>\n",
       "    <tr>\n",
       "      <th>0</th>\n",
       "      <td>1000</td>\n",
       "      <td>August</td>\n",
       "      <td>52</td>\n",
       "      <td>418</td>\n",
       "      <td>81</td>\n",
       "      <td>14072</td>\n",
       "      <td>ultra</td>\n",
       "      <td>Краснодар</td>\n",
       "      <td>1950</td>\n",
       "    </tr>\n",
       "    <tr>\n",
       "      <th>1</th>\n",
       "      <td>1000</td>\n",
       "      <td>December</td>\n",
       "      <td>46</td>\n",
       "      <td>341</td>\n",
       "      <td>70</td>\n",
       "      <td>9829</td>\n",
       "      <td>ultra</td>\n",
       "      <td>Краснодар</td>\n",
       "      <td>1950</td>\n",
       "    </tr>\n",
       "    <tr>\n",
       "      <th>2</th>\n",
       "      <td>1000</td>\n",
       "      <td>July</td>\n",
       "      <td>47</td>\n",
       "      <td>346</td>\n",
       "      <td>75</td>\n",
       "      <td>14017</td>\n",
       "      <td>ultra</td>\n",
       "      <td>Краснодар</td>\n",
       "      <td>1950</td>\n",
       "    </tr>\n",
       "    <tr>\n",
       "      <th>3</th>\n",
       "      <td>1000</td>\n",
       "      <td>June</td>\n",
       "      <td>43</td>\n",
       "      <td>187</td>\n",
       "      <td>60</td>\n",
       "      <td>23262</td>\n",
       "      <td>ultra</td>\n",
       "      <td>Краснодар</td>\n",
       "      <td>1950</td>\n",
       "    </tr>\n",
       "    <tr>\n",
       "      <th>4</th>\n",
       "      <td>1000</td>\n",
       "      <td>May</td>\n",
       "      <td>22</td>\n",
       "      <td>164</td>\n",
       "      <td>22</td>\n",
       "      <td>2257</td>\n",
       "      <td>ultra</td>\n",
       "      <td>Краснодар</td>\n",
       "      <td>1950</td>\n",
       "    </tr>\n",
       "    <tr>\n",
       "      <th>5</th>\n",
       "      <td>1000</td>\n",
       "      <td>November</td>\n",
       "      <td>43</td>\n",
       "      <td>344</td>\n",
       "      <td>58</td>\n",
       "      <td>14769</td>\n",
       "      <td>ultra</td>\n",
       "      <td>Краснодар</td>\n",
       "      <td>1950</td>\n",
       "    </tr>\n",
       "    <tr>\n",
       "      <th>6</th>\n",
       "      <td>1000</td>\n",
       "      <td>October</td>\n",
       "      <td>57</td>\n",
       "      <td>363</td>\n",
       "      <td>73</td>\n",
       "      <td>14717</td>\n",
       "      <td>ultra</td>\n",
       "      <td>Краснодар</td>\n",
       "      <td>1950</td>\n",
       "    </tr>\n",
       "    <tr>\n",
       "      <th>7</th>\n",
       "      <td>1000</td>\n",
       "      <td>September</td>\n",
       "      <td>58</td>\n",
       "      <td>478</td>\n",
       "      <td>57</td>\n",
       "      <td>14583</td>\n",
       "      <td>ultra</td>\n",
       "      <td>Краснодар</td>\n",
       "      <td>1950</td>\n",
       "    </tr>\n",
       "  </tbody>\n",
       "</table>\n",
       "</div>"
      ],
      "text/plain": [
       "   user_id      month  number_of_calls  spent_minutes  number_of_sms  \\\n",
       "0     1000     August               52            418             81   \n",
       "1     1000   December               46            341             70   \n",
       "2     1000       July               47            346             75   \n",
       "3     1000       June               43            187             60   \n",
       "4     1000        May               22            164             22   \n",
       "5     1000   November               43            344             58   \n",
       "6     1000    October               57            363             73   \n",
       "7     1000  September               58            478             57   \n",
       "\n",
       "   spent_mb tariff       city  revenue  \n",
       "0     14072  ultra  Краснодар     1950  \n",
       "1      9829  ultra  Краснодар     1950  \n",
       "2     14017  ultra  Краснодар     1950  \n",
       "3     23262  ultra  Краснодар     1950  \n",
       "4      2257  ultra  Краснодар     1950  \n",
       "5     14769  ultra  Краснодар     1950  \n",
       "6     14717  ultra  Краснодар     1950  \n",
       "7     14583  ultra  Краснодар     1950  "
      ]
     },
     "execution_count": 66,
     "metadata": {},
     "output_type": "execute_result"
    }
   ],
   "source": [
    "#Результат добавления нового сталбца с выручкой:\n",
    "stat[stat['user_id'] == 1000]"
   ]
  },
  {
   "cell_type": "markdown",
   "metadata": {},
   "source": [
    "### Шаг 3. Анализ данных\n",
    "---\n",
    "<a id = \"Step3\"></a>\n",
    "\n",
    "\n",
    "[1](#Step1)  [2](#Step2)  [4](#Step4)  [5](#Step5)  [Начало](#Head)"
   ]
  },
  {
   "cell_type": "markdown",
   "metadata": {},
   "source": [
    "Необходимо описать поведение клиентов оператора в зависимости от используемого тарифа. Подготовим для этого соответствующие таблицы:"
   ]
  },
  {
   "cell_type": "code",
   "execution_count": 67,
   "metadata": {
    "scrolled": false
   },
   "outputs": [
    {
     "name": "stdout",
     "output_type": "stream",
     "text": [
      "--------------- Таблица средних показателей для пользователей тарифа \"Smart\" ---------------\n"
     ]
    },
    {
     "data": {
      "text/html": [
       "<div>\n",
       "<style scoped>\n",
       "    .dataframe tbody tr th:only-of-type {\n",
       "        vertical-align: middle;\n",
       "    }\n",
       "\n",
       "    .dataframe tbody tr th {\n",
       "        vertical-align: top;\n",
       "    }\n",
       "\n",
       "    .dataframe thead th {\n",
       "        text-align: right;\n",
       "    }\n",
       "</style>\n",
       "<table border=\"1\" class=\"dataframe\">\n",
       "  <thead>\n",
       "    <tr style=\"text-align: right;\">\n",
       "      <th></th>\n",
       "      <th>user_id</th>\n",
       "      <th>number_of_calls</th>\n",
       "      <th>number_of_sms</th>\n",
       "      <th>revenue</th>\n",
       "      <th>spent_mb</th>\n",
       "      <th>spent_minutes</th>\n",
       "    </tr>\n",
       "  </thead>\n",
       "  <tbody>\n",
       "    <tr>\n",
       "      <th>0</th>\n",
       "      <td>1001</td>\n",
       "      <td>61.0</td>\n",
       "      <td>0.0</td>\n",
       "      <td>950.000000</td>\n",
       "      <td>16259.500000</td>\n",
       "      <td>437.000000</td>\n",
       "    </tr>\n",
       "    <tr>\n",
       "      <th>1</th>\n",
       "      <td>1002</td>\n",
       "      <td>31.0</td>\n",
       "      <td>10.0</td>\n",
       "      <td>1035.714286</td>\n",
       "      <td>16607.857143</td>\n",
       "      <td>223.000000</td>\n",
       "    </tr>\n",
       "    <tr>\n",
       "      <th>2</th>\n",
       "      <td>1005</td>\n",
       "      <td>74.0</td>\n",
       "      <td>46.0</td>\n",
       "      <td>862.000000</td>\n",
       "      <td>8320.916667</td>\n",
       "      <td>564.333333</td>\n",
       "    </tr>\n",
       "    <tr>\n",
       "      <th>3</th>\n",
       "      <td>1006</td>\n",
       "      <td>46.0</td>\n",
       "      <td>0.0</td>\n",
       "      <td>931.818182</td>\n",
       "      <td>14954.090909</td>\n",
       "      <td>326.818182</td>\n",
       "    </tr>\n",
       "    <tr>\n",
       "      <th>4</th>\n",
       "      <td>1007</td>\n",
       "      <td>68.0</td>\n",
       "      <td>25.0</td>\n",
       "      <td>955.000000</td>\n",
       "      <td>14652.888889</td>\n",
       "      <td>501.111111</td>\n",
       "    </tr>\n",
       "    <tr>\n",
       "      <th>...</th>\n",
       "      <td>...</td>\n",
       "      <td>...</td>\n",
       "      <td>...</td>\n",
       "      <td>...</td>\n",
       "      <td>...</td>\n",
       "      <td>...</td>\n",
       "    </tr>\n",
       "    <tr>\n",
       "      <th>346</th>\n",
       "      <td>1494</td>\n",
       "      <td>55.0</td>\n",
       "      <td>0.0</td>\n",
       "      <td>996.000000</td>\n",
       "      <td>15426.400000</td>\n",
       "      <td>398.600000</td>\n",
       "    </tr>\n",
       "    <tr>\n",
       "      <th>347</th>\n",
       "      <td>1496</td>\n",
       "      <td>69.0</td>\n",
       "      <td>39.0</td>\n",
       "      <td>2442.833333</td>\n",
       "      <td>22617.500000</td>\n",
       "      <td>512.083333</td>\n",
       "    </tr>\n",
       "    <tr>\n",
       "      <th>348</th>\n",
       "      <td>1497</td>\n",
       "      <td>67.0</td>\n",
       "      <td>17.0</td>\n",
       "      <td>947.333333</td>\n",
       "      <td>15214.000000</td>\n",
       "      <td>483.666667</td>\n",
       "    </tr>\n",
       "    <tr>\n",
       "      <th>349</th>\n",
       "      <td>1498</td>\n",
       "      <td>45.0</td>\n",
       "      <td>42.0</td>\n",
       "      <td>1659.000000</td>\n",
       "      <td>18641.750000</td>\n",
       "      <td>331.750000</td>\n",
       "    </tr>\n",
       "    <tr>\n",
       "      <th>350</th>\n",
       "      <td>1499</td>\n",
       "      <td>55.0</td>\n",
       "      <td>46.0</td>\n",
       "      <td>965.500000</td>\n",
       "      <td>12687.250000</td>\n",
       "      <td>418.250000</td>\n",
       "    </tr>\n",
       "  </tbody>\n",
       "</table>\n",
       "<p>351 rows × 6 columns</p>\n",
       "</div>"
      ],
      "text/plain": [
       "     user_id  number_of_calls  number_of_sms      revenue      spent_mb  \\\n",
       "0       1001             61.0            0.0   950.000000  16259.500000   \n",
       "1       1002             31.0           10.0  1035.714286  16607.857143   \n",
       "2       1005             74.0           46.0   862.000000   8320.916667   \n",
       "3       1006             46.0            0.0   931.818182  14954.090909   \n",
       "4       1007             68.0           25.0   955.000000  14652.888889   \n",
       "..       ...              ...            ...          ...           ...   \n",
       "346     1494             55.0            0.0   996.000000  15426.400000   \n",
       "347     1496             69.0           39.0  2442.833333  22617.500000   \n",
       "348     1497             67.0           17.0   947.333333  15214.000000   \n",
       "349     1498             45.0           42.0  1659.000000  18641.750000   \n",
       "350     1499             55.0           46.0   965.500000  12687.250000   \n",
       "\n",
       "     spent_minutes  \n",
       "0       437.000000  \n",
       "1       223.000000  \n",
       "2       564.333333  \n",
       "3       326.818182  \n",
       "4       501.111111  \n",
       "..             ...  \n",
       "346     398.600000  \n",
       "347     512.083333  \n",
       "348     483.666667  \n",
       "349     331.750000  \n",
       "350     418.250000  \n",
       "\n",
       "[351 rows x 6 columns]"
      ]
     },
     "execution_count": 67,
     "metadata": {},
     "output_type": "execute_result"
    }
   ],
   "source": [
    "print('-'*15, 'Таблица средних показателей для пользователей тарифа \"Smart\"', '-'*15)\n",
    "stat_smart = (\n",
    "    stat.query('tariff == \"smart\"').\n",
    "    pivot_table(index = 'user_id', \n",
    "                values = ['number_of_calls', 'spent_minutes', 'number_of_sms', 'spent_mb', 'revenue']).\n",
    "    reset_index()\n",
    ")\n",
    "stat_smart"
   ]
  },
  {
   "cell_type": "code",
   "execution_count": 68,
   "metadata": {
    "scrolled": false
   },
   "outputs": [
    {
     "name": "stdout",
     "output_type": "stream",
     "text": [
      "--------------- Таблица средних показателей для пользователей тарифа \"Ultra\" ---------------\n"
     ]
    },
    {
     "data": {
      "text/html": [
       "<div>\n",
       "<style scoped>\n",
       "    .dataframe tbody tr th:only-of-type {\n",
       "        vertical-align: middle;\n",
       "    }\n",
       "\n",
       "    .dataframe tbody tr th {\n",
       "        vertical-align: top;\n",
       "    }\n",
       "\n",
       "    .dataframe thead th {\n",
       "        text-align: right;\n",
       "    }\n",
       "</style>\n",
       "<table border=\"1\" class=\"dataframe\">\n",
       "  <thead>\n",
       "    <tr style=\"text-align: right;\">\n",
       "      <th></th>\n",
       "      <th>user_id</th>\n",
       "      <th>number_of_calls</th>\n",
       "      <th>number_of_sms</th>\n",
       "      <th>revenue</th>\n",
       "      <th>spent_mb</th>\n",
       "      <th>spent_minutes</th>\n",
       "    </tr>\n",
       "  </thead>\n",
       "  <tbody>\n",
       "    <tr>\n",
       "      <th>0</th>\n",
       "      <td>1000</td>\n",
       "      <td>46.0</td>\n",
       "      <td>62.0</td>\n",
       "      <td>1950.0</td>\n",
       "      <td>13438.250000</td>\n",
       "      <td>330.125000</td>\n",
       "    </tr>\n",
       "    <tr>\n",
       "      <th>1</th>\n",
       "      <td>1003</td>\n",
       "      <td>104.0</td>\n",
       "      <td>76.0</td>\n",
       "      <td>1950.0</td>\n",
       "      <td>11466.200000</td>\n",
       "      <td>782.800000</td>\n",
       "    </tr>\n",
       "    <tr>\n",
       "      <th>2</th>\n",
       "      <td>1004</td>\n",
       "      <td>22.0</td>\n",
       "      <td>149.0</td>\n",
       "      <td>1950.0</td>\n",
       "      <td>18649.250000</td>\n",
       "      <td>128.000000</td>\n",
       "    </tr>\n",
       "    <tr>\n",
       "      <th>3</th>\n",
       "      <td>1013</td>\n",
       "      <td>71.0</td>\n",
       "      <td>21.0</td>\n",
       "      <td>1950.0</td>\n",
       "      <td>15275.500000</td>\n",
       "      <td>486.000000</td>\n",
       "    </tr>\n",
       "    <tr>\n",
       "      <th>4</th>\n",
       "      <td>1016</td>\n",
       "      <td>10.0</td>\n",
       "      <td>71.0</td>\n",
       "      <td>1950.0</td>\n",
       "      <td>13417.500000</td>\n",
       "      <td>64.000000</td>\n",
       "    </tr>\n",
       "    <tr>\n",
       "      <th>...</th>\n",
       "      <td>...</td>\n",
       "      <td>...</td>\n",
       "      <td>...</td>\n",
       "      <td>...</td>\n",
       "      <td>...</td>\n",
       "      <td>...</td>\n",
       "    </tr>\n",
       "    <tr>\n",
       "      <th>144</th>\n",
       "      <td>1476</td>\n",
       "      <td>61.0</td>\n",
       "      <td>5.0</td>\n",
       "      <td>1950.0</td>\n",
       "      <td>16715.888889</td>\n",
       "      <td>476.777778</td>\n",
       "    </tr>\n",
       "    <tr>\n",
       "      <th>145</th>\n",
       "      <td>1485</td>\n",
       "      <td>94.0</td>\n",
       "      <td>155.0</td>\n",
       "      <td>1950.0</td>\n",
       "      <td>23450.000000</td>\n",
       "      <td>606.000000</td>\n",
       "    </tr>\n",
       "    <tr>\n",
       "      <th>146</th>\n",
       "      <td>1491</td>\n",
       "      <td>72.0</td>\n",
       "      <td>48.0</td>\n",
       "      <td>1950.0</td>\n",
       "      <td>17958.777778</td>\n",
       "      <td>526.888889</td>\n",
       "    </tr>\n",
       "    <tr>\n",
       "      <th>147</th>\n",
       "      <td>1493</td>\n",
       "      <td>55.0</td>\n",
       "      <td>47.0</td>\n",
       "      <td>2925.0</td>\n",
       "      <td>27234.500000</td>\n",
       "      <td>383.000000</td>\n",
       "    </tr>\n",
       "    <tr>\n",
       "      <th>148</th>\n",
       "      <td>1495</td>\n",
       "      <td>113.0</td>\n",
       "      <td>68.0</td>\n",
       "      <td>2310.0</td>\n",
       "      <td>25509.200000</td>\n",
       "      <td>803.800000</td>\n",
       "    </tr>\n",
       "  </tbody>\n",
       "</table>\n",
       "<p>149 rows × 6 columns</p>\n",
       "</div>"
      ],
      "text/plain": [
       "     user_id  number_of_calls  number_of_sms  revenue      spent_mb  \\\n",
       "0       1000             46.0           62.0   1950.0  13438.250000   \n",
       "1       1003            104.0           76.0   1950.0  11466.200000   \n",
       "2       1004             22.0          149.0   1950.0  18649.250000   \n",
       "3       1013             71.0           21.0   1950.0  15275.500000   \n",
       "4       1016             10.0           71.0   1950.0  13417.500000   \n",
       "..       ...              ...            ...      ...           ...   \n",
       "144     1476             61.0            5.0   1950.0  16715.888889   \n",
       "145     1485             94.0          155.0   1950.0  23450.000000   \n",
       "146     1491             72.0           48.0   1950.0  17958.777778   \n",
       "147     1493             55.0           47.0   2925.0  27234.500000   \n",
       "148     1495            113.0           68.0   2310.0  25509.200000   \n",
       "\n",
       "     spent_minutes  \n",
       "0       330.125000  \n",
       "1       782.800000  \n",
       "2       128.000000  \n",
       "3       486.000000  \n",
       "4        64.000000  \n",
       "..             ...  \n",
       "144     476.777778  \n",
       "145     606.000000  \n",
       "146     526.888889  \n",
       "147     383.000000  \n",
       "148     803.800000  \n",
       "\n",
       "[149 rows x 6 columns]"
      ]
     },
     "execution_count": 68,
     "metadata": {},
     "output_type": "execute_result"
    }
   ],
   "source": [
    "print('-'*15, 'Таблица средних показателей для пользователей тарифа \"Ultra\"', '-'*15)\n",
    "stat_ultra = (\n",
    "    stat.query('tariff == \"ultra\"').\n",
    "    pivot_table(index = 'user_id', \n",
    "                values = ['number_of_calls', 'spent_minutes', 'number_of_sms', 'spent_mb', 'revenue']).\n",
    "    reset_index()\n",
    ")\n",
    "stat_ultra"
   ]
  },
  {
   "cell_type": "markdown",
   "metadata": {},
   "source": [
    "---\n",
    "- **Найдем сколько минут разговора, сколько сообщений и какой объём интернет-трафика требуется пользователям каждого тарифа в месяц.** \n",
    "- **Посчитаем среднее количество, дисперсию и стандартное отклонение.**\n",
    "- **Построим гистограммы и опишем распределения.**"
   ]
  },
  {
   "cell_type": "code",
   "execution_count": 69,
   "metadata": {
    "scrolled": true
   },
   "outputs": [],
   "source": [
    "columns = {#'number_of_calls': 'Количество сделанных звонков', \n",
    "           'spent_minutes': 'Количество израсходованных минут', \n",
    "           'number_of_sms': 'Количество отправленных сообщений' , \n",
    "           'spent_mb': 'Объем израсходованного интернет-трафика'}\n",
    "           #'revenue': 'Выручка'}"
   ]
  },
  {
   "cell_type": "code",
   "execution_count": 70,
   "metadata": {
    "scrolled": false
   },
   "outputs": [
    {
     "name": "stdout",
     "output_type": "stream",
     "text": [
      "--------------- Количество израсходованных минут ---------------\n",
      "\n",
      "Описательная статистика для пользователей тарифа \"Smart\"\n",
      "\n",
      "Среднее значение = 429.91862705196036\n",
      "Медиана = 437.0\n",
      "Дисперсия = 22547.530252082397\n",
      "Cтандартное отклонение = 150.1583505905762\n",
      "\n",
      "Описательная статистика для пользователей тарифа \"Ultra\"\n",
      "\n",
      "Среднее значение = 538.3430450235818\n",
      "Медиана = 529.0\n",
      "Дисперсия = 84422.73934714217\n",
      "Cтандартное отклонение = 290.55591432139556\n",
      "\n"
     ]
    },
    {
     "data": {
      "image/png": "[encoded data removed]",
      "text/plain": [
       "<Figure size 504x360 with 1 Axes>"
      ]
     },
     "metadata": {
      "needs_background": "light"
     },
     "output_type": "display_data"
    },
    {
     "data": {
      "text/plain": [
       "<Figure size 432x288 with 0 Axes>"
      ]
     },
     "metadata": {},
     "output_type": "display_data"
    },
    {
     "data": {
      "image/png": "[encoded data removed]",
      "text/plain": [
       "<Figure size 864x432 with 2 Axes>"
      ]
     },
     "metadata": {
      "needs_background": "light"
     },
     "output_type": "display_data"
    },
    {
     "name": "stdout",
     "output_type": "stream",
     "text": [
      "--------------- Количество отправленных сообщений ---------------\n",
      "\n",
      "Описательная статистика для пользователей тарифа \"Smart\"\n",
      "\n",
      "Среднее значение = 32.259907068240395\n",
      "Медиана = 27.5\n",
      "Дисперсия = 701.8781581237815\n",
      "Cтандартное отклонение = 26.49298318656813\n",
      "\n",
      "Описательная статистика для пользователей тарифа \"Ultra\"\n",
      "\n",
      "Среднее значение = 53.66812080536912\n",
      "Медиана = 45.0\n",
      "Дисперсия = 2140.4332957974884\n",
      "Cтандартное отклонение = 46.26481704057078\n",
      "\n"
     ]
    },
    {
     "data": {
      "image/png": "[encoded data removed]",
      "text/plain": [
       "<Figure size 504x360 with 1 Axes>"
      ]
     },
     "metadata": {
      "needs_background": "light"
     },
     "output_type": "display_data"
    },
    {
     "data": {
      "text/plain": [
       "<Figure size 432x288 with 0 Axes>"
      ]
     },
     "metadata": {},
     "output_type": "display_data"
    },
    {
     "data": {
      "image/png": "[encoded data removed]",
      "text/plain": [
       "<Figure size 864x432 with 2 Axes>"
      ]
     },
     "metadata": {
      "needs_background": "light"
     },
     "output_type": "display_data"
    },
    {
     "name": "stdout",
     "output_type": "stream",
     "text": [
      "--------------- Объем израсходованного интернет-трафика ---------------\n",
      "\n",
      "Описательная статистика для пользователей тарифа \"Smart\"\n",
      "\n",
      "Среднее значение = 16163.184440045567\n",
      "Медиана = 16276.57142857143\n",
      "Дисперсия = 13526998.95124443\n",
      "Cтандартное отклонение = 3677.906870931404\n",
      "\n",
      "Описательная статистика для пользователей тарифа \"Ultra\"\n",
      "\n",
      "Среднее значение = 19463.098738826422\n",
      "Медиана = 18703.4\n",
      "Дисперсия = 70843504.07664873\n",
      "Cтандартное отклонение = 8416.858325803561\n",
      "\n"
     ]
    },
    {
     "data": {
      "image/png": "[encoded data removed]",
      "text/plain": [
       "<Figure size 504x360 with 1 Axes>"
      ]
     },
     "metadata": {
      "needs_background": "light"
     },
     "output_type": "display_data"
    },
    {
     "data": {
      "text/plain": [
       "<Figure size 432x288 with 0 Axes>"
      ]
     },
     "metadata": {},
     "output_type": "display_data"
    },
    {
     "data": {
      "image/png": "[encoded data removed]",
      "text/plain": [
       "<Figure size 864x432 with 2 Axes>"
      ]
     },
     "metadata": {
      "needs_background": "light"
     },
     "output_type": "display_data"
    }
   ],
   "source": [
    "# Цикл будет выводить статистические характеристики, строить гистограммы и диаграммы размаха\n",
    "# для пользователей разных тарифов\n",
    "for col in columns.keys():\n",
    "    print('-'*15, columns[col], '-'*15)\n",
    "    print()\n",
    "    print('Описательная статистика для пользователей тарифа \"Smart\"')\n",
    "    #print(stat_smart[col].describe())\n",
    "    print()\n",
    "    print('Среднее значение =',stat_smart[col].mean())\n",
    "    print('Медиана =',stat_smart[col].median())\n",
    "    print('Дисперсия =', np.var(stat_smart[col]))\n",
    "    print('Cтандартное отклонение =', np.std(stat_smart[col]))\n",
    "    print()\n",
    "    print('Описательная статистика для пользователей тарифа \"Ultra\"')\n",
    "    #print(stat_ultra[col].describe())\n",
    "    print()\n",
    "    print('Среднее значение =',stat_ultra[col].mean())\n",
    "    print('Медиана =',stat_ultra[col].median())\n",
    "    print('Дисперсия =', np.var(stat_ultra[col]))\n",
    "    print('Cтандартное отклонение =', np.std(stat_ultra[col]))\n",
    "    print()\n",
    "    \n",
    "    \n",
    "    ax = stat_smart.plot(kind='hist', y = col, \n",
    "                        histtype='step', bins=15, \n",
    "                        linewidth=5, alpha=0.7,figsize = (7,5), \n",
    "                        label='Пользователи тарифа \"Smart\"', title = columns[col])\n",
    "    stat_ultra.plot(kind='hist', y = col, \n",
    "                    histtype='step', bins=15, \n",
    "                    linewidth=5, alpha=0.7, label='Пользователи тарифа \"Ultra\"', \n",
    "                    ax=ax, grid=True, legend=True)\n",
    "    plt.ylabel(\"Частота\")\n",
    "    plt.show()\n",
    "    \n",
    "    box1 = stat_smart[col]\n",
    "    box2 = stat_ultra[col]\n",
    "    \n",
    "    fig = plt.figure()\n",
    "    fig, axes = plt.subplots(nrows = 1, ncols =2, figsize=(12, 6))\n",
    "    \n",
    "    axes[0].boxplot(box1)\n",
    "    axes[0].set(title = 'Пользователи тарифа \"Smart\"')\n",
    "    axes[1].boxplot(box2)    \n",
    "    axes[1].set(title = 'Пользователи тарифа \"Ultra\"')\n",
    "    \n",
    "    for ax in axes:\n",
    "        ax.yaxis.grid(True)\n",
    "        ax.set_xlabel(columns[col])\n",
    "        ax.set_ylabel('Наблюдаемые значения')\n",
    "    plt.show()"
   ]
  },
  {
   "cell_type": "markdown",
   "metadata": {},
   "source": [
    "---\n",
    "##### ВЫВОД\n",
    "\n",
    "**Израсходованные минуты** для пользователей каждого тарифа распределены нормально, практически симметрично относительно среднего значения. Диаграмма размаха выявила нетипичные значений для пользователей тарифа \"Smart\". Более 25% пользователей данного тарифа проговаривает больше минут, чем предусмотрено в рамках абонетской платы. В среднем клиенты тарифа \"Ultra\" ежемесячно разговаривают по телефону более чем на 100 минут больше. Это вполне объяснимо, учитывая условия данного тарифа.  \n",
    "\n",
    "По **количеству отправленных сообщений** пользователи \"Ultra\" в среднем также опережают пользователей \"Smart\". Оба датасета распределены нормально и скошены вправо. Стоит отметить, что отправка смс не пользуюся большой популярностью у клиентов оператора, пики гистограммы находятся около нуля. Как и с минутами, около четверти пользователей тарифа \"Smart\" превышают установленый ежемесячный лимит.\n",
    "\n",
    "Данные с информацией об **объёме израсходованного интернет-трафика** также имеют нормальное распределние. Датасет пользователей тарифа \"Smart\" относительно симметричен, а датасет пользователей \"Ultra\" скошен положительно. Примечательно, что среднее значение  потраченного интернет-трафика для пользователей тарифа \"Smart\" практически на 1 Гб выше включённого в абонентскую плату. Это значит, что большинству не хватает трафика в рамках \n",
    "тарифного пакета."
   ]
  },
  {
   "cell_type": "markdown",
   "metadata": {
    "scrolled": true
   },
   "source": [
    "### Шаг 4. Проверка гипотез\n",
    "---\n",
    "<a id = \"Step4\"></a>\n",
    "\n",
    "[1](#Step1)  [2](#Step2)  [3](#Step3)  [5](#Step5)  [Начало](#Head)"
   ]
  },
  {
   "cell_type": "markdown",
   "metadata": {},
   "source": [
    "#### Необходимо проверить:\n",
    "\n",
    "1. Отличается ли средняя выручка пользователей тарифов «Ультра» и «Смарт»?\n",
    "2. Отличается ли средняя выручка пользователей из Москвы отличается от выручки пользователей из других регионов?\n",
    "\n",
    "В обоих случаях предстоит сопоставить средние двух генеральных совокупностей, поэтому воспользуемся методом ***scipy.stats.ttest_ind()***"
   ]
  },
  {
   "cell_type": "markdown",
   "metadata": {},
   "source": [
    "---\n",
    "#### 1. Сравним среднюю выручку пользователей тарифов «Ультра» и «Смарт». Сформулируем гипотезы:\n",
    "\n",
    "- **Нулевая гипотеза**: средняя выручка пользователей тарифов «Ультра» и «Смарт» равна.\n",
    "- **Альтернативная гипотеза**: средняя выручка пользователей тарифов «Ультра» и «Смарт» различается."
   ]
  },
  {
   "cell_type": "code",
   "execution_count": 75,
   "metadata": {
    "scrolled": false
   },
   "outputs": [],
   "source": [
    "revenue_smart = stat[stat['tariff'] == 'smart']['revenue']\n",
    "revenue_ultra = stat[stat['tariff'] == 'ultra']['revenue']"
   ]
  },
  {
   "cell_type": "code",
   "execution_count": 76,
   "metadata": {},
   "outputs": [
    {
     "name": "stdout",
     "output_type": "stream",
     "text": [
      "p-значение: 3.759642839662383e-142\n",
      "Отвергаем нулевую гипотезу\n"
     ]
    }
   ],
   "source": [
    "alpha = 0.05\n",
    "results = st.ttest_ind(revenue_smart, revenue_ultra)\n",
    "print('p-значение:', results.pvalue)\n",
    "if (results.pvalue < alpha):\n",
    "    print(\"Отвергаем нулевую гипотезу\")\n",
    "else:\n",
    "    print(\"Не получилось отвергнуть нулевую гипотезу\")"
   ]
  },
  {
   "cell_type": "markdown",
   "metadata": {},
   "source": [
    "---\n",
    "Полученное значение p-value говорит о том, что гипотеза о равенстве выручки пользователей \"Смарт\" и \"Ультра\" не подтвердилась, вероятность такого события слишком мала. "
   ]
  },
  {
   "cell_type": "markdown",
   "metadata": {},
   "source": [
    "---\n",
    "#### 2. Сравним выручку абонентов из Москвы и жителей других городов. Сформулируем гипотезы:\n",
    "\n",
    "- **Нулевая гипотеза**: средняя выручка пользователей из Москвы равна выручке пользователей из других регионов.\n",
    "- **Альтернативная гипотеза**: средняя выручка пользователей из Москвы и выручка пользователей из других регионов различается."
   ]
  },
  {
   "cell_type": "code",
   "execution_count": 77,
   "metadata": {},
   "outputs": [],
   "source": [
    "revenue_moscow = stat[stat['city'] == 'Москва']['revenue']\n",
    "revenue_other = stat[stat['city'] != 'Москва']['revenue']"
   ]
  },
  {
   "cell_type": "code",
   "execution_count": 78,
   "metadata": {},
   "outputs": [
    {
     "name": "stdout",
     "output_type": "stream",
     "text": [
      "p-значение: 0.6363887131432132\n",
      "Не получилось отвергнуть нулевую гипотезу\n"
     ]
    }
   ],
   "source": [
    "alpha = 0.05\n",
    "results = st.ttest_ind(revenue_moscow, revenue_other)\n",
    "print('p-значение:', results.pvalue)\n",
    "if (results.pvalue < alpha):\n",
    "    print(\"Отвергаем нулевую гипотезу\")\n",
    "else:\n",
    "    print(\"Не получилось отвергнуть нулевую гипотезу\")"
   ]
  },
  {
   "cell_type": "markdown",
   "metadata": {},
   "source": [
    "Полученная вероятность выше уровня значимости. Это значит, что полученные данные не противоречат нулевой гипотезе и мы её не отвергаем. Таким образом можно сказать, что средняя выручка пользователей из Москвы и выручка пользователей из других регионов различается незначительно. \n",
    "\n",
    "Рассмотрим как данные распределены на графике и наглядно убедимся в результате статистического теста."
   ]
  },
  {
   "cell_type": "code",
   "execution_count": 79,
   "metadata": {
    "scrolled": false
   },
   "outputs": [
    {
     "data": {
      "text/plain": [
       "Text(0, 0.5, 'Частота')"
      ]
     },
     "execution_count": 79,
     "metadata": {},
     "output_type": "execute_result"
    },
    {
     "data": {
      "image/png": "[encoded data removed]",
      "text/plain": [
       "<Figure size 864x432 with 1 Axes>"
      ]
     },
     "metadata": {
      "needs_background": "light"
     },
     "output_type": "display_data"
    }
   ],
   "source": [
    "revenue_moscow.hist(bins = 20, color = 'red', figsize = (12,6), label = 'Москва')\n",
    "revenue_other.hist(bins = 20, alpha = 0.5, color = 'green', label = 'Другие города')\n",
    "plt.title('Распределение выручки между абонентами из Москвы и других городов', size = 15)\n",
    "plt.legend(prop={'size': 20})\n",
    "plt.xlabel('Выручка', size = 15)\n",
    "plt.ylabel('Частота', size = 15)"
   ]
  },
  {
   "cell_type": "markdown",
   "metadata": {},
   "source": [
    "Полученные графики довольно похожи."
   ]
  },
  {
   "cell_type": "code",
   "execution_count": 80,
   "metadata": {},
   "outputs": [
    {
     "data": {
      "text/html": [
       "<div>\n",
       "<style scoped>\n",
       "    .dataframe tbody tr th:only-of-type {\n",
       "        vertical-align: middle;\n",
       "    }\n",
       "\n",
       "    .dataframe tbody tr th {\n",
       "        vertical-align: top;\n",
       "    }\n",
       "\n",
       "    .dataframe thead tr th {\n",
       "        text-align: left;\n",
       "    }\n",
       "\n",
       "    .dataframe thead tr:last-of-type th {\n",
       "        text-align: right;\n",
       "    }\n",
       "</style>\n",
       "<table border=\"1\" class=\"dataframe\">\n",
       "  <thead>\n",
       "    <tr>\n",
       "      <th></th>\n",
       "      <th>count</th>\n",
       "      <th>sum</th>\n",
       "      <th>mean</th>\n",
       "    </tr>\n",
       "    <tr>\n",
       "      <th></th>\n",
       "      <th>revenue</th>\n",
       "      <th>revenue</th>\n",
       "      <th>revenue</th>\n",
       "    </tr>\n",
       "    <tr>\n",
       "      <th>tariff</th>\n",
       "      <th></th>\n",
       "      <th></th>\n",
       "      <th></th>\n",
       "    </tr>\n",
       "  </thead>\n",
       "  <tbody>\n",
       "    <tr>\n",
       "      <td>smart</td>\n",
       "      <td>2230</td>\n",
       "      <td>2951140</td>\n",
       "      <td>1323.381166</td>\n",
       "    </tr>\n",
       "    <tr>\n",
       "      <td>ultra</td>\n",
       "      <td>986</td>\n",
       "      <td>2044050</td>\n",
       "      <td>2073.073022</td>\n",
       "    </tr>\n",
       "  </tbody>\n",
       "</table>\n",
       "</div>"
      ],
      "text/plain": [
       "         count      sum         mean\n",
       "       revenue  revenue      revenue\n",
       "tariff                              \n",
       "smart     2230  2951140  1323.381166\n",
       "ultra      986  2044050  2073.073022"
      ]
     },
     "execution_count": 80,
     "metadata": {},
     "output_type": "execute_result"
    }
   ],
   "source": [
    "stat.pivot_table(index = 'tariff', values = 'revenue', aggfunc = ['count', 'sum', 'mean'])"
   ]
  },
  {
   "cell_type": "code",
   "execution_count": 81,
   "metadata": {
    "scrolled": false
   },
   "outputs": [
    {
     "data": {
      "text/plain": [
       "<Figure size 432x288 with 0 Axes>"
      ]
     },
     "metadata": {},
     "output_type": "display_data"
    },
    {
     "data": {
      "image/png": "[encoded data removed]",
      "text/plain": [
       "<Figure size 864x432 with 2 Axes>"
      ]
     },
     "metadata": {
      "needs_background": "light"
     },
     "output_type": "display_data"
    }
   ],
   "source": [
    "box1 = stat_smart['revenue']\n",
    "box2 = stat_ultra['revenue']\n",
    "    \n",
    "fig = plt.figure()\n",
    "fig, axes = plt.subplots(nrows = 1, ncols =2, figsize=(12, 6))\n",
    "    \n",
    "axes[0].boxplot(box1)\n",
    "axes[0].set(title = 'Пользователи тарифа \"Smart\"')\n",
    "\n",
    "axes[1].boxplot(box2)    \n",
    "axes[1].set(title = 'Пользователи тарифа \"Ultra\"')\n",
    "\n",
    "for ax in axes:\n",
    "    ax.yaxis.grid(True)\n",
    "    ax.set_xlabel('Средняя выручка по клиентам')\n",
    "    ax.set_ylabel('Наблюдаемые значения')"
   ]
  },
  {
   "cell_type": "markdown",
   "metadata": {},
   "source": [
    "### Шаг 5. Общий вывод по проекту\n",
    "---\n",
    "<a id = \"Step5\"></a>"
   ]
  },
  {
   "cell_type": "markdown",
   "metadata": {},
   "source": [
    "Ссылки на этапы работы: [1](#Step1)  [2](#Step2)  [3](#Step3)  [4](#Step4)  [Начало](#Head)"
   ]
  },
  {
   "cell_type": "markdown",
   "metadata": {},
   "source": [
    "  В ходе работы был проведен анализ тарифов на выборке из 500 клиентов. Рассматривались два тарифных плана: «Смарт» и «Ультра». Предварительно данные прошли предобработку, были рассчитаны дополнительные параметры. \n",
    "\n",
    "  *По результатам анализа тарифов было выявлено следующее:*\n",
    "> *Пользователи тарифа \"Смарт\" в среднем ежемесячно разговаривают около 430 минут, отправляют 32 сообщения и используют 16163 мегабайта трафика.*\n",
    "\n",
    "> *Пользователи тарифа \"Ультра\" в среднем используют 538 минут, 53 сообщения и 19463 мб интернет-трафика в месяц.*\n",
    "\n",
    "  При этом пользователям \"Смарт\" характерно выходить за рамки предусмотренных абонентской платой лимитов. Особенно это касается мобильного интернета. Более половины пользователей докупают как минимум 1 Гб трафика дополнительно. \n",
    "Среди абонентов тарифа \"Ультра\" такое поведение нетипично. \n",
    "\n",
    "  Была проведена проверка гипотез с помощью t-теста с уровнем значимости 5%. Гипотеза о том, что средняя выручка пользователей тарифов «Ультра» и «Смарт» различается, была подтверждена. В свою очередь гипотеза, что средняя выручка абонентов из Москвы отличается от выручки абонентов из других регионов, не подтвердилась. Это говорит нам о том, что место проживания клиента не оказывет большого влияния на пользование услугами оператора сотовой связи.\n",
    "\n",
    "  Установлено, что в среднем пользователи тарифа \"Смарт\" платили 1323 рубля ежемесячно, что более чем в два раза выше ежемесячного платежа. Средняя выручка от пользователей тарифа \"Ультра\" составила 2073 рубля, при абонентской плате 1950 руб. \n",
    "\n",
    "  **Таким образом рекомендуется скорректировать бюджет в пользу тарифа \"Смарт\", потому что пользователей данного тарифа больше и очень часто их траты на услуги связи в разы превышают сумму, предусмотренную абонентской платой.**"
   ]
  }
 ],
 "metadata": {
  "kernelspec": {
   "display_name": "Python 3",
   "language": "python",
   "name": "python3"
  },
  "language_info": {
   "codemirror_mode": {
    "name": "ipython",
    "version": 3
   },
   "file_extension": ".py",
   "mimetype": "text/x-python",
   "name": "python",
   "nbconvert_exporter": "python",
   "pygments_lexer": "ipython3",
   "version": "3.8.3"
  }
 },
 "nbformat": 4,
 "nbformat_minor": 2
}
